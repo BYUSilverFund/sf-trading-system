{
 "cells": [
  {
   "cell_type": "code",
   "execution_count": 1,
   "metadata": {},
   "outputs": [],
   "source": [
    "import polars as pl\n",
    "from datetime import date\n",
    "from silverfund.datasets import *"
   ]
  },
  {
   "cell_type": "markdown",
   "metadata": {},
   "source": [
    "Do all of the components of the factor model have the same barrids for each date?"
   ]
  },
  {
   "cell_type": "code",
   "execution_count": 2,
   "metadata": {},
   "outputs": [],
   "source": [
    "date_ = date(2024, 12, 31)\n",
    "year = date_.year"
   ]
  },
  {
   "cell_type": "code",
   "execution_count": 3,
   "metadata": {},
   "outputs": [],
   "source": [
    "def clean(df: pl.DataFrame, index_cols: list[str], value_col: str) -> pl.DataFrame:\n",
    "    df = df.rename({col: col.split(\" \")[0] for col in df.columns if col not in index_cols})\n",
    "\n",
    "    df = df.unpivot(index=index_cols, variable_name=\"date\", value_name=value_col)\n",
    "\n",
    "    df = df.with_columns(pl.col(\"date\").cast(pl.Date))\n",
    "\n",
    "    return df"
   ]
  },
  {
   "cell_type": "code",
   "execution_count": 4,
   "metadata": {},
   "outputs": [
    {
     "data": {
      "text/html": [
       "<div><style>\n",
       ".dataframe > thead > tr,\n",
       ".dataframe > tbody > tr {\n",
       "  text-align: right;\n",
       "  white-space: pre-wrap;\n",
       "}\n",
       "</style>\n",
       "<small>shape: (104_591_340, 4)</small><table border=\"1\" class=\"dataframe\"><thead><tr><th>barrid</th><th>factor</th><th>date</th><th>exposure</th></tr><tr><td>str</td><td>str</td><td>date</td><td>f64</td></tr></thead><tbody><tr><td>&quot;ARGA1B1&quot;</td><td>&quot;BETA&quot;</td><td>2024-01-02</td><td>0.893</td></tr><tr><td>&quot;ARGA1B1&quot;</td><td>&quot;COUNTRY&quot;</td><td>2024-01-02</td><td>1.0</td></tr><tr><td>&quot;ARGA1B1&quot;</td><td>&quot;DIVYILD&quot;</td><td>2024-01-02</td><td>-0.775</td></tr><tr><td>&quot;ARGA1B1&quot;</td><td>&quot;EARNQLTY&quot;</td><td>2024-01-02</td><td>-0.717</td></tr><tr><td>&quot;ARGA1B1&quot;</td><td>&quot;EARNYILD&quot;</td><td>2024-01-02</td><td>-0.919</td></tr><tr><td>&hellip;</td><td>&hellip;</td><td>&hellip;</td><td>&hellip;</td></tr><tr><td>&quot;USBQWH1&quot;</td><td>&quot;PROSPECT&quot;</td><td>2024-12-31</td><td>-0.068</td></tr><tr><td>&quot;USBQWH1&quot;</td><td>&quot;RESVOL&quot;</td><td>2024-12-31</td><td>0.992</td></tr><tr><td>&quot;USBQWH1&quot;</td><td>&quot;SIZE&quot;</td><td>2024-12-31</td><td>-4.272</td></tr><tr><td>&quot;USBQWH1&quot;</td><td>&quot;SPTYSTOR&quot;</td><td>2024-12-31</td><td>1.0</td></tr><tr><td>&quot;USBQWH1&quot;</td><td>&quot;VALUE&quot;</td><td>2024-12-31</td><td>0.837</td></tr></tbody></table></div>"
      ],
      "text/plain": [
       "shape: (104_591_340, 4)\n",
       "┌─────────┬──────────┬────────────┬──────────┐\n",
       "│ barrid  ┆ factor   ┆ date       ┆ exposure │\n",
       "│ ---     ┆ ---      ┆ ---        ┆ ---      │\n",
       "│ str     ┆ str      ┆ date       ┆ f64      │\n",
       "╞═════════╪══════════╪════════════╪══════════╡\n",
       "│ ARGA1B1 ┆ BETA     ┆ 2024-01-02 ┆ 0.893    │\n",
       "│ ARGA1B1 ┆ COUNTRY  ┆ 2024-01-02 ┆ 1.0      │\n",
       "│ ARGA1B1 ┆ DIVYILD  ┆ 2024-01-02 ┆ -0.775   │\n",
       "│ ARGA1B1 ┆ EARNQLTY ┆ 2024-01-02 ┆ -0.717   │\n",
       "│ ARGA1B1 ┆ EARNYILD ┆ 2024-01-02 ┆ -0.919   │\n",
       "│ …       ┆ …        ┆ …          ┆ …        │\n",
       "│ USBQWH1 ┆ PROSPECT ┆ 2024-12-31 ┆ -0.068   │\n",
       "│ USBQWH1 ┆ RESVOL   ┆ 2024-12-31 ┆ 0.992    │\n",
       "│ USBQWH1 ┆ SIZE     ┆ 2024-12-31 ┆ -4.272   │\n",
       "│ USBQWH1 ┆ SPTYSTOR ┆ 2024-12-31 ┆ 1.0      │\n",
       "│ USBQWH1 ┆ VALUE    ┆ 2024-12-31 ┆ 0.837    │\n",
       "└─────────┴──────────┴────────────┴──────────┘"
      ]
     },
     "execution_count": 4,
     "metadata": {},
     "output_type": "execute_result"
    }
   ],
   "source": [
    "bfe = BarraFactorExposures().load(year)\n",
    "\n",
    "bfe = clean(bfe, [\"barrid\", \"factor\"], \"exposure\")\n",
    "\n",
    "bfe"
   ]
  },
  {
   "cell_type": "code",
   "execution_count": 5,
   "metadata": {},
   "outputs": [
    {
     "data": {
      "text/html": [
       "<div><style>\n",
       ".dataframe > thead > tr,\n",
       ".dataframe > tbody > tr {\n",
       "  text-align: right;\n",
       "  white-space: pre-wrap;\n",
       "}\n",
       "</style>\n",
       "<small>shape: (737_352, 4)</small><table border=\"1\" class=\"dataframe\"><thead><tr><th>factor</th><th>factor_2</th><th>date</th><th>covariance</th></tr><tr><td>str</td><td>str</td><td>date</td><td>f64</td></tr></thead><tbody><tr><td>&quot;AERODEF&quot;</td><td>&quot;AERODEF&quot;</td><td>2024-01-02</td><td>160.058795</td></tr><tr><td>&quot;AERODEF&quot;</td><td>&quot;AIRLINES&quot;</td><td>2024-01-02</td><td>64.17249</td></tr><tr><td>&quot;AERODEF&quot;</td><td>&quot;APPAREL&quot;</td><td>2024-01-02</td><td>24.872283</td></tr><tr><td>&quot;AERODEF&quot;</td><td>&quot;AUTO&quot;</td><td>2024-01-02</td><td>-9.247184</td></tr><tr><td>&quot;AERODEF&quot;</td><td>&quot;BANKS&quot;</td><td>2024-01-02</td><td>2.1289535</td></tr><tr><td>&hellip;</td><td>&hellip;</td><td>&hellip;</td><td>&hellip;</td></tr><tr><td>&quot;WIRELESS&quot;</td><td>&quot;COUNTRY&quot;</td><td>2024-12-31</td><td>-34.938125</td></tr><tr><td>&quot;WIRELESS&quot;</td><td>&quot;ELECUTIL&quot;</td><td>2024-12-31</td><td>10.081188</td></tr><tr><td>&quot;WIRELESS&quot;</td><td>&quot;GASUTIL&quot;</td><td>2024-12-31</td><td>21.129703</td></tr><tr><td>&quot;WIRELESS&quot;</td><td>&quot;MULTUTIL&quot;</td><td>2024-12-31</td><td>19.819425</td></tr><tr><td>&quot;WIRELESS&quot;</td><td>&quot;WIRELESS&quot;</td><td>2024-12-31</td><td>140.885067</td></tr></tbody></table></div>"
      ],
      "text/plain": [
       "shape: (737_352, 4)\n",
       "┌──────────┬──────────┬────────────┬────────────┐\n",
       "│ factor   ┆ factor_2 ┆ date       ┆ covariance │\n",
       "│ ---      ┆ ---      ┆ ---        ┆ ---        │\n",
       "│ str      ┆ str      ┆ date       ┆ f64        │\n",
       "╞══════════╪══════════╪════════════╪════════════╡\n",
       "│ AERODEF  ┆ AERODEF  ┆ 2024-01-02 ┆ 160.058795 │\n",
       "│ AERODEF  ┆ AIRLINES ┆ 2024-01-02 ┆ 64.17249   │\n",
       "│ AERODEF  ┆ APPAREL  ┆ 2024-01-02 ┆ 24.872283  │\n",
       "│ AERODEF  ┆ AUTO     ┆ 2024-01-02 ┆ -9.247184  │\n",
       "│ AERODEF  ┆ BANKS    ┆ 2024-01-02 ┆ 2.1289535  │\n",
       "│ …        ┆ …        ┆ …          ┆ …          │\n",
       "│ WIRELESS ┆ COUNTRY  ┆ 2024-12-31 ┆ -34.938125 │\n",
       "│ WIRELESS ┆ ELECUTIL ┆ 2024-12-31 ┆ 10.081188  │\n",
       "│ WIRELESS ┆ GASUTIL  ┆ 2024-12-31 ┆ 21.129703  │\n",
       "│ WIRELESS ┆ MULTUTIL ┆ 2024-12-31 ┆ 19.819425  │\n",
       "│ WIRELESS ┆ WIRELESS ┆ 2024-12-31 ┆ 140.885067 │\n",
       "└──────────┴──────────┴────────────┴────────────┘"
      ]
     },
     "execution_count": 5,
     "metadata": {},
     "output_type": "execute_result"
    }
   ],
   "source": [
    "bfc = BarraFactorCovariances().load(year)\n",
    "\n",
    "bfc = clean(bfc, [\"factor_1\", \"factor_2\"], \"covariance\")\n",
    "\n",
    "bfc = bfc.rename({\"factor_1\": \"factor\"})\n",
    "\n",
    "bfc"
   ]
  },
  {
   "cell_type": "code",
   "execution_count": 6,
   "metadata": {},
   "outputs": [
    {
     "data": {
      "text/html": [
       "<div><style>\n",
       ".dataframe > thead > tr,\n",
       ".dataframe > tbody > tr {\n",
       "  text-align: right;\n",
       "  white-space: pre-wrap;\n",
       "}\n",
       "</style>\n",
       "<small>shape: (5_556_096, 3)</small><table border=\"1\" class=\"dataframe\"><thead><tr><th>barrid</th><th>date</th><th>spec_risk</th></tr><tr><td>str</td><td>date</td><td>f64</td></tr></thead><tbody><tr><td>&quot;ARGA1B1&quot;</td><td>2024-01-02</td><td>52.431842</td></tr><tr><td>&quot;ARGA1G1&quot;</td><td>2024-01-02</td><td>44.411108</td></tr><tr><td>&quot;ARGA1K1&quot;</td><td>2024-01-02</td><td>40.374249</td></tr><tr><td>&quot;ARGA621&quot;</td><td>2024-01-02</td><td>88.140518</td></tr><tr><td>&quot;ARGA631&quot;</td><td>2024-01-02</td><td>44.171036</td></tr><tr><td>&hellip;</td><td>&hellip;</td><td>&hellip;</td></tr><tr><td>&quot;USBQVO1&quot;</td><td>2024-12-31</td><td>21.379409</td></tr><tr><td>&quot;USBQVQ1&quot;</td><td>2024-12-31</td><td>17.728612</td></tr><tr><td>&quot;USBQVX1&quot;</td><td>2024-12-31</td><td>16.605512</td></tr><tr><td>&quot;USBQWF1&quot;</td><td>2024-12-31</td><td>69.712413</td></tr><tr><td>&quot;USBQWH1&quot;</td><td>2024-12-31</td><td>56.44887</td></tr></tbody></table></div>"
      ],
      "text/plain": [
       "shape: (5_556_096, 3)\n",
       "┌─────────┬────────────┬───────────┐\n",
       "│ barrid  ┆ date       ┆ spec_risk │\n",
       "│ ---     ┆ ---        ┆ ---       │\n",
       "│ str     ┆ date       ┆ f64       │\n",
       "╞═════════╪════════════╪═══════════╡\n",
       "│ ARGA1B1 ┆ 2024-01-02 ┆ 52.431842 │\n",
       "│ ARGA1G1 ┆ 2024-01-02 ┆ 44.411108 │\n",
       "│ ARGA1K1 ┆ 2024-01-02 ┆ 40.374249 │\n",
       "│ ARGA621 ┆ 2024-01-02 ┆ 88.140518 │\n",
       "│ ARGA631 ┆ 2024-01-02 ┆ 44.171036 │\n",
       "│ …       ┆ …          ┆ …         │\n",
       "│ USBQVO1 ┆ 2024-12-31 ┆ 21.379409 │\n",
       "│ USBQVQ1 ┆ 2024-12-31 ┆ 17.728612 │\n",
       "│ USBQVX1 ┆ 2024-12-31 ┆ 16.605512 │\n",
       "│ USBQWF1 ┆ 2024-12-31 ┆ 69.712413 │\n",
       "│ USBQWH1 ┆ 2024-12-31 ┆ 56.44887  │\n",
       "└─────────┴────────────┴───────────┘"
      ]
     },
     "execution_count": 6,
     "metadata": {},
     "output_type": "execute_result"
    }
   ],
   "source": [
    "bsrf = BarraSpecificRiskForecast().load(year)\n",
    "\n",
    "bsrf = clean(bsrf, [\"barrid\"], \"spec_risk\")\n",
    "\n",
    "bsrf"
   ]
  },
  {
   "cell_type": "markdown",
   "metadata": {},
   "source": [
    "Factor Exposures vs. Factor Covariances"
   ]
  },
  {
   "cell_type": "code",
   "execution_count": 7,
   "metadata": {},
   "outputs": [],
   "source": [
    "bfe_factors = bfe.select([\"date\", \"factor\"]).unique().sort([\"date\", \"factor\"])\n",
    "bfc_factors = bfc.select([\"date\", \"factor\"]).unique().sort([\"date\", \"factor\"])\n",
    "\n",
    "assert bfe_factors.equals(bfc_factors)"
   ]
  },
  {
   "cell_type": "markdown",
   "metadata": {},
   "source": [
    "Factor Exposures vs. Specific Risk"
   ]
  },
  {
   "cell_type": "code",
   "execution_count": 8,
   "metadata": {},
   "outputs": [
    {
     "data": {
      "text/html": [
       "<div><style>\n",
       ".dataframe > thead > tr,\n",
       ".dataframe > tbody > tr {\n",
       "  text-align: right;\n",
       "  white-space: pre-wrap;\n",
       "}\n",
       "</style>\n",
       "<small>shape: (5_672_520, 2)</small><table border=\"1\" class=\"dataframe\"><thead><tr><th>date</th><th>barrid</th></tr><tr><td>date</td><td>str</td></tr></thead><tbody><tr><td>2024-01-02</td><td>&quot;ARGA1B1&quot;</td></tr><tr><td>2024-01-02</td><td>&quot;ARGA1G1&quot;</td></tr><tr><td>2024-01-02</td><td>&quot;ARGA1K1&quot;</td></tr><tr><td>2024-01-02</td><td>&quot;ARGA621&quot;</td></tr><tr><td>2024-01-02</td><td>&quot;ARGA631&quot;</td></tr><tr><td>&hellip;</td><td>&hellip;</td></tr><tr><td>2024-12-31</td><td>&quot;USBQVO1&quot;</td></tr><tr><td>2024-12-31</td><td>&quot;USBQVQ1&quot;</td></tr><tr><td>2024-12-31</td><td>&quot;USBQVX1&quot;</td></tr><tr><td>2024-12-31</td><td>&quot;USBQWF1&quot;</td></tr><tr><td>2024-12-31</td><td>&quot;USBQWH1&quot;</td></tr></tbody></table></div>"
      ],
      "text/plain": [
       "shape: (5_672_520, 2)\n",
       "┌────────────┬─────────┐\n",
       "│ date       ┆ barrid  │\n",
       "│ ---        ┆ ---     │\n",
       "│ date       ┆ str     │\n",
       "╞════════════╪═════════╡\n",
       "│ 2024-01-02 ┆ ARGA1B1 │\n",
       "│ 2024-01-02 ┆ ARGA1G1 │\n",
       "│ 2024-01-02 ┆ ARGA1K1 │\n",
       "│ 2024-01-02 ┆ ARGA621 │\n",
       "│ 2024-01-02 ┆ ARGA631 │\n",
       "│ …          ┆ …       │\n",
       "│ 2024-12-31 ┆ USBQVO1 │\n",
       "│ 2024-12-31 ┆ USBQVQ1 │\n",
       "│ 2024-12-31 ┆ USBQVX1 │\n",
       "│ 2024-12-31 ┆ USBQWF1 │\n",
       "│ 2024-12-31 ┆ USBQWH1 │\n",
       "└────────────┴─────────┘"
      ]
     },
     "metadata": {},
     "output_type": "display_data"
    },
    {
     "data": {
      "text/html": [
       "<div><style>\n",
       ".dataframe > thead > tr,\n",
       ".dataframe > tbody > tr {\n",
       "  text-align: right;\n",
       "  white-space: pre-wrap;\n",
       "}\n",
       "</style>\n",
       "<small>shape: (5_556_096, 2)</small><table border=\"1\" class=\"dataframe\"><thead><tr><th>date</th><th>barrid</th></tr><tr><td>date</td><td>str</td></tr></thead><tbody><tr><td>2024-01-02</td><td>&quot;ARGA1B1&quot;</td></tr><tr><td>2024-01-02</td><td>&quot;ARGA1G1&quot;</td></tr><tr><td>2024-01-02</td><td>&quot;ARGA1K1&quot;</td></tr><tr><td>2024-01-02</td><td>&quot;ARGA621&quot;</td></tr><tr><td>2024-01-02</td><td>&quot;ARGA631&quot;</td></tr><tr><td>&hellip;</td><td>&hellip;</td></tr><tr><td>2024-12-31</td><td>&quot;USBQVO1&quot;</td></tr><tr><td>2024-12-31</td><td>&quot;USBQVQ1&quot;</td></tr><tr><td>2024-12-31</td><td>&quot;USBQVX1&quot;</td></tr><tr><td>2024-12-31</td><td>&quot;USBQWF1&quot;</td></tr><tr><td>2024-12-31</td><td>&quot;USBQWH1&quot;</td></tr></tbody></table></div>"
      ],
      "text/plain": [
       "shape: (5_556_096, 2)\n",
       "┌────────────┬─────────┐\n",
       "│ date       ┆ barrid  │\n",
       "│ ---        ┆ ---     │\n",
       "│ date       ┆ str     │\n",
       "╞════════════╪═════════╡\n",
       "│ 2024-01-02 ┆ ARGA1B1 │\n",
       "│ 2024-01-02 ┆ ARGA1G1 │\n",
       "│ 2024-01-02 ┆ ARGA1K1 │\n",
       "│ 2024-01-02 ┆ ARGA621 │\n",
       "│ 2024-01-02 ┆ ARGA631 │\n",
       "│ …          ┆ …       │\n",
       "│ 2024-12-31 ┆ USBQVO1 │\n",
       "│ 2024-12-31 ┆ USBQVQ1 │\n",
       "│ 2024-12-31 ┆ USBQVX1 │\n",
       "│ 2024-12-31 ┆ USBQWF1 │\n",
       "│ 2024-12-31 ┆ USBQWH1 │\n",
       "└────────────┴─────────┘"
      ]
     },
     "metadata": {},
     "output_type": "display_data"
    }
   ],
   "source": [
    "bfe_barrids = bfe.select([\"date\", \"barrid\"]).unique().sort([\"date\", \"barrid\"])\n",
    "bsrf_barrids = bsrf.select([\"date\", \"barrid\"]).unique().sort([\"date\", \"barrid\"])\n",
    "\n",
    "display(bfe_barrids, bsrf_barrids)"
   ]
  },
  {
   "cell_type": "markdown",
   "metadata": {},
   "source": [
    "Here we see that the factor exposures and the specific risk forecasts do not have the exact same combinations of date and barrid"
   ]
  },
  {
   "cell_type": "markdown",
   "metadata": {},
   "source": [
    "Do the russell constituents barrids match the factor exposures and specific risk?"
   ]
  },
  {
   "cell_type": "code",
   "execution_count": 9,
   "metadata": {},
   "outputs": [
    {
     "data": {
      "text/html": [
       "<div><style>\n",
       ".dataframe > thead > tr,\n",
       ".dataframe > tbody > tr {\n",
       "  text-align: right;\n",
       "  white-space: pre-wrap;\n",
       "}\n",
       "</style>\n",
       "<small>shape: (35_294, 2)</small><table border=\"1\" class=\"dataframe\"><thead><tr><th>date</th><th>barrid</th></tr><tr><td>date</td><td>str</td></tr></thead><tbody><tr><td>2024-01-31</td><td>&quot;USA06Z1&quot;</td></tr><tr><td>2024-01-31</td><td>&quot;USA0771&quot;</td></tr><tr><td>2024-01-31</td><td>&quot;USA0BV1&quot;</td></tr><tr><td>2024-01-31</td><td>&quot;USA0C11&quot;</td></tr><tr><td>2024-01-31</td><td>&quot;USA0SY1&quot;</td></tr><tr><td>&hellip;</td><td>&hellip;</td></tr><tr><td>2024-12-31</td><td>&quot;USBQNC1&quot;</td></tr><tr><td>2024-12-31</td><td>&quot;USBQND1&quot;</td></tr><tr><td>2024-12-31</td><td>&quot;USBQO11&quot;</td></tr><tr><td>2024-12-31</td><td>&quot;USBQOE1&quot;</td></tr><tr><td>2024-12-31</td><td>&quot;USBQOR1&quot;</td></tr></tbody></table></div>"
      ],
      "text/plain": [
       "shape: (35_294, 2)\n",
       "┌────────────┬─────────┐\n",
       "│ date       ┆ barrid  │\n",
       "│ ---        ┆ ---     │\n",
       "│ date       ┆ str     │\n",
       "╞════════════╪═════════╡\n",
       "│ 2024-01-31 ┆ USA06Z1 │\n",
       "│ 2024-01-31 ┆ USA0771 │\n",
       "│ 2024-01-31 ┆ USA0BV1 │\n",
       "│ 2024-01-31 ┆ USA0C11 │\n",
       "│ 2024-01-31 ┆ USA0SY1 │\n",
       "│ …          ┆ …       │\n",
       "│ 2024-12-31 ┆ USBQNC1 │\n",
       "│ 2024-12-31 ┆ USBQND1 │\n",
       "│ 2024-12-31 ┆ USBQO11 │\n",
       "│ 2024-12-31 ┆ USBQOE1 │\n",
       "│ 2024-12-31 ┆ USBQOR1 │\n",
       "└────────────┴─────────┘"
      ]
     },
     "execution_count": 9,
     "metadata": {},
     "output_type": "execute_result"
    }
   ],
   "source": [
    "russell = RussellConstituents().load_all()\n",
    "\n",
    "russell_barrids = russell.select([\"date\", \"barrid\"]).unique()\n",
    "\n",
    "russell_barrids = russell_barrids.filter(pl.col(\"date\").dt.year() == year)\n",
    "\n",
    "russell_barrids = russell_barrids.drop_nulls(subset=[\"barrid\"])\n",
    "\n",
    "russell_barrids = russell_barrids.sort([\"date\", \"barrid\"])\n",
    "\n",
    "russell_barrids"
   ]
  },
  {
   "cell_type": "code",
   "execution_count": 10,
   "metadata": {},
   "outputs": [
    {
     "data": {
      "text/html": [
       "<div><style>\n",
       ".dataframe > thead > tr,\n",
       ".dataframe > tbody > tr {\n",
       "  text-align: right;\n",
       "  white-space: pre-wrap;\n",
       "}\n",
       "</style>\n",
       "<small>shape: (270_120, 3)</small><table border=\"1\" class=\"dataframe\"><thead><tr><th>barrid</th><th>date</th><th>check</th></tr><tr><td>str</td><td>date</td><td>bool</td></tr></thead><tbody><tr><td>&quot;ARGA1B1&quot;</td><td>2024-01-31</td><td>true</td></tr><tr><td>&quot;ARGA1G1&quot;</td><td>2024-01-31</td><td>true</td></tr><tr><td>&quot;ARGA1K1&quot;</td><td>2024-01-31</td><td>true</td></tr><tr><td>&quot;ARGA621&quot;</td><td>2024-01-31</td><td>true</td></tr><tr><td>&quot;ARGA631&quot;</td><td>2024-01-31</td><td>true</td></tr><tr><td>&hellip;</td><td>&hellip;</td><td>&hellip;</td></tr><tr><td>&quot;USBQVO1&quot;</td><td>2024-12-31</td><td>true</td></tr><tr><td>&quot;USBQVQ1&quot;</td><td>2024-12-31</td><td>true</td></tr><tr><td>&quot;USBQVX1&quot;</td><td>2024-12-31</td><td>true</td></tr><tr><td>&quot;USBQWF1&quot;</td><td>2024-12-31</td><td>true</td></tr><tr><td>&quot;USBQWH1&quot;</td><td>2024-12-31</td><td>true</td></tr></tbody></table></div>"
      ],
      "text/plain": [
       "shape: (270_120, 3)\n",
       "┌─────────┬────────────┬───────┐\n",
       "│ barrid  ┆ date       ┆ check │\n",
       "│ ---     ┆ ---        ┆ ---   │\n",
       "│ str     ┆ date       ┆ bool  │\n",
       "╞═════════╪════════════╪═══════╡\n",
       "│ ARGA1B1 ┆ 2024-01-31 ┆ true  │\n",
       "│ ARGA1G1 ┆ 2024-01-31 ┆ true  │\n",
       "│ ARGA1K1 ┆ 2024-01-31 ┆ true  │\n",
       "│ ARGA621 ┆ 2024-01-31 ┆ true  │\n",
       "│ ARGA631 ┆ 2024-01-31 ┆ true  │\n",
       "│ …       ┆ …          ┆ …     │\n",
       "│ USBQVO1 ┆ 2024-12-31 ┆ true  │\n",
       "│ USBQVQ1 ┆ 2024-12-31 ┆ true  │\n",
       "│ USBQVX1 ┆ 2024-12-31 ┆ true  │\n",
       "│ USBQWF1 ┆ 2024-12-31 ┆ true  │\n",
       "│ USBQWH1 ┆ 2024-12-31 ┆ true  │\n",
       "└─────────┴────────────┴───────┘"
      ]
     },
     "execution_count": 10,
     "metadata": {},
     "output_type": "execute_result"
    }
   ],
   "source": [
    "# Add month columns\n",
    "bfe_barrids_monthly = bfe_barrids.with_columns(pl.col(\"date\").dt.truncate(\"1mo\").alias(\"month\"))\n",
    "\n",
    "# Aggregate to month level and keep the month end date\n",
    "bfe_barrids_monthly = bfe_barrids_monthly.group_by([\"month\", \"barrid\"]).agg(pl.col(\"date\").max())\n",
    "\n",
    "# Drop month column and sort\n",
    "bfe_barrids_monthly = bfe_barrids_monthly.drop(\"month\").sort([\"date\", \"barrid\"])\n",
    "\n",
    "# Add check column\n",
    "bfe_barrids_monthly = bfe_barrids_monthly.with_columns(pl.lit(True).alias(\"check\"))\n",
    "\n",
    "bfe_barrids_monthly"
   ]
  },
  {
   "cell_type": "code",
   "execution_count": 11,
   "metadata": {},
   "outputs": [
    {
     "data": {
      "text/html": [
       "<div><style>\n",
       ".dataframe > thead > tr,\n",
       ".dataframe > tbody > tr {\n",
       "  text-align: right;\n",
       "  white-space: pre-wrap;\n",
       "}\n",
       "</style>\n",
       "<small>shape: (0, 3)</small><table border=\"1\" class=\"dataframe\"><thead><tr><th>date</th><th>barrid</th><th>check</th></tr><tr><td>date</td><td>str</td><td>bool</td></tr></thead><tbody></tbody></table></div>"
      ],
      "text/plain": [
       "shape: (0, 3)\n",
       "┌──────┬────────┬───────┐\n",
       "│ date ┆ barrid ┆ check │\n",
       "│ ---  ┆ ---    ┆ ---   │\n",
       "│ date ┆ str    ┆ bool  │\n",
       "╞══════╪════════╪═══════╡\n",
       "└──────┴────────┴───────┘"
      ]
     },
     "metadata": {},
     "output_type": "display_data"
    }
   ],
   "source": [
    "subset = russell_barrids.join(bfe_barrids_monthly, on=[\"date\", \"barrid\"], how=\"left\")\n",
    "\n",
    "subset = subset.fill_null(False)\n",
    "\n",
    "display(subset.filter(~pl.col(\"check\")))\n",
    "\n",
    "assert russell_barrids.equals(subset.drop(\"check\"))"
   ]
  },
  {
   "cell_type": "markdown",
   "metadata": {},
   "source": [
    "It appears that all barra factor exposures are in the russell subset."
   ]
  },
  {
   "cell_type": "code",
   "execution_count": 12,
   "metadata": {},
   "outputs": [
    {
     "data": {
      "text/html": [
       "<div><style>\n",
       ".dataframe > thead > tr,\n",
       ".dataframe > tbody > tr {\n",
       "  text-align: right;\n",
       "  white-space: pre-wrap;\n",
       "}\n",
       "</style>\n",
       "<small>shape: (264_576, 3)</small><table border=\"1\" class=\"dataframe\"><thead><tr><th>barrid</th><th>date</th><th>check</th></tr><tr><td>str</td><td>date</td><td>bool</td></tr></thead><tbody><tr><td>&quot;ARGA1B1&quot;</td><td>2024-01-31</td><td>true</td></tr><tr><td>&quot;ARGA1G1&quot;</td><td>2024-01-31</td><td>true</td></tr><tr><td>&quot;ARGA1K1&quot;</td><td>2024-01-31</td><td>true</td></tr><tr><td>&quot;ARGA621&quot;</td><td>2024-01-31</td><td>true</td></tr><tr><td>&quot;ARGA631&quot;</td><td>2024-01-31</td><td>true</td></tr><tr><td>&hellip;</td><td>&hellip;</td><td>&hellip;</td></tr><tr><td>&quot;USBQVO1&quot;</td><td>2024-12-31</td><td>true</td></tr><tr><td>&quot;USBQVQ1&quot;</td><td>2024-12-31</td><td>true</td></tr><tr><td>&quot;USBQVX1&quot;</td><td>2024-12-31</td><td>true</td></tr><tr><td>&quot;USBQWF1&quot;</td><td>2024-12-31</td><td>true</td></tr><tr><td>&quot;USBQWH1&quot;</td><td>2024-12-31</td><td>true</td></tr></tbody></table></div>"
      ],
      "text/plain": [
       "shape: (264_576, 3)\n",
       "┌─────────┬────────────┬───────┐\n",
       "│ barrid  ┆ date       ┆ check │\n",
       "│ ---     ┆ ---        ┆ ---   │\n",
       "│ str     ┆ date       ┆ bool  │\n",
       "╞═════════╪════════════╪═══════╡\n",
       "│ ARGA1B1 ┆ 2024-01-31 ┆ true  │\n",
       "│ ARGA1G1 ┆ 2024-01-31 ┆ true  │\n",
       "│ ARGA1K1 ┆ 2024-01-31 ┆ true  │\n",
       "│ ARGA621 ┆ 2024-01-31 ┆ true  │\n",
       "│ ARGA631 ┆ 2024-01-31 ┆ true  │\n",
       "│ …       ┆ …          ┆ …     │\n",
       "│ USBQVO1 ┆ 2024-12-31 ┆ true  │\n",
       "│ USBQVQ1 ┆ 2024-12-31 ┆ true  │\n",
       "│ USBQVX1 ┆ 2024-12-31 ┆ true  │\n",
       "│ USBQWF1 ┆ 2024-12-31 ┆ true  │\n",
       "│ USBQWH1 ┆ 2024-12-31 ┆ true  │\n",
       "└─────────┴────────────┴───────┘"
      ]
     },
     "execution_count": 12,
     "metadata": {},
     "output_type": "execute_result"
    }
   ],
   "source": [
    "# Add month columns\n",
    "bsrf_barrids_monthly = bsrf_barrids.with_columns(pl.col(\"date\").dt.truncate(\"1mo\").alias(\"month\"))\n",
    "\n",
    "# Aggregate to month level and keep the month end date\n",
    "bsrf_barrids_monthly = bsrf_barrids_monthly.group_by([\"month\", \"barrid\"]).agg(pl.col(\"date\").max())\n",
    "\n",
    "# Drop month column and sort\n",
    "bsrf_barrids_monthly = bsrf_barrids_monthly.drop(\"month\").sort([\"date\", \"barrid\"])\n",
    "\n",
    "# Add check column\n",
    "bsrf_barrids_monthly = bsrf_barrids_monthly.with_columns(pl.lit(True).alias(\"check\"))\n",
    "\n",
    "bsrf_barrids_monthly"
   ]
  },
  {
   "cell_type": "code",
   "execution_count": 13,
   "metadata": {},
   "outputs": [
    {
     "data": {
      "text/html": [
       "<div><style>\n",
       ".dataframe > thead > tr,\n",
       ".dataframe > tbody > tr {\n",
       "  text-align: right;\n",
       "  white-space: pre-wrap;\n",
       "}\n",
       "</style>\n",
       "<small>shape: (0, 3)</small><table border=\"1\" class=\"dataframe\"><thead><tr><th>date</th><th>barrid</th><th>check</th></tr><tr><td>date</td><td>str</td><td>bool</td></tr></thead><tbody></tbody></table></div>"
      ],
      "text/plain": [
       "shape: (0, 3)\n",
       "┌──────┬────────┬───────┐\n",
       "│ date ┆ barrid ┆ check │\n",
       "│ ---  ┆ ---    ┆ ---   │\n",
       "│ date ┆ str    ┆ bool  │\n",
       "╞══════╪════════╪═══════╡\n",
       "└──────┴────────┴───────┘"
      ]
     },
     "metadata": {},
     "output_type": "display_data"
    }
   ],
   "source": [
    "subset = russell_barrids.join(bsrf_barrids_monthly, on=[\"date\", \"barrid\"], how=\"left\")\n",
    "\n",
    "subset = subset.fill_null(False)\n",
    "\n",
    "display(subset.filter(~pl.col(\"check\")))\n",
    "\n",
    "assert russell_barrids.equals(subset.drop(\"check\"))"
   ]
  },
  {
   "cell_type": "markdown",
   "metadata": {},
   "source": [
    "It appears that the specific risk barrids are also in the russell subset."
   ]
  },
  {
   "cell_type": "code",
   "execution_count": null,
   "metadata": {},
   "outputs": [],
   "source": []
  }
 ],
 "metadata": {
  "kernelspec": {
   "display_name": ".venv",
   "language": "python",
   "name": "python3"
  },
  "language_info": {
   "codemirror_mode": {
    "name": "ipython",
    "version": 3
   },
   "file_extension": ".py",
   "mimetype": "text/x-python",
   "name": "python",
   "nbconvert_exporter": "python",
   "pygments_lexer": "ipython3",
   "version": "3.11.10"
  }
 },
 "nbformat": 4,
 "nbformat_minor": 2
}
