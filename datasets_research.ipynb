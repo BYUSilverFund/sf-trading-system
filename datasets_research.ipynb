{
 "cells": [
  {
   "cell_type": "code",
   "execution_count": 1,
   "metadata": {},
   "outputs": [],
   "source": [
    "import polars as pl\n",
    "from datetime import date\n",
    "from silverfund.datasets import *"
   ]
  },
  {
   "cell_type": "markdown",
   "metadata": {},
   "source": [
    "Do all of the components of the factor model have the same barrids for each date?"
   ]
  },
  {
   "cell_type": "code",
   "execution_count": 2,
   "metadata": {},
   "outputs": [],
   "source": [
    "date_ = date(2024, 12, 31)\n",
    "year = date_.year"
   ]
  },
  {
   "cell_type": "code",
   "execution_count": 3,
   "metadata": {},
   "outputs": [],
   "source": [
    "def clean(df: pl.DataFrame, index_cols: list[str], value_col: str) -> pl.DataFrame:\n",
    "    df = df.rename({col: col.split(\" \")[0] for col in df.columns if col not in index_cols})\n",
    "\n",
    "    df = df.unpivot(index=index_cols, variable_name=\"date\", value_name=value_col)\n",
    "\n",
    "    df = df.with_columns(pl.col(\"date\").cast(pl.Date))\n",
    "\n",
    "    return df"
   ]
  },
  {
   "cell_type": "code",
   "execution_count": 4,
   "metadata": {},
   "outputs": [
    {
     "data": {
      "text/html": [
       "<div><style>\n",
       ".dataframe > thead > tr,\n",
       ".dataframe > tbody > tr {\n",
       "  text-align: right;\n",
       "  white-space: pre-wrap;\n",
       "}\n",
       "</style>\n",
       "<small>shape: (104_591_340, 4)</small><table border=\"1\" class=\"dataframe\"><thead><tr><th>barrid</th><th>factor</th><th>date</th><th>exposure</th></tr><tr><td>str</td><td>str</td><td>date</td><td>f64</td></tr></thead><tbody><tr><td>&quot;ARGA1B1&quot;</td><td>&quot;BETA&quot;</td><td>2024-01-02</td><td>0.893</td></tr><tr><td>&quot;ARGA1B1&quot;</td><td>&quot;COUNTRY&quot;</td><td>2024-01-02</td><td>1.0</td></tr><tr><td>&quot;ARGA1B1&quot;</td><td>&quot;DIVYILD&quot;</td><td>2024-01-02</td><td>-0.775</td></tr><tr><td>&quot;ARGA1B1&quot;</td><td>&quot;EARNQLTY&quot;</td><td>2024-01-02</td><td>-0.717</td></tr><tr><td>&quot;ARGA1B1&quot;</td><td>&quot;EARNYILD&quot;</td><td>2024-01-02</td><td>-0.919</td></tr><tr><td>&hellip;</td><td>&hellip;</td><td>&hellip;</td><td>&hellip;</td></tr><tr><td>&quot;USBQWH1&quot;</td><td>&quot;PROSPECT&quot;</td><td>2024-12-31</td><td>-0.068</td></tr><tr><td>&quot;USBQWH1&quot;</td><td>&quot;RESVOL&quot;</td><td>2024-12-31</td><td>0.992</td></tr><tr><td>&quot;USBQWH1&quot;</td><td>&quot;SIZE&quot;</td><td>2024-12-31</td><td>-4.272</td></tr><tr><td>&quot;USBQWH1&quot;</td><td>&quot;SPTYSTOR&quot;</td><td>2024-12-31</td><td>1.0</td></tr><tr><td>&quot;USBQWH1&quot;</td><td>&quot;VALUE&quot;</td><td>2024-12-31</td><td>0.837</td></tr></tbody></table></div>"
      ],
      "text/plain": [
       "shape: (104_591_340, 4)\n",
       "┌─────────┬──────────┬────────────┬──────────┐\n",
       "│ barrid  ┆ factor   ┆ date       ┆ exposure │\n",
       "│ ---     ┆ ---      ┆ ---        ┆ ---      │\n",
       "│ str     ┆ str      ┆ date       ┆ f64      │\n",
       "╞═════════╪══════════╪════════════╪══════════╡\n",
       "│ ARGA1B1 ┆ BETA     ┆ 2024-01-02 ┆ 0.893    │\n",
       "│ ARGA1B1 ┆ COUNTRY  ┆ 2024-01-02 ┆ 1.0      │\n",
       "│ ARGA1B1 ┆ DIVYILD  ┆ 2024-01-02 ┆ -0.775   │\n",
       "│ ARGA1B1 ┆ EARNQLTY ┆ 2024-01-02 ┆ -0.717   │\n",
       "│ ARGA1B1 ┆ EARNYILD ┆ 2024-01-02 ┆ -0.919   │\n",
       "│ …       ┆ …        ┆ …          ┆ …        │\n",
       "│ USBQWH1 ┆ PROSPECT ┆ 2024-12-31 ┆ -0.068   │\n",
       "│ USBQWH1 ┆ RESVOL   ┆ 2024-12-31 ┆ 0.992    │\n",
       "│ USBQWH1 ┆ SIZE     ┆ 2024-12-31 ┆ -4.272   │\n",
       "│ USBQWH1 ┆ SPTYSTOR ┆ 2024-12-31 ┆ 1.0      │\n",
       "│ USBQWH1 ┆ VALUE    ┆ 2024-12-31 ┆ 0.837    │\n",
       "└─────────┴──────────┴────────────┴──────────┘"
      ]
     },
     "execution_count": 4,
     "metadata": {},
     "output_type": "execute_result"
    }
   ],
   "source": [
    "bfe = BarraFactorExposures().load(year)\n",
    "\n",
    "bfe = clean(bfe, [\"barrid\", \"factor\"], \"exposure\")\n",
    "\n",
    "bfe"
   ]
  },
  {
   "cell_type": "code",
   "execution_count": 5,
   "metadata": {},
   "outputs": [
    {
     "data": {
      "text/html": [
       "<div><style>\n",
       ".dataframe > thead > tr,\n",
       ".dataframe > tbody > tr {\n",
       "  text-align: right;\n",
       "  white-space: pre-wrap;\n",
       "}\n",
       "</style>\n",
       "<small>shape: (737_352, 4)</small><table border=\"1\" class=\"dataframe\"><thead><tr><th>factor</th><th>factor_2</th><th>date</th><th>covariance</th></tr><tr><td>str</td><td>str</td><td>date</td><td>f64</td></tr></thead><tbody><tr><td>&quot;AERODEF&quot;</td><td>&quot;AERODEF&quot;</td><td>2024-01-02</td><td>160.058795</td></tr><tr><td>&quot;AERODEF&quot;</td><td>&quot;AIRLINES&quot;</td><td>2024-01-02</td><td>64.17249</td></tr><tr><td>&quot;AERODEF&quot;</td><td>&quot;APPAREL&quot;</td><td>2024-01-02</td><td>24.872283</td></tr><tr><td>&quot;AERODEF&quot;</td><td>&quot;AUTO&quot;</td><td>2024-01-02</td><td>-9.247184</td></tr><tr><td>&quot;AERODEF&quot;</td><td>&quot;BANKS&quot;</td><td>2024-01-02</td><td>2.1289535</td></tr><tr><td>&hellip;</td><td>&hellip;</td><td>&hellip;</td><td>&hellip;</td></tr><tr><td>&quot;WIRELESS&quot;</td><td>&quot;COUNTRY&quot;</td><td>2024-12-31</td><td>-34.938125</td></tr><tr><td>&quot;WIRELESS&quot;</td><td>&quot;ELECUTIL&quot;</td><td>2024-12-31</td><td>10.081188</td></tr><tr><td>&quot;WIRELESS&quot;</td><td>&quot;GASUTIL&quot;</td><td>2024-12-31</td><td>21.129703</td></tr><tr><td>&quot;WIRELESS&quot;</td><td>&quot;MULTUTIL&quot;</td><td>2024-12-31</td><td>19.819425</td></tr><tr><td>&quot;WIRELESS&quot;</td><td>&quot;WIRELESS&quot;</td><td>2024-12-31</td><td>140.885067</td></tr></tbody></table></div>"
      ],
      "text/plain": [
       "shape: (737_352, 4)\n",
       "┌──────────┬──────────┬────────────┬────────────┐\n",
       "│ factor   ┆ factor_2 ┆ date       ┆ covariance │\n",
       "│ ---      ┆ ---      ┆ ---        ┆ ---        │\n",
       "│ str      ┆ str      ┆ date       ┆ f64        │\n",
       "╞══════════╪══════════╪════════════╪════════════╡\n",
       "│ AERODEF  ┆ AERODEF  ┆ 2024-01-02 ┆ 160.058795 │\n",
       "│ AERODEF  ┆ AIRLINES ┆ 2024-01-02 ┆ 64.17249   │\n",
       "│ AERODEF  ┆ APPAREL  ┆ 2024-01-02 ┆ 24.872283  │\n",
       "│ AERODEF  ┆ AUTO     ┆ 2024-01-02 ┆ -9.247184  │\n",
       "│ AERODEF  ┆ BANKS    ┆ 2024-01-02 ┆ 2.1289535  │\n",
       "│ …        ┆ …        ┆ …          ┆ …          │\n",
       "│ WIRELESS ┆ COUNTRY  ┆ 2024-12-31 ┆ -34.938125 │\n",
       "│ WIRELESS ┆ ELECUTIL ┆ 2024-12-31 ┆ 10.081188  │\n",
       "│ WIRELESS ┆ GASUTIL  ┆ 2024-12-31 ┆ 21.129703  │\n",
       "│ WIRELESS ┆ MULTUTIL ┆ 2024-12-31 ┆ 19.819425  │\n",
       "│ WIRELESS ┆ WIRELESS ┆ 2024-12-31 ┆ 140.885067 │\n",
       "└──────────┴──────────┴────────────┴────────────┘"
      ]
     },
     "execution_count": 5,
     "metadata": {},
     "output_type": "execute_result"
    }
   ],
   "source": [
    "bfc = BarraFactorCovariances().load(year)\n",
    "\n",
    "bfc = clean(bfc, [\"factor_1\", \"factor_2\"], \"covariance\")\n",
    "\n",
    "bfc = bfc.rename({\"factor_1\": \"factor\"})\n",
    "\n",
    "bfc"
   ]
  },
  {
   "cell_type": "code",
   "execution_count": 6,
   "metadata": {},
   "outputs": [
    {
     "data": {
      "text/html": [
       "<div><style>\n",
       ".dataframe > thead > tr,\n",
       ".dataframe > tbody > tr {\n",
       "  text-align: right;\n",
       "  white-space: pre-wrap;\n",
       "}\n",
       "</style>\n",
       "<small>shape: (5_556_096, 3)</small><table border=\"1\" class=\"dataframe\"><thead><tr><th>barrid</th><th>date</th><th>spec_risk</th></tr><tr><td>str</td><td>date</td><td>f64</td></tr></thead><tbody><tr><td>&quot;ARGA1B1&quot;</td><td>2024-01-02</td><td>52.431842</td></tr><tr><td>&quot;ARGA1G1&quot;</td><td>2024-01-02</td><td>44.411108</td></tr><tr><td>&quot;ARGA1K1&quot;</td><td>2024-01-02</td><td>40.374249</td></tr><tr><td>&quot;ARGA621&quot;</td><td>2024-01-02</td><td>88.140518</td></tr><tr><td>&quot;ARGA631&quot;</td><td>2024-01-02</td><td>44.171036</td></tr><tr><td>&hellip;</td><td>&hellip;</td><td>&hellip;</td></tr><tr><td>&quot;USBQVO1&quot;</td><td>2024-12-31</td><td>21.379409</td></tr><tr><td>&quot;USBQVQ1&quot;</td><td>2024-12-31</td><td>17.728612</td></tr><tr><td>&quot;USBQVX1&quot;</td><td>2024-12-31</td><td>16.605512</td></tr><tr><td>&quot;USBQWF1&quot;</td><td>2024-12-31</td><td>69.712413</td></tr><tr><td>&quot;USBQWH1&quot;</td><td>2024-12-31</td><td>56.44887</td></tr></tbody></table></div>"
      ],
      "text/plain": [
       "shape: (5_556_096, 3)\n",
       "┌─────────┬────────────┬───────────┐\n",
       "│ barrid  ┆ date       ┆ spec_risk │\n",
       "│ ---     ┆ ---        ┆ ---       │\n",
       "│ str     ┆ date       ┆ f64       │\n",
       "╞═════════╪════════════╪═══════════╡\n",
       "│ ARGA1B1 ┆ 2024-01-02 ┆ 52.431842 │\n",
       "│ ARGA1G1 ┆ 2024-01-02 ┆ 44.411108 │\n",
       "│ ARGA1K1 ┆ 2024-01-02 ┆ 40.374249 │\n",
       "│ ARGA621 ┆ 2024-01-02 ┆ 88.140518 │\n",
       "│ ARGA631 ┆ 2024-01-02 ┆ 44.171036 │\n",
       "│ …       ┆ …          ┆ …         │\n",
       "│ USBQVO1 ┆ 2024-12-31 ┆ 21.379409 │\n",
       "│ USBQVQ1 ┆ 2024-12-31 ┆ 17.728612 │\n",
       "│ USBQVX1 ┆ 2024-12-31 ┆ 16.605512 │\n",
       "│ USBQWF1 ┆ 2024-12-31 ┆ 69.712413 │\n",
       "│ USBQWH1 ┆ 2024-12-31 ┆ 56.44887  │\n",
       "└─────────┴────────────┴───────────┘"
      ]
     },
     "execution_count": 6,
     "metadata": {},
     "output_type": "execute_result"
    }
   ],
   "source": [
    "bsrf = BarraSpecificRiskForecast().load(year)\n",
    "\n",
    "bsrf = clean(bsrf, [\"barrid\"], \"spec_risk\")\n",
    "\n",
    "bsrf"
   ]
  },
  {
   "cell_type": "markdown",
   "metadata": {},
   "source": [
    "Factor Exposures vs. Factor Covariances"
   ]
  },
  {
   "cell_type": "code",
   "execution_count": 7,
   "metadata": {},
   "outputs": [],
   "source": [
    "bfe_factors = bfe.select([\"date\", \"factor\"]).unique().sort([\"date\", \"factor\"])\n",
    "bfc_factors = bfc.select([\"date\", \"factor\"]).unique().sort([\"date\", \"factor\"])\n",
    "\n",
    "assert bfe_factors.equals(bfc_factors)"
   ]
  },
  {
   "cell_type": "markdown",
   "metadata": {},
   "source": [
    "Factor Exposures vs. Specific Risk"
   ]
  },
  {
   "cell_type": "code",
   "execution_count": 8,
   "metadata": {},
   "outputs": [
    {
     "data": {
      "text/html": [
       "<div><style>\n",
       ".dataframe > thead > tr,\n",
       ".dataframe > tbody > tr {\n",
       "  text-align: right;\n",
       "  white-space: pre-wrap;\n",
       "}\n",
       "</style>\n",
       "<small>shape: (5_672_520, 2)</small><table border=\"1\" class=\"dataframe\"><thead><tr><th>date</th><th>barrid</th></tr><tr><td>date</td><td>str</td></tr></thead><tbody><tr><td>2024-01-02</td><td>&quot;ARGA1B1&quot;</td></tr><tr><td>2024-01-02</td><td>&quot;ARGA1G1&quot;</td></tr><tr><td>2024-01-02</td><td>&quot;ARGA1K1&quot;</td></tr><tr><td>2024-01-02</td><td>&quot;ARGA621&quot;</td></tr><tr><td>2024-01-02</td><td>&quot;ARGA631&quot;</td></tr><tr><td>&hellip;</td><td>&hellip;</td></tr><tr><td>2024-12-31</td><td>&quot;USBQVO1&quot;</td></tr><tr><td>2024-12-31</td><td>&quot;USBQVQ1&quot;</td></tr><tr><td>2024-12-31</td><td>&quot;USBQVX1&quot;</td></tr><tr><td>2024-12-31</td><td>&quot;USBQWF1&quot;</td></tr><tr><td>2024-12-31</td><td>&quot;USBQWH1&quot;</td></tr></tbody></table></div>"
      ],
      "text/plain": [
       "shape: (5_672_520, 2)\n",
       "┌────────────┬─────────┐\n",
       "│ date       ┆ barrid  │\n",
       "│ ---        ┆ ---     │\n",
       "│ date       ┆ str     │\n",
       "╞════════════╪═════════╡\n",
       "│ 2024-01-02 ┆ ARGA1B1 │\n",
       "│ 2024-01-02 ┆ ARGA1G1 │\n",
       "│ 2024-01-02 ┆ ARGA1K1 │\n",
       "│ 2024-01-02 ┆ ARGA621 │\n",
       "│ 2024-01-02 ┆ ARGA631 │\n",
       "│ …          ┆ …       │\n",
       "│ 2024-12-31 ┆ USBQVO1 │\n",
       "│ 2024-12-31 ┆ USBQVQ1 │\n",
       "│ 2024-12-31 ┆ USBQVX1 │\n",
       "│ 2024-12-31 ┆ USBQWF1 │\n",
       "│ 2024-12-31 ┆ USBQWH1 │\n",
       "└────────────┴─────────┘"
      ]
     },
     "metadata": {},
     "output_type": "display_data"
    },
    {
     "data": {
      "text/html": [
       "<div><style>\n",
       ".dataframe > thead > tr,\n",
       ".dataframe > tbody > tr {\n",
       "  text-align: right;\n",
       "  white-space: pre-wrap;\n",
       "}\n",
       "</style>\n",
       "<small>shape: (5_556_096, 2)</small><table border=\"1\" class=\"dataframe\"><thead><tr><th>date</th><th>barrid</th></tr><tr><td>date</td><td>str</td></tr></thead><tbody><tr><td>2024-01-02</td><td>&quot;ARGA1B1&quot;</td></tr><tr><td>2024-01-02</td><td>&quot;ARGA1G1&quot;</td></tr><tr><td>2024-01-02</td><td>&quot;ARGA1K1&quot;</td></tr><tr><td>2024-01-02</td><td>&quot;ARGA621&quot;</td></tr><tr><td>2024-01-02</td><td>&quot;ARGA631&quot;</td></tr><tr><td>&hellip;</td><td>&hellip;</td></tr><tr><td>2024-12-31</td><td>&quot;USBQVO1&quot;</td></tr><tr><td>2024-12-31</td><td>&quot;USBQVQ1&quot;</td></tr><tr><td>2024-12-31</td><td>&quot;USBQVX1&quot;</td></tr><tr><td>2024-12-31</td><td>&quot;USBQWF1&quot;</td></tr><tr><td>2024-12-31</td><td>&quot;USBQWH1&quot;</td></tr></tbody></table></div>"
      ],
      "text/plain": [
       "shape: (5_556_096, 2)\n",
       "┌────────────┬─────────┐\n",
       "│ date       ┆ barrid  │\n",
       "│ ---        ┆ ---     │\n",
       "│ date       ┆ str     │\n",
       "╞════════════╪═════════╡\n",
       "│ 2024-01-02 ┆ ARGA1B1 │\n",
       "│ 2024-01-02 ┆ ARGA1G1 │\n",
       "│ 2024-01-02 ┆ ARGA1K1 │\n",
       "│ 2024-01-02 ┆ ARGA621 │\n",
       "│ 2024-01-02 ┆ ARGA631 │\n",
       "│ …          ┆ …       │\n",
       "│ 2024-12-31 ┆ USBQVO1 │\n",
       "│ 2024-12-31 ┆ USBQVQ1 │\n",
       "│ 2024-12-31 ┆ USBQVX1 │\n",
       "│ 2024-12-31 ┆ USBQWF1 │\n",
       "│ 2024-12-31 ┆ USBQWH1 │\n",
       "└────────────┴─────────┘"
      ]
     },
     "metadata": {},
     "output_type": "display_data"
    }
   ],
   "source": [
    "bfe_barrids = bfe.select([\"date\", \"barrid\"]).unique().sort([\"date\", \"barrid\"])\n",
    "bsrf_barrids = bsrf.select([\"date\", \"barrid\"]).unique().sort([\"date\", \"barrid\"])\n",
    "\n",
    "display(bfe_barrids, bsrf_barrids)"
   ]
  },
  {
   "cell_type": "markdown",
   "metadata": {},
   "source": [
    "Here we see that the factor exposures and the specific risk forecasts do not have the exact same combinations of date and barrid"
   ]
  },
  {
   "cell_type": "markdown",
   "metadata": {},
   "source": [
    "Do the russell constituents barrids match the factor exposures and specific risk?"
   ]
  },
  {
   "cell_type": "code",
   "execution_count": 9,
   "metadata": {},
   "outputs": [
    {
     "data": {
      "text/html": [
       "<div><style>\n",
       ".dataframe > thead > tr,\n",
       ".dataframe > tbody > tr {\n",
       "  text-align: right;\n",
       "  white-space: pre-wrap;\n",
       "}\n",
       "</style>\n",
       "<small>shape: (35_294, 2)</small><table border=\"1\" class=\"dataframe\"><thead><tr><th>date</th><th>barrid</th></tr><tr><td>date</td><td>str</td></tr></thead><tbody><tr><td>2024-01-31</td><td>&quot;USA06Z1&quot;</td></tr><tr><td>2024-01-31</td><td>&quot;USA0771&quot;</td></tr><tr><td>2024-01-31</td><td>&quot;USA0BV1&quot;</td></tr><tr><td>2024-01-31</td><td>&quot;USA0C11&quot;</td></tr><tr><td>2024-01-31</td><td>&quot;USA0SY1&quot;</td></tr><tr><td>&hellip;</td><td>&hellip;</td></tr><tr><td>2024-12-31</td><td>&quot;USBQNC1&quot;</td></tr><tr><td>2024-12-31</td><td>&quot;USBQND1&quot;</td></tr><tr><td>2024-12-31</td><td>&quot;USBQO11&quot;</td></tr><tr><td>2024-12-31</td><td>&quot;USBQOE1&quot;</td></tr><tr><td>2024-12-31</td><td>&quot;USBQOR1&quot;</td></tr></tbody></table></div>"
      ],
      "text/plain": [
       "shape: (35_294, 2)\n",
       "┌────────────┬─────────┐\n",
       "│ date       ┆ barrid  │\n",
       "│ ---        ┆ ---     │\n",
       "│ date       ┆ str     │\n",
       "╞════════════╪═════════╡\n",
       "│ 2024-01-31 ┆ USA06Z1 │\n",
       "│ 2024-01-31 ┆ USA0771 │\n",
       "│ 2024-01-31 ┆ USA0BV1 │\n",
       "│ 2024-01-31 ┆ USA0C11 │\n",
       "│ 2024-01-31 ┆ USA0SY1 │\n",
       "│ …          ┆ …       │\n",
       "│ 2024-12-31 ┆ USBQNC1 │\n",
       "│ 2024-12-31 ┆ USBQND1 │\n",
       "│ 2024-12-31 ┆ USBQO11 │\n",
       "│ 2024-12-31 ┆ USBQOE1 │\n",
       "│ 2024-12-31 ┆ USBQOR1 │\n",
       "└────────────┴─────────┘"
      ]
     },
     "execution_count": 9,
     "metadata": {},
     "output_type": "execute_result"
    }
   ],
   "source": [
    "russell = RussellConstituents().load_all()\n",
    "\n",
    "russell_barrids = russell.select([\"date\", \"barrid\"]).unique()\n",
    "\n",
    "russell_barrids = russell_barrids.filter(pl.col(\"date\").dt.year() == year)\n",
    "\n",
    "russell_barrids = russell_barrids.drop_nulls(subset=[\"barrid\"])\n",
    "\n",
    "russell_barrids = russell_barrids.sort([\"date\", \"barrid\"])\n",
    "\n",
    "russell_barrids"
   ]
  },
  {
   "cell_type": "code",
   "execution_count": 26,
   "metadata": {},
   "outputs": [],
   "source": [
    "def aggregate(df: pl.DataFrame) -> pl.DataFrame:\n",
    "    # Add month columns\n",
    "    df = df.with_columns(pl.col(\"date\").dt.truncate(\"1mo\").alias(\"month\"))\n",
    "\n",
    "    # Aggregate to month level and keep the month end date\n",
    "    df = df.group_by([\"month\", \"barrid\"]).agg(pl.col(\"date\").max())\n",
    "\n",
    "    # Drop month column and sort\n",
    "    df = df.drop(\"month\").sort([\"date\", \"barrid\"])\n",
    "\n",
    "    # Add check column\n",
    "    df = df.with_columns(pl.lit(True).alias(\"check\"))\n",
    "\n",
    "    return df"
   ]
  },
  {
   "cell_type": "code",
   "execution_count": 28,
   "metadata": {},
   "outputs": [
    {
     "data": {
      "text/html": [
       "<div><style>\n",
       ".dataframe > thead > tr,\n",
       ".dataframe > tbody > tr {\n",
       "  text-align: right;\n",
       "  white-space: pre-wrap;\n",
       "}\n",
       "</style>\n",
       "<small>shape: (270_120, 3)</small><table border=\"1\" class=\"dataframe\"><thead><tr><th>barrid</th><th>date</th><th>check</th></tr><tr><td>str</td><td>date</td><td>bool</td></tr></thead><tbody><tr><td>&quot;ARGA1B1&quot;</td><td>2024-01-31</td><td>true</td></tr><tr><td>&quot;ARGA1G1&quot;</td><td>2024-01-31</td><td>true</td></tr><tr><td>&quot;ARGA1K1&quot;</td><td>2024-01-31</td><td>true</td></tr><tr><td>&quot;ARGA621&quot;</td><td>2024-01-31</td><td>true</td></tr><tr><td>&quot;ARGA631&quot;</td><td>2024-01-31</td><td>true</td></tr><tr><td>&hellip;</td><td>&hellip;</td><td>&hellip;</td></tr><tr><td>&quot;USBQVO1&quot;</td><td>2024-12-31</td><td>true</td></tr><tr><td>&quot;USBQVQ1&quot;</td><td>2024-12-31</td><td>true</td></tr><tr><td>&quot;USBQVX1&quot;</td><td>2024-12-31</td><td>true</td></tr><tr><td>&quot;USBQWF1&quot;</td><td>2024-12-31</td><td>true</td></tr><tr><td>&quot;USBQWH1&quot;</td><td>2024-12-31</td><td>true</td></tr></tbody></table></div>"
      ],
      "text/plain": [
       "shape: (270_120, 3)\n",
       "┌─────────┬────────────┬───────┐\n",
       "│ barrid  ┆ date       ┆ check │\n",
       "│ ---     ┆ ---        ┆ ---   │\n",
       "│ str     ┆ date       ┆ bool  │\n",
       "╞═════════╪════════════╪═══════╡\n",
       "│ ARGA1B1 ┆ 2024-01-31 ┆ true  │\n",
       "│ ARGA1G1 ┆ 2024-01-31 ┆ true  │\n",
       "│ ARGA1K1 ┆ 2024-01-31 ┆ true  │\n",
       "│ ARGA621 ┆ 2024-01-31 ┆ true  │\n",
       "│ ARGA631 ┆ 2024-01-31 ┆ true  │\n",
       "│ …       ┆ …          ┆ …     │\n",
       "│ USBQVO1 ┆ 2024-12-31 ┆ true  │\n",
       "│ USBQVQ1 ┆ 2024-12-31 ┆ true  │\n",
       "│ USBQVX1 ┆ 2024-12-31 ┆ true  │\n",
       "│ USBQWF1 ┆ 2024-12-31 ┆ true  │\n",
       "│ USBQWH1 ┆ 2024-12-31 ┆ true  │\n",
       "└─────────┴────────────┴───────┘"
      ]
     },
     "execution_count": 28,
     "metadata": {},
     "output_type": "execute_result"
    }
   ],
   "source": [
    "# Aggregate\n",
    "bfe_barrids_monthly = aggregate(bfe_barrids)\n",
    "\n",
    "bfe_barrids_monthly"
   ]
  },
  {
   "cell_type": "code",
   "execution_count": 29,
   "metadata": {},
   "outputs": [
    {
     "data": {
      "text/html": [
       "<div><style>\n",
       ".dataframe > thead > tr,\n",
       ".dataframe > tbody > tr {\n",
       "  text-align: right;\n",
       "  white-space: pre-wrap;\n",
       "}\n",
       "</style>\n",
       "<small>shape: (0, 3)</small><table border=\"1\" class=\"dataframe\"><thead><tr><th>date</th><th>barrid</th><th>check</th></tr><tr><td>date</td><td>str</td><td>bool</td></tr></thead><tbody></tbody></table></div>"
      ],
      "text/plain": [
       "shape: (0, 3)\n",
       "┌──────┬────────┬───────┐\n",
       "│ date ┆ barrid ┆ check │\n",
       "│ ---  ┆ ---    ┆ ---   │\n",
       "│ date ┆ str    ┆ bool  │\n",
       "╞══════╪════════╪═══════╡\n",
       "└──────┴────────┴───────┘"
      ]
     },
     "metadata": {},
     "output_type": "display_data"
    }
   ],
   "source": [
    "subset = russell_barrids.join(bfe_barrids_monthly, on=[\"date\", \"barrid\"], how=\"left\")\n",
    "\n",
    "subset = subset.fill_null(False)\n",
    "\n",
    "display(subset.filter(~pl.col(\"check\")))\n",
    "\n",
    "assert russell_barrids.equals(subset.drop(\"check\"))"
   ]
  },
  {
   "cell_type": "markdown",
   "metadata": {},
   "source": [
    "It appears that all barra factor exposures are in the russell subset."
   ]
  },
  {
   "cell_type": "code",
   "execution_count": 30,
   "metadata": {},
   "outputs": [
    {
     "data": {
      "text/html": [
       "<div><style>\n",
       ".dataframe > thead > tr,\n",
       ".dataframe > tbody > tr {\n",
       "  text-align: right;\n",
       "  white-space: pre-wrap;\n",
       "}\n",
       "</style>\n",
       "<small>shape: (264_576, 3)</small><table border=\"1\" class=\"dataframe\"><thead><tr><th>barrid</th><th>date</th><th>check</th></tr><tr><td>str</td><td>date</td><td>bool</td></tr></thead><tbody><tr><td>&quot;ARGA1B1&quot;</td><td>2024-01-31</td><td>true</td></tr><tr><td>&quot;ARGA1G1&quot;</td><td>2024-01-31</td><td>true</td></tr><tr><td>&quot;ARGA1K1&quot;</td><td>2024-01-31</td><td>true</td></tr><tr><td>&quot;ARGA621&quot;</td><td>2024-01-31</td><td>true</td></tr><tr><td>&quot;ARGA631&quot;</td><td>2024-01-31</td><td>true</td></tr><tr><td>&hellip;</td><td>&hellip;</td><td>&hellip;</td></tr><tr><td>&quot;USBQVO1&quot;</td><td>2024-12-31</td><td>true</td></tr><tr><td>&quot;USBQVQ1&quot;</td><td>2024-12-31</td><td>true</td></tr><tr><td>&quot;USBQVX1&quot;</td><td>2024-12-31</td><td>true</td></tr><tr><td>&quot;USBQWF1&quot;</td><td>2024-12-31</td><td>true</td></tr><tr><td>&quot;USBQWH1&quot;</td><td>2024-12-31</td><td>true</td></tr></tbody></table></div>"
      ],
      "text/plain": [
       "shape: (264_576, 3)\n",
       "┌─────────┬────────────┬───────┐\n",
       "│ barrid  ┆ date       ┆ check │\n",
       "│ ---     ┆ ---        ┆ ---   │\n",
       "│ str     ┆ date       ┆ bool  │\n",
       "╞═════════╪════════════╪═══════╡\n",
       "│ ARGA1B1 ┆ 2024-01-31 ┆ true  │\n",
       "│ ARGA1G1 ┆ 2024-01-31 ┆ true  │\n",
       "│ ARGA1K1 ┆ 2024-01-31 ┆ true  │\n",
       "│ ARGA621 ┆ 2024-01-31 ┆ true  │\n",
       "│ ARGA631 ┆ 2024-01-31 ┆ true  │\n",
       "│ …       ┆ …          ┆ …     │\n",
       "│ USBQVO1 ┆ 2024-12-31 ┆ true  │\n",
       "│ USBQVQ1 ┆ 2024-12-31 ┆ true  │\n",
       "│ USBQVX1 ┆ 2024-12-31 ┆ true  │\n",
       "│ USBQWF1 ┆ 2024-12-31 ┆ true  │\n",
       "│ USBQWH1 ┆ 2024-12-31 ┆ true  │\n",
       "└─────────┴────────────┴───────┘"
      ]
     },
     "execution_count": 30,
     "metadata": {},
     "output_type": "execute_result"
    }
   ],
   "source": [
    "bsrf_barrids_monthly = aggregate(bsrf_barrids)\n",
    "\n",
    "bsrf_barrids_monthly"
   ]
  },
  {
   "cell_type": "code",
   "execution_count": 31,
   "metadata": {},
   "outputs": [
    {
     "data": {
      "text/html": [
       "<div><style>\n",
       ".dataframe > thead > tr,\n",
       ".dataframe > tbody > tr {\n",
       "  text-align: right;\n",
       "  white-space: pre-wrap;\n",
       "}\n",
       "</style>\n",
       "<small>shape: (0, 3)</small><table border=\"1\" class=\"dataframe\"><thead><tr><th>date</th><th>barrid</th><th>check</th></tr><tr><td>date</td><td>str</td><td>bool</td></tr></thead><tbody></tbody></table></div>"
      ],
      "text/plain": [
       "shape: (0, 3)\n",
       "┌──────┬────────┬───────┐\n",
       "│ date ┆ barrid ┆ check │\n",
       "│ ---  ┆ ---    ┆ ---   │\n",
       "│ date ┆ str    ┆ bool  │\n",
       "╞══════╪════════╪═══════╡\n",
       "└──────┴────────┴───────┘"
      ]
     },
     "metadata": {},
     "output_type": "display_data"
    }
   ],
   "source": [
    "subset = russell_barrids.join(bsrf_barrids_monthly, on=[\"date\", \"barrid\"], how=\"left\")\n",
    "\n",
    "subset = subset.fill_null(False)\n",
    "\n",
    "display(subset.filter(~pl.col(\"check\")))\n",
    "\n",
    "assert russell_barrids.equals(subset.drop(\"check\"))"
   ]
  },
  {
   "cell_type": "markdown",
   "metadata": {},
   "source": [
    "It appears that the specific risk barrids are also in the russell subset."
   ]
  },
  {
   "cell_type": "markdown",
   "metadata": {},
   "source": [
    "How well do the returns and risk forecasts match?"
   ]
  },
  {
   "cell_type": "code",
   "execution_count": 17,
   "metadata": {},
   "outputs": [
    {
     "data": {
      "text/html": [
       "<div><style>\n",
       ".dataframe > thead > tr,\n",
       ".dataframe > tbody > tr {\n",
       "  text-align: right;\n",
       "  white-space: pre-wrap;\n",
       "}\n",
       "</style>\n",
       "<small>shape: (1_446_654, 10)</small><table border=\"1\" class=\"dataframe\"><thead><tr><th>date</th><th>obsdate</th><th>enddate</th><th>cusip</th><th>permno</th><th>barrid</th><th>barra_ticker</th><th>r3000_wt</th><th>issue_name</th><th>ticker</th></tr><tr><td>date</td><td>date</td><td>date</td><td>str</td><td>f64</td><td>str</td><td>str</td><td>f64</td><td>str</td><td>str</td></tr></thead><tbody><tr><td>1978-12-29</td><td>1979-01-10</td><td>1979-04-10</td><td>&quot;00036110&quot;</td><td>54594.0</td><td>null</td><td>null</td><td>0.0019</td><td>null</td><td>null</td></tr><tr><td>1978-12-29</td><td>1979-01-10</td><td>1979-04-10</td><td>&quot;00080010&quot;</td><td>10006.0</td><td>null</td><td>null</td><td>0.031</td><td>null</td><td>null</td></tr><tr><td>1978-12-29</td><td>1979-01-10</td><td>1979-04-10</td><td>&quot;00103010&quot;</td><td>10154.0</td><td>null</td><td>null</td><td>0.0012</td><td>null</td><td>null</td></tr><tr><td>1978-12-29</td><td>1979-01-10</td><td>1979-04-10</td><td>&quot;00103210&quot;</td><td>10162.0</td><td>null</td><td>null</td><td>0.0026</td><td>null</td><td>null</td></tr><tr><td>1978-12-29</td><td>1979-01-10</td><td>1979-04-10</td><td>&quot;00144410&quot;</td><td>10306.0</td><td>null</td><td>null</td><td>0.0013</td><td>null</td><td>null</td></tr><tr><td>&hellip;</td><td>&hellip;</td><td>&hellip;</td><td>&hellip;</td><td>&hellip;</td><td>&hellip;</td><td>&hellip;</td><td>&hellip;</td><td>&hellip;</td><td>&hellip;</td></tr><tr><td>2024-12-31</td><td>2025-01-10</td><td>1975-12-31</td><td>&quot;Y2685T13&quot;</td><td>15597.0</td><td>&quot;USBC8F1&quot;</td><td>null</td><td>0.00001</td><td>&quot;GENCO SHIPPING &amp; TRADING LIMIT…</td><td>&quot;USGNK&quot;</td></tr><tr><td>2024-12-31</td><td>2025-01-10</td><td>1975-12-31</td><td>&quot;Y4105310&quot;</td><td>16454.0</td><td>&quot;USBDIX1&quot;</td><td>null</td><td>0.000026</td><td>&quot;INTERNATIONAL SEAWAYS INC&quot;</td><td>&quot;USINSW&quot;</td></tr><tr><td>2024-12-31</td><td>2025-01-10</td><td>1975-12-31</td><td>&quot;Y7388L10&quot;</td><td>92679.0</td><td>&quot;USACPW1&quot;</td><td>null</td><td>0.000004</td><td>&quot;SAFE BULKERS INC&quot;</td><td>&quot;USSB&quot;</td></tr><tr><td>2024-12-31</td><td>2025-01-10</td><td>1975-12-31</td><td>&quot;Y7542C13&quot;</td><td>93299.0</td><td>&quot;USALLL1&quot;</td><td>null</td><td>0.000039</td><td>&quot;SCORPIO TANKERS INC&quot;</td><td>&quot;USSTNG&quot;</td></tr><tr><td>2024-12-31</td><td>2025-01-10</td><td>1975-12-31</td><td>&quot;Y9530810&quot;</td><td>15857.0</td><td>&quot;USBDBE1&quot;</td><td>null</td><td>0.00002</td><td>&quot;WAVE LIFE SCIENCES PTE LTD&quot;</td><td>&quot;USWVE&quot;</td></tr></tbody></table></div>"
      ],
      "text/plain": [
       "shape: (1_446_654, 10)\n",
       "┌────────────┬────────────┬────────────┬──────────┬───┬────────────┬──────────┬───────────┬────────┐\n",
       "│ date       ┆ obsdate    ┆ enddate    ┆ cusip    ┆ … ┆ barra_tick ┆ r3000_wt ┆ issue_nam ┆ ticker │\n",
       "│ ---        ┆ ---        ┆ ---        ┆ ---      ┆   ┆ er         ┆ ---      ┆ e         ┆ ---    │\n",
       "│ date       ┆ date       ┆ date       ┆ str      ┆   ┆ ---        ┆ f64      ┆ ---       ┆ str    │\n",
       "│            ┆            ┆            ┆          ┆   ┆ str        ┆          ┆ str       ┆        │\n",
       "╞════════════╪════════════╪════════════╪══════════╪═══╪════════════╪══════════╪═══════════╪════════╡\n",
       "│ 1978-12-29 ┆ 1979-01-10 ┆ 1979-04-10 ┆ 00036110 ┆ … ┆ null       ┆ 0.0019   ┆ null      ┆ null   │\n",
       "│ 1978-12-29 ┆ 1979-01-10 ┆ 1979-04-10 ┆ 00080010 ┆ … ┆ null       ┆ 0.031    ┆ null      ┆ null   │\n",
       "│ 1978-12-29 ┆ 1979-01-10 ┆ 1979-04-10 ┆ 00103010 ┆ … ┆ null       ┆ 0.0012   ┆ null      ┆ null   │\n",
       "│ 1978-12-29 ┆ 1979-01-10 ┆ 1979-04-10 ┆ 00103210 ┆ … ┆ null       ┆ 0.0026   ┆ null      ┆ null   │\n",
       "│ 1978-12-29 ┆ 1979-01-10 ┆ 1979-04-10 ┆ 00144410 ┆ … ┆ null       ┆ 0.0013   ┆ null      ┆ null   │\n",
       "│ …          ┆ …          ┆ …          ┆ …        ┆ … ┆ …          ┆ …        ┆ …         ┆ …      │\n",
       "│ 2024-12-31 ┆ 2025-01-10 ┆ 1975-12-31 ┆ Y2685T13 ┆ … ┆ null       ┆ 0.00001  ┆ GENCO     ┆ USGNK  │\n",
       "│            ┆            ┆            ┆          ┆   ┆            ┆          ┆ SHIPPING  ┆        │\n",
       "│            ┆            ┆            ┆          ┆   ┆            ┆          ┆ & TRADING ┆        │\n",
       "│            ┆            ┆            ┆          ┆   ┆            ┆          ┆ LIMIT…    ┆        │\n",
       "│ 2024-12-31 ┆ 2025-01-10 ┆ 1975-12-31 ┆ Y4105310 ┆ … ┆ null       ┆ 0.000026 ┆ INTERNATI ┆ USINSW │\n",
       "│            ┆            ┆            ┆          ┆   ┆            ┆          ┆ ONAL      ┆        │\n",
       "│            ┆            ┆            ┆          ┆   ┆            ┆          ┆ SEAWAYS   ┆        │\n",
       "│            ┆            ┆            ┆          ┆   ┆            ┆          ┆ INC       ┆        │\n",
       "│ 2024-12-31 ┆ 2025-01-10 ┆ 1975-12-31 ┆ Y7388L10 ┆ … ┆ null       ┆ 0.000004 ┆ SAFE      ┆ USSB   │\n",
       "│            ┆            ┆            ┆          ┆   ┆            ┆          ┆ BULKERS   ┆        │\n",
       "│            ┆            ┆            ┆          ┆   ┆            ┆          ┆ INC       ┆        │\n",
       "│ 2024-12-31 ┆ 2025-01-10 ┆ 1975-12-31 ┆ Y7542C13 ┆ … ┆ null       ┆ 0.000039 ┆ SCORPIO   ┆ USSTNG │\n",
       "│            ┆            ┆            ┆          ┆   ┆            ┆          ┆ TANKERS   ┆        │\n",
       "│            ┆            ┆            ┆          ┆   ┆            ┆          ┆ INC       ┆        │\n",
       "│ 2024-12-31 ┆ 2025-01-10 ┆ 1975-12-31 ┆ Y9530810 ┆ … ┆ null       ┆ 0.00002  ┆ WAVE LIFE ┆ USWVE  │\n",
       "│            ┆            ┆            ┆          ┆   ┆            ┆          ┆ SCIENCES  ┆        │\n",
       "│            ┆            ┆            ┆          ┆   ┆            ┆          ┆ PTE LTD   ┆        │\n",
       "└────────────┴────────────┴────────────┴──────────┴───┴────────────┴──────────┴───────────┴────────┘"
      ]
     },
     "execution_count": 17,
     "metadata": {},
     "output_type": "execute_result"
    }
   ],
   "source": [
    "russell = RussellConstituents().load_all()\n",
    "\n",
    "russell"
   ]
  },
  {
   "cell_type": "code",
   "execution_count": 14,
   "metadata": {},
   "outputs": [
    {
     "data": {
      "text/html": [
       "<div><style>\n",
       ".dataframe > thead > tr,\n",
       ".dataframe > tbody > tr {\n",
       "  text-align: right;\n",
       "  white-space: pre-wrap;\n",
       "}\n",
       "</style>\n",
       "<small>shape: (5_500_649, 7)</small><table border=\"1\" class=\"dataframe\"><thead><tr><th>date</th><th>barrid</th><th>currency</th><th>mktcap</th><th>price</th><th>pricesource</th><th>ret</th></tr><tr><td>date</td><td>str</td><td>str</td><td>f64</td><td>f64</td><td>str</td><td>f64</td></tr></thead><tbody><tr><td>2024-01-02</td><td>&quot;ARGA1B1&quot;</td><td>&quot;ARS&quot;</td><td>2.1981e13</td><td>15788.0</td><td>&quot;MSCIBARRA&quot;</td><td>-0.048916</td></tr><tr><td>2024-01-03</td><td>&quot;ARGA1B1&quot;</td><td>&quot;ARS&quot;</td><td>2.2653e13</td><td>16271.0</td><td>&quot;MSCIBARRA&quot;</td><td>0.030593</td></tr><tr><td>2024-01-04</td><td>&quot;ARGA1B1&quot;</td><td>&quot;ARS&quot;</td><td>2.4434e13</td><td>17550.0</td><td>&quot;MSCIBARRA&quot;</td><td>0.078606</td></tr><tr><td>2024-01-05</td><td>&quot;ARGA1B1&quot;</td><td>&quot;ARS&quot;</td><td>2.6066e13</td><td>18722.5</td><td>&quot;MSCIBARRA&quot;</td><td>0.066809</td></tr><tr><td>2024-01-08</td><td>&quot;ARGA1B1&quot;</td><td>&quot;ARS&quot;</td><td>2.8935e13</td><td>20783.0</td><td>&quot;MSCIBARRA&quot;</td><td>0.110055</td></tr><tr><td>&hellip;</td><td>&hellip;</td><td>&hellip;</td><td>&hellip;</td><td>&hellip;</td><td>&hellip;</td><td>&hellip;</td></tr><tr><td>2024-12-30</td><td>&quot;USBQWF1&quot;</td><td>&quot;USD&quot;</td><td>2.9302e8</td><td>9.85</td><td>&quot;MSCIBARRA&quot;</td><td>0.29776</td></tr><tr><td>2024-12-31</td><td>&quot;USBQWF1&quot;</td><td>&quot;USD&quot;</td><td>2.3591e8</td><td>7.93</td><td>&quot;MSCIBARRA&quot;</td><td>-0.194924</td></tr><tr><td>2024-12-27</td><td>&quot;USBQWH1&quot;</td><td>&quot;USD&quot;</td><td>1.06634e8</td><td>4.07</td><td>&quot;MSCIBARRA&quot;</td><td>null</td></tr><tr><td>2024-12-30</td><td>&quot;USBQWH1&quot;</td><td>&quot;USD&quot;</td><td>1.2707e8</td><td>4.85</td><td>&quot;MSCIBARRA&quot;</td><td>0.191646</td></tr><tr><td>2024-12-31</td><td>&quot;USBQWH1&quot;</td><td>&quot;USD&quot;</td><td>1.64798e8</td><td>6.29</td><td>&quot;MSCIBARRA&quot;</td><td>0.296907</td></tr></tbody></table></div>"
      ],
      "text/plain": [
       "shape: (5_500_649, 7)\n",
       "┌────────────┬─────────┬──────────┬───────────┬─────────┬─────────────┬───────────┐\n",
       "│ date       ┆ barrid  ┆ currency ┆ mktcap    ┆ price   ┆ pricesource ┆ ret       │\n",
       "│ ---        ┆ ---     ┆ ---      ┆ ---       ┆ ---     ┆ ---         ┆ ---       │\n",
       "│ date       ┆ str     ┆ str      ┆ f64       ┆ f64     ┆ str         ┆ f64       │\n",
       "╞════════════╪═════════╪══════════╪═══════════╪═════════╪═════════════╪═══════════╡\n",
       "│ 2024-01-02 ┆ ARGA1B1 ┆ ARS      ┆ 2.1981e13 ┆ 15788.0 ┆ MSCIBARRA   ┆ -0.048916 │\n",
       "│ 2024-01-03 ┆ ARGA1B1 ┆ ARS      ┆ 2.2653e13 ┆ 16271.0 ┆ MSCIBARRA   ┆ 0.030593  │\n",
       "│ 2024-01-04 ┆ ARGA1B1 ┆ ARS      ┆ 2.4434e13 ┆ 17550.0 ┆ MSCIBARRA   ┆ 0.078606  │\n",
       "│ 2024-01-05 ┆ ARGA1B1 ┆ ARS      ┆ 2.6066e13 ┆ 18722.5 ┆ MSCIBARRA   ┆ 0.066809  │\n",
       "│ 2024-01-08 ┆ ARGA1B1 ┆ ARS      ┆ 2.8935e13 ┆ 20783.0 ┆ MSCIBARRA   ┆ 0.110055  │\n",
       "│ …          ┆ …       ┆ …        ┆ …         ┆ …       ┆ …           ┆ …         │\n",
       "│ 2024-12-30 ┆ USBQWF1 ┆ USD      ┆ 2.9302e8  ┆ 9.85    ┆ MSCIBARRA   ┆ 0.29776   │\n",
       "│ 2024-12-31 ┆ USBQWF1 ┆ USD      ┆ 2.3591e8  ┆ 7.93    ┆ MSCIBARRA   ┆ -0.194924 │\n",
       "│ 2024-12-27 ┆ USBQWH1 ┆ USD      ┆ 1.06634e8 ┆ 4.07    ┆ MSCIBARRA   ┆ null      │\n",
       "│ 2024-12-30 ┆ USBQWH1 ┆ USD      ┆ 1.2707e8  ┆ 4.85    ┆ MSCIBARRA   ┆ 0.191646  │\n",
       "│ 2024-12-31 ┆ USBQWH1 ┆ USD      ┆ 1.64798e8 ┆ 6.29    ┆ MSCIBARRA   ┆ 0.296907  │\n",
       "└────────────┴─────────┴──────────┴───────────┴─────────┴─────────────┴───────────┘"
      ]
     },
     "execution_count": 14,
     "metadata": {},
     "output_type": "execute_result"
    }
   ],
   "source": [
    "br = BarraReturns().load(year)\n",
    "\n",
    "br"
   ]
  },
  {
   "cell_type": "code",
   "execution_count": 16,
   "metadata": {},
   "outputs": [
    {
     "data": {
      "text/html": [
       "<div><style>\n",
       ".dataframe > thead > tr,\n",
       ".dataframe > tbody > tr {\n",
       "  text-align: right;\n",
       "  white-space: pre-wrap;\n",
       "}\n",
       "</style>\n",
       "<small>shape: (5_279_476, 7)</small><table border=\"1\" class=\"dataframe\"><thead><tr><th>date</th><th>barrid</th><th>div_yield</th><th>total_risk</th><th>spec_risk</th><th>histbeta</th><th>predbeta</th></tr><tr><td>date</td><td>str</td><td>f64</td><td>f64</td><td>f64</td><td>f64</td><td>f64</td></tr></thead><tbody><tr><td>2024-01-02</td><td>&quot;ARGA1B1&quot;</td><td>0.0</td><td>0.668184</td><td>0.524318</td><td>1.395039</td><td>1.724306</td></tr><tr><td>2024-01-02</td><td>&quot;ARGA1G1&quot;</td><td>0.023748</td><td>0.535321</td><td>0.444111</td><td>0.561386</td><td>1.04126</td></tr><tr><td>2024-01-02</td><td>&quot;ARGA1K1&quot;</td><td>0.025574</td><td>0.463541</td><td>0.403742</td><td>0.31918</td><td>0.631024</td></tr><tr><td>2024-01-02</td><td>&quot;ARGA621&quot;</td><td>0.0</td><td>1.007739</td><td>0.881405</td><td>1.884395</td><td>2.162143</td></tr><tr><td>2024-01-02</td><td>&quot;ARGA631&quot;</td><td>0.0</td><td>0.567876</td><td>0.44171</td><td>1.170559</td><td>1.489842</td></tr><tr><td>&hellip;</td><td>&hellip;</td><td>&hellip;</td><td>&hellip;</td><td>&hellip;</td><td>&hellip;</td><td>&hellip;</td></tr><tr><td>2024-12-31</td><td>&quot;USBQVO1&quot;</td><td>null</td><td>0.448393</td><td>0.213794</td><td>0.749719</td><td>0.931585</td></tr><tr><td>2024-12-31</td><td>&quot;USBQVQ1&quot;</td><td>null</td><td>0.380211</td><td>0.177286</td><td>1.03986</td><td>0.875069</td></tr><tr><td>2024-12-31</td><td>&quot;USBQVX1&quot;</td><td>null</td><td>0.244966</td><td>0.166055</td><td>0.933242</td><td>0.864934</td></tr><tr><td>2024-12-31</td><td>&quot;USBQWF1&quot;</td><td>null</td><td>0.76331</td><td>0.697124</td><td>1.226263</td><td>1.484909</td></tr><tr><td>2024-12-31</td><td>&quot;USBQWH1&quot;</td><td>null</td><td>0.657834</td><td>0.5644887</td><td>1.10891</td><td>1.29629</td></tr></tbody></table></div>"
      ],
      "text/plain": [
       "shape: (5_279_476, 7)\n",
       "┌────────────┬─────────┬───────────┬────────────┬───────────┬──────────┬──────────┐\n",
       "│ date       ┆ barrid  ┆ div_yield ┆ total_risk ┆ spec_risk ┆ histbeta ┆ predbeta │\n",
       "│ ---        ┆ ---     ┆ ---       ┆ ---        ┆ ---       ┆ ---      ┆ ---      │\n",
       "│ date       ┆ str     ┆ f64       ┆ f64        ┆ f64       ┆ f64      ┆ f64      │\n",
       "╞════════════╪═════════╪═══════════╪════════════╪═══════════╪══════════╪══════════╡\n",
       "│ 2024-01-02 ┆ ARGA1B1 ┆ 0.0       ┆ 0.668184   ┆ 0.524318  ┆ 1.395039 ┆ 1.724306 │\n",
       "│ 2024-01-02 ┆ ARGA1G1 ┆ 0.023748  ┆ 0.535321   ┆ 0.444111  ┆ 0.561386 ┆ 1.04126  │\n",
       "│ 2024-01-02 ┆ ARGA1K1 ┆ 0.025574  ┆ 0.463541   ┆ 0.403742  ┆ 0.31918  ┆ 0.631024 │\n",
       "│ 2024-01-02 ┆ ARGA621 ┆ 0.0       ┆ 1.007739   ┆ 0.881405  ┆ 1.884395 ┆ 2.162143 │\n",
       "│ 2024-01-02 ┆ ARGA631 ┆ 0.0       ┆ 0.567876   ┆ 0.44171   ┆ 1.170559 ┆ 1.489842 │\n",
       "│ …          ┆ …       ┆ …         ┆ …          ┆ …         ┆ …        ┆ …        │\n",
       "│ 2024-12-31 ┆ USBQVO1 ┆ null      ┆ 0.448393   ┆ 0.213794  ┆ 0.749719 ┆ 0.931585 │\n",
       "│ 2024-12-31 ┆ USBQVQ1 ┆ null      ┆ 0.380211   ┆ 0.177286  ┆ 1.03986  ┆ 0.875069 │\n",
       "│ 2024-12-31 ┆ USBQVX1 ┆ null      ┆ 0.244966   ┆ 0.166055  ┆ 0.933242 ┆ 0.864934 │\n",
       "│ 2024-12-31 ┆ USBQWF1 ┆ null      ┆ 0.76331    ┆ 0.697124  ┆ 1.226263 ┆ 1.484909 │\n",
       "│ 2024-12-31 ┆ USBQWH1 ┆ null      ┆ 0.657834   ┆ 0.5644887 ┆ 1.10891  ┆ 1.29629  │\n",
       "└────────────┴─────────┴───────────┴────────────┴───────────┴──────────┴──────────┘"
      ]
     },
     "execution_count": 16,
     "metadata": {},
     "output_type": "execute_result"
    }
   ],
   "source": [
    "brf = BarraRiskForecasts().load(year)\n",
    "\n",
    "brf"
   ]
  },
  {
   "cell_type": "markdown",
   "metadata": {},
   "source": [
    "How well do the returns and risk data match the russell barrids?"
   ]
  },
  {
   "cell_type": "code",
   "execution_count": 32,
   "metadata": {},
   "outputs": [
    {
     "data": {
      "text/html": [
       "<div><style>\n",
       ".dataframe > thead > tr,\n",
       ".dataframe > tbody > tr {\n",
       "  text-align: right;\n",
       "  white-space: pre-wrap;\n",
       "}\n",
       "</style>\n",
       "<small>shape: (263_102, 3)</small><table border=\"1\" class=\"dataframe\"><thead><tr><th>barrid</th><th>date</th><th>check</th></tr><tr><td>str</td><td>date</td><td>bool</td></tr></thead><tbody><tr><td>&quot;GERKGX1&quot;</td><td>2024-01-02</td><td>true</td></tr><tr><td>&quot;GEROXV1&quot;</td><td>2024-01-02</td><td>true</td></tr><tr><td>&quot;ITAAZM1&quot;</td><td>2024-01-02</td><td>true</td></tr><tr><td>&quot;UKIML11&quot;</td><td>2024-01-02</td><td>true</td></tr><tr><td>&quot;USALHI1&quot;</td><td>2024-01-02</td><td>true</td></tr><tr><td>&hellip;</td><td>&hellip;</td><td>&hellip;</td></tr><tr><td>&quot;USBQVO1&quot;</td><td>2024-12-31</td><td>true</td></tr><tr><td>&quot;USBQVQ1&quot;</td><td>2024-12-31</td><td>true</td></tr><tr><td>&quot;USBQVX1&quot;</td><td>2024-12-31</td><td>true</td></tr><tr><td>&quot;USBQWF1&quot;</td><td>2024-12-31</td><td>true</td></tr><tr><td>&quot;USBQWH1&quot;</td><td>2024-12-31</td><td>true</td></tr></tbody></table></div>"
      ],
      "text/plain": [
       "shape: (263_102, 3)\n",
       "┌─────────┬────────────┬───────┐\n",
       "│ barrid  ┆ date       ┆ check │\n",
       "│ ---     ┆ ---        ┆ ---   │\n",
       "│ str     ┆ date       ┆ bool  │\n",
       "╞═════════╪════════════╪═══════╡\n",
       "│ GERKGX1 ┆ 2024-01-02 ┆ true  │\n",
       "│ GEROXV1 ┆ 2024-01-02 ┆ true  │\n",
       "│ ITAAZM1 ┆ 2024-01-02 ┆ true  │\n",
       "│ UKIML11 ┆ 2024-01-02 ┆ true  │\n",
       "│ USALHI1 ┆ 2024-01-02 ┆ true  │\n",
       "│ …       ┆ …          ┆ …     │\n",
       "│ USBQVO1 ┆ 2024-12-31 ┆ true  │\n",
       "│ USBQVQ1 ┆ 2024-12-31 ┆ true  │\n",
       "│ USBQVX1 ┆ 2024-12-31 ┆ true  │\n",
       "│ USBQWF1 ┆ 2024-12-31 ┆ true  │\n",
       "│ USBQWH1 ┆ 2024-12-31 ┆ true  │\n",
       "└─────────┴────────────┴───────┘"
      ]
     },
     "execution_count": 32,
     "metadata": {},
     "output_type": "execute_result"
    }
   ],
   "source": [
    "br_barrids = br.select([\"date\", \"barrid\"]).unique()\n",
    "\n",
    "br_barrids_monthly = aggregate(br_barrids)\n",
    "\n",
    "br_barrids_monthly"
   ]
  },
  {
   "cell_type": "code",
   "execution_count": 33,
   "metadata": {},
   "outputs": [
    {
     "data": {
      "text/html": [
       "<div><style>\n",
       ".dataframe > thead > tr,\n",
       ".dataframe > tbody > tr {\n",
       "  text-align: right;\n",
       "  white-space: pre-wrap;\n",
       "}\n",
       "</style>\n",
       "<small>shape: (0, 3)</small><table border=\"1\" class=\"dataframe\"><thead><tr><th>date</th><th>barrid</th><th>check</th></tr><tr><td>date</td><td>str</td><td>bool</td></tr></thead><tbody></tbody></table></div>"
      ],
      "text/plain": [
       "shape: (0, 3)\n",
       "┌──────┬────────┬───────┐\n",
       "│ date ┆ barrid ┆ check │\n",
       "│ ---  ┆ ---    ┆ ---   │\n",
       "│ date ┆ str    ┆ bool  │\n",
       "╞══════╪════════╪═══════╡\n",
       "└──────┴────────┴───────┘"
      ]
     },
     "metadata": {},
     "output_type": "display_data"
    }
   ],
   "source": [
    "subset = russell_barrids.join(br_barrids_monthly, on=[\"date\", \"barrid\"], how=\"left\")\n",
    "\n",
    "display(subset.filter(~pl.col(\"check\")))\n",
    "\n",
    "assert russell_barrids.equals(subset.drop(\"check\"))"
   ]
  },
  {
   "cell_type": "markdown",
   "metadata": {},
   "source": [
    "Looks good here!"
   ]
  },
  {
   "cell_type": "code",
   "execution_count": 34,
   "metadata": {},
   "outputs": [
    {
     "data": {
      "text/html": [
       "<div><style>\n",
       ".dataframe > thead > tr,\n",
       ".dataframe > tbody > tr {\n",
       "  text-align: right;\n",
       "  white-space: pre-wrap;\n",
       "}\n",
       "</style>\n",
       "<small>shape: (252_548, 3)</small><table border=\"1\" class=\"dataframe\"><thead><tr><th>barrid</th><th>date</th><th>check</th></tr><tr><td>str</td><td>date</td><td>bool</td></tr></thead><tbody><tr><td>&quot;GERKGX1&quot;</td><td>2024-01-02</td><td>true</td></tr><tr><td>&quot;GEROXV1&quot;</td><td>2024-01-02</td><td>true</td></tr><tr><td>&quot;ITAAZM1&quot;</td><td>2024-01-02</td><td>true</td></tr><tr><td>&quot;UKIML11&quot;</td><td>2024-01-02</td><td>true</td></tr><tr><td>&quot;USALHI1&quot;</td><td>2024-01-02</td><td>true</td></tr><tr><td>&hellip;</td><td>&hellip;</td><td>&hellip;</td></tr><tr><td>&quot;USBQVO1&quot;</td><td>2024-12-31</td><td>true</td></tr><tr><td>&quot;USBQVQ1&quot;</td><td>2024-12-31</td><td>true</td></tr><tr><td>&quot;USBQVX1&quot;</td><td>2024-12-31</td><td>true</td></tr><tr><td>&quot;USBQWF1&quot;</td><td>2024-12-31</td><td>true</td></tr><tr><td>&quot;USBQWH1&quot;</td><td>2024-12-31</td><td>true</td></tr></tbody></table></div>"
      ],
      "text/plain": [
       "shape: (252_548, 3)\n",
       "┌─────────┬────────────┬───────┐\n",
       "│ barrid  ┆ date       ┆ check │\n",
       "│ ---     ┆ ---        ┆ ---   │\n",
       "│ str     ┆ date       ┆ bool  │\n",
       "╞═════════╪════════════╪═══════╡\n",
       "│ GERKGX1 ┆ 2024-01-02 ┆ true  │\n",
       "│ GEROXV1 ┆ 2024-01-02 ┆ true  │\n",
       "│ ITAAZM1 ┆ 2024-01-02 ┆ true  │\n",
       "│ UKIML11 ┆ 2024-01-02 ┆ true  │\n",
       "│ USALHI1 ┆ 2024-01-02 ┆ true  │\n",
       "│ …       ┆ …          ┆ …     │\n",
       "│ USBQVO1 ┆ 2024-12-31 ┆ true  │\n",
       "│ USBQVQ1 ┆ 2024-12-31 ┆ true  │\n",
       "│ USBQVX1 ┆ 2024-12-31 ┆ true  │\n",
       "│ USBQWF1 ┆ 2024-12-31 ┆ true  │\n",
       "│ USBQWH1 ┆ 2024-12-31 ┆ true  │\n",
       "└─────────┴────────────┴───────┘"
      ]
     },
     "execution_count": 34,
     "metadata": {},
     "output_type": "execute_result"
    }
   ],
   "source": [
    "brf_barrids = brf.select([\"date\", \"barrid\"]).unique()\n",
    "\n",
    "brf_barrids_monthly = aggregate(brf_barrids)\n",
    "\n",
    "brf_barrids_monthly"
   ]
  },
  {
   "cell_type": "code",
   "execution_count": 35,
   "metadata": {},
   "outputs": [
    {
     "data": {
      "text/html": [
       "<div><style>\n",
       ".dataframe > thead > tr,\n",
       ".dataframe > tbody > tr {\n",
       "  text-align: right;\n",
       "  white-space: pre-wrap;\n",
       "}\n",
       "</style>\n",
       "<small>shape: (0, 3)</small><table border=\"1\" class=\"dataframe\"><thead><tr><th>date</th><th>barrid</th><th>check</th></tr><tr><td>date</td><td>str</td><td>bool</td></tr></thead><tbody></tbody></table></div>"
      ],
      "text/plain": [
       "shape: (0, 3)\n",
       "┌──────┬────────┬───────┐\n",
       "│ date ┆ barrid ┆ check │\n",
       "│ ---  ┆ ---    ┆ ---   │\n",
       "│ date ┆ str    ┆ bool  │\n",
       "╞══════╪════════╪═══════╡\n",
       "└──────┴────────┴───────┘"
      ]
     },
     "metadata": {},
     "output_type": "display_data"
    }
   ],
   "source": [
    "subset = russell_barrids.join(brf_barrids_monthly, on=[\"date\", \"barrid\"], how=\"left\")\n",
    "\n",
    "display(subset.filter(~pl.col(\"check\")))\n",
    "\n",
    "assert russell_barrids.equals(subset.drop(\"check\"))"
   ]
  },
  {
   "cell_type": "code",
   "execution_count": 47,
   "metadata": {},
   "outputs": [
    {
     "data": {
      "text/html": [
       "<div><style>\n",
       ".dataframe > thead > tr,\n",
       ".dataframe > tbody > tr {\n",
       "  text-align: right;\n",
       "  white-space: pre-wrap;\n",
       "}\n",
       "</style>\n",
       "<small>shape: (5_500_649, 7)</small><table border=\"1\" class=\"dataframe\"><thead><tr><th>date</th><th>barrid</th><th>currency</th><th>mktcap</th><th>price</th><th>pricesource</th><th>ret</th></tr><tr><td>date</td><td>str</td><td>str</td><td>f64</td><td>f64</td><td>str</td><td>f64</td></tr></thead><tbody><tr><td>2024-01-02</td><td>&quot;ARGA1B1&quot;</td><td>&quot;ARS&quot;</td><td>2.1981e13</td><td>15788.0</td><td>&quot;MSCIBARRA&quot;</td><td>-0.048916</td></tr><tr><td>2024-01-03</td><td>&quot;ARGA1B1&quot;</td><td>&quot;ARS&quot;</td><td>2.2653e13</td><td>16271.0</td><td>&quot;MSCIBARRA&quot;</td><td>0.030593</td></tr><tr><td>2024-01-04</td><td>&quot;ARGA1B1&quot;</td><td>&quot;ARS&quot;</td><td>2.4434e13</td><td>17550.0</td><td>&quot;MSCIBARRA&quot;</td><td>0.078606</td></tr><tr><td>2024-01-05</td><td>&quot;ARGA1B1&quot;</td><td>&quot;ARS&quot;</td><td>2.6066e13</td><td>18722.5</td><td>&quot;MSCIBARRA&quot;</td><td>0.066809</td></tr><tr><td>2024-01-08</td><td>&quot;ARGA1B1&quot;</td><td>&quot;ARS&quot;</td><td>2.8935e13</td><td>20783.0</td><td>&quot;MSCIBARRA&quot;</td><td>0.110055</td></tr><tr><td>&hellip;</td><td>&hellip;</td><td>&hellip;</td><td>&hellip;</td><td>&hellip;</td><td>&hellip;</td><td>&hellip;</td></tr><tr><td>2024-12-30</td><td>&quot;USBQWF1&quot;</td><td>&quot;USD&quot;</td><td>2.9302e8</td><td>9.85</td><td>&quot;MSCIBARRA&quot;</td><td>0.29776</td></tr><tr><td>2024-12-31</td><td>&quot;USBQWF1&quot;</td><td>&quot;USD&quot;</td><td>2.3591e8</td><td>7.93</td><td>&quot;MSCIBARRA&quot;</td><td>-0.194924</td></tr><tr><td>2024-12-27</td><td>&quot;USBQWH1&quot;</td><td>&quot;USD&quot;</td><td>1.06634e8</td><td>4.07</td><td>&quot;MSCIBARRA&quot;</td><td>null</td></tr><tr><td>2024-12-30</td><td>&quot;USBQWH1&quot;</td><td>&quot;USD&quot;</td><td>1.2707e8</td><td>4.85</td><td>&quot;MSCIBARRA&quot;</td><td>0.191646</td></tr><tr><td>2024-12-31</td><td>&quot;USBQWH1&quot;</td><td>&quot;USD&quot;</td><td>1.64798e8</td><td>6.29</td><td>&quot;MSCIBARRA&quot;</td><td>0.296907</td></tr></tbody></table></div>"
      ],
      "text/plain": [
       "shape: (5_500_649, 7)\n",
       "┌────────────┬─────────┬──────────┬───────────┬─────────┬─────────────┬───────────┐\n",
       "│ date       ┆ barrid  ┆ currency ┆ mktcap    ┆ price   ┆ pricesource ┆ ret       │\n",
       "│ ---        ┆ ---     ┆ ---      ┆ ---       ┆ ---     ┆ ---         ┆ ---       │\n",
       "│ date       ┆ str     ┆ str      ┆ f64       ┆ f64     ┆ str         ┆ f64       │\n",
       "╞════════════╪═════════╪══════════╪═══════════╪═════════╪═════════════╪═══════════╡\n",
       "│ 2024-01-02 ┆ ARGA1B1 ┆ ARS      ┆ 2.1981e13 ┆ 15788.0 ┆ MSCIBARRA   ┆ -0.048916 │\n",
       "│ 2024-01-03 ┆ ARGA1B1 ┆ ARS      ┆ 2.2653e13 ┆ 16271.0 ┆ MSCIBARRA   ┆ 0.030593  │\n",
       "│ 2024-01-04 ┆ ARGA1B1 ┆ ARS      ┆ 2.4434e13 ┆ 17550.0 ┆ MSCIBARRA   ┆ 0.078606  │\n",
       "│ 2024-01-05 ┆ ARGA1B1 ┆ ARS      ┆ 2.6066e13 ┆ 18722.5 ┆ MSCIBARRA   ┆ 0.066809  │\n",
       "│ 2024-01-08 ┆ ARGA1B1 ┆ ARS      ┆ 2.8935e13 ┆ 20783.0 ┆ MSCIBARRA   ┆ 0.110055  │\n",
       "│ …          ┆ …       ┆ …        ┆ …         ┆ …       ┆ …           ┆ …         │\n",
       "│ 2024-12-30 ┆ USBQWF1 ┆ USD      ┆ 2.9302e8  ┆ 9.85    ┆ MSCIBARRA   ┆ 0.29776   │\n",
       "│ 2024-12-31 ┆ USBQWF1 ┆ USD      ┆ 2.3591e8  ┆ 7.93    ┆ MSCIBARRA   ┆ -0.194924 │\n",
       "│ 2024-12-27 ┆ USBQWH1 ┆ USD      ┆ 1.06634e8 ┆ 4.07    ┆ MSCIBARRA   ┆ null      │\n",
       "│ 2024-12-30 ┆ USBQWH1 ┆ USD      ┆ 1.2707e8  ┆ 4.85    ┆ MSCIBARRA   ┆ 0.191646  │\n",
       "│ 2024-12-31 ┆ USBQWH1 ┆ USD      ┆ 1.64798e8 ┆ 6.29    ┆ MSCIBARRA   ┆ 0.296907  │\n",
       "└────────────┴─────────┴──────────┴───────────┴─────────┴─────────────┴───────────┘"
      ]
     },
     "execution_count": 47,
     "metadata": {},
     "output_type": "execute_result"
    }
   ],
   "source": [
    "br_raw = BarraReturns().load(year)\n",
    "\n",
    "br_raw"
   ]
  },
  {
   "cell_type": "code",
   "execution_count": 48,
   "metadata": {},
   "outputs": [
    {
     "data": {
      "text/html": [
       "<div><style>\n",
       ".dataframe > thead > tr,\n",
       ".dataframe > tbody > tr {\n",
       "  text-align: right;\n",
       "  white-space: pre-wrap;\n",
       "}\n",
       "</style>\n",
       "<small>shape: (263_102, 7)</small><table border=\"1\" class=\"dataframe\"><thead><tr><th>barrid</th><th>date</th><th>currency</th><th>mktcap</th><th>price</th><th>logret</th><th>ret</th></tr><tr><td>str</td><td>date</td><td>str</td><td>f64</td><td>f64</td><td>f64</td><td>f64</td></tr></thead><tbody><tr><td>&quot;ARGA1B1&quot;</td><td>2024-01-31</td><td>&quot;ARS&quot;</td><td>2.8571e13</td><td>20521.5</td><td>0.212071</td><td>0.236236</td></tr><tr><td>&quot;ARGA1B1&quot;</td><td>2024-02-29</td><td>&quot;ARS&quot;</td><td>1.6553e13</td><td>11889.5</td><td>-0.532011</td><td>-0.412577</td></tr><tr><td>&quot;ARGA1B1&quot;</td><td>2024-03-28</td><td>&quot;ARS&quot;</td><td>1.7317e13</td><td>12438.0</td><td>0.0451</td><td>0.046133</td></tr><tr><td>&quot;ARGA1B1&quot;</td><td>2024-04-30</td><td>&quot;ARS&quot;</td><td>2.2856e13</td><td>16416.5</td><td>0.277528</td><td>0.319864</td></tr><tr><td>&quot;ARGA1B1&quot;</td><td>2024-05-31</td><td>&quot;ARS&quot;</td><td>2.5971e13</td><td>18654.5</td><td>0.127799</td><td>0.136324</td></tr><tr><td>&hellip;</td><td>&hellip;</td><td>&hellip;</td><td>&hellip;</td><td>&hellip;</td><td>&hellip;</td><td>&hellip;</td></tr><tr><td>&quot;USBQVO1&quot;</td><td>2024-12-31</td><td>&quot;USD&quot;</td><td>8.06625e7</td><td>4.78</td><td>0.094264</td><td>0.09885</td></tr><tr><td>&quot;USBQVQ1&quot;</td><td>2024-12-31</td><td>&quot;USD&quot;</td><td>2.2792e8</td><td>0.02</td><td>0.0</td><td>0.0</td></tr><tr><td>&quot;USBQVX1&quot;</td><td>2024-12-31</td><td>&quot;USD&quot;</td><td>2.8731e9</td><td>11.75</td><td>0.006832</td><td>0.006855</td></tr><tr><td>&quot;USBQWF1&quot;</td><td>2024-12-31</td><td>&quot;USD&quot;</td><td>2.3591e8</td><td>7.93</td><td>0.146404</td><td>0.157664</td></tr><tr><td>&quot;USBQWH1&quot;</td><td>2024-12-31</td><td>&quot;USD&quot;</td><td>1.64798e8</td><td>6.29</td><td>0.435318</td><td>0.545454</td></tr></tbody></table></div>"
      ],
      "text/plain": [
       "shape: (263_102, 7)\n",
       "┌─────────┬────────────┬──────────┬───────────┬─────────┬───────────┬───────────┐\n",
       "│ barrid  ┆ date       ┆ currency ┆ mktcap    ┆ price   ┆ logret    ┆ ret       │\n",
       "│ ---     ┆ ---        ┆ ---      ┆ ---       ┆ ---     ┆ ---       ┆ ---       │\n",
       "│ str     ┆ date       ┆ str      ┆ f64       ┆ f64     ┆ f64       ┆ f64       │\n",
       "╞═════════╪════════════╪══════════╪═══════════╪═════════╪═══════════╪═══════════╡\n",
       "│ ARGA1B1 ┆ 2024-01-31 ┆ ARS      ┆ 2.8571e13 ┆ 20521.5 ┆ 0.212071  ┆ 0.236236  │\n",
       "│ ARGA1B1 ┆ 2024-02-29 ┆ ARS      ┆ 1.6553e13 ┆ 11889.5 ┆ -0.532011 ┆ -0.412577 │\n",
       "│ ARGA1B1 ┆ 2024-03-28 ┆ ARS      ┆ 1.7317e13 ┆ 12438.0 ┆ 0.0451    ┆ 0.046133  │\n",
       "│ ARGA1B1 ┆ 2024-04-30 ┆ ARS      ┆ 2.2856e13 ┆ 16416.5 ┆ 0.277528  ┆ 0.319864  │\n",
       "│ ARGA1B1 ┆ 2024-05-31 ┆ ARS      ┆ 2.5971e13 ┆ 18654.5 ┆ 0.127799  ┆ 0.136324  │\n",
       "│ …       ┆ …          ┆ …        ┆ …         ┆ …       ┆ …         ┆ …         │\n",
       "│ USBQVO1 ┆ 2024-12-31 ┆ USD      ┆ 8.06625e7 ┆ 4.78    ┆ 0.094264  ┆ 0.09885   │\n",
       "│ USBQVQ1 ┆ 2024-12-31 ┆ USD      ┆ 2.2792e8  ┆ 0.02    ┆ 0.0       ┆ 0.0       │\n",
       "│ USBQVX1 ┆ 2024-12-31 ┆ USD      ┆ 2.8731e9  ┆ 11.75   ┆ 0.006832  ┆ 0.006855  │\n",
       "│ USBQWF1 ┆ 2024-12-31 ┆ USD      ┆ 2.3591e8  ┆ 7.93    ┆ 0.146404  ┆ 0.157664  │\n",
       "│ USBQWH1 ┆ 2024-12-31 ┆ USD      ┆ 1.64798e8 ┆ 6.29    ┆ 0.435318  ┆ 0.545454  │\n",
       "└─────────┴────────────┴──────────┴───────────┴─────────┴───────────┴───────────┘"
      ]
     },
     "execution_count": 48,
     "metadata": {},
     "output_type": "execute_result"
    }
   ],
   "source": [
    "# Add logret column\n",
    "br = br_raw.with_columns(pl.col(\"ret\").log1p().alias(\"logret\"))\n",
    "\n",
    "# Add month column\n",
    "br = br.with_columns(pl.col(\"date\").dt.truncate(\"1mo\").alias(\"month\")).sort([\"barrid\", \"date\"])\n",
    "\n",
    "br = br.group_by([\"month\", \"barrid\"]).agg(\n",
    "    pl.col(\"date\").last(),\n",
    "    pl.col(\"currency\").last(),\n",
    "    pl.col(\"mktcap\").last(),\n",
    "    pl.col(\"price\").last(),\n",
    "    pl.col(\"logret\").sum(),\n",
    ")\n",
    "\n",
    "# Compound up log returns\n",
    "br = br.with_columns((pl.col(\"logret\").exp() - 1).alias(\"ret\"))\n",
    "\n",
    "# Drop month and sort\n",
    "br = br.drop(\"month\").sort([\"barrid\", \"date\"])\n",
    "\n",
    "br"
   ]
  },
  {
   "cell_type": "code",
   "execution_count": 49,
   "metadata": {},
   "outputs": [
    {
     "data": {
      "text/html": [
       "<div><style>\n",
       ".dataframe > thead > tr,\n",
       ".dataframe > tbody > tr {\n",
       "  text-align: right;\n",
       "  white-space: pre-wrap;\n",
       "}\n",
       "</style>\n",
       "<small>shape: (5_279_476, 7)</small><table border=\"1\" class=\"dataframe\"><thead><tr><th>date</th><th>barrid</th><th>div_yield</th><th>total_risk</th><th>spec_risk</th><th>histbeta</th><th>predbeta</th></tr><tr><td>date</td><td>str</td><td>f64</td><td>f64</td><td>f64</td><td>f64</td><td>f64</td></tr></thead><tbody><tr><td>2024-01-02</td><td>&quot;ARGA1B1&quot;</td><td>0.0</td><td>0.668184</td><td>0.524318</td><td>1.395039</td><td>1.724306</td></tr><tr><td>2024-01-02</td><td>&quot;ARGA1G1&quot;</td><td>0.023748</td><td>0.535321</td><td>0.444111</td><td>0.561386</td><td>1.04126</td></tr><tr><td>2024-01-02</td><td>&quot;ARGA1K1&quot;</td><td>0.025574</td><td>0.463541</td><td>0.403742</td><td>0.31918</td><td>0.631024</td></tr><tr><td>2024-01-02</td><td>&quot;ARGA621&quot;</td><td>0.0</td><td>1.007739</td><td>0.881405</td><td>1.884395</td><td>2.162143</td></tr><tr><td>2024-01-02</td><td>&quot;ARGA631&quot;</td><td>0.0</td><td>0.567876</td><td>0.44171</td><td>1.170559</td><td>1.489842</td></tr><tr><td>&hellip;</td><td>&hellip;</td><td>&hellip;</td><td>&hellip;</td><td>&hellip;</td><td>&hellip;</td><td>&hellip;</td></tr><tr><td>2024-12-31</td><td>&quot;USBQVO1&quot;</td><td>null</td><td>0.448393</td><td>0.213794</td><td>0.749719</td><td>0.931585</td></tr><tr><td>2024-12-31</td><td>&quot;USBQVQ1&quot;</td><td>null</td><td>0.380211</td><td>0.177286</td><td>1.03986</td><td>0.875069</td></tr><tr><td>2024-12-31</td><td>&quot;USBQVX1&quot;</td><td>null</td><td>0.244966</td><td>0.166055</td><td>0.933242</td><td>0.864934</td></tr><tr><td>2024-12-31</td><td>&quot;USBQWF1&quot;</td><td>null</td><td>0.76331</td><td>0.697124</td><td>1.226263</td><td>1.484909</td></tr><tr><td>2024-12-31</td><td>&quot;USBQWH1&quot;</td><td>null</td><td>0.657834</td><td>0.5644887</td><td>1.10891</td><td>1.29629</td></tr></tbody></table></div>"
      ],
      "text/plain": [
       "shape: (5_279_476, 7)\n",
       "┌────────────┬─────────┬───────────┬────────────┬───────────┬──────────┬──────────┐\n",
       "│ date       ┆ barrid  ┆ div_yield ┆ total_risk ┆ spec_risk ┆ histbeta ┆ predbeta │\n",
       "│ ---        ┆ ---     ┆ ---       ┆ ---        ┆ ---       ┆ ---      ┆ ---      │\n",
       "│ date       ┆ str     ┆ f64       ┆ f64        ┆ f64       ┆ f64      ┆ f64      │\n",
       "╞════════════╪═════════╪═══════════╪════════════╪═══════════╪══════════╪══════════╡\n",
       "│ 2024-01-02 ┆ ARGA1B1 ┆ 0.0       ┆ 0.668184   ┆ 0.524318  ┆ 1.395039 ┆ 1.724306 │\n",
       "│ 2024-01-02 ┆ ARGA1G1 ┆ 0.023748  ┆ 0.535321   ┆ 0.444111  ┆ 0.561386 ┆ 1.04126  │\n",
       "│ 2024-01-02 ┆ ARGA1K1 ┆ 0.025574  ┆ 0.463541   ┆ 0.403742  ┆ 0.31918  ┆ 0.631024 │\n",
       "│ 2024-01-02 ┆ ARGA621 ┆ 0.0       ┆ 1.007739   ┆ 0.881405  ┆ 1.884395 ┆ 2.162143 │\n",
       "│ 2024-01-02 ┆ ARGA631 ┆ 0.0       ┆ 0.567876   ┆ 0.44171   ┆ 1.170559 ┆ 1.489842 │\n",
       "│ …          ┆ …       ┆ …         ┆ …          ┆ …         ┆ …        ┆ …        │\n",
       "│ 2024-12-31 ┆ USBQVO1 ┆ null      ┆ 0.448393   ┆ 0.213794  ┆ 0.749719 ┆ 0.931585 │\n",
       "│ 2024-12-31 ┆ USBQVQ1 ┆ null      ┆ 0.380211   ┆ 0.177286  ┆ 1.03986  ┆ 0.875069 │\n",
       "│ 2024-12-31 ┆ USBQVX1 ┆ null      ┆ 0.244966   ┆ 0.166055  ┆ 0.933242 ┆ 0.864934 │\n",
       "│ 2024-12-31 ┆ USBQWF1 ┆ null      ┆ 0.76331    ┆ 0.697124  ┆ 1.226263 ┆ 1.484909 │\n",
       "│ 2024-12-31 ┆ USBQWH1 ┆ null      ┆ 0.657834   ┆ 0.5644887 ┆ 1.10891  ┆ 1.29629  │\n",
       "└────────────┴─────────┴───────────┴────────────┴───────────┴──────────┴──────────┘"
      ]
     },
     "execution_count": 49,
     "metadata": {},
     "output_type": "execute_result"
    }
   ],
   "source": [
    "brf_raw = BarraRiskForecasts().load(year)\n",
    "\n",
    "brf_raw"
   ]
  },
  {
   "cell_type": "code",
   "execution_count": 50,
   "metadata": {},
   "outputs": [
    {
     "data": {
      "text/html": [
       "<div><style>\n",
       ".dataframe > thead > tr,\n",
       ".dataframe > tbody > tr {\n",
       "  text-align: right;\n",
       "  white-space: pre-wrap;\n",
       "}\n",
       "</style>\n",
       "<small>shape: (252_548, 7)</small><table border=\"1\" class=\"dataframe\"><thead><tr><th>barrid</th><th>date</th><th>div_yield</th><th>total_risk</th><th>spec_risk</th><th>histbeta</th><th>predbeta</th></tr><tr><td>str</td><td>date</td><td>f64</td><td>f64</td><td>f64</td><td>f64</td><td>f64</td></tr></thead><tbody><tr><td>&quot;ARGA1B1&quot;</td><td>2024-01-31</td><td>0.0</td><td>0.681455</td><td>0.537725</td><td>1.432008</td><td>1.766008</td></tr><tr><td>&quot;ARGA1B1&quot;</td><td>2024-02-29</td><td>0.0</td><td>0.75938</td><td>0.646299</td><td>1.047491</td><td>1.586254</td></tr><tr><td>&quot;ARGA1B1&quot;</td><td>2024-03-28</td><td>0.0</td><td>0.735188</td><td>0.625949</td><td>1.068905</td><td>1.619615</td></tr><tr><td>&quot;ARGA1B1&quot;</td><td>2024-04-30</td><td>0.0</td><td>0.760952</td><td>0.65042</td><td>1.288579</td><td>1.758713</td></tr><tr><td>&quot;ARGA1B1&quot;</td><td>2024-05-31</td><td>0.0</td><td>0.757707</td><td>0.638382</td><td>1.33499</td><td>1.782818</td></tr><tr><td>&hellip;</td><td>&hellip;</td><td>&hellip;</td><td>&hellip;</td><td>&hellip;</td><td>&hellip;</td><td>&hellip;</td></tr><tr><td>&quot;USBQVO1&quot;</td><td>2024-12-31</td><td>null</td><td>0.448393</td><td>0.213794</td><td>0.749719</td><td>0.931585</td></tr><tr><td>&quot;USBQVQ1&quot;</td><td>2024-12-31</td><td>null</td><td>0.380211</td><td>0.177286</td><td>1.03986</td><td>0.875069</td></tr><tr><td>&quot;USBQVX1&quot;</td><td>2024-12-31</td><td>null</td><td>0.244966</td><td>0.166055</td><td>0.933242</td><td>0.864934</td></tr><tr><td>&quot;USBQWF1&quot;</td><td>2024-12-31</td><td>null</td><td>0.76331</td><td>0.697124</td><td>1.226263</td><td>1.484909</td></tr><tr><td>&quot;USBQWH1&quot;</td><td>2024-12-31</td><td>null</td><td>0.657834</td><td>0.5644887</td><td>1.10891</td><td>1.29629</td></tr></tbody></table></div>"
      ],
      "text/plain": [
       "shape: (252_548, 7)\n",
       "┌─────────┬────────────┬───────────┬────────────┬───────────┬──────────┬──────────┐\n",
       "│ barrid  ┆ date       ┆ div_yield ┆ total_risk ┆ spec_risk ┆ histbeta ┆ predbeta │\n",
       "│ ---     ┆ ---        ┆ ---       ┆ ---        ┆ ---       ┆ ---      ┆ ---      │\n",
       "│ str     ┆ date       ┆ f64       ┆ f64        ┆ f64       ┆ f64      ┆ f64      │\n",
       "╞═════════╪════════════╪═══════════╪════════════╪═══════════╪══════════╪══════════╡\n",
       "│ ARGA1B1 ┆ 2024-01-31 ┆ 0.0       ┆ 0.681455   ┆ 0.537725  ┆ 1.432008 ┆ 1.766008 │\n",
       "│ ARGA1B1 ┆ 2024-02-29 ┆ 0.0       ┆ 0.75938    ┆ 0.646299  ┆ 1.047491 ┆ 1.586254 │\n",
       "│ ARGA1B1 ┆ 2024-03-28 ┆ 0.0       ┆ 0.735188   ┆ 0.625949  ┆ 1.068905 ┆ 1.619615 │\n",
       "│ ARGA1B1 ┆ 2024-04-30 ┆ 0.0       ┆ 0.760952   ┆ 0.65042   ┆ 1.288579 ┆ 1.758713 │\n",
       "│ ARGA1B1 ┆ 2024-05-31 ┆ 0.0       ┆ 0.757707   ┆ 0.638382  ┆ 1.33499  ┆ 1.782818 │\n",
       "│ …       ┆ …          ┆ …         ┆ …          ┆ …         ┆ …        ┆ …        │\n",
       "│ USBQVO1 ┆ 2024-12-31 ┆ null      ┆ 0.448393   ┆ 0.213794  ┆ 0.749719 ┆ 0.931585 │\n",
       "│ USBQVQ1 ┆ 2024-12-31 ┆ null      ┆ 0.380211   ┆ 0.177286  ┆ 1.03986  ┆ 0.875069 │\n",
       "│ USBQVX1 ┆ 2024-12-31 ┆ null      ┆ 0.244966   ┆ 0.166055  ┆ 0.933242 ┆ 0.864934 │\n",
       "│ USBQWF1 ┆ 2024-12-31 ┆ null      ┆ 0.76331    ┆ 0.697124  ┆ 1.226263 ┆ 1.484909 │\n",
       "│ USBQWH1 ┆ 2024-12-31 ┆ null      ┆ 0.657834   ┆ 0.5644887 ┆ 1.10891  ┆ 1.29629  │\n",
       "└─────────┴────────────┴───────────┴────────────┴───────────┴──────────┴──────────┘"
      ]
     },
     "execution_count": 50,
     "metadata": {},
     "output_type": "execute_result"
    }
   ],
   "source": [
    "# Add month column\n",
    "brf = brf_raw.with_columns(pl.col(\"date\").dt.truncate(\"1mo\").alias(\"month\")).sort([\"barrid\", \"date\"])\n",
    "\n",
    "brf = brf.group_by([\"month\", \"barrid\"]).agg(\n",
    "    pl.col(\"date\").last(),\n",
    "    pl.col(\"div_yield\").last(),\n",
    "    pl.col(\"total_risk\").last(),\n",
    "    pl.col(\"spec_risk\").last(),\n",
    "    pl.col(\"histbeta\").last(),\n",
    "    pl.col(\"predbeta\").last(),\n",
    ")\n",
    "\n",
    "# Drop month and sort\n",
    "brf = brf.drop(\"month\").sort([\"barrid\", \"date\"])\n",
    "\n",
    "brf"
   ]
  },
  {
   "cell_type": "code",
   "execution_count": null,
   "metadata": {},
   "outputs": [],
   "source": []
  }
 ],
 "metadata": {
  "kernelspec": {
   "display_name": ".venv",
   "language": "python",
   "name": "python3"
  },
  "language_info": {
   "codemirror_mode": {
    "name": "ipython",
    "version": 3
   },
   "file_extension": ".py",
   "mimetype": "text/x-python",
   "name": "python",
   "nbconvert_exporter": "python",
   "pygments_lexer": "ipython3",
   "version": "3.11.10"
  }
 },
 "nbformat": 4,
 "nbformat_minor": 2
}
