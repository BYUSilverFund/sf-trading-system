{
 "cells": [
  {
   "cell_type": "code",
   "execution_count": 26,
   "metadata": {},
   "outputs": [],
   "source": [
    "import polars as pl\n",
    "from datetime import date\n",
    "from silverfund.datasets import *"
   ]
  },
  {
   "cell_type": "markdown",
   "metadata": {},
   "source": [
    "Do all of the components of the factor model have the same barrids for each date?"
   ]
  },
  {
   "cell_type": "code",
   "execution_count": 27,
   "metadata": {},
   "outputs": [],
   "source": [
    "date_ = date(2023, 12, 29)\n",
    "year = date_.year"
   ]
  },
  {
   "cell_type": "code",
   "execution_count": 28,
   "metadata": {},
   "outputs": [],
   "source": [
    "def clean(df: pl.DataFrame, index_cols: list[str], value_col: str) -> pl.DataFrame:\n",
    "    df = df.rename({col: col.split(\" \")[0] for col in df.columns if col not in index_cols})\n",
    "\n",
    "    df = df.unpivot(index=index_cols, variable_name=\"date\", value_name=value_col)\n",
    "\n",
    "    df = df.with_columns(pl.col(\"date\").cast(pl.Date))\n",
    "\n",
    "    return df"
   ]
  },
  {
   "cell_type": "code",
   "execution_count": 29,
   "metadata": {},
   "outputs": [
    {
     "data": {
      "text/html": [
       "<div><style>\n",
       ".dataframe > thead > tr,\n",
       ".dataframe > tbody > tr {\n",
       "  text-align: right;\n",
       "  white-space: pre-wrap;\n",
       "}\n",
       "</style>\n",
       "<small>shape: (109_431_500, 4)</small><table border=\"1\" class=\"dataframe\"><thead><tr><th>barrid</th><th>factor</th><th>date</th><th>exposure</th></tr><tr><td>str</td><td>str</td><td>date</td><td>f64</td></tr></thead><tbody><tr><td>&quot;ARGA1B1&quot;</td><td>&quot;BETA&quot;</td><td>2023-01-03</td><td>0.818</td></tr><tr><td>&quot;ARGA1B1&quot;</td><td>&quot;COUNTRY&quot;</td><td>2023-01-03</td><td>1.0</td></tr><tr><td>&quot;ARGA1B1&quot;</td><td>&quot;DIVYILD&quot;</td><td>2023-01-03</td><td>-0.909</td></tr><tr><td>&quot;ARGA1B1&quot;</td><td>&quot;EARNQLTY&quot;</td><td>2023-01-03</td><td>-1.011</td></tr><tr><td>&quot;ARGA1B1&quot;</td><td>&quot;EARNYILD&quot;</td><td>2023-01-03</td><td>-0.601</td></tr><tr><td>&hellip;</td><td>&hellip;</td><td>&hellip;</td><td>&hellip;</td></tr><tr><td>&quot;USBPQG1&quot;</td><td>&quot;PROFIT&quot;</td><td>2023-12-29</td><td>-2.455</td></tr><tr><td>&quot;USBPQG1&quot;</td><td>&quot;PROSPECT&quot;</td><td>2023-12-29</td><td>0.234</td></tr><tr><td>&quot;USBPQG1&quot;</td><td>&quot;RESVOL&quot;</td><td>2023-12-29</td><td>-0.721</td></tr><tr><td>&quot;USBPQG1&quot;</td><td>&quot;SIZE&quot;</td><td>2023-12-29</td><td>-4.873</td></tr><tr><td>&quot;USBPQG1&quot;</td><td>&quot;VALUE&quot;</td><td>2023-12-29</td><td>0.327</td></tr></tbody></table></div>"
      ],
      "text/plain": [
       "shape: (109_431_500, 4)\n",
       "┌─────────┬──────────┬────────────┬──────────┐\n",
       "│ barrid  ┆ factor   ┆ date       ┆ exposure │\n",
       "│ ---     ┆ ---      ┆ ---        ┆ ---      │\n",
       "│ str     ┆ str      ┆ date       ┆ f64      │\n",
       "╞═════════╪══════════╪════════════╪══════════╡\n",
       "│ ARGA1B1 ┆ BETA     ┆ 2023-01-03 ┆ 0.818    │\n",
       "│ ARGA1B1 ┆ COUNTRY  ┆ 2023-01-03 ┆ 1.0      │\n",
       "│ ARGA1B1 ┆ DIVYILD  ┆ 2023-01-03 ┆ -0.909   │\n",
       "│ ARGA1B1 ┆ EARNQLTY ┆ 2023-01-03 ┆ -1.011   │\n",
       "│ ARGA1B1 ┆ EARNYILD ┆ 2023-01-03 ┆ -0.601   │\n",
       "│ …       ┆ …        ┆ …          ┆ …        │\n",
       "│ USBPQG1 ┆ PROFIT   ┆ 2023-12-29 ┆ -2.455   │\n",
       "│ USBPQG1 ┆ PROSPECT ┆ 2023-12-29 ┆ 0.234    │\n",
       "│ USBPQG1 ┆ RESVOL   ┆ 2023-12-29 ┆ -0.721   │\n",
       "│ USBPQG1 ┆ SIZE     ┆ 2023-12-29 ┆ -4.873   │\n",
       "│ USBPQG1 ┆ VALUE    ┆ 2023-12-29 ┆ 0.327    │\n",
       "└─────────┴──────────┴────────────┴──────────┘"
      ]
     },
     "execution_count": 29,
     "metadata": {},
     "output_type": "execute_result"
    }
   ],
   "source": [
    "bfe = BarraFactorExposures().load(year)\n",
    "\n",
    "bfe = clean(bfe, [\"barrid\", \"factor\"], \"exposure\")\n",
    "\n",
    "bfe"
   ]
  },
  {
   "cell_type": "code",
   "execution_count": 30,
   "metadata": {},
   "outputs": [
    {
     "data": {
      "text/html": [
       "<div><style>\n",
       ".dataframe > thead > tr,\n",
       ".dataframe > tbody > tr {\n",
       "  text-align: right;\n",
       "  white-space: pre-wrap;\n",
       "}\n",
       "</style>\n",
       "<small>shape: (750_750, 4)</small><table border=\"1\" class=\"dataframe\"><thead><tr><th>factor</th><th>factor_2</th><th>date</th><th>covariance</th></tr><tr><td>str</td><td>str</td><td>date</td><td>f64</td></tr></thead><tbody><tr><td>&quot;AERODEF&quot;</td><td>&quot;AERODEF&quot;</td><td>2023-01-03</td><td>207.383191</td></tr><tr><td>&quot;AERODEF&quot;</td><td>&quot;AIRLINES&quot;</td><td>2023-01-03</td><td>96.635459</td></tr><tr><td>&quot;AERODEF&quot;</td><td>&quot;APPAREL&quot;</td><td>2023-01-03</td><td>26.042705</td></tr><tr><td>&quot;AERODEF&quot;</td><td>&quot;AUTO&quot;</td><td>2023-01-03</td><td>-10.064202</td></tr><tr><td>&quot;AERODEF&quot;</td><td>&quot;BANKS&quot;</td><td>2023-01-03</td><td>-4.548321</td></tr><tr><td>&hellip;</td><td>&hellip;</td><td>&hellip;</td><td>&hellip;</td></tr><tr><td>&quot;WIRELESS&quot;</td><td>&quot;COUNTRY&quot;</td><td>2023-12-29</td><td>-49.777706</td></tr><tr><td>&quot;WIRELESS&quot;</td><td>&quot;ELECUTIL&quot;</td><td>2023-12-29</td><td>8.583867</td></tr><tr><td>&quot;WIRELESS&quot;</td><td>&quot;GASUTIL&quot;</td><td>2023-12-29</td><td>23.611227</td></tr><tr><td>&quot;WIRELESS&quot;</td><td>&quot;MULTUTIL&quot;</td><td>2023-12-29</td><td>20.326507</td></tr><tr><td>&quot;WIRELESS&quot;</td><td>&quot;WIRELESS&quot;</td><td>2023-12-29</td><td>196.968525</td></tr></tbody></table></div>"
      ],
      "text/plain": [
       "shape: (750_750, 4)\n",
       "┌──────────┬──────────┬────────────┬────────────┐\n",
       "│ factor   ┆ factor_2 ┆ date       ┆ covariance │\n",
       "│ ---      ┆ ---      ┆ ---        ┆ ---        │\n",
       "│ str      ┆ str      ┆ date       ┆ f64        │\n",
       "╞══════════╪══════════╪════════════╪════════════╡\n",
       "│ AERODEF  ┆ AERODEF  ┆ 2023-01-03 ┆ 207.383191 │\n",
       "│ AERODEF  ┆ AIRLINES ┆ 2023-01-03 ┆ 96.635459  │\n",
       "│ AERODEF  ┆ APPAREL  ┆ 2023-01-03 ┆ 26.042705  │\n",
       "│ AERODEF  ┆ AUTO     ┆ 2023-01-03 ┆ -10.064202 │\n",
       "│ AERODEF  ┆ BANKS    ┆ 2023-01-03 ┆ -4.548321  │\n",
       "│ …        ┆ …        ┆ …          ┆ …          │\n",
       "│ WIRELESS ┆ COUNTRY  ┆ 2023-12-29 ┆ -49.777706 │\n",
       "│ WIRELESS ┆ ELECUTIL ┆ 2023-12-29 ┆ 8.583867   │\n",
       "│ WIRELESS ┆ GASUTIL  ┆ 2023-12-29 ┆ 23.611227  │\n",
       "│ WIRELESS ┆ MULTUTIL ┆ 2023-12-29 ┆ 20.326507  │\n",
       "│ WIRELESS ┆ WIRELESS ┆ 2023-12-29 ┆ 196.968525 │\n",
       "└──────────┴──────────┴────────────┴────────────┘"
      ]
     },
     "execution_count": 30,
     "metadata": {},
     "output_type": "execute_result"
    }
   ],
   "source": [
    "bfc = BarraFactorCovariances().load(year)\n",
    "\n",
    "bfc = clean(bfc, [\"factor_1\", \"factor_2\"], \"covariance\")\n",
    "\n",
    "bfc = bfc.rename({\"factor_1\": \"factor\"})\n",
    "\n",
    "bfc"
   ]
  },
  {
   "cell_type": "code",
   "execution_count": 31,
   "metadata": {},
   "outputs": [
    {
     "data": {
      "text/html": [
       "<div><style>\n",
       ".dataframe > thead > tr,\n",
       ".dataframe > tbody > tr {\n",
       "  text-align: right;\n",
       "  white-space: pre-wrap;\n",
       "}\n",
       "</style>\n",
       "<small>shape: (5_572_250, 3)</small><table border=\"1\" class=\"dataframe\"><thead><tr><th>barrid</th><th>date</th><th>spec_risk</th></tr><tr><td>str</td><td>date</td><td>f64</td></tr></thead><tbody><tr><td>&quot;ARGA1B1&quot;</td><td>2023-01-03</td><td>25.820439</td></tr><tr><td>&quot;ARGA1G1&quot;</td><td>2023-01-03</td><td>null</td></tr><tr><td>&quot;ARGA1K1&quot;</td><td>2023-01-03</td><td>null</td></tr><tr><td>&quot;ARGA621&quot;</td><td>2023-01-03</td><td>66.565339</td></tr><tr><td>&quot;ARGA631&quot;</td><td>2023-01-03</td><td>36.820819</td></tr><tr><td>&hellip;</td><td>&hellip;</td><td>&hellip;</td></tr><tr><td>&quot;USBPPH1&quot;</td><td>2023-12-29</td><td>18.142673</td></tr><tr><td>&quot;USBPPS1&quot;</td><td>2023-12-29</td><td>28.983597</td></tr><tr><td>&quot;USBPQA1&quot;</td><td>2023-12-29</td><td>72.806297</td></tr><tr><td>&quot;USBPQD1&quot;</td><td>2023-12-29</td><td>15.068052</td></tr><tr><td>&quot;USBPQG1&quot;</td><td>2023-12-29</td><td>25.372894</td></tr></tbody></table></div>"
      ],
      "text/plain": [
       "shape: (5_572_250, 3)\n",
       "┌─────────┬────────────┬───────────┐\n",
       "│ barrid  ┆ date       ┆ spec_risk │\n",
       "│ ---     ┆ ---        ┆ ---       │\n",
       "│ str     ┆ date       ┆ f64       │\n",
       "╞═════════╪════════════╪═══════════╡\n",
       "│ ARGA1B1 ┆ 2023-01-03 ┆ 25.820439 │\n",
       "│ ARGA1G1 ┆ 2023-01-03 ┆ null      │\n",
       "│ ARGA1K1 ┆ 2023-01-03 ┆ null      │\n",
       "│ ARGA621 ┆ 2023-01-03 ┆ 66.565339 │\n",
       "│ ARGA631 ┆ 2023-01-03 ┆ 36.820819 │\n",
       "│ …       ┆ …          ┆ …         │\n",
       "│ USBPPH1 ┆ 2023-12-29 ┆ 18.142673 │\n",
       "│ USBPPS1 ┆ 2023-12-29 ┆ 28.983597 │\n",
       "│ USBPQA1 ┆ 2023-12-29 ┆ 72.806297 │\n",
       "│ USBPQD1 ┆ 2023-12-29 ┆ 15.068052 │\n",
       "│ USBPQG1 ┆ 2023-12-29 ┆ 25.372894 │\n",
       "└─────────┴────────────┴───────────┘"
      ]
     },
     "execution_count": 31,
     "metadata": {},
     "output_type": "execute_result"
    }
   ],
   "source": [
    "bsrf = BarraSpecificRiskForecast().load(year)\n",
    "\n",
    "bsrf = clean(bsrf, [\"barrid\"], \"spec_risk\")\n",
    "\n",
    "bsrf"
   ]
  },
  {
   "cell_type": "markdown",
   "metadata": {},
   "source": [
    "Factor Exposures vs. Factor Covariances"
   ]
  },
  {
   "cell_type": "code",
   "execution_count": 32,
   "metadata": {},
   "outputs": [],
   "source": [
    "bfe_factors = bfe.select([\"date\", \"factor\"]).unique().sort([\"date\", \"factor\"])\n",
    "bfc_factors = bfc.select([\"date\", \"factor\"]).unique().sort([\"date\", \"factor\"])\n",
    "\n",
    "assert bfe_factors.equals(bfc_factors)"
   ]
  },
  {
   "cell_type": "markdown",
   "metadata": {},
   "source": [
    "Factor Exposures vs. Specific Risk"
   ]
  },
  {
   "cell_type": "code",
   "execution_count": 33,
   "metadata": {},
   "outputs": [
    {
     "data": {
      "text/html": [
       "<div><style>\n",
       ".dataframe > thead > tr,\n",
       ".dataframe > tbody > tr {\n",
       "  text-align: right;\n",
       "  white-space: pre-wrap;\n",
       "}\n",
       "</style>\n",
       "<small>shape: (5_572_250, 2)</small><table border=\"1\" class=\"dataframe\"><thead><tr><th>date</th><th>barrid</th></tr><tr><td>date</td><td>str</td></tr></thead><tbody><tr><td>2023-01-03</td><td>&quot;ARGA1B1&quot;</td></tr><tr><td>2023-01-03</td><td>&quot;ARGA1G1&quot;</td></tr><tr><td>2023-01-03</td><td>&quot;ARGA1K1&quot;</td></tr><tr><td>2023-01-03</td><td>&quot;ARGA621&quot;</td></tr><tr><td>2023-01-03</td><td>&quot;ARGA631&quot;</td></tr><tr><td>&hellip;</td><td>&hellip;</td></tr><tr><td>2023-12-29</td><td>&quot;USBPPH1&quot;</td></tr><tr><td>2023-12-29</td><td>&quot;USBPPS1&quot;</td></tr><tr><td>2023-12-29</td><td>&quot;USBPQA1&quot;</td></tr><tr><td>2023-12-29</td><td>&quot;USBPQD1&quot;</td></tr><tr><td>2023-12-29</td><td>&quot;USBPQG1&quot;</td></tr></tbody></table></div>"
      ],
      "text/plain": [
       "shape: (5_572_250, 2)\n",
       "┌────────────┬─────────┐\n",
       "│ date       ┆ barrid  │\n",
       "│ ---        ┆ ---     │\n",
       "│ date       ┆ str     │\n",
       "╞════════════╪═════════╡\n",
       "│ 2023-01-03 ┆ ARGA1B1 │\n",
       "│ 2023-01-03 ┆ ARGA1G1 │\n",
       "│ 2023-01-03 ┆ ARGA1K1 │\n",
       "│ 2023-01-03 ┆ ARGA621 │\n",
       "│ 2023-01-03 ┆ ARGA631 │\n",
       "│ …          ┆ …       │\n",
       "│ 2023-12-29 ┆ USBPPH1 │\n",
       "│ 2023-12-29 ┆ USBPPS1 │\n",
       "│ 2023-12-29 ┆ USBPQA1 │\n",
       "│ 2023-12-29 ┆ USBPQD1 │\n",
       "│ 2023-12-29 ┆ USBPQG1 │\n",
       "└────────────┴─────────┘"
      ]
     },
     "metadata": {},
     "output_type": "display_data"
    },
    {
     "data": {
      "text/html": [
       "<div><style>\n",
       ".dataframe > thead > tr,\n",
       ".dataframe > tbody > tr {\n",
       "  text-align: right;\n",
       "  white-space: pre-wrap;\n",
       "}\n",
       "</style>\n",
       "<small>shape: (5_572_250, 2)</small><table border=\"1\" class=\"dataframe\"><thead><tr><th>date</th><th>barrid</th></tr><tr><td>date</td><td>str</td></tr></thead><tbody><tr><td>2023-01-03</td><td>&quot;ARGA1B1&quot;</td></tr><tr><td>2023-01-03</td><td>&quot;ARGA1G1&quot;</td></tr><tr><td>2023-01-03</td><td>&quot;ARGA1K1&quot;</td></tr><tr><td>2023-01-03</td><td>&quot;ARGA621&quot;</td></tr><tr><td>2023-01-03</td><td>&quot;ARGA631&quot;</td></tr><tr><td>&hellip;</td><td>&hellip;</td></tr><tr><td>2023-12-29</td><td>&quot;USBPPH1&quot;</td></tr><tr><td>2023-12-29</td><td>&quot;USBPPS1&quot;</td></tr><tr><td>2023-12-29</td><td>&quot;USBPQA1&quot;</td></tr><tr><td>2023-12-29</td><td>&quot;USBPQD1&quot;</td></tr><tr><td>2023-12-29</td><td>&quot;USBPQG1&quot;</td></tr></tbody></table></div>"
      ],
      "text/plain": [
       "shape: (5_572_250, 2)\n",
       "┌────────────┬─────────┐\n",
       "│ date       ┆ barrid  │\n",
       "│ ---        ┆ ---     │\n",
       "│ date       ┆ str     │\n",
       "╞════════════╪═════════╡\n",
       "│ 2023-01-03 ┆ ARGA1B1 │\n",
       "│ 2023-01-03 ┆ ARGA1G1 │\n",
       "│ 2023-01-03 ┆ ARGA1K1 │\n",
       "│ 2023-01-03 ┆ ARGA621 │\n",
       "│ 2023-01-03 ┆ ARGA631 │\n",
       "│ …          ┆ …       │\n",
       "│ 2023-12-29 ┆ USBPPH1 │\n",
       "│ 2023-12-29 ┆ USBPPS1 │\n",
       "│ 2023-12-29 ┆ USBPQA1 │\n",
       "│ 2023-12-29 ┆ USBPQD1 │\n",
       "│ 2023-12-29 ┆ USBPQG1 │\n",
       "└────────────┴─────────┘"
      ]
     },
     "metadata": {},
     "output_type": "display_data"
    }
   ],
   "source": [
    "bfe_barrids = bfe.select([\"date\", \"barrid\"]).unique().sort([\"date\", \"barrid\"])\n",
    "bsrf_barrids = bsrf.select([\"date\", \"barrid\"]).unique().sort([\"date\", \"barrid\"])\n",
    "\n",
    "display(bfe_barrids, bsrf_barrids)"
   ]
  },
  {
   "cell_type": "markdown",
   "metadata": {},
   "source": [
    "Here we see that the factor exposures and the specific risk forecasts do not have the exact same combinations of date and barrid"
   ]
  },
  {
   "cell_type": "markdown",
   "metadata": {},
   "source": [
    "Do the russell constituents barrids match the factor exposures and specific risk?"
   ]
  },
  {
   "cell_type": "code",
   "execution_count": 34,
   "metadata": {},
   "outputs": [
    {
     "data": {
      "text/html": [
       "<div><style>\n",
       ".dataframe > thead > tr,\n",
       ".dataframe > tbody > tr {\n",
       "  text-align: right;\n",
       "  white-space: pre-wrap;\n",
       "}\n",
       "</style>\n",
       "<small>shape: (35_417, 2)</small><table border=\"1\" class=\"dataframe\"><thead><tr><th>date</th><th>barrid</th></tr><tr><td>date</td><td>str</td></tr></thead><tbody><tr><td>2023-01-31</td><td>&quot;USA06Z1&quot;</td></tr><tr><td>2023-01-31</td><td>&quot;USA0C11&quot;</td></tr><tr><td>2023-01-31</td><td>&quot;USA0H41&quot;</td></tr><tr><td>2023-01-31</td><td>&quot;USA0SY1&quot;</td></tr><tr><td>2023-01-31</td><td>&quot;USA11I1&quot;</td></tr><tr><td>&hellip;</td><td>&hellip;</td></tr><tr><td>2023-12-29</td><td>&quot;USBPGY1&quot;</td></tr><tr><td>2023-12-29</td><td>&quot;USBPID1&quot;</td></tr><tr><td>2023-12-29</td><td>&quot;USBPJV1&quot;</td></tr><tr><td>2023-12-29</td><td>&quot;USBPKS1&quot;</td></tr><tr><td>2023-12-29</td><td>&quot;USBPM41&quot;</td></tr></tbody></table></div>"
      ],
      "text/plain": [
       "shape: (35_417, 2)\n",
       "┌────────────┬─────────┐\n",
       "│ date       ┆ barrid  │\n",
       "│ ---        ┆ ---     │\n",
       "│ date       ┆ str     │\n",
       "╞════════════╪═════════╡\n",
       "│ 2023-01-31 ┆ USA06Z1 │\n",
       "│ 2023-01-31 ┆ USA0C11 │\n",
       "│ 2023-01-31 ┆ USA0H41 │\n",
       "│ 2023-01-31 ┆ USA0SY1 │\n",
       "│ 2023-01-31 ┆ USA11I1 │\n",
       "│ …          ┆ …       │\n",
       "│ 2023-12-29 ┆ USBPGY1 │\n",
       "│ 2023-12-29 ┆ USBPID1 │\n",
       "│ 2023-12-29 ┆ USBPJV1 │\n",
       "│ 2023-12-29 ┆ USBPKS1 │\n",
       "│ 2023-12-29 ┆ USBPM41 │\n",
       "└────────────┴─────────┘"
      ]
     },
     "execution_count": 34,
     "metadata": {},
     "output_type": "execute_result"
    }
   ],
   "source": [
    "russell = RussellConstituents().load_all()\n",
    "\n",
    "russell_barrids = russell.select([\"date\", \"barrid\"]).unique()\n",
    "\n",
    "russell_barrids = russell_barrids.filter(pl.col(\"date\").dt.year() == year)\n",
    "\n",
    "russell_barrids = russell_barrids.drop_nulls(subset=[\"barrid\"])\n",
    "\n",
    "russell_barrids = russell_barrids.sort([\"date\", \"barrid\"])\n",
    "\n",
    "russell_barrids"
   ]
  },
  {
   "cell_type": "code",
   "execution_count": 35,
   "metadata": {},
   "outputs": [],
   "source": [
    "def aggregate(df: pl.DataFrame) -> pl.DataFrame:\n",
    "    # Add month columns\n",
    "    df = df.with_columns(pl.col(\"date\").dt.truncate(\"1mo\").alias(\"month\"))\n",
    "\n",
    "    # Aggregate to month level and keep the month end date\n",
    "    df = df.group_by([\"month\", \"barrid\"]).agg(pl.col(\"date\").max())\n",
    "\n",
    "    # Drop month column and sort\n",
    "    df = df.drop(\"month\").sort([\"date\", \"barrid\"])\n",
    "\n",
    "    # Add check column\n",
    "    df = df.with_columns(pl.lit(True).alias(\"check\"))\n",
    "\n",
    "    return df"
   ]
  },
  {
   "cell_type": "code",
   "execution_count": 36,
   "metadata": {},
   "outputs": [
    {
     "data": {
      "text/html": [
       "<div><style>\n",
       ".dataframe > thead > tr,\n",
       ".dataframe > tbody > tr {\n",
       "  text-align: right;\n",
       "  white-space: pre-wrap;\n",
       "}\n",
       "</style>\n",
       "<small>shape: (267_468, 3)</small><table border=\"1\" class=\"dataframe\"><thead><tr><th>barrid</th><th>date</th><th>check</th></tr><tr><td>str</td><td>date</td><td>bool</td></tr></thead><tbody><tr><td>&quot;ARGA1B1&quot;</td><td>2023-01-31</td><td>true</td></tr><tr><td>&quot;ARGA1G1&quot;</td><td>2023-01-31</td><td>true</td></tr><tr><td>&quot;ARGA1K1&quot;</td><td>2023-01-31</td><td>true</td></tr><tr><td>&quot;ARGA621&quot;</td><td>2023-01-31</td><td>true</td></tr><tr><td>&quot;ARGA631&quot;</td><td>2023-01-31</td><td>true</td></tr><tr><td>&hellip;</td><td>&hellip;</td><td>&hellip;</td></tr><tr><td>&quot;USBPPH1&quot;</td><td>2023-12-29</td><td>true</td></tr><tr><td>&quot;USBPPS1&quot;</td><td>2023-12-29</td><td>true</td></tr><tr><td>&quot;USBPQA1&quot;</td><td>2023-12-29</td><td>true</td></tr><tr><td>&quot;USBPQD1&quot;</td><td>2023-12-29</td><td>true</td></tr><tr><td>&quot;USBPQG1&quot;</td><td>2023-12-29</td><td>true</td></tr></tbody></table></div>"
      ],
      "text/plain": [
       "shape: (267_468, 3)\n",
       "┌─────────┬────────────┬───────┐\n",
       "│ barrid  ┆ date       ┆ check │\n",
       "│ ---     ┆ ---        ┆ ---   │\n",
       "│ str     ┆ date       ┆ bool  │\n",
       "╞═════════╪════════════╪═══════╡\n",
       "│ ARGA1B1 ┆ 2023-01-31 ┆ true  │\n",
       "│ ARGA1G1 ┆ 2023-01-31 ┆ true  │\n",
       "│ ARGA1K1 ┆ 2023-01-31 ┆ true  │\n",
       "│ ARGA621 ┆ 2023-01-31 ┆ true  │\n",
       "│ ARGA631 ┆ 2023-01-31 ┆ true  │\n",
       "│ …       ┆ …          ┆ …     │\n",
       "│ USBPPH1 ┆ 2023-12-29 ┆ true  │\n",
       "│ USBPPS1 ┆ 2023-12-29 ┆ true  │\n",
       "│ USBPQA1 ┆ 2023-12-29 ┆ true  │\n",
       "│ USBPQD1 ┆ 2023-12-29 ┆ true  │\n",
       "│ USBPQG1 ┆ 2023-12-29 ┆ true  │\n",
       "└─────────┴────────────┴───────┘"
      ]
     },
     "execution_count": 36,
     "metadata": {},
     "output_type": "execute_result"
    }
   ],
   "source": [
    "# Aggregate\n",
    "bfe_barrids_monthly = aggregate(bfe_barrids)\n",
    "\n",
    "bfe_barrids_monthly"
   ]
  },
  {
   "cell_type": "code",
   "execution_count": 37,
   "metadata": {},
   "outputs": [
    {
     "data": {
      "text/html": [
       "<div><style>\n",
       ".dataframe > thead > tr,\n",
       ".dataframe > tbody > tr {\n",
       "  text-align: right;\n",
       "  white-space: pre-wrap;\n",
       "}\n",
       "</style>\n",
       "<small>shape: (0, 3)</small><table border=\"1\" class=\"dataframe\"><thead><tr><th>date</th><th>barrid</th><th>check</th></tr><tr><td>date</td><td>str</td><td>bool</td></tr></thead><tbody></tbody></table></div>"
      ],
      "text/plain": [
       "shape: (0, 3)\n",
       "┌──────┬────────┬───────┐\n",
       "│ date ┆ barrid ┆ check │\n",
       "│ ---  ┆ ---    ┆ ---   │\n",
       "│ date ┆ str    ┆ bool  │\n",
       "╞══════╪════════╪═══════╡\n",
       "└──────┴────────┴───────┘"
      ]
     },
     "metadata": {},
     "output_type": "display_data"
    }
   ],
   "source": [
    "subset = russell_barrids.join(bfe_barrids_monthly, on=[\"date\", \"barrid\"], how=\"left\")\n",
    "\n",
    "subset = subset.fill_null(False)\n",
    "\n",
    "display(subset.filter(~pl.col(\"check\")))\n",
    "\n",
    "assert russell_barrids.equals(subset.drop(\"check\"))"
   ]
  },
  {
   "cell_type": "markdown",
   "metadata": {},
   "source": [
    "It appears that all barra factor exposures are in the russell subset."
   ]
  },
  {
   "cell_type": "code",
   "execution_count": 38,
   "metadata": {},
   "outputs": [
    {
     "data": {
      "text/html": [
       "<div><style>\n",
       ".dataframe > thead > tr,\n",
       ".dataframe > tbody > tr {\n",
       "  text-align: right;\n",
       "  white-space: pre-wrap;\n",
       "}\n",
       "</style>\n",
       "<small>shape: (267_468, 3)</small><table border=\"1\" class=\"dataframe\"><thead><tr><th>barrid</th><th>date</th><th>check</th></tr><tr><td>str</td><td>date</td><td>bool</td></tr></thead><tbody><tr><td>&quot;ARGA1B1&quot;</td><td>2023-01-31</td><td>true</td></tr><tr><td>&quot;ARGA1G1&quot;</td><td>2023-01-31</td><td>true</td></tr><tr><td>&quot;ARGA1K1&quot;</td><td>2023-01-31</td><td>true</td></tr><tr><td>&quot;ARGA621&quot;</td><td>2023-01-31</td><td>true</td></tr><tr><td>&quot;ARGA631&quot;</td><td>2023-01-31</td><td>true</td></tr><tr><td>&hellip;</td><td>&hellip;</td><td>&hellip;</td></tr><tr><td>&quot;USBPPH1&quot;</td><td>2023-12-29</td><td>true</td></tr><tr><td>&quot;USBPPS1&quot;</td><td>2023-12-29</td><td>true</td></tr><tr><td>&quot;USBPQA1&quot;</td><td>2023-12-29</td><td>true</td></tr><tr><td>&quot;USBPQD1&quot;</td><td>2023-12-29</td><td>true</td></tr><tr><td>&quot;USBPQG1&quot;</td><td>2023-12-29</td><td>true</td></tr></tbody></table></div>"
      ],
      "text/plain": [
       "shape: (267_468, 3)\n",
       "┌─────────┬────────────┬───────┐\n",
       "│ barrid  ┆ date       ┆ check │\n",
       "│ ---     ┆ ---        ┆ ---   │\n",
       "│ str     ┆ date       ┆ bool  │\n",
       "╞═════════╪════════════╪═══════╡\n",
       "│ ARGA1B1 ┆ 2023-01-31 ┆ true  │\n",
       "│ ARGA1G1 ┆ 2023-01-31 ┆ true  │\n",
       "│ ARGA1K1 ┆ 2023-01-31 ┆ true  │\n",
       "│ ARGA621 ┆ 2023-01-31 ┆ true  │\n",
       "│ ARGA631 ┆ 2023-01-31 ┆ true  │\n",
       "│ …       ┆ …          ┆ …     │\n",
       "│ USBPPH1 ┆ 2023-12-29 ┆ true  │\n",
       "│ USBPPS1 ┆ 2023-12-29 ┆ true  │\n",
       "│ USBPQA1 ┆ 2023-12-29 ┆ true  │\n",
       "│ USBPQD1 ┆ 2023-12-29 ┆ true  │\n",
       "│ USBPQG1 ┆ 2023-12-29 ┆ true  │\n",
       "└─────────┴────────────┴───────┘"
      ]
     },
     "execution_count": 38,
     "metadata": {},
     "output_type": "execute_result"
    }
   ],
   "source": [
    "bsrf_barrids_monthly = aggregate(bsrf_barrids)\n",
    "\n",
    "bsrf_barrids_monthly"
   ]
  },
  {
   "cell_type": "code",
   "execution_count": 39,
   "metadata": {},
   "outputs": [
    {
     "data": {
      "text/html": [
       "<div><style>\n",
       ".dataframe > thead > tr,\n",
       ".dataframe > tbody > tr {\n",
       "  text-align: right;\n",
       "  white-space: pre-wrap;\n",
       "}\n",
       "</style>\n",
       "<small>shape: (0, 3)</small><table border=\"1\" class=\"dataframe\"><thead><tr><th>date</th><th>barrid</th><th>check</th></tr><tr><td>date</td><td>str</td><td>bool</td></tr></thead><tbody></tbody></table></div>"
      ],
      "text/plain": [
       "shape: (0, 3)\n",
       "┌──────┬────────┬───────┐\n",
       "│ date ┆ barrid ┆ check │\n",
       "│ ---  ┆ ---    ┆ ---   │\n",
       "│ date ┆ str    ┆ bool  │\n",
       "╞══════╪════════╪═══════╡\n",
       "└──────┴────────┴───────┘"
      ]
     },
     "metadata": {},
     "output_type": "display_data"
    }
   ],
   "source": [
    "subset = russell_barrids.join(bsrf_barrids_monthly, on=[\"date\", \"barrid\"], how=\"left\")\n",
    "\n",
    "subset = subset.fill_null(False)\n",
    "\n",
    "display(subset.filter(~pl.col(\"check\")))\n",
    "\n",
    "assert russell_barrids.equals(subset.drop(\"check\"))"
   ]
  },
  {
   "cell_type": "markdown",
   "metadata": {},
   "source": [
    "It appears that the specific risk barrids are also in the russell subset."
   ]
  },
  {
   "cell_type": "markdown",
   "metadata": {},
   "source": [
    "How well do the returns and risk forecasts match?"
   ]
  },
  {
   "cell_type": "code",
   "execution_count": 40,
   "metadata": {},
   "outputs": [
    {
     "data": {
      "text/html": [
       "<div><style>\n",
       ".dataframe > thead > tr,\n",
       ".dataframe > tbody > tr {\n",
       "  text-align: right;\n",
       "  white-space: pre-wrap;\n",
       "}\n",
       "</style>\n",
       "<small>shape: (1_446_654, 10)</small><table border=\"1\" class=\"dataframe\"><thead><tr><th>date</th><th>obsdate</th><th>enddate</th><th>cusip</th><th>permno</th><th>barrid</th><th>barra_ticker</th><th>r3000_wt</th><th>issue_name</th><th>ticker</th></tr><tr><td>date</td><td>date</td><td>date</td><td>str</td><td>f64</td><td>str</td><td>str</td><td>f64</td><td>str</td><td>str</td></tr></thead><tbody><tr><td>1978-12-29</td><td>1979-01-10</td><td>1979-04-10</td><td>&quot;00036110&quot;</td><td>54594.0</td><td>null</td><td>null</td><td>0.0019</td><td>null</td><td>null</td></tr><tr><td>1978-12-29</td><td>1979-01-10</td><td>1979-04-10</td><td>&quot;00080010&quot;</td><td>10006.0</td><td>null</td><td>null</td><td>0.031</td><td>null</td><td>null</td></tr><tr><td>1978-12-29</td><td>1979-01-10</td><td>1979-04-10</td><td>&quot;00103010&quot;</td><td>10154.0</td><td>null</td><td>null</td><td>0.0012</td><td>null</td><td>null</td></tr><tr><td>1978-12-29</td><td>1979-01-10</td><td>1979-04-10</td><td>&quot;00103210&quot;</td><td>10162.0</td><td>null</td><td>null</td><td>0.0026</td><td>null</td><td>null</td></tr><tr><td>1978-12-29</td><td>1979-01-10</td><td>1979-04-10</td><td>&quot;00144410&quot;</td><td>10306.0</td><td>null</td><td>null</td><td>0.0013</td><td>null</td><td>null</td></tr><tr><td>&hellip;</td><td>&hellip;</td><td>&hellip;</td><td>&hellip;</td><td>&hellip;</td><td>&hellip;</td><td>&hellip;</td><td>&hellip;</td><td>&hellip;</td><td>&hellip;</td></tr><tr><td>2024-12-31</td><td>2025-01-10</td><td>1975-12-31</td><td>&quot;Y2685T13&quot;</td><td>15597.0</td><td>&quot;USBC8F1&quot;</td><td>null</td><td>0.00001</td><td>&quot;GENCO SHIPPING &amp; TRADING LIMIT…</td><td>&quot;USGNK&quot;</td></tr><tr><td>2024-12-31</td><td>2025-01-10</td><td>1975-12-31</td><td>&quot;Y4105310&quot;</td><td>16454.0</td><td>&quot;USBDIX1&quot;</td><td>null</td><td>0.000026</td><td>&quot;INTERNATIONAL SEAWAYS INC&quot;</td><td>&quot;USINSW&quot;</td></tr><tr><td>2024-12-31</td><td>2025-01-10</td><td>1975-12-31</td><td>&quot;Y7388L10&quot;</td><td>92679.0</td><td>&quot;USACPW1&quot;</td><td>null</td><td>0.000004</td><td>&quot;SAFE BULKERS INC&quot;</td><td>&quot;USSB&quot;</td></tr><tr><td>2024-12-31</td><td>2025-01-10</td><td>1975-12-31</td><td>&quot;Y7542C13&quot;</td><td>93299.0</td><td>&quot;USALLL1&quot;</td><td>null</td><td>0.000039</td><td>&quot;SCORPIO TANKERS INC&quot;</td><td>&quot;USSTNG&quot;</td></tr><tr><td>2024-12-31</td><td>2025-01-10</td><td>1975-12-31</td><td>&quot;Y9530810&quot;</td><td>15857.0</td><td>&quot;USBDBE1&quot;</td><td>null</td><td>0.00002</td><td>&quot;WAVE LIFE SCIENCES PTE LTD&quot;</td><td>&quot;USWVE&quot;</td></tr></tbody></table></div>"
      ],
      "text/plain": [
       "shape: (1_446_654, 10)\n",
       "┌────────────┬────────────┬────────────┬──────────┬───┬────────────┬──────────┬───────────┬────────┐\n",
       "│ date       ┆ obsdate    ┆ enddate    ┆ cusip    ┆ … ┆ barra_tick ┆ r3000_wt ┆ issue_nam ┆ ticker │\n",
       "│ ---        ┆ ---        ┆ ---        ┆ ---      ┆   ┆ er         ┆ ---      ┆ e         ┆ ---    │\n",
       "│ date       ┆ date       ┆ date       ┆ str      ┆   ┆ ---        ┆ f64      ┆ ---       ┆ str    │\n",
       "│            ┆            ┆            ┆          ┆   ┆ str        ┆          ┆ str       ┆        │\n",
       "╞════════════╪════════════╪════════════╪══════════╪═══╪════════════╪══════════╪═══════════╪════════╡\n",
       "│ 1978-12-29 ┆ 1979-01-10 ┆ 1979-04-10 ┆ 00036110 ┆ … ┆ null       ┆ 0.0019   ┆ null      ┆ null   │\n",
       "│ 1978-12-29 ┆ 1979-01-10 ┆ 1979-04-10 ┆ 00080010 ┆ … ┆ null       ┆ 0.031    ┆ null      ┆ null   │\n",
       "│ 1978-12-29 ┆ 1979-01-10 ┆ 1979-04-10 ┆ 00103010 ┆ … ┆ null       ┆ 0.0012   ┆ null      ┆ null   │\n",
       "│ 1978-12-29 ┆ 1979-01-10 ┆ 1979-04-10 ┆ 00103210 ┆ … ┆ null       ┆ 0.0026   ┆ null      ┆ null   │\n",
       "│ 1978-12-29 ┆ 1979-01-10 ┆ 1979-04-10 ┆ 00144410 ┆ … ┆ null       ┆ 0.0013   ┆ null      ┆ null   │\n",
       "│ …          ┆ …          ┆ …          ┆ …        ┆ … ┆ …          ┆ …        ┆ …         ┆ …      │\n",
       "│ 2024-12-31 ┆ 2025-01-10 ┆ 1975-12-31 ┆ Y2685T13 ┆ … ┆ null       ┆ 0.00001  ┆ GENCO     ┆ USGNK  │\n",
       "│            ┆            ┆            ┆          ┆   ┆            ┆          ┆ SHIPPING  ┆        │\n",
       "│            ┆            ┆            ┆          ┆   ┆            ┆          ┆ & TRADING ┆        │\n",
       "│            ┆            ┆            ┆          ┆   ┆            ┆          ┆ LIMIT…    ┆        │\n",
       "│ 2024-12-31 ┆ 2025-01-10 ┆ 1975-12-31 ┆ Y4105310 ┆ … ┆ null       ┆ 0.000026 ┆ INTERNATI ┆ USINSW │\n",
       "│            ┆            ┆            ┆          ┆   ┆            ┆          ┆ ONAL      ┆        │\n",
       "│            ┆            ┆            ┆          ┆   ┆            ┆          ┆ SEAWAYS   ┆        │\n",
       "│            ┆            ┆            ┆          ┆   ┆            ┆          ┆ INC       ┆        │\n",
       "│ 2024-12-31 ┆ 2025-01-10 ┆ 1975-12-31 ┆ Y7388L10 ┆ … ┆ null       ┆ 0.000004 ┆ SAFE      ┆ USSB   │\n",
       "│            ┆            ┆            ┆          ┆   ┆            ┆          ┆ BULKERS   ┆        │\n",
       "│            ┆            ┆            ┆          ┆   ┆            ┆          ┆ INC       ┆        │\n",
       "│ 2024-12-31 ┆ 2025-01-10 ┆ 1975-12-31 ┆ Y7542C13 ┆ … ┆ null       ┆ 0.000039 ┆ SCORPIO   ┆ USSTNG │\n",
       "│            ┆            ┆            ┆          ┆   ┆            ┆          ┆ TANKERS   ┆        │\n",
       "│            ┆            ┆            ┆          ┆   ┆            ┆          ┆ INC       ┆        │\n",
       "│ 2024-12-31 ┆ 2025-01-10 ┆ 1975-12-31 ┆ Y9530810 ┆ … ┆ null       ┆ 0.00002  ┆ WAVE LIFE ┆ USWVE  │\n",
       "│            ┆            ┆            ┆          ┆   ┆            ┆          ┆ SCIENCES  ┆        │\n",
       "│            ┆            ┆            ┆          ┆   ┆            ┆          ┆ PTE LTD   ┆        │\n",
       "└────────────┴────────────┴────────────┴──────────┴───┴────────────┴──────────┴───────────┴────────┘"
      ]
     },
     "execution_count": 40,
     "metadata": {},
     "output_type": "execute_result"
    }
   ],
   "source": [
    "russell = RussellConstituents().load_all()\n",
    "\n",
    "russell"
   ]
  },
  {
   "cell_type": "code",
   "execution_count": 41,
   "metadata": {},
   "outputs": [
    {
     "data": {
      "text/html": [
       "<div><style>\n",
       ".dataframe > thead > tr,\n",
       ".dataframe > tbody > tr {\n",
       "  text-align: right;\n",
       "  white-space: pre-wrap;\n",
       "}\n",
       "</style>\n",
       "<small>shape: (5_308_850, 7)</small><table border=\"1\" class=\"dataframe\"><thead><tr><th>date</th><th>barrid</th><th>price</th><th>mktcap</th><th>pricesource</th><th>currency</th><th>ret</th></tr><tr><td>date</td><td>str</td><td>f64</td><td>f64</td><td>str</td><td>str</td><td>f64</td></tr></thead><tbody><tr><td>2023-01-03</td><td>&quot;ARGA1B1&quot;</td><td>3036.0</td><td>4.1254e12</td><td>&quot;MSCIBARRA&quot;</td><td>&quot;ARS&quot;</td><td>-0.020645</td></tr><tr><td>2023-01-04</td><td>&quot;ARGA1B1&quot;</td><td>3150.0</td><td>4.2803e12</td><td>&quot;MSCIBARRA&quot;</td><td>&quot;ARS&quot;</td><td>0.037549</td></tr><tr><td>2023-01-05</td><td>&quot;ARGA1B1&quot;</td><td>3165.0</td><td>4.3007e12</td><td>&quot;MSCIBARRA&quot;</td><td>&quot;ARS&quot;</td><td>0.004762</td></tr><tr><td>2023-01-06</td><td>&quot;ARGA1B1&quot;</td><td>3185.0</td><td>4.3279e12</td><td>&quot;MSCIBARRA&quot;</td><td>&quot;ARS&quot;</td><td>0.006319</td></tr><tr><td>2023-01-09</td><td>&quot;ARGA1B1&quot;</td><td>3115.0</td><td>4.2328e12</td><td>&quot;MSCIBARRA&quot;</td><td>&quot;ARS&quot;</td><td>-0.021978</td></tr><tr><td>&hellip;</td><td>&hellip;</td><td>&hellip;</td><td>&hellip;</td><td>&hellip;</td><td>&hellip;</td><td>&hellip;</td></tr><tr><td>2023-12-28</td><td>&quot;USBPQA1&quot;</td><td>2.57</td><td>3.8089e7</td><td>&quot;MSCIBARRA&quot;</td><td>&quot;USD&quot;</td><td>-0.011538</td></tr><tr><td>2023-12-29</td><td>&quot;USBPQA1&quot;</td><td>2.85</td><td>4.2239e7</td><td>&quot;MSCIBARRA&quot;</td><td>&quot;USD&quot;</td><td>0.108949</td></tr><tr><td>2023-12-29</td><td>&quot;USBPQD1&quot;</td><td>13.45</td><td>5.7439e8</td><td>&quot;MSCIBARRA&quot;</td><td>&quot;USD&quot;</td><td>-0.023239</td></tr><tr><td>2023-12-28</td><td>&quot;USBPQG1&quot;</td><td>6.85</td><td>6.7512e7</td><td>&quot;MSCIBARRA&quot;</td><td>&quot;USD&quot;</td><td>null</td></tr><tr><td>2023-12-29</td><td>&quot;USBPQG1&quot;</td><td>5.5</td><td>5.4207e7</td><td>&quot;MSCIBARRA&quot;</td><td>&quot;USD&quot;</td><td>-0.19708</td></tr></tbody></table></div>"
      ],
      "text/plain": [
       "shape: (5_308_850, 7)\n",
       "┌────────────┬─────────┬────────┬───────────┬─────────────┬──────────┬───────────┐\n",
       "│ date       ┆ barrid  ┆ price  ┆ mktcap    ┆ pricesource ┆ currency ┆ ret       │\n",
       "│ ---        ┆ ---     ┆ ---    ┆ ---       ┆ ---         ┆ ---      ┆ ---       │\n",
       "│ date       ┆ str     ┆ f64    ┆ f64       ┆ str         ┆ str      ┆ f64       │\n",
       "╞════════════╪═════════╪════════╪═══════════╪═════════════╪══════════╪═══════════╡\n",
       "│ 2023-01-03 ┆ ARGA1B1 ┆ 3036.0 ┆ 4.1254e12 ┆ MSCIBARRA   ┆ ARS      ┆ -0.020645 │\n",
       "│ 2023-01-04 ┆ ARGA1B1 ┆ 3150.0 ┆ 4.2803e12 ┆ MSCIBARRA   ┆ ARS      ┆ 0.037549  │\n",
       "│ 2023-01-05 ┆ ARGA1B1 ┆ 3165.0 ┆ 4.3007e12 ┆ MSCIBARRA   ┆ ARS      ┆ 0.004762  │\n",
       "│ 2023-01-06 ┆ ARGA1B1 ┆ 3185.0 ┆ 4.3279e12 ┆ MSCIBARRA   ┆ ARS      ┆ 0.006319  │\n",
       "│ 2023-01-09 ┆ ARGA1B1 ┆ 3115.0 ┆ 4.2328e12 ┆ MSCIBARRA   ┆ ARS      ┆ -0.021978 │\n",
       "│ …          ┆ …       ┆ …      ┆ …         ┆ …           ┆ …        ┆ …         │\n",
       "│ 2023-12-28 ┆ USBPQA1 ┆ 2.57   ┆ 3.8089e7  ┆ MSCIBARRA   ┆ USD      ┆ -0.011538 │\n",
       "│ 2023-12-29 ┆ USBPQA1 ┆ 2.85   ┆ 4.2239e7  ┆ MSCIBARRA   ┆ USD      ┆ 0.108949  │\n",
       "│ 2023-12-29 ┆ USBPQD1 ┆ 13.45  ┆ 5.7439e8  ┆ MSCIBARRA   ┆ USD      ┆ -0.023239 │\n",
       "│ 2023-12-28 ┆ USBPQG1 ┆ 6.85   ┆ 6.7512e7  ┆ MSCIBARRA   ┆ USD      ┆ null      │\n",
       "│ 2023-12-29 ┆ USBPQG1 ┆ 5.5    ┆ 5.4207e7  ┆ MSCIBARRA   ┆ USD      ┆ -0.19708  │\n",
       "└────────────┴─────────┴────────┴───────────┴─────────────┴──────────┴───────────┘"
      ]
     },
     "execution_count": 41,
     "metadata": {},
     "output_type": "execute_result"
    }
   ],
   "source": [
    "br = BarraReturns().load(year)\n",
    "\n",
    "br"
   ]
  },
  {
   "cell_type": "code",
   "execution_count": 42,
   "metadata": {},
   "outputs": [
    {
     "data": {
      "text/html": [
       "<div><style>\n",
       ".dataframe > thead > tr,\n",
       ".dataframe > tbody > tr {\n",
       "  text-align: right;\n",
       "  white-space: pre-wrap;\n",
       "}\n",
       "</style>\n",
       "<small>shape: (5_259_442, 7)</small><table border=\"1\" class=\"dataframe\"><thead><tr><th>date</th><th>barrid</th><th>div_yield</th><th>total_risk</th><th>spec_risk</th><th>histbeta</th><th>predbeta</th></tr><tr><td>date</td><td>str</td><td>f64</td><td>f64</td><td>f64</td><td>f64</td><td>f64</td></tr></thead><tbody><tr><td>2023-01-03</td><td>&quot;ARGA1B1&quot;</td><td>0.0</td><td>0.396221</td><td>0.258204</td><td>1.245569</td><td>1.314258</td></tr><tr><td>2023-01-03</td><td>&quot;ARGA621&quot;</td><td>0.0</td><td>0.772561</td><td>0.665653</td><td>1.03035</td><td>1.545753</td></tr><tr><td>2023-01-03</td><td>&quot;ARGA631&quot;</td><td>0.0</td><td>0.49185</td><td>0.368208</td><td>0.780698</td><td>1.206389</td></tr><tr><td>2023-01-03</td><td>&quot;ARGA641&quot;</td><td>0.0</td><td>0.507191</td><td>0.311712</td><td>0.760347</td><td>1.218184</td></tr><tr><td>2023-01-03</td><td>&quot;ARGA651&quot;</td><td>0.0182357</td><td>0.475045</td><td>0.364988</td><td>0.740156</td><td>1.031541</td></tr><tr><td>&hellip;</td><td>&hellip;</td><td>&hellip;</td><td>&hellip;</td><td>&hellip;</td><td>&hellip;</td><td>&hellip;</td></tr><tr><td>2023-12-29</td><td>&quot;USBPPH1&quot;</td><td>null</td><td>0.308507</td><td>0.181427</td><td>1.078032</td><td>0.95078</td></tr><tr><td>2023-12-29</td><td>&quot;USBPPS1&quot;</td><td>null</td><td>0.407579</td><td>0.289836</td><td>0.805638</td><td>0.983537</td></tr><tr><td>2023-12-29</td><td>&quot;USBPQA1&quot;</td><td>null</td><td>0.821866</td><td>0.728063</td><td>1.241031</td><td>1.592499</td></tr><tr><td>2023-12-29</td><td>&quot;USBPQD1&quot;</td><td>null</td><td>0.365097</td><td>0.150681</td><td>1.266551</td><td>1.112014</td></tr><tr><td>2023-12-29</td><td>&quot;USBPQG1&quot;</td><td>null</td><td>0.484016</td><td>0.253729</td><td>1.269023</td><td>1.44254</td></tr></tbody></table></div>"
      ],
      "text/plain": [
       "shape: (5_259_442, 7)\n",
       "┌────────────┬─────────┬───────────┬────────────┬───────────┬──────────┬──────────┐\n",
       "│ date       ┆ barrid  ┆ div_yield ┆ total_risk ┆ spec_risk ┆ histbeta ┆ predbeta │\n",
       "│ ---        ┆ ---     ┆ ---       ┆ ---        ┆ ---       ┆ ---      ┆ ---      │\n",
       "│ date       ┆ str     ┆ f64       ┆ f64        ┆ f64       ┆ f64      ┆ f64      │\n",
       "╞════════════╪═════════╪═══════════╪════════════╪═══════════╪══════════╪══════════╡\n",
       "│ 2023-01-03 ┆ ARGA1B1 ┆ 0.0       ┆ 0.396221   ┆ 0.258204  ┆ 1.245569 ┆ 1.314258 │\n",
       "│ 2023-01-03 ┆ ARGA621 ┆ 0.0       ┆ 0.772561   ┆ 0.665653  ┆ 1.03035  ┆ 1.545753 │\n",
       "│ 2023-01-03 ┆ ARGA631 ┆ 0.0       ┆ 0.49185    ┆ 0.368208  ┆ 0.780698 ┆ 1.206389 │\n",
       "│ 2023-01-03 ┆ ARGA641 ┆ 0.0       ┆ 0.507191   ┆ 0.311712  ┆ 0.760347 ┆ 1.218184 │\n",
       "│ 2023-01-03 ┆ ARGA651 ┆ 0.0182357 ┆ 0.475045   ┆ 0.364988  ┆ 0.740156 ┆ 1.031541 │\n",
       "│ …          ┆ …       ┆ …         ┆ …          ┆ …         ┆ …        ┆ …        │\n",
       "│ 2023-12-29 ┆ USBPPH1 ┆ null      ┆ 0.308507   ┆ 0.181427  ┆ 1.078032 ┆ 0.95078  │\n",
       "│ 2023-12-29 ┆ USBPPS1 ┆ null      ┆ 0.407579   ┆ 0.289836  ┆ 0.805638 ┆ 0.983537 │\n",
       "│ 2023-12-29 ┆ USBPQA1 ┆ null      ┆ 0.821866   ┆ 0.728063  ┆ 1.241031 ┆ 1.592499 │\n",
       "│ 2023-12-29 ┆ USBPQD1 ┆ null      ┆ 0.365097   ┆ 0.150681  ┆ 1.266551 ┆ 1.112014 │\n",
       "│ 2023-12-29 ┆ USBPQG1 ┆ null      ┆ 0.484016   ┆ 0.253729  ┆ 1.269023 ┆ 1.44254  │\n",
       "└────────────┴─────────┴───────────┴────────────┴───────────┴──────────┴──────────┘"
      ]
     },
     "execution_count": 42,
     "metadata": {},
     "output_type": "execute_result"
    }
   ],
   "source": [
    "brf = BarraRiskForecasts().load(year)\n",
    "\n",
    "brf"
   ]
  },
  {
   "cell_type": "markdown",
   "metadata": {},
   "source": [
    "How well do the returns and risk data match the russell barrids?"
   ]
  },
  {
   "cell_type": "code",
   "execution_count": 43,
   "metadata": {},
   "outputs": [
    {
     "data": {
      "text/html": [
       "<div><style>\n",
       ".dataframe > thead > tr,\n",
       ".dataframe > tbody > tr {\n",
       "  text-align: right;\n",
       "  white-space: pre-wrap;\n",
       "}\n",
       "</style>\n",
       "<small>shape: (256_009, 3)</small><table border=\"1\" class=\"dataframe\"><thead><tr><th>barrid</th><th>date</th><th>check</th></tr><tr><td>str</td><td>date</td><td>bool</td></tr></thead><tbody><tr><td>&quot;GER1661&quot;</td><td>2023-01-03</td><td>true</td></tr><tr><td>&quot;USAAWS1&quot;</td><td>2023-01-03</td><td>true</td></tr><tr><td>&quot;USAFNM1&quot;</td><td>2023-01-03</td><td>true</td></tr><tr><td>&quot;USASEZ1&quot;</td><td>2023-01-03</td><td>true</td></tr><tr><td>&quot;USBEVX1&quot;</td><td>2023-01-03</td><td>true</td></tr><tr><td>&hellip;</td><td>&hellip;</td><td>&hellip;</td></tr><tr><td>&quot;USBPPH1&quot;</td><td>2023-12-29</td><td>true</td></tr><tr><td>&quot;USBPPS1&quot;</td><td>2023-12-29</td><td>true</td></tr><tr><td>&quot;USBPQA1&quot;</td><td>2023-12-29</td><td>true</td></tr><tr><td>&quot;USBPQD1&quot;</td><td>2023-12-29</td><td>true</td></tr><tr><td>&quot;USBPQG1&quot;</td><td>2023-12-29</td><td>true</td></tr></tbody></table></div>"
      ],
      "text/plain": [
       "shape: (256_009, 3)\n",
       "┌─────────┬────────────┬───────┐\n",
       "│ barrid  ┆ date       ┆ check │\n",
       "│ ---     ┆ ---        ┆ ---   │\n",
       "│ str     ┆ date       ┆ bool  │\n",
       "╞═════════╪════════════╪═══════╡\n",
       "│ GER1661 ┆ 2023-01-03 ┆ true  │\n",
       "│ USAAWS1 ┆ 2023-01-03 ┆ true  │\n",
       "│ USAFNM1 ┆ 2023-01-03 ┆ true  │\n",
       "│ USASEZ1 ┆ 2023-01-03 ┆ true  │\n",
       "│ USBEVX1 ┆ 2023-01-03 ┆ true  │\n",
       "│ …       ┆ …          ┆ …     │\n",
       "│ USBPPH1 ┆ 2023-12-29 ┆ true  │\n",
       "│ USBPPS1 ┆ 2023-12-29 ┆ true  │\n",
       "│ USBPQA1 ┆ 2023-12-29 ┆ true  │\n",
       "│ USBPQD1 ┆ 2023-12-29 ┆ true  │\n",
       "│ USBPQG1 ┆ 2023-12-29 ┆ true  │\n",
       "└─────────┴────────────┴───────┘"
      ]
     },
     "execution_count": 43,
     "metadata": {},
     "output_type": "execute_result"
    }
   ],
   "source": [
    "br_barrids = br.select([\"date\", \"barrid\"]).unique()\n",
    "\n",
    "br_barrids_monthly = aggregate(br_barrids)\n",
    "\n",
    "br_barrids_monthly"
   ]
  },
  {
   "cell_type": "code",
   "execution_count": 44,
   "metadata": {},
   "outputs": [
    {
     "data": {
      "text/html": [
       "<div><style>\n",
       ".dataframe > thead > tr,\n",
       ".dataframe > tbody > tr {\n",
       "  text-align: right;\n",
       "  white-space: pre-wrap;\n",
       "}\n",
       "</style>\n",
       "<small>shape: (0, 3)</small><table border=\"1\" class=\"dataframe\"><thead><tr><th>date</th><th>barrid</th><th>check</th></tr><tr><td>date</td><td>str</td><td>bool</td></tr></thead><tbody></tbody></table></div>"
      ],
      "text/plain": [
       "shape: (0, 3)\n",
       "┌──────┬────────┬───────┐\n",
       "│ date ┆ barrid ┆ check │\n",
       "│ ---  ┆ ---    ┆ ---   │\n",
       "│ date ┆ str    ┆ bool  │\n",
       "╞══════╪════════╪═══════╡\n",
       "└──────┴────────┴───────┘"
      ]
     },
     "metadata": {},
     "output_type": "display_data"
    }
   ],
   "source": [
    "subset = russell_barrids.join(br_barrids_monthly, on=[\"date\", \"barrid\"], how=\"left\")\n",
    "\n",
    "display(subset.filter(~pl.col(\"check\")))\n",
    "\n",
    "assert russell_barrids.equals(subset.drop(\"check\"))"
   ]
  },
  {
   "cell_type": "markdown",
   "metadata": {},
   "source": [
    "Looks good here!"
   ]
  },
  {
   "cell_type": "code",
   "execution_count": 45,
   "metadata": {},
   "outputs": [
    {
     "data": {
      "text/html": [
       "<div><style>\n",
       ".dataframe > thead > tr,\n",
       ".dataframe > tbody > tr {\n",
       "  text-align: right;\n",
       "  white-space: pre-wrap;\n",
       "}\n",
       "</style>\n",
       "<small>shape: (253_634, 3)</small><table border=\"1\" class=\"dataframe\"><thead><tr><th>barrid</th><th>date</th><th>check</th></tr><tr><td>str</td><td>date</td><td>bool</td></tr></thead><tbody><tr><td>&quot;GER1661&quot;</td><td>2023-01-03</td><td>true</td></tr><tr><td>&quot;USAAWS1&quot;</td><td>2023-01-03</td><td>true</td></tr><tr><td>&quot;USAFNM1&quot;</td><td>2023-01-03</td><td>true</td></tr><tr><td>&quot;USASEZ1&quot;</td><td>2023-01-03</td><td>true</td></tr><tr><td>&quot;USBEVX1&quot;</td><td>2023-01-03</td><td>true</td></tr><tr><td>&hellip;</td><td>&hellip;</td><td>&hellip;</td></tr><tr><td>&quot;USBPPH1&quot;</td><td>2023-12-29</td><td>true</td></tr><tr><td>&quot;USBPPS1&quot;</td><td>2023-12-29</td><td>true</td></tr><tr><td>&quot;USBPQA1&quot;</td><td>2023-12-29</td><td>true</td></tr><tr><td>&quot;USBPQD1&quot;</td><td>2023-12-29</td><td>true</td></tr><tr><td>&quot;USBPQG1&quot;</td><td>2023-12-29</td><td>true</td></tr></tbody></table></div>"
      ],
      "text/plain": [
       "shape: (253_634, 3)\n",
       "┌─────────┬────────────┬───────┐\n",
       "│ barrid  ┆ date       ┆ check │\n",
       "│ ---     ┆ ---        ┆ ---   │\n",
       "│ str     ┆ date       ┆ bool  │\n",
       "╞═════════╪════════════╪═══════╡\n",
       "│ GER1661 ┆ 2023-01-03 ┆ true  │\n",
       "│ USAAWS1 ┆ 2023-01-03 ┆ true  │\n",
       "│ USAFNM1 ┆ 2023-01-03 ┆ true  │\n",
       "│ USASEZ1 ┆ 2023-01-03 ┆ true  │\n",
       "│ USBEVX1 ┆ 2023-01-03 ┆ true  │\n",
       "│ …       ┆ …          ┆ …     │\n",
       "│ USBPPH1 ┆ 2023-12-29 ┆ true  │\n",
       "│ USBPPS1 ┆ 2023-12-29 ┆ true  │\n",
       "│ USBPQA1 ┆ 2023-12-29 ┆ true  │\n",
       "│ USBPQD1 ┆ 2023-12-29 ┆ true  │\n",
       "│ USBPQG1 ┆ 2023-12-29 ┆ true  │\n",
       "└─────────┴────────────┴───────┘"
      ]
     },
     "execution_count": 45,
     "metadata": {},
     "output_type": "execute_result"
    }
   ],
   "source": [
    "brf_barrids = brf.select([\"date\", \"barrid\"]).unique()\n",
    "\n",
    "brf_barrids_monthly = aggregate(brf_barrids)\n",
    "\n",
    "brf_barrids_monthly"
   ]
  },
  {
   "cell_type": "code",
   "execution_count": 46,
   "metadata": {},
   "outputs": [
    {
     "data": {
      "text/html": [
       "<div><style>\n",
       ".dataframe > thead > tr,\n",
       ".dataframe > tbody > tr {\n",
       "  text-align: right;\n",
       "  white-space: pre-wrap;\n",
       "}\n",
       "</style>\n",
       "<small>shape: (0, 3)</small><table border=\"1\" class=\"dataframe\"><thead><tr><th>date</th><th>barrid</th><th>check</th></tr><tr><td>date</td><td>str</td><td>bool</td></tr></thead><tbody></tbody></table></div>"
      ],
      "text/plain": [
       "shape: (0, 3)\n",
       "┌──────┬────────┬───────┐\n",
       "│ date ┆ barrid ┆ check │\n",
       "│ ---  ┆ ---    ┆ ---   │\n",
       "│ date ┆ str    ┆ bool  │\n",
       "╞══════╪════════╪═══════╡\n",
       "└──────┴────────┴───────┘"
      ]
     },
     "metadata": {},
     "output_type": "display_data"
    }
   ],
   "source": [
    "subset = russell_barrids.join(brf_barrids_monthly, on=[\"date\", \"barrid\"], how=\"left\")\n",
    "\n",
    "display(subset.filter(~pl.col(\"check\")))\n",
    "\n",
    "assert russell_barrids.equals(subset.drop(\"check\"))"
   ]
  }
 ],
 "metadata": {
  "kernelspec": {
   "display_name": ".venv",
   "language": "python",
   "name": "python3"
  },
  "language_info": {
   "codemirror_mode": {
    "name": "ipython",
    "version": 3
   },
   "file_extension": ".py",
   "mimetype": "text/x-python",
   "name": "python",
   "nbconvert_exporter": "python",
   "pygments_lexer": "ipython3",
   "version": "3.11.10"
  }
 },
 "nbformat": 4,
 "nbformat_minor": 2
}
