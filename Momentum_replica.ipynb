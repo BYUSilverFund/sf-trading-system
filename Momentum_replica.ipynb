{
 "cells": [
  {
   "cell_type": "code",
   "execution_count": 2,
   "metadata": {},
   "outputs": [],
   "source": [
    "from silverfund.datasets.crsp_daily import CRSPDaily\n",
    "import matplotlib.pyplot as plt\n",
    "from datetime import date\n",
    "import polars as pl\n",
    "import numpy as np\n",
    "import pandas as pd"
   ]
  },
  {
   "cell_type": "code",
   "execution_count": 3,
   "metadata": {},
   "outputs": [
    {
     "name": "stderr",
     "output_type": "stream",
     "text": [
      "Loading CRSP Daily years:   0%|          | 0/30 [00:00<?, ?it/s]"
     ]
    },
    {
     "name": "stderr",
     "output_type": "stream",
     "text": [
      "Loading CRSP Daily years: 100%|██████████| 30/30 [00:01<00:00, 21.42it/s]\n"
     ]
    },
    {
     "name": "stdout",
     "output_type": "stream",
     "text": [
      "shape: (35_143_148, 14)\n",
      "┌────────┬────────┬────────────┬──────────┬───┬───────────┬─────────────┬───────────┬─────────┐\n",
      "│ permno ┆ permco ┆ date       ┆ ncusip   ┆ … ┆ retx      ┆ vol         ┆ shrout    ┆ cfacshr │\n",
      "│ ---    ┆ ---    ┆ ---        ┆ ---      ┆   ┆ ---       ┆ ---         ┆ ---       ┆ ---     │\n",
      "│ i64    ┆ i64    ┆ date       ┆ str      ┆   ┆ f64       ┆ f64         ┆ f64       ┆ f64     │\n",
      "╞════════╪════════╪════════════╪══════════╪═══╪═══════════╪═════════════╪═══════════╪═════════╡\n",
      "│ 10001  ┆ 7953   ┆ 1995-07-31 ┆ 29274A10 ┆ … ┆ 0.03125   ┆ 400.0       ┆ 2254.0    ┆ 1.5     │\n",
      "│ 10001  ┆ 7953   ┆ 1995-08-01 ┆ 29274A10 ┆ … ┆ -0.015152 ┆ 0.0         ┆ 2254.0    ┆ 1.5     │\n",
      "│ 10001  ┆ 7953   ┆ 1995-08-02 ┆ 29274A10 ┆ … ┆ 0.015385  ┆ 300.0       ┆ 2254.0    ┆ 1.5     │\n",
      "│ 10001  ┆ 7953   ┆ 1995-08-03 ┆ 29274A10 ┆ … ┆ -0.060606 ┆ 250.0       ┆ 2254.0    ┆ 1.5     │\n",
      "│ 10001  ┆ 7953   ┆ 1995-08-04 ┆ 29274A10 ┆ … ┆ 0.064516  ┆ 100.0       ┆ 2254.0    ┆ 1.5     │\n",
      "│ …      ┆ …      ┆ …          ┆ …        ┆ … ┆ …         ┆ …           ┆ …         ┆ …       │\n",
      "│ 93436  ┆ 53453  ┆ 2024-12-24 ┆ 88160R10 ┆ … ┆ 0.073572  ┆ 5.9351506e7 ┆ 3.21006e6 ┆ 1.0     │\n",
      "│ 93436  ┆ 53453  ┆ 2024-12-26 ┆ 88160R10 ┆ … ┆ -0.01763  ┆ 7.6392273e7 ┆ 3.21006e6 ┆ 1.0     │\n",
      "│ 93436  ┆ 53453  ┆ 2024-12-27 ┆ 88160R10 ┆ … ┆ -0.049479 ┆ 8.2370345e7 ┆ 3.21006e6 ┆ 1.0     │\n",
      "│ 93436  ┆ 53453  ┆ 2024-12-30 ┆ 88160R10 ┆ … ┆ -0.033012 ┆ 6.4705452e7 ┆ 3.21006e6 ┆ 1.0     │\n",
      "│ 93436  ┆ 53453  ┆ 2024-12-31 ┆ 88160R10 ┆ … ┆ -0.03251  ┆ 7.6455213e7 ┆ 3.21006e6 ┆ 1.0     │\n",
      "└────────┴────────┴────────────┴──────────┴───┴───────────┴─────────────┴───────────┴─────────┘\n"
     ]
    }
   ],
   "source": [
    "# Load CRSP daily data\n",
    "start_date = date(1995, 7, 31)\n",
    "end_date = date(2024, 12, 31)\n",
    "crsp_daily = CRSPDaily(start_date=start_date, end_date=end_date).load_all()\n",
    "print(crsp_daily)"
   ]
  },
  {
   "cell_type": "markdown",
   "metadata": {},
   "source": [
    "**EXERCISE 1**"
   ]
  },
  {
   "cell_type": "code",
   "execution_count": 4,
   "metadata": {},
   "outputs": [
    {
     "name": "stdout",
     "output_type": "stream",
     "text": [
      "shape: (35_143_148, 15)\n",
      "┌────────┬────────┬────────────┬──────────┬───┬─────────────┬───────────┬─────────┬───────────┐\n",
      "│ permno ┆ permco ┆ date       ┆ ncusip   ┆ … ┆ vol         ┆ shrout    ┆ cfacshr ┆ log_ret   │\n",
      "│ ---    ┆ ---    ┆ ---        ┆ ---      ┆   ┆ ---         ┆ ---       ┆ ---     ┆ ---       │\n",
      "│ i64    ┆ i64    ┆ date       ┆ str      ┆   ┆ f64         ┆ f64       ┆ f64     ┆ f64       │\n",
      "╞════════╪════════╪════════════╪══════════╪═══╪═════════════╪═══════════╪═════════╪═══════════╡\n",
      "│ 10001  ┆ 7953   ┆ 1995-07-31 ┆ 29274A10 ┆ … ┆ 400.0       ┆ 2254.0    ┆ 1.5     ┆ 0.030772  │\n",
      "│ 10001  ┆ 7953   ┆ 1995-08-01 ┆ 29274A10 ┆ … ┆ 0.0         ┆ 2254.0    ┆ 1.5     ┆ -0.015268 │\n",
      "│ 10001  ┆ 7953   ┆ 1995-08-02 ┆ 29274A10 ┆ … ┆ 300.0       ┆ 2254.0    ┆ 1.5     ┆ 0.015268  │\n",
      "│ 10001  ┆ 7953   ┆ 1995-08-03 ┆ 29274A10 ┆ … ┆ 250.0       ┆ 2254.0    ┆ 1.5     ┆ -0.06252  │\n",
      "│ 10001  ┆ 7953   ┆ 1995-08-04 ┆ 29274A10 ┆ … ┆ 100.0       ┆ 2254.0    ┆ 1.5     ┆ 0.06252   │\n",
      "│ …      ┆ …      ┆ …          ┆ …        ┆ … ┆ …           ┆ …         ┆ …       ┆ …         │\n",
      "│ 93436  ┆ 53453  ┆ 2024-12-24 ┆ 88160R10 ┆ … ┆ 5.9351506e7 ┆ 3.21006e6 ┆ 1.0     ┆ 0.070991  │\n",
      "│ 93436  ┆ 53453  ┆ 2024-12-26 ┆ 88160R10 ┆ … ┆ 7.6392273e7 ┆ 3.21006e6 ┆ 1.0     ┆ -0.017787 │\n",
      "│ 93436  ┆ 53453  ┆ 2024-12-27 ┆ 88160R10 ┆ … ┆ 8.2370345e7 ┆ 3.21006e6 ┆ 1.0     ┆ -0.050745 │\n",
      "│ 93436  ┆ 53453  ┆ 2024-12-30 ┆ 88160R10 ┆ … ┆ 6.4705452e7 ┆ 3.21006e6 ┆ 1.0     ┆ -0.033569 │\n",
      "│ 93436  ┆ 53453  ┆ 2024-12-31 ┆ 88160R10 ┆ … ┆ 7.6455213e7 ┆ 3.21006e6 ┆ 1.0     ┆ -0.03305  │\n",
      "└────────┴────────┴────────────┴──────────┴───┴─────────────┴───────────┴─────────┴───────────┘\n"
     ]
    }
   ],
   "source": [
    "# Ensure data is sorted for rolling calculations\n",
    "crsp_daily = crsp_daily.sort([\"permno\", \"date\"])\n",
    "\n",
    "# Compute log returns\n",
    "crsp_daily_log = crsp_daily.with_columns((pl.col(\"ret\") + 1).log().alias(\"log_ret\"))\n",
    "print(crsp_daily_log)"
   ]
  },
  {
   "cell_type": "code",
   "execution_count": 5,
   "metadata": {},
   "outputs": [
    {
     "name": "stdout",
     "output_type": "stream",
     "text": [
      "shape: (7_156, 15_279)\n",
      "┌────────────┬──────────┬──────────┬──────────┬───┬───────┬───────────┬───────┬──────────┐\n",
      "│ date       ┆ 10001    ┆ 10002    ┆ 10009    ┆ … ┆ 93433 ┆ 93434     ┆ 93435 ┆ 93436    │\n",
      "│ ---        ┆ ---      ┆ ---      ┆ ---      ┆   ┆ ---   ┆ ---       ┆ ---   ┆ ---      │\n",
      "│ date       ┆ f64      ┆ f64      ┆ f64      ┆   ┆ f64   ┆ f64       ┆ f64   ┆ f64      │\n",
      "╞════════════╪══════════╪══════════╪══════════╪═══╪═══════╪═══════════╪═══════╪══════════╡\n",
      "│ 1996-07-26 ┆ 0.076755 ┆ 0.045228 ┆ 0.137668 ┆ … ┆ null  ┆ null      ┆ null  ┆ null     │\n",
      "│ 1996-07-29 ┆ 0.045983 ┆ 0.091319 ┆ 0.098991 ┆ … ┆ null  ┆ null      ┆ null  ┆ null     │\n",
      "│ 1996-07-30 ┆ 0.061251 ┆ 0.054618 ┆ 0.065564 ┆ … ┆ null  ┆ null      ┆ null  ┆ null     │\n",
      "│ 1996-07-31 ┆ 0.015212 ┆ 0.091319 ┆ 0.090257 ┆ … ┆ null  ┆ null      ┆ null  ┆ null     │\n",
      "│ 1996-08-01 ┆ 0.108504 ┆ 0.091319 ┆ 0.112861 ┆ … ┆ null  ┆ null      ┆ null  ┆ null     │\n",
      "│ …          ┆ …        ┆ …        ┆ …        ┆ … ┆ …     ┆ …         ┆ …     ┆ …        │\n",
      "│ 2024-12-24 ┆ null     ┆ null     ┆ null     ┆ … ┆ null  ┆ -0.731913 ┆ null  ┆ 0.296319 │\n",
      "│ 2024-12-26 ┆ null     ┆ null     ┆ null     ┆ … ┆ null  ┆ -0.52714  ┆ null  ┆ 0.317666 │\n",
      "│ 2024-12-27 ┆ null     ┆ null     ┆ null     ┆ … ┆ null  ┆ -0.420716 ┆ null  ┆ 0.258587 │\n",
      "│ 2024-12-30 ┆ null     ┆ null     ┆ null     ┆ … ┆ null  ┆ -0.178128 ┆ null  ┆ 0.289628 │\n",
      "│ 2024-12-31 ┆ null     ┆ null     ┆ null     ┆ … ┆ null  ┆ -0.56755  ┆ null  ┆ 0.292452 │\n",
      "└────────────┴──────────┴──────────┴──────────┴───┴───────┴───────────┴───────┴──────────┘\n"
     ]
    }
   ],
   "source": [
    "# Ensure data is sorted by date for rolling calculations\n",
    "crsp_daily_log = crsp_daily_log.sort([\"permno\", \"date\"])\n",
    "\n",
    "# Compute rolling momentum signal (log return sum over past 230 days)\n",
    "momentum_signal = crsp_daily_log.with_columns(\n",
    "    pl.col(\"log_ret\").rolling_sum(window_size=230).over(\"permno\").alias(\"momentum_signal\")\n",
    ")\n",
    "\n",
    "# Apply 22-day shift for look-ahead bias correction\n",
    "momentum_signal = momentum_signal.with_columns(\n",
    "    pl.col(\"momentum_signal\").shift(22).over(\"permno\")\n",
    ").drop_nulls()\n",
    "\n",
    "# Pivot to make permno columns and date rows\n",
    "momentum_wide = momentum_signal.pivot(index=\"date\", on=\"permno\", values=\"momentum_signal\")\n",
    "print(momentum_wide)"
   ]
  },
  {
   "cell_type": "markdown",
   "metadata": {},
   "source": [
    "**EXERCISE 2**"
   ]
  },
  {
   "cell_type": "code",
   "execution_count": 6,
   "metadata": {},
   "outputs": [
    {
     "name": "stdout",
     "output_type": "stream",
     "text": [
      "shape: (31_055_726, 17)\n",
      "┌────────┬────────┬────────────┬──────────┬───┬─────────┬───────────┬─────────────────┬────────┐\n",
      "│ permno ┆ permco ┆ date       ┆ ncusip   ┆ … ┆ cfacshr ┆ log_ret   ┆ momentum_signal ┆ decile │\n",
      "│ ---    ┆ ---    ┆ ---        ┆ ---      ┆   ┆ ---     ┆ ---       ┆ ---             ┆ ---    │\n",
      "│ i64    ┆ i64    ┆ date       ┆ str      ┆   ┆ f64     ┆ f64       ┆ f64             ┆ cat    │\n",
      "╞════════╪════════╪════════════╪══════════╪═══╪═════════╪═══════════╪═════════════════╪════════╡\n",
      "│ 10001  ┆ 7953   ┆ 1996-07-26 ┆ 29274A10 ┆ … ┆ 1.5     ┆ 0.0       ┆ 0.076755        ┆ 5      │\n",
      "│ 10001  ┆ 7953   ┆ 1996-07-29 ┆ 29274A10 ┆ … ┆ 1.5     ┆ 0.007663  ┆ 0.045983        ┆ 5      │\n",
      "│ 10001  ┆ 7953   ┆ 1996-07-30 ┆ 29274A10 ┆ … ┆ 1.5     ┆ 0.022643  ┆ 0.061251        ┆ 5      │\n",
      "│ 10001  ┆ 7953   ┆ 1996-07-31 ┆ 29274A10 ┆ … ┆ 1.5     ┆ -0.022642 ┆ 0.015212        ┆ 4      │\n",
      "│ 10001  ┆ 7953   ┆ 1996-08-01 ┆ 29274A10 ┆ … ┆ 1.5     ┆ -0.023167 ┆ 0.108504        ┆ 5      │\n",
      "│ …      ┆ …      ┆ …          ┆ …        ┆ … ┆ …       ┆ …         ┆ …               ┆ …      │\n",
      "│ 93436  ┆ 53453  ┆ 2024-12-24 ┆ 88160R10 ┆ … ┆ 1.0     ┆ 0.070991  ┆ 0.296319        ┆ 8      │\n",
      "│ 93436  ┆ 53453  ┆ 2024-12-26 ┆ 88160R10 ┆ … ┆ 1.0     ┆ -0.017787 ┆ 0.317666        ┆ 8      │\n",
      "│ 93436  ┆ 53453  ┆ 2024-12-27 ┆ 88160R10 ┆ … ┆ 1.0     ┆ -0.050745 ┆ 0.258587        ┆ 8      │\n",
      "│ 93436  ┆ 53453  ┆ 2024-12-30 ┆ 88160R10 ┆ … ┆ 1.0     ┆ -0.033569 ┆ 0.289628        ┆ 8      │\n",
      "│ 93436  ┆ 53453  ┆ 2024-12-31 ┆ 88160R10 ┆ … ┆ 1.0     ┆ -0.03305  ┆ 0.292452        ┆ 8      │\n",
      "└────────┴────────┴────────────┴──────────┴───┴─────────┴───────────┴─────────────────┴────────┘\n"
     ]
    }
   ],
   "source": [
    "# Assign deciles based on momentum signal within each date\n",
    "labels = [str(x) for x in range(1, 11)]  # 1 to 10\n",
    "\n",
    "momentum_deciles = momentum_signal.with_columns(\n",
    "    pl.col(\"momentum_signal\").qcut(10, labels=labels).over(\"date\").alias(\"decile\")\n",
    ")\n",
    "\n",
    "# Display first few rows of the decile assignment\n",
    "print(momentum_deciles)"
   ]
  },
  {
   "cell_type": "code",
   "execution_count": 11,
   "metadata": {},
   "outputs": [
    {
     "name": "stdout",
     "output_type": "stream",
     "text": [
      "shape: (71_560, 3)\n",
      "┌────────────┬────────┬────────────┐\n",
      "│ date       ┆ decile ┆ num_stocks │\n",
      "│ ---        ┆ ---    ┆ ---        │\n",
      "│ date       ┆ cat    ┆ u32        │\n",
      "╞════════════╪════════╪════════════╡\n",
      "│ 1999-05-28 ┆ 6      ┆ 633        │\n",
      "│ 2019-04-16 ┆ 1      ┆ 334        │\n",
      "│ 2020-12-24 ┆ 2      ┆ 339        │\n",
      "│ 1999-11-08 ┆ 7      ┆ 609        │\n",
      "│ 2016-12-15 ┆ 4      ┆ 345        │\n",
      "│ …          ┆ …      ┆ …          │\n",
      "│ 1997-06-10 ┆ 2      ┆ 659        │\n",
      "│ 2023-02-23 ┆ 2      ┆ 406        │\n",
      "│ 2016-12-05 ┆ 7      ┆ 346        │\n",
      "│ 1998-03-13 ┆ 1      ┆ 668        │\n",
      "│ 2000-09-28 ┆ 7      ┆ 586        │\n",
      "└────────────┴────────┴────────────┘\n"
     ]
    }
   ],
   "source": [
    "# Validate decile distribution\n",
    "decile_distribution = momentum_deciles.group_by([\"date\", \"decile\"]).agg(\n",
    "    pl.col(\"permno\").count().alias(\"num_stocks\")\n",
    ")  # .select('num_stocks').describe()\n",
    "print(decile_distribution)"
   ]
  },
  {
   "cell_type": "code",
   "execution_count": 13,
   "metadata": {},
   "outputs": [
    {
     "name": "stdout",
     "output_type": "stream",
     "text": [
      "shape: (7_156, 4)\n",
      "┌────────────┬──────────────────────┬─────────────────────────┬───────────────────┐\n",
      "│ date       ┆ top_portfolio_return ┆ bottom_portfolio_return ┆ long_short_return │\n",
      "│ ---        ┆ ---                  ┆ ---                     ┆ ---               │\n",
      "│ date       ┆ f64                  ┆ f64                     ┆ f64               │\n",
      "╞════════════╪══════════════════════╪═════════════════════════╪═══════════════════╡\n",
      "│ 2002-04-25 ┆ -0.008714            ┆ -0.009554               ┆ 0.000841          │\n",
      "│ 2004-10-25 ┆ 0.002644             ┆ 0.000002                ┆ 0.002642          │\n",
      "│ 2022-01-18 ┆ -0.031051            ┆ -0.047518               ┆ 0.016467          │\n",
      "│ 1999-01-29 ┆ 0.008408             ┆ 0.002129                ┆ 0.006279          │\n",
      "│ 2004-02-06 ┆ 0.029495             ┆ 0.013596                ┆ 0.0159            │\n",
      "│ …          ┆ …                    ┆ …                       ┆ …                 │\n",
      "│ 2000-02-23 ┆ 0.026671             ┆ 0.003624                ┆ 0.023047          │\n",
      "│ 2013-06-04 ┆ -0.008731            ┆ -0.008958               ┆ 0.000228          │\n",
      "│ 2014-11-10 ┆ 0.005608             ┆ -0.011047               ┆ 0.016655          │\n",
      "│ 2020-12-15 ┆ 0.020403             ┆ 0.014253                ┆ 0.00615           │\n",
      "│ 2018-02-01 ┆ -0.003982            ┆ -0.00425                ┆ 0.000268          │\n",
      "└────────────┴──────────────────────┴─────────────────────────┴───────────────────┘\n"
     ]
    }
   ],
   "source": [
    "# Step 1: Filter stocks in top and bottom deciles\n",
    "top_decile = momentum_deciles.filter(pl.col(\"decile\").cast(pl.Int32) == 10)\n",
    "bottom_decile = momentum_deciles.filter(pl.col(\"decile\").cast(pl.Int32) == 1)\n",
    "\n",
    "# Step 2: Merge with returns data to get stock returns\n",
    "top_decile_returns = top_decile.join(crsp_daily_log, on=[\"permno\", \"date\"], how=\"inner\").select(\n",
    "    [\"date\", \"permno\", \"log_ret\"]\n",
    ")\n",
    "bottom_decile_returns = bottom_decile.join(\n",
    "    crsp_daily_log, on=[\"permno\", \"date\"], how=\"inner\"\n",
    ").select([\"date\", \"permno\", \"log_ret\"])\n",
    "\n",
    "# Step 3: Compute equal-weighted portfolio returns\n",
    "top_portfolio = top_decile_returns.group_by(\"date\").agg(\n",
    "    pl.col(\"log_ret\").mean().alias(\"top_portfolio_return\")\n",
    ")\n",
    "\n",
    "bottom_portfolio = bottom_decile_returns.group_by(\"date\").agg(\n",
    "    pl.col(\"log_ret\").mean().alias(\"bottom_portfolio_return\")\n",
    ")\n",
    "\n",
    "# Merge both portfolios into a single DataFrame\n",
    "portfolio_returns = top_portfolio.join(bottom_portfolio, on=\"date\", how=\"inner\")\n",
    "\n",
    "# Compute long-short portfolio returns\n",
    "long_short_portfolio = portfolio_returns.with_columns(\n",
    "    (pl.col(\"top_portfolio_return\") - pl.col(\"bottom_portfolio_return\")).alias(\"long_short_return\")\n",
    ")\n",
    "\n",
    "print(long_short_portfolio)"
   ]
  },
  {
   "cell_type": "code",
   "execution_count": 14,
   "metadata": {},
   "outputs": [
    {
     "data": {
      "image/png": "[encoded data removed]",
      "text/plain": [
       "<Figure size 1200x600 with 1 Axes>"
      ]
     },
     "metadata": {},
     "output_type": "display_data"
    }
   ],
   "source": [
    "import matplotlib.pyplot as plt\n",
    "import matplotlib.dates as mdates\n",
    "\n",
    "# Sort data by date to ensure proper plotting\n",
    "long_short_portfolio = long_short_portfolio.sort(\"date\")\n",
    "\n",
    "# Extract data from Polars DataFrame\n",
    "dates = long_short_portfolio[\"date\"].to_list()\n",
    "long_short_cumsum = long_short_portfolio[\"long_short_return\"].cum_sum().to_list()\n",
    "top_cumsum = long_short_portfolio[\"top_portfolio_return\"].cum_sum().to_list()\n",
    "bottom_cumsum = long_short_portfolio[\"bottom_portfolio_return\"].cum_sum().to_list()\n",
    "\n",
    "# Plot cumulative returns\n",
    "plt.figure(figsize=(12, 6))\n",
    "plt.plot(dates, long_short_cumsum, label=\"Long-Short Portfolio\", linewidth=2, color=\"blue\")\n",
    "# plt.plot(dates, top_cumsum, label=\"Top Decile Portfolio\", linestyle=\"dashed\", color=\"orange\")\n",
    "# plt.plot(dates, bottom_cumsum, label=\"Bottom Decile Portfolio\", linestyle=\"dotted\", color=\"green\")\n",
    "\n",
    "# Formatting\n",
    "plt.xlabel(\"Date\")\n",
    "plt.ylabel(\"Cumulative Log Return\")\n",
    "plt.title(\"Momentum Strategy Performance\")\n",
    "plt.legend()\n",
    "plt.grid(True)\n",
    "\n",
    "# Improve date formatting\n",
    "plt.xticks(rotation=45)\n",
    "plt.gca().xaxis.set_major_locator(mdates.YearLocator(2))  # Show every 2 years\n",
    "plt.gca().xaxis.set_major_formatter(mdates.DateFormatter(\"%Y\"))\n",
    "\n",
    "# Show the plot\n",
    "plt.show()"
   ]
  },
  {
   "cell_type": "markdown",
   "metadata": {},
   "source": [
    "**Exercise 3**"
   ]
  },
  {
   "cell_type": "code",
   "execution_count": null,
   "metadata": {},
   "outputs": [],
   "source": [
    "# Step 1: Set ICi,t+1 = 0.05 for all stocks and dates\n",
    "momentum_signal = momentum_signal.with_columns(pl.lit(0.05).alias(\"IC\"))\n",
    "\n",
    "# Step 2: Compute cross-sectional mean and standard deviation for each date\n",
    "z_scores = momentum_signal.group_by(\"date\").agg(\n",
    "    [\n",
    "        pl.col(\"momentum_signal\").mean().alias(\"mean_signal\"),\n",
    "        pl.col(\"momentum_signal\").std().alias(\"std_signal\"),\n",
    "    ]\n",
    ")\n",
    "\n",
    "# Merge Z-score calculations back into momentum_signal\n",
    "momentum_signal = momentum_signal.join(z_scores, on=\"date\", how=\"left\")\n",
    "\n",
    "# Compute Z-score\n",
    "momentum_signal = momentum_signal.with_columns(\n",
    "    ((pl.col(\"momentum_signal\") - pl.col(\"mean_signal\")) / pl.col(\"std_signal\")).alias(\"Z_score\")\n",
    ")\n",
    "\n",
    "# Step 3: Compute alpha values for each stock\n",
    "momentum_signal = momentum_signal.with_columns((pl.col(\"IC\") * pl.col(\"Z_score\")).alias(\"alpha\"))\n",
    "\n",
    "# Step 4: Compute the self-financed portfolio weights\n",
    "portfolio_weights = momentum_signal.group_by(\"date\").agg(\n",
    "    [pl.col(\"alpha\").abs().sum().alias(\"sum_abs_alpha\")]\n",
    ")\n",
    "\n",
    "# Merge sum_abs_alpha back into momentum_signal\n",
    "momentum_signal = momentum_signal.join(portfolio_weights, on=\"date\", how=\"left\")\n",
    "\n",
    "# Compute self-financed portfolio weights\n",
    "momentum_signal = momentum_signal.with_columns(\n",
    "    (pl.col(\"alpha\") / pl.col(\"sum_abs_alpha\")).alias(\"portfolio_weight\")\n",
    ")"
   ]
  },
  {
   "cell_type": "code",
   "execution_count": null,
   "metadata": {},
   "outputs": [
    {
     "name": "stdout",
     "output_type": "stream",
     "text": [
      "shape: (5, 4)\n",
      "┌────────────┬────────┬─────────────────┬───────────┐\n",
      "│ date       ┆ permno ┆ momentum_signal ┆ Z_score   │\n",
      "│ ---        ┆ ---    ┆ ---             ┆ ---       │\n",
      "│ date       ┆ i64    ┆ f64             ┆ f64       │\n",
      "╞════════════╪════════╪═════════════════╪═══════════╡\n",
      "│ 1996-07-26 ┆ 10001  ┆ 0.076755        ┆ -0.052816 │\n",
      "│ 1996-07-29 ┆ 10001  ┆ 0.045983        ┆ -0.090408 │\n",
      "│ 1996-07-30 ┆ 10001  ┆ 0.061251        ┆ -0.065235 │\n",
      "│ 1996-07-31 ┆ 10001  ┆ 0.015212        ┆ -0.190025 │\n",
      "│ 1996-08-01 ┆ 10001  ┆ 0.108504        ┆ -0.006004 │\n",
      "└────────────┴────────┴─────────────────┴───────────┘\n",
      "shape: (5, 5)\n",
      "┌────────────┬────────┬───────────┬──────┬───────────┐\n",
      "│ date       ┆ permno ┆ Z_score   ┆ IC   ┆ alpha     │\n",
      "│ ---        ┆ ---    ┆ ---       ┆ ---  ┆ ---       │\n",
      "│ date       ┆ i64    ┆ f64       ┆ f64  ┆ f64       │\n",
      "╞════════════╪════════╪═══════════╪══════╪═══════════╡\n",
      "│ 1996-07-26 ┆ 10001  ┆ -0.052816 ┆ 0.05 ┆ -0.002641 │\n",
      "│ 1996-07-29 ┆ 10001  ┆ -0.090408 ┆ 0.05 ┆ -0.00452  │\n",
      "│ 1996-07-30 ┆ 10001  ┆ -0.065235 ┆ 0.05 ┆ -0.003262 │\n",
      "│ 1996-07-31 ┆ 10001  ┆ -0.190025 ┆ 0.05 ┆ -0.009501 │\n",
      "│ 1996-08-01 ┆ 10001  ┆ -0.006004 ┆ 0.05 ┆ -0.0003   │\n",
      "└────────────┴────────┴───────────┴──────┴───────────┘\n",
      "shape: (5, 4)\n",
      "┌────────────┬────────┬───────────┬──────────────────┐\n",
      "│ date       ┆ permno ┆ alpha     ┆ portfolio_weight │\n",
      "│ ---        ┆ ---    ┆ ---       ┆ ---              │\n",
      "│ date       ┆ i64    ┆ f64       ┆ f64              │\n",
      "╞════════════╪════════╪═══════════╪══════════════════╡\n",
      "│ 1996-07-26 ┆ 10001  ┆ -0.002641 ┆ -0.000012        │\n",
      "│ 1996-07-29 ┆ 10001  ┆ -0.00452  ┆ -0.000021        │\n",
      "│ 1996-07-30 ┆ 10001  ┆ -0.003262 ┆ -0.000015        │\n",
      "│ 1996-07-31 ┆ 10001  ┆ -0.009501 ┆ -0.000044        │\n",
      "│ 1996-08-01 ┆ 10001  ┆ -0.0003   ┆ -0.000001        │\n",
      "└────────────┴────────┴───────────┴──────────────────┘\n"
     ]
    }
   ],
   "source": [
    "# Print sample of computed Z-scores\n",
    "print(momentum_signal.select([\"date\", \"permno\", \"momentum_signal\", \"Z_score\"]).head())\n",
    "\n",
    "# Print sample of alpha values\n",
    "print(momentum_signal.select([\"date\", \"permno\", \"Z_score\", \"IC\", \"alpha\"]).head())\n",
    "\n",
    "# Print sample of portfolio weights\n",
    "print(momentum_signal.select([\"date\", \"permno\", \"alpha\", \"portfolio_weight\"]).head())"
   ]
  },
  {
   "cell_type": "code",
   "execution_count": null,
   "metadata": {},
   "outputs": [
    {
     "name": "stdout",
     "output_type": "stream",
     "text": [
      "shape: (31_055_726, 5)\n",
      "┌────────────┬────────┬───────────┬───────────┬──────────────────┐\n",
      "│ date       ┆ permno ┆ Z_score   ┆ alpha     ┆ portfolio_weight │\n",
      "│ ---        ┆ ---    ┆ ---       ┆ ---       ┆ ---              │\n",
      "│ date       ┆ i64    ┆ f64       ┆ f64       ┆ f64              │\n",
      "╞════════════╪════════╪═══════════╪═══════════╪══════════════════╡\n",
      "│ 1996-07-26 ┆ 10001  ┆ -0.052816 ┆ -0.002641 ┆ -0.000012        │\n",
      "│ 1996-07-29 ┆ 10001  ┆ -0.090408 ┆ -0.00452  ┆ -0.000021        │\n",
      "│ 1996-07-30 ┆ 10001  ┆ -0.065235 ┆ -0.003262 ┆ -0.000015        │\n",
      "│ 1996-07-31 ┆ 10001  ┆ -0.190025 ┆ -0.009501 ┆ -0.000044        │\n",
      "│ 1996-08-01 ┆ 10001  ┆ -0.006004 ┆ -0.0003   ┆ -0.000001        │\n",
      "│ …          ┆ …      ┆ …         ┆ …         ┆ …                │\n",
      "│ 2024-12-24 ┆ 93436  ┆ 0.498889  ┆ 0.024944  ┆ 0.000216         │\n",
      "│ 2024-12-26 ┆ 93436  ┆ 0.51637   ┆ 0.025819  ┆ 0.000224         │\n",
      "│ 2024-12-27 ┆ 93436  ┆ 0.437284  ┆ 0.021864  ┆ 0.00019          │\n",
      "│ 2024-12-30 ┆ 93436  ┆ 0.477596  ┆ 0.02388   ┆ 0.000207         │\n",
      "│ 2024-12-31 ┆ 93436  ┆ 0.463518  ┆ 0.023176  ┆ 0.000202         │\n",
      "└────────────┴────────┴───────────┴───────────┴──────────────────┘\n"
     ]
    }
   ],
   "source": [
    "# Step 1: Set IC_i,t+1 = 0.05 for all stocks and dates\n",
    "momentum_signal = momentum_signal.with_columns(pl.lit(0.05).alias(\"IC\"))\n",
    "\n",
    "# Step 2: Compute cross-sectional mean and standard deviation for each date\n",
    "z_scores = momentum_signal.group_by(\"date\").agg(\n",
    "    [\n",
    "        pl.col(\"momentum_signal\").mean().alias(\"mean_signal\"),\n",
    "        pl.col(\"momentum_signal\").std().alias(\"std_signal\"),\n",
    "    ]\n",
    ")\n",
    "\n",
    "# Merge Z-score calculations back into momentum_signal\n",
    "momentum_signal = momentum_signal.join(z_scores, on=\"date\", how=\"left\")\n",
    "\n",
    "# Compute Z-score, handling potential zero standard deviation issues\n",
    "momentum_signal = momentum_signal.with_columns(\n",
    "    pl.when(pl.col(\"std_signal\") > 0)\n",
    "    .then((pl.col(\"momentum_signal\") - pl.col(\"mean_signal\")) / pl.col(\"std_signal\"))\n",
    "    .otherwise(0)  # If std_signal is zero, set Z-score to zero\n",
    "    .alias(\"Z_score\")\n",
    ")\n",
    "\n",
    "# Step 3: Compute alpha values for each stock\n",
    "momentum_signal = momentum_signal.with_columns((pl.col(\"IC\") * pl.col(\"Z_score\")).alias(\"alpha\"))\n",
    "\n",
    "# Step 4: Enforce the self-financing constraint: sum of portfolio weights must be zero\n",
    "# Compute mean alpha per date\n",
    "alpha_mean = momentum_signal.group_by(\"date\").agg([pl.col(\"alpha\").mean().alias(\"mean_alpha\")])\n",
    "\n",
    "# Merge mean alpha back into momentum_signal\n",
    "momentum_signal = momentum_signal.join(alpha_mean, on=\"date\", how=\"left\")\n",
    "\n",
    "# Compute adjusted alpha (demeaned alpha)\n",
    "momentum_signal = momentum_signal.with_columns(\n",
    "    (pl.col(\"alpha\") - pl.col(\"mean_alpha\")).alias(\"adjusted_alpha\")\n",
    ")\n",
    "\n",
    "# Step 5: Compute self-financed portfolio weights\n",
    "portfolio_weights = momentum_signal.group_by(\"date\").agg(\n",
    "    [pl.col(\"adjusted_alpha\").abs().sum().alias(\"sum_abs_alpha\")]\n",
    ")\n",
    "\n",
    "# Merge sum_abs_alpha back into momentum_signal\n",
    "momentum_signal = momentum_signal.join(portfolio_weights, on=\"date\", how=\"left\")\n",
    "\n",
    "# Compute self-financed portfolio weights\n",
    "momentum_signal = momentum_signal.with_columns(\n",
    "    (pl.col(\"adjusted_alpha\") / pl.col(\"sum_abs_alpha\")).alias(\"portfolio_weight\")\n",
    ")\n",
    "\n",
    "# Drop unnecessary columns for clarity\n",
    "momentum_signal = momentum_signal.select([\"date\", \"permno\", \"Z_score\", \"alpha\", \"portfolio_weight\"])\n",
    "\n",
    "# Display results\n",
    "print(momentum_signal)"
   ]
  }
 ],
 "metadata": {
  "kernelspec": {
   "display_name": ".venv",
   "language": "python",
   "name": "python3"
  },
  "language_info": {
   "codemirror_mode": {
    "name": "ipython",
    "version": 3
   },
   "file_extension": ".py",
   "mimetype": "text/x-python",
   "name": "python",
   "nbconvert_exporter": "python",
   "pygments_lexer": "ipython3",
   "version": "3.11.7"
  }
 },
 "nbformat": 4,
 "nbformat_minor": 2
}
