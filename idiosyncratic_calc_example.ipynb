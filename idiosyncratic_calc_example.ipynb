{
 "cells": [
  {
   "cell_type": "markdown",
   "metadata": {},
   "source": [
    "### Idiosyncratic Volatility Calculation"
   ]
  },
  {
   "cell_type": "code",
   "execution_count": 5,
   "metadata": {},
   "outputs": [
    {
     "ename": "ModuleNotFoundError",
     "evalue": "No module named 'polars_ols'",
     "output_type": "error",
     "traceback": [
      "\u001b[0;31m---------------------------------------------------------------------------\u001b[0m",
      "\u001b[0;31mModuleNotFoundError\u001b[0m                       Traceback (most recent call last)",
      "Cell \u001b[0;32mIn[5], line 3\u001b[0m\n\u001b[1;32m      1\u001b[0m \u001b[38;5;28;01mimport\u001b[39;00m\u001b[38;5;250m \u001b[39m\u001b[38;5;21;01mpandas\u001b[39;00m\u001b[38;5;250m \u001b[39m\u001b[38;5;28;01mas\u001b[39;00m\u001b[38;5;250m \u001b[39m\u001b[38;5;21;01mpd\u001b[39;00m\n\u001b[1;32m      2\u001b[0m \u001b[38;5;28;01mimport\u001b[39;00m\u001b[38;5;250m \u001b[39m\u001b[38;5;21;01mpolars\u001b[39;00m\u001b[38;5;250m \u001b[39m\u001b[38;5;28;01mas\u001b[39;00m\u001b[38;5;250m \u001b[39m\u001b[38;5;21;01mpl\u001b[39;00m\n\u001b[0;32m----> 3\u001b[0m \u001b[38;5;28;01mimport\u001b[39;00m\u001b[38;5;250m \u001b[39m\u001b[38;5;21;01mpolars_ols\u001b[39;00m\u001b[38;5;250m \u001b[39m\u001b[38;5;28;01mas\u001b[39;00m\u001b[38;5;250m \u001b[39m\u001b[38;5;21;01mpls\u001b[39;00m\n\u001b[1;32m      4\u001b[0m \u001b[38;5;28;01mimport\u001b[39;00m\u001b[38;5;250m \u001b[39m\u001b[38;5;21;01myfinance\u001b[39;00m\u001b[38;5;250m \u001b[39m\u001b[38;5;28;01mas\u001b[39;00m\u001b[38;5;250m \u001b[39m\u001b[38;5;21;01myf\u001b[39;00m\n",
      "\u001b[0;31mModuleNotFoundError\u001b[0m: No module named 'polars_ols'"
     ]
    }
   ],
   "source": [
    "import pandas as pd\n",
    "import polars as pl\n",
    "import polars_ols as pls\n",
    "import yfinance as yf"
   ]
  },
  {
   "cell_type": "code",
   "execution_count": null,
   "metadata": {},
   "outputs": [],
   "source": [
    "tickers = [\"AAPL\", \"GOOGL\", \"NVDA\", \"TSLA\"]\n",
    "start_date = \"1976-01-01\"\n",
    "end_date = \"2024-12-31\"\n",
    "window = 252"
   ]
  },
  {
   "cell_type": "code",
   "execution_count": null,
   "metadata": {},
   "outputs": [],
   "source": [
    "# Download\n",
    "assets = yf.download(tickers, start_date, end_date)\n",
    "market = yf.download([\"SPY\"], start_date, end_date)"
   ]
  },
  {
   "cell_type": "code",
   "execution_count": null,
   "metadata": {},
   "outputs": [],
   "source": [
    "def clean(df: pd.DataFrame) -> pl.DataFrame:\n",
    "    # Fix multi index\n",
    "    df = df.stack(future_stack=True).reset_index()\n",
    "\n",
    "    # Lower case columns\n",
    "    df = df.rename(columns={col: col.lower() for col in df.columns})\n",
    "\n",
    "    # Compute Returns\n",
    "    df[\"return\"] = df.groupby(\"ticker\")[\"close\"].pct_change()\n",
    "\n",
    "    # Drop NaN\n",
    "    df = df.dropna()\n",
    "\n",
    "    # Keep columns\n",
    "    df = df[[\"date\", \"ticker\", \"return\"]]\n",
    "\n",
    "    return pl.from_pandas(df)\n",
    "\n",
    "\n",
    "# Clean datasets\n",
    "assets = clean(assets)\n",
    "market = clean(market).drop(\"ticker\").rename({\"return\": \"market_return\"})\n",
    "\n",
    "# Merge\n",
    "df = assets.join(market, on=\"date\", how=\"left\")"
   ]
  },
  {
   "cell_type": "code",
   "execution_count": null,
   "metadata": {},
   "outputs": [],
   "source": [
    "# Compute regression terms\n",
    "df = (\n",
    "    df\n",
    "    # Run rolling ols regression\n",
    "    .with_columns(\n",
    "        pl.col(\"return\")\n",
    "        .least_squares.rolling_ols(\n",
    "            pl.col(\"market_return\"),\n",
    "            add_intercept=True,\n",
    "            mode=\"coefficients\",\n",
    "            window_size=window,\n",
    "            min_periods=window,\n",
    "        )\n",
    "        .over(\"ticker\")\n",
    "        .alias(\"results\")\n",
    "    )\n",
    "    # Get results\n",
    "    .with_columns(\n",
    "        pl.col(\"results\").struct.field(\"const\"),\n",
    "        pl.col(\"results\").struct.field(\"market_return\").alias(\"coefficient\"),\n",
    "    )\n",
    "    # Drop results column\n",
    "    .drop(\"results\")\n",
    "    # Drop nulls\n",
    "    .drop_nulls([\"const\", \"coefficient\"]).sort([\"ticker\", \"date\"])\n",
    ")"
   ]
  },
  {
   "cell_type": "code",
   "execution_count": null,
   "metadata": {},
   "outputs": [],
   "source": [
    "# Calculate residual volatility\n",
    "df = (\n",
    "    df\n",
    "    # Compute residual\n",
    "    .with_columns(\n",
    "        (\n",
    "            pl.col(\"return\") - pl.col(\"const\") - pl.col(\"coefficient\") * pl.col(\"market_return\")\n",
    "        ).alias(\"residual\")\n",
    "    )\n",
    "    # Compute volatility\n",
    "    .with_columns(\n",
    "        pl.col(\"residual\")\n",
    "        .rolling_std(window_size=window)\n",
    "        .over(\"ticker\")\n",
    "        .alias(\"idiosyncrati_volatility\")\n",
    "    )\n",
    ")"
   ]
  },
  {
   "cell_type": "code",
   "execution_count": null,
   "metadata": {},
   "outputs": [],
   "source": [
    "print(df)"
   ]
  }
 ],
 "metadata": {
  "kernelspec": {
   "display_name": ".venv",
   "language": "python",
   "name": "python3"
  },
  "language_info": {
   "codemirror_mode": {
    "name": "ipython",
    "version": 3
   },
   "file_extension": ".py",
   "mimetype": "text/x-python",
   "name": "python",
   "nbconvert_exporter": "python",
   "pygments_lexer": "ipython3",
   "version": "3.11.7"
  }
 },
 "nbformat": 4,
 "nbformat_minor": 2
}
