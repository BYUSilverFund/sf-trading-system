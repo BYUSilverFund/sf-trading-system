{
 "cells": [
  {
   "cell_type": "code",
   "execution_count": 3,
   "metadata": {},
   "outputs": [],
   "source": [
    "import os\n",
    "from datetime import date\n",
    "from functools import partial\n",
    "from pathlib import Path\n",
    "\n",
    "import silverfund.data_access_layer as dal\n",
    "from silverfund.alphas import grindold_kahn\n",
    "from silverfund.backtester import Backtester\n",
    "from silverfund.constraints import full_investment, long_only, no_buying_on_margin, unit_beta\n",
    "from silverfund.enums import Interval\n",
    "from silverfund.portfolios import mean_variance_efficient\n",
    "from silverfund.scores import z_score\n",
    "from silverfund.signals import momentum\n",
    "from silverfund.strategies import Strategy"
   ]
  },
  {
   "cell_type": "code",
   "execution_count": null,
   "metadata": {},
   "outputs": [],
   "source": [
    "if __name__ == \"__main__\":\n",
    "    # Define backtest period\n",
    "    start_date = date(1995, 7, 31)\n",
    "    end_date = date(2024, 12, 31)\n",
    "    interval = Interval.DAILY\n",
    "\n",
    "    # Load universe and returns data\n",
    "    universe = dal.load_universe(interval=interval, start_date=start_date, end_date=end_date)\n",
    "    returns_data = dal.load_barra_returns(\n",
    "        interval=interval, start_date=start_date, end_date=end_date\n",
    "    )\n",
    "\n",
    "    # Prepare dataset\n",
    "    training_data = universe.join(returns_data, on=[\"date\", \"barrid\"], how=\"left\").sort(\n",
    "        [\"barrid\", \"date\"]\n",
    "    )"
   ]
  },
  {
   "cell_type": "code",
   "execution_count": null,
   "metadata": {},
   "outputs": [
    {
     "name": "stderr",
     "output_type": "stream",
     "text": [
      "Loading Barra Returns: 100%|██████████| 30/30 [00:05<00:00,  5.35it/s]\n"
     ]
    },
    {
     "name": "stdout",
     "output_type": "stream",
     "text": [
      "Momentum Signal Columns: ['date', 'barrid', 'mom']\n"
     ]
    },
    {
     "name": "stderr",
     "output_type": "stream",
     "text": [
      "2025-02-26 17:26:41,451\tINFO worker.py:1821 -- Started a local Ray instance.\n"
     ]
    }
   ],
   "source": [
    "if __name__ == \"__main__\":\n",
    "    # Define backtest period\n",
    "    start_date = date(1995, 7, 31)\n",
    "    end_date = date(2024, 12, 31)\n",
    "    interval = Interval.DAILY\n",
    "\n",
    "    # Load universe and returns data\n",
    "    universe = dal.load_universe(interval=interval, start_date=start_date, end_date=end_date)\n",
    "    returns_data = dal.load_barra_returns(\n",
    "        interval=interval, start_date=start_date, end_date=end_date\n",
    "    )\n",
    "\n",
    "    # Prepare dataset\n",
    "    training_data = universe.join(returns_data, on=[\"date\", \"barrid\"], how=\"left\").sort(\n",
    "        [\"barrid\", \"date\"]\n",
    "    )\n",
    "\n",
    "    # Check what momentum() returns\n",
    "    test_signals = momentum(training_data)\n",
    "    print(\"Momentum Signal Columns:\", test_signals.columns)  # Debugging step\n",
    "\n",
    "    # Adjust signal column name if needed\n",
    "    if \"momentum_signal\" not in test_signals.columns:\n",
    "        momentum_col = test_signals.columns[-1]  # Assuming last column is the signal\n",
    "    else:\n",
    "        momentum_col = \"momentum_signal\"\n",
    "\n",
    "    # Define momentum strategy\n",
    "    strategy = Strategy(\n",
    "        signal_constructor=momentum,\n",
    "        score_constructor=partial(z_score, signal_col=momentum_col),  # Dynamically adjusting\n",
    "        alpha_constructor=partial(grindold_kahn, interval=interval),  # Alpha transformation\n",
    "        portfolio_constructor=mean_variance_efficient,  # Portfolio optimization\n",
    "        constraints=[\n",
    "            full_investment,\n",
    "            no_buying_on_margin,\n",
    "            long_only,\n",
    "            partial(unit_beta, interval=interval),  # Market-neutral portfolio constraint\n",
    "        ],\n",
    "    )\n",
    "\n",
    "    # Instantiate backtester\n",
    "    bt = Backtester(interval=interval, start_date=start_date, end_date=end_date, data=training_data)\n",
    "\n",
    "    # Run strategy in parallel\n",
    "    asset_returns = bt.run_parallel(strategy)\n",
    "    print(\"-\" * 20 + \" Asset Returns \" + \"-\" * 20)\n",
    "    print(asset_returns)\n",
    "\n",
    "    # Save backtest results\n",
    "    results_folder = Path(\"research/momentum_strategy/results\")\n",
    "    os.makedirs(results_folder, exist_ok=True)\n",
    "    asset_returns.write_parquet(results_folder / \"momentum_backtest.parquet\")"
   ]
  }
 ],
 "metadata": {
  "kernelspec": {
   "display_name": ".venv",
   "language": "python",
   "name": "python3"
  },
  "language_info": {
   "codemirror_mode": {
    "name": "ipython",
    "version": 3
   },
   "file_extension": ".py",
   "mimetype": "text/x-python",
   "name": "python",
   "nbconvert_exporter": "python",
   "pygments_lexer": "ipython3",
   "version": "3.11.7"
  }
 },
 "nbformat": 4,
 "nbformat_minor": 2
}
