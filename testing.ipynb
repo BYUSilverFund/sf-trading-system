{
 "cells": [
  {
   "cell_type": "code",
   "execution_count": 1,
   "metadata": {},
   "outputs": [],
   "source": [
    "import polars as pl\n",
    "import silverfund.data_access_layer as dal\n",
    "from datetime import date"
   ]
  },
  {
   "cell_type": "code",
   "execution_count": 2,
   "metadata": {},
   "outputs": [],
   "source": [
    "start_date = date(2024, 7, 31)\n",
    "end_date = date(2024, 12, 31)"
   ]
  },
  {
   "cell_type": "code",
   "execution_count": 3,
   "metadata": {},
   "outputs": [
    {
     "data": {
      "text/html": [
       "<div><style>\n",
       ".dataframe > thead > tr,\n",
       ".dataframe > tbody > tr {\n",
       "  text-align: right;\n",
       "  white-space: pre-wrap;\n",
       "}\n",
       "</style>\n",
       "<small>shape: (1_041_908, 4)</small><table border=\"1\" class=\"dataframe\"><thead><tr><th>date</th><th>barrid</th><th>weight</th><th>fwd_ret</th></tr><tr><td>date</td><td>str</td><td>f64</td><td>f64</td></tr></thead><tbody><tr><td>1995-07-31</td><td>&quot;USAA191&quot;</td><td>-0.000338</td><td>-0.014814</td></tr><tr><td>1995-07-31</td><td>&quot;USAA1W1&quot;</td><td>0.000068</td><td>-0.006849</td></tr><tr><td>1995-07-31</td><td>&quot;USAA1Y1&quot;</td><td>0.000638</td><td>0.000001</td></tr><tr><td>1995-07-31</td><td>&quot;USAA2L1&quot;</td><td>0.000355</td><td>0.057472</td></tr><tr><td>1995-07-31</td><td>&quot;USAA311&quot;</td><td>-0.000221</td><td>-0.019869</td></tr><tr><td>&hellip;</td><td>&hellip;</td><td>&hellip;</td><td>&hellip;</td></tr><tr><td>2024-11-29</td><td>&quot;USBQFF1&quot;</td><td>0.000336</td><td>null</td></tr><tr><td>2024-11-29</td><td>&quot;USBQGD1&quot;</td><td>0.000465</td><td>null</td></tr><tr><td>2024-11-29</td><td>&quot;USBQLB1&quot;</td><td>-0.00031</td><td>null</td></tr><tr><td>2024-11-29</td><td>&quot;USBQLU1&quot;</td><td>0.002394</td><td>null</td></tr><tr><td>2024-11-29</td><td>&quot;USBQOR1&quot;</td><td>0.000361</td><td>null</td></tr></tbody></table></div>"
      ],
      "text/plain": [
       "shape: (1_041_908, 4)\n",
       "┌────────────┬─────────┬───────────┬───────────┐\n",
       "│ date       ┆ barrid  ┆ weight    ┆ fwd_ret   │\n",
       "│ ---        ┆ ---     ┆ ---       ┆ ---       │\n",
       "│ date       ┆ str     ┆ f64       ┆ f64       │\n",
       "╞════════════╪═════════╪═══════════╪═══════════╡\n",
       "│ 1995-07-31 ┆ USAA191 ┆ -0.000338 ┆ -0.014814 │\n",
       "│ 1995-07-31 ┆ USAA1W1 ┆ 0.000068  ┆ -0.006849 │\n",
       "│ 1995-07-31 ┆ USAA1Y1 ┆ 0.000638  ┆ 0.000001  │\n",
       "│ 1995-07-31 ┆ USAA2L1 ┆ 0.000355  ┆ 0.057472  │\n",
       "│ 1995-07-31 ┆ USAA311 ┆ -0.000221 ┆ -0.019869 │\n",
       "│ …          ┆ …       ┆ …         ┆ …         │\n",
       "│ 2024-11-29 ┆ USBQFF1 ┆ 0.000336  ┆ null      │\n",
       "│ 2024-11-29 ┆ USBQGD1 ┆ 0.000465  ┆ null      │\n",
       "│ 2024-11-29 ┆ USBQLB1 ┆ -0.00031  ┆ null      │\n",
       "│ 2024-11-29 ┆ USBQLU1 ┆ 0.002394  ┆ null      │\n",
       "│ 2024-11-29 ┆ USBQOR1 ┆ 0.000361  ┆ null      │\n",
       "└────────────┴─────────┴───────────┴───────────┘"
      ]
     },
     "execution_count": 3,
     "metadata": {},
     "output_type": "execute_result"
    }
   ],
   "source": [
    "df = pl.read_parquet(\"research/constraints/results/full_investment_bt.parquet\")\n",
    "\n",
    "df = df.sort([\"date\", \"barrid\"])\n",
    "\n",
    "df"
   ]
  },
  {
   "cell_type": "code",
   "execution_count": 4,
   "metadata": {},
   "outputs": [
    {
     "name": "stderr",
     "output_type": "stream",
     "text": [
      "Loading Barra factor exposures: 100%|██████████| 1/1 [00:05<00:00,  5.30s/it]\n"
     ]
    },
    {
     "data": {
      "text/html": [
       "<div><style>\n",
       ".dataframe > thead > tr,\n",
       ".dataframe > tbody > tr {\n",
       "  text-align: right;\n",
       "  white-space: pre-wrap;\n",
       "}\n",
       "</style>\n",
       "<small>shape: (44_409_815, 4)</small><table border=\"1\" class=\"dataframe\"><thead><tr><th>barrid</th><th>factor</th><th>date</th><th>exposure</th></tr><tr><td>str</td><td>str</td><td>date</td><td>f64</td></tr></thead><tbody><tr><td>&quot;ARGA1B1&quot;</td><td>&quot;BETA&quot;</td><td>2024-07-31</td><td>1.029</td></tr><tr><td>&quot;ARGA1B1&quot;</td><td>&quot;BETA&quot;</td><td>2024-08-01</td><td>1.049</td></tr><tr><td>&quot;ARGA1B1&quot;</td><td>&quot;BETA&quot;</td><td>2024-08-02</td><td>2.198</td></tr><tr><td>&quot;ARGA1B1&quot;</td><td>&quot;BETA&quot;</td><td>2024-08-05</td><td>2.238</td></tr><tr><td>&quot;ARGA1B1&quot;</td><td>&quot;BETA&quot;</td><td>2024-08-06</td><td>2.159</td></tr><tr><td>&hellip;</td><td>&hellip;</td><td>&hellip;</td><td>&hellip;</td></tr><tr><td>&quot;USBQWH1&quot;</td><td>&quot;VALUE&quot;</td><td>2024-12-24</td><td>null</td></tr><tr><td>&quot;USBQWH1&quot;</td><td>&quot;VALUE&quot;</td><td>2024-12-26</td><td>null</td></tr><tr><td>&quot;USBQWH1&quot;</td><td>&quot;VALUE&quot;</td><td>2024-12-27</td><td>0.856</td></tr><tr><td>&quot;USBQWH1&quot;</td><td>&quot;VALUE&quot;</td><td>2024-12-30</td><td>0.827</td></tr><tr><td>&quot;USBQWH1&quot;</td><td>&quot;VALUE&quot;</td><td>2024-12-31</td><td>0.837</td></tr></tbody></table></div>"
      ],
      "text/plain": [
       "shape: (44_409_815, 4)\n",
       "┌─────────┬────────┬────────────┬──────────┐\n",
       "│ barrid  ┆ factor ┆ date       ┆ exposure │\n",
       "│ ---     ┆ ---    ┆ ---        ┆ ---      │\n",
       "│ str     ┆ str    ┆ date       ┆ f64      │\n",
       "╞═════════╪════════╪════════════╪══════════╡\n",
       "│ ARGA1B1 ┆ BETA   ┆ 2024-07-31 ┆ 1.029    │\n",
       "│ ARGA1B1 ┆ BETA   ┆ 2024-08-01 ┆ 1.049    │\n",
       "│ ARGA1B1 ┆ BETA   ┆ 2024-08-02 ┆ 2.198    │\n",
       "│ ARGA1B1 ┆ BETA   ┆ 2024-08-05 ┆ 2.238    │\n",
       "│ ARGA1B1 ┆ BETA   ┆ 2024-08-06 ┆ 2.159    │\n",
       "│ …       ┆ …      ┆ …          ┆ …        │\n",
       "│ USBQWH1 ┆ VALUE  ┆ 2024-12-24 ┆ null     │\n",
       "│ USBQWH1 ┆ VALUE  ┆ 2024-12-26 ┆ null     │\n",
       "│ USBQWH1 ┆ VALUE  ┆ 2024-12-27 ┆ 0.856    │\n",
       "│ USBQWH1 ┆ VALUE  ┆ 2024-12-30 ┆ 0.827    │\n",
       "│ USBQWH1 ┆ VALUE  ┆ 2024-12-31 ┆ 0.837    │\n",
       "└─────────┴────────┴────────────┴──────────┘"
      ]
     },
     "execution_count": 4,
     "metadata": {},
     "output_type": "execute_result"
    }
   ],
   "source": [
    "exposures = dal.load_factor_exposures(start_date=start_date, end_date=end_date)\n",
    "\n",
    "exposures"
   ]
  },
  {
   "cell_type": "code",
   "execution_count": 5,
   "metadata": {},
   "outputs": [
    {
     "data": {
      "text/html": [
       "<div><style>\n",
       ".dataframe > thead > tr,\n",
       ".dataframe > tbody > tr {\n",
       "  text-align: right;\n",
       "  white-space: pre-wrap;\n",
       "}\n",
       "</style>\n",
       "<small>shape: (44, 2)</small><table border=\"1\" class=\"dataframe\"><thead><tr><th>date</th><th>exposure</th></tr><tr><td>date</td><td>f64</td></tr></thead><tbody><tr><td>2024-10-29</td><td>-1.958</td></tr><tr><td>2024-10-30</td><td>-1.926</td></tr><tr><td>2024-10-31</td><td>-0.379</td></tr><tr><td>2024-11-01</td><td>-0.494</td></tr><tr><td>2024-11-04</td><td>-0.428</td></tr><tr><td>&hellip;</td><td>&hellip;</td></tr><tr><td>2024-12-24</td><td>2.619</td></tr><tr><td>2024-12-26</td><td>2.52</td></tr><tr><td>2024-12-27</td><td>2.292</td></tr><tr><td>2024-12-30</td><td>1.59</td></tr><tr><td>2024-12-31</td><td>1.468</td></tr></tbody></table></div>"
      ],
      "text/plain": [
       "shape: (44, 2)\n",
       "┌────────────┬──────────┐\n",
       "│ date       ┆ exposure │\n",
       "│ ---        ┆ ---      │\n",
       "│ date       ┆ f64      │\n",
       "╞════════════╪══════════╡\n",
       "│ 2024-10-29 ┆ -1.958   │\n",
       "│ 2024-10-30 ┆ -1.926   │\n",
       "│ 2024-10-31 ┆ -0.379   │\n",
       "│ 2024-11-01 ┆ -0.494   │\n",
       "│ 2024-11-04 ┆ -0.428   │\n",
       "│ …          ┆ …        │\n",
       "│ 2024-12-24 ┆ 2.619    │\n",
       "│ 2024-12-26 ┆ 2.52     │\n",
       "│ 2024-12-27 ┆ 2.292    │\n",
       "│ 2024-12-30 ┆ 1.59     │\n",
       "│ 2024-12-31 ┆ 1.468    │\n",
       "└────────────┴──────────┘"
      ]
     },
     "execution_count": 5,
     "metadata": {},
     "output_type": "execute_result"
    }
   ],
   "source": [
    "exposures.filter(pl.col(\"barrid\").eq(\"USBQOR1\")).group_by(\"date\").agg(\n",
    "    pl.col(\"exposure\").sum()\n",
    ").sort(\"date\").filter(pl.col(\"exposure\").ne(0))"
   ]
  },
  {
   "cell_type": "code",
   "execution_count": 6,
   "metadata": {},
   "outputs": [
    {
     "data": {
      "text/html": [
       "<div><style>\n",
       ".dataframe > thead > tr,\n",
       ".dataframe > tbody > tr {\n",
       "  text-align: right;\n",
       "  white-space: pre-wrap;\n",
       "}\n",
       "</style>\n",
       "<small>shape: (7_464, 78)</small><table border=\"1\" class=\"dataframe\"><thead><tr><th>date</th><th>BETA</th><th>DIVYILD</th><th>EARNQLTY</th><th>EARNYILD</th><th>GROWTH</th><th>LEVERAGE</th><th>LIQUIDTY</th><th>LTREVRSL</th><th>MGMTQLTY</th><th>MIDCAP</th><th>MOMENTUM</th><th>PROFIT</th><th>PROSPECT</th><th>RESVOL</th><th>SIZE</th><th>VALUE</th><th>OILGSDRL</th><th>OILGSEQP</th><th>OILGSEXP</th><th>OILGSCON</th><th>CHEM</th><th>SPTYCHEM</th><th>CNSTMATL</th><th>CONTAINR</th><th>PAPER</th><th>ALUMSTEL</th><th>PRECMTLS</th><th>AERODEF</th><th>CNSTMACH</th><th>INDMACH</th><th>BLDGPROD</th><th>TRADECO</th><th>CNSTENG</th><th>ELECEQP</th><th>CONGLOM</th><th>COMSVCS</th><th>&hellip;</th><th>HOUSEDUR</th><th>HOMEBLDG</th><th>LEISPROD</th><th>LEISSVCS</th><th>RESTAUR</th><th>MEDIA</th><th>DISTRIB</th><th>NETRET</th><th>APPAREL</th><th>SPTYSTOR</th><th>SPLTYRET</th><th>PSNLPROD</th><th>FOODRET</th><th>FOODPROD</th><th>BEVTOB</th><th>HLTHEQP</th><th>MGDHLTH</th><th>HLTHSVCS</th><th>BIOLIFE</th><th>PHARMA</th><th>BANKS</th><th>DIVFIN</th><th>LIFEINS</th><th>INSURNCE</th><th>REALEST</th><th>SEMIEQP</th><th>SEMICOND</th><th>INTERNET</th><th>SOFTWARE</th><th>COMMEQP</th><th>COMPELEC</th><th>TELECOM</th><th>WIRELESS</th><th>ELECUTIL</th><th>GASUTIL</th><th>MULTUTIL</th><th>COUNTRY</th></tr><tr><td>str</td><td>f64</td><td>f64</td><td>f64</td><td>f64</td><td>f64</td><td>f64</td><td>f64</td><td>f64</td><td>f64</td><td>f64</td><td>f64</td><td>f64</td><td>f64</td><td>f64</td><td>f64</td><td>f64</td><td>f64</td><td>f64</td><td>f64</td><td>f64</td><td>f64</td><td>f64</td><td>f64</td><td>f64</td><td>f64</td><td>f64</td><td>f64</td><td>f64</td><td>f64</td><td>f64</td><td>f64</td><td>f64</td><td>f64</td><td>f64</td><td>f64</td><td>f64</td><td>&hellip;</td><td>f64</td><td>f64</td><td>f64</td><td>f64</td><td>f64</td><td>f64</td><td>f64</td><td>f64</td><td>f64</td><td>f64</td><td>f64</td><td>f64</td><td>f64</td><td>f64</td><td>f64</td><td>f64</td><td>f64</td><td>f64</td><td>f64</td><td>f64</td><td>f64</td><td>f64</td><td>f64</td><td>f64</td><td>f64</td><td>f64</td><td>f64</td><td>f64</td><td>f64</td><td>f64</td><td>f64</td><td>f64</td><td>f64</td><td>f64</td><td>f64</td><td>f64</td><td>f64</td></tr></thead><tbody><tr><td>&quot;1995-06-30&quot;</td><td>0.001561</td><td>-0.000111</td><td>-0.001143</td><td>0.001047</td><td>0.000158</td><td>-0.001521</td><td>-0.001092</td><td>-0.000133</td><td>0.000511</td><td>0.001629</td><td>0.000509</td><td>-0.001739</td><td>0.00018</td><td>0.000732</td><td>-0.002761</td><td>-0.000752</td><td>-0.001353</td><td>-0.00814</td><td>-0.001717</td><td>-0.006427</td><td>0.00103</td><td>-0.001033</td><td>0.002864</td><td>-0.002957</td><td>0.012288</td><td>0.011518</td><td>-0.017056</td><td>0.000148</td><td>0.006751</td><td>0.005296</td><td>0.000959</td><td>0.000154</td><td>0.01676</td><td>0.008939</td><td>0.006313</td><td>0.004885</td><td>&hellip;</td><td>0.00952</td><td>0.001529</td><td>0.004104</td><td>0.000092</td><td>-0.002673</td><td>0.004194</td><td>0.011079</td><td>0.0172721</td><td>0.002881</td><td>0.008131</td><td>0.003657</td><td>-0.003212</td><td>-0.00081</td><td>0.001588</td><td>0.003202</td><td>0.001484</td><td>-0.000214</td><td>0.004634</td><td>0.003599</td><td>-0.003253</td><td>-0.006071</td><td>-0.004603</td><td>-0.006194</td><td>-0.006373</td><td>0.004951</td><td>-0.001164</td><td>-0.012696</td><td>-0.001168</td><td>-0.001577</td><td>0.000951</td><td>-0.000992</td><td>0.003418</td><td>0.007565</td><td>-0.002961</td><td>-0.000101</td><td>-0.00267</td><td>0.002391</td></tr><tr><td>&quot;1995-07-03&quot;</td><td>0.000089</td><td>0.000245</td><td>-0.000241</td><td>0.000078</td><td>-0.000233</td><td>-0.000011</td><td>0.000345</td><td>-0.000387</td><td>0.000382</td><td>-0.001348</td><td>0.000186</td><td>0.000121</td><td>0.000044</td><td>0.000846</td><td>0.000553</td><td>-0.000595</td><td>-0.008023</td><td>-0.001949</td><td>-0.00524</td><td>0.003236</td><td>-0.00041</td><td>-0.003119</td><td>-0.004636</td><td>0.00586</td><td>0.002184</td><td>0.016423</td><td>0.000831</td><td>-0.005342</td><td>0.000774</td><td>-0.000042</td><td>-0.003573</td><td>0.002709</td><td>-0.001686</td><td>-0.002155</td><td>-0.001677</td><td>0.001693</td><td>&hellip;</td><td>0.002571</td><td>-0.007797</td><td>0.004425</td><td>-0.001245</td><td>-0.003406</td><td>-0.001094</td><td>-0.003775</td><td>0.002584</td><td>0.003749</td><td>0.002998</td><td>0.00315</td><td>-0.0012</td><td>-0.002144</td><td>0.000817</td><td>-0.000368</td><td>-0.001064</td><td>0.010634</td><td>0.003074</td><td>-0.007351</td><td>-0.000182</td><td>0.000164</td><td>-0.000127</td><td>0.002304</td><td>-0.003008</td><td>-0.001202</td><td>-0.007386</td><td>-0.003535</td><td>0.000264</td><td>-0.00341</td><td>0.003353</td><td>0.003286</td><td>0.000568</td><td>0.000633</td><td>-0.002092</td><td>0.000127</td><td>-0.000296</td><td>0.003053</td></tr><tr><td>&quot;1995-07-05&quot;</td><td>0.002074</td><td>-0.000567</td><td>-0.000175</td><td>0.000684</td><td>-0.000317</td><td>0.000955</td><td>0.001143</td><td>-0.00159</td><td>-0.00045</td><td>0.000674</td><td>0.001383</td><td>-0.001668</td><td>0.000101</td><td>0.001207</td><td>-0.001777</td><td>0.000222</td><td>-0.00127</td><td>-0.006295</td><td>-0.009669</td><td>-0.00724</td><td>0.009939</td><td>0.00285</td><td>-0.004074</td><td>-0.006006</td><td>0.011728</td><td>0.02883</td><td>0.012252</td><td>-0.000353</td><td>0.018447</td><td>0.006424</td><td>0.005284</td><td>0.005781</td><td>-0.002727</td><td>0.001254</td><td>0.011716</td><td>-0.000077</td><td>&hellip;</td><td>0.000587</td><td>-0.00863</td><td>0.000791</td><td>-0.004699</td><td>0.008095</td><td>-0.00024</td><td>0.005592</td><td>-0.002774</td><td>0.010066</td><td>0.00198</td><td>0.010819</td><td>0.002838</td><td>0.00827</td><td>-0.005234</td><td>-0.005646</td><td>-0.001478</td><td>-0.008571</td><td>-0.002187</td><td>0.004604</td><td>-0.00407</td><td>-0.004594</td><td>-0.003743</td><td>-0.005177</td><td>-0.001046</td><td>-0.002685</td><td>0.01328</td><td>-0.006522</td><td>0.011676</td><td>-0.000352</td><td>0.003096</td><td>0.004514</td><td>-0.003579</td><td>0.021098</td><td>-0.003109</td><td>-0.009164</td><td>-0.001788</td><td>0.001546</td></tr><tr><td>&quot;1995-07-06&quot;</td><td>0.002513</td><td>-0.000337</td><td>-0.000736</td><td>-0.000194</td><td>0.000978</td><td>0.001209</td><td>0.000092</td><td>-0.001845</td><td>0.000933</td><td>0.000031</td><td>0.000601</td><td>0.000279</td><td>0.000528</td><td>-0.000909</td><td>0.001494</td><td>0.000203</td><td>-0.00609</td><td>-0.001388</td><td>-0.003006</td><td>0.001486</td><td>0.001738</td><td>0.000873</td><td>0.006848</td><td>0.006944</td><td>-0.002223</td><td>-0.001499</td><td>0.026613</td><td>-0.001346</td><td>0.010105</td><td>0.003085</td><td>0.00668</td><td>-0.002192</td><td>0.003364</td><td>-0.002968</td><td>0.003993</td><td>-0.000212</td><td>&hellip;</td><td>0.001798</td><td>0.050161</td><td>-0.002678</td><td>-0.003664</td><td>-0.012678</td><td>-0.001666</td><td>-0.005317</td><td>-0.008395</td><td>-0.021365</td><td>-0.007274</td><td>0.011479</td><td>-0.014242</td><td>0.003142</td><td>0.001866</td><td>0.001265</td><td>-0.00158</td><td>-0.017436</td><td>-0.008381</td><td>0.000839</td><td>-0.007166</td><td>-0.001606</td><td>-0.002697</td><td>-0.000886</td><td>-0.000173</td><td>0.001506</td><td>0.020481</td><td>0.012209</td><td>0.002698</td><td>0.002732</td><td>0.001522</td><td>0.003423</td><td>0.008178</td><td>0.001505</td><td>-0.003184</td><td>-0.005876</td><td>0.00103</td><td>0.011325</td></tr><tr><td>&quot;1995-07-07&quot;</td><td>0.003138</td><td>-0.000207</td><td>-0.000777</td><td>-0.000055</td><td>-0.000283</td><td>0.000313</td><td>0.002068</td><td>-0.001304</td><td>0.000578</td><td>0.001948</td><td>0.001245</td><td>-0.001208</td><td>0.000394</td><td>0.001758</td><td>-0.002841</td><td>-0.000434</td><td>-0.020638</td><td>0.007834</td><td>-0.00167</td><td>0.001178</td><td>0.019815</td><td>0.012524</td><td>0.004802</td><td>0.003252</td><td>0.0111183</td><td>0.035416</td><td>0.01514</td><td>0.00265</td><td>0.020405</td><td>0.009562</td><td>0.003981</td><td>0.008576</td><td>0.020792</td><td>0.008923</td><td>0.013994</td><td>0.005572</td><td>&hellip;</td><td>0.00532</td><td>-0.00752</td><td>-0.001427</td><td>-0.003411</td><td>0.000113</td><td>-0.002302</td><td>-0.004711</td><td>-0.009225</td><td>-0.004258</td><td>0.012002</td><td>0.008781</td><td>-0.01585</td><td>-0.006513</td><td>-0.017142</td><td>-0.012899</td><td>-0.011593</td><td>-0.024215</td><td>-0.009297</td><td>-0.011572</td><td>-0.023175</td><td>-0.001642</td><td>0.005101</td><td>-0.009865</td><td>0.001127</td><td>-0.000221</td><td>0.020549</td><td>0.018266</td><td>-0.003521</td><td>0.005968</td><td>0.008638</td><td>0.007004</td><td>0.000916</td><td>0.005019</td><td>-0.013546</td><td>-0.0055</td><td>-0.004954</td><td>0.006104</td></tr><tr><td>&hellip;</td><td>&hellip;</td><td>&hellip;</td><td>&hellip;</td><td>&hellip;</td><td>&hellip;</td><td>&hellip;</td><td>&hellip;</td><td>&hellip;</td><td>&hellip;</td><td>&hellip;</td><td>&hellip;</td><td>&hellip;</td><td>&hellip;</td><td>&hellip;</td><td>&hellip;</td><td>&hellip;</td><td>&hellip;</td><td>&hellip;</td><td>&hellip;</td><td>&hellip;</td><td>&hellip;</td><td>&hellip;</td><td>&hellip;</td><td>&hellip;</td><td>&hellip;</td><td>&hellip;</td><td>&hellip;</td><td>&hellip;</td><td>&hellip;</td><td>&hellip;</td><td>&hellip;</td><td>&hellip;</td><td>&hellip;</td><td>&hellip;</td><td>&hellip;</td><td>&hellip;</td><td>&hellip;</td><td>&hellip;</td><td>&hellip;</td><td>&hellip;</td><td>&hellip;</td><td>&hellip;</td><td>&hellip;</td><td>&hellip;</td><td>&hellip;</td><td>&hellip;</td><td>&hellip;</td><td>&hellip;</td><td>&hellip;</td><td>&hellip;</td><td>&hellip;</td><td>&hellip;</td><td>&hellip;</td><td>&hellip;</td><td>&hellip;</td><td>&hellip;</td><td>&hellip;</td><td>&hellip;</td><td>&hellip;</td><td>&hellip;</td><td>&hellip;</td><td>&hellip;</td><td>&hellip;</td><td>&hellip;</td><td>&hellip;</td><td>&hellip;</td><td>&hellip;</td><td>&hellip;</td><td>&hellip;</td><td>&hellip;</td><td>&hellip;</td><td>&hellip;</td><td>&hellip;</td><td>&hellip;</td></tr><tr><td>&quot;2025-02-20&quot;</td><td>-0.005813</td><td>0.002226</td><td>-0.001937</td><td>0.00135</td><td>-0.000965</td><td>-0.000514</td><td>-0.000209</td><td>-0.000254</td><td>-0.000841</td><td>0.000896</td><td>-0.005679</td><td>-0.000722</td><td>-0.000545</td><td>-0.00207</td><td>0.000553</td><td>-0.002101</td><td>0.024226</td><td>-0.00036</td><td>-0.003175</td><td>0.005119</td><td>-0.008576</td><td>-0.004689</td><td>-0.018445</td><td>0.001269</td><td>0.001477</td><td>0.005381</td><td>0.010902</td><td>-0.000889</td><td>-0.01083</td><td>0.000243</td><td>-0.003062</td><td>0.003473</td><td>0.003082</td><td>0.007235</td><td>0.001592</td><td>-0.009125</td><td>&hellip;</td><td>-0.022124</td><td>0.012543</td><td>0.0058617</td><td>-0.005711</td><td>-0.001713</td><td>-0.002548</td><td>0.007211</td><td>null</td><td>-0.000645</td><td>0.001507</td><td>-0.005976</td><td>0.001399</td><td>-0.021312</td><td>-0.004952</td><td>-0.001748</td><td>-0.000707</td><td>-0.00199</td><td>-0.005582</td><td>0.005454</td><td>0.003391</td><td>-0.010348</td><td>-0.00953</td><td>-0.004064</td><td>-0.007978</td><td>-0.000299</td><td>0.022933</td><td>0.020408</td><td>-0.004712</td><td>0.000609</td><td>0.008617</td><td>0.003737</td><td>-0.006654</td><td>0.007386</td><td>-0.000344</td><td>-0.00963</td><td>-0.000776</td><td>-0.007793</td></tr><tr><td>&quot;2025-02-21&quot;</td><td>-0.011704</td><td>0.001417</td><td>-0.00041</td><td>-0.00125</td><td>-0.000038</td><td>0.000094</td><td>-0.001743</td><td>-0.000429</td><td>-0.000869</td><td>-0.001381</td><td>-0.004458</td><td>-0.000864</td><td>-0.000243</td><td>-0.005935</td><td>0.001585</td><td>0.000446</td><td>-0.034405</td><td>-0.01009</td><td>-0.023584</td><td>-0.007782</td><td>-0.00567</td><td>0.001406</td><td>-0.010862</td><td>-0.000706</td><td>0.019067</td><td>-0.014856</td><td>-0.022313</td><td>-0.003007</td><td>-0.010259</td><td>-0.008471</td><td>-0.006678</td><td>-0.014278</td><td>0.00148</td><td>-0.00373</td><td>0.002602</td><td>-0.000545</td><td>&hellip;</td><td>0.004244</td><td>-0.001531</td><td>0.009127</td><td>-0.014847</td><td>-0.005931</td><td>0.002106</td><td>0.016264</td><td>null</td><td>0.001981</td><td>-0.001467</td><td>-0.01191</td><td>0.016385</td><td>-0.004746</td><td>0.020497</td><td>0.026862</td><td>0.002655</td><td>-0.037188</td><td>-0.011735</td><td>0.013014</td><td>0.014375</td><td>-0.006275</td><td>-0.003914</td><td>-0.006643</td><td>-0.001596</td><td>-0.004588</td><td>0.01052</td><td>0.009338</td><td>-0.008668</td><td>0.000935</td><td>0.003771</td><td>0.00626</td><td>0.006173</td><td>0.00215</td><td>0.006012</td><td>0.015654</td><td>0.006542</td><td>-0.020204</td></tr><tr><td>&quot;2025-02-24&quot;</td><td>-0.005592</td><td>-0.002416</td><td>0.002449</td><td>0.002197</td><td>0.000074</td><td>0.00249</td><td>-0.000577</td><td>0.001962</td><td>-0.000245</td><td>0.002368</td><td>-0.00297</td><td>0.002207</td><td>0.001767</td><td>-0.003539</td><td>0.000704</td><td>0.002074</td><td>0.012494</td><td>-0.002932</td><td>0.003216</td><td>0.003532</td><td>-0.00053</td><td>-0.003249</td><td>0.005728</td><td>-0.001395</td><td>0.007163</td><td>0.019467</td><td>0.00161</td><td>0.007407</td><td>-0.005796</td><td>-0.001148</td><td>-0.001125</td><td>-0.01224</td><td>-0.01424</td><td>-0.007052</td><td>-0.001222</td><td>0.00306</td><td>&hellip;</td><td>-0.001079</td><td>-0.004914</td><td>0.007189</td><td>0.003504</td><td>0.008319</td><td>0.0109849</td><td>-0.005203</td><td>null</td><td>0.00879</td><td>-0.000683</td><td>-0.0008</td><td>0.00167</td><td>-0.001171</td><td>-0.00217</td><td>-0.00255</td><td>0.0084704</td><td>-0.005741</td><td>0.007311</td><td>0.005306</td><td>0.007644</td><td>0.000713</td><td>-0.000418</td><td>0.018656</td><td>0.017284</td><td>0.005549</td><td>-0.006511</td><td>-0.006707</td><td>-0.00047</td><td>-0.001363</td><td>-0.009496</td><td>-0.004333</td><td>0.004103</td><td>0.004306</td><td>-0.007692</td><td>0.002421</td><td>-0.005405</td><td>-0.006364</td></tr><tr><td>&quot;2025-02-25&quot;</td><td>-0.007582</td><td>-0.00087</td><td>0.001654</td><td>0.001139</td><td>-0.000589</td><td>0.002452</td><td>-0.004518</td><td>-0.000803</td><td>0.002948</td><td>-0.000176</td><td>-0.001124</td><td>0.002494</td><td>-0.000015</td><td>-0.003608</td><td>-0.001782</td><td>-0.000734</td><td>-0.014282</td><td>-0.009623</td><td>-0.016475</td><td>-0.014872</td><td>0.009777</td><td>0.011773</td><td>0.003613</td><td>0.002684</td><td>0.0187715</td><td>0.009031</td><td>-0.00391</td><td>0.013286</td><td>0.010307</td><td>0.008688</td><td>0.018161</td><td>0.005309</td><td>0.040081</td><td>0.015311</td><td>0.004219</td><td>0.003338</td><td>&hellip;</td><td>0.0277376</td><td>0.048641</td><td>-0.001567</td><td>-0.003047</td><td>0.006806</td><td>-0.013697</td><td>0.001223</td><td>null</td><td>-0.000976</td><td>0.01523</td><td>0.020584</td><td>-0.001108</td><td>0.01418</td><td>-0.000299</td><td>-0.004731</td><td>-0.005236</td><td>0.026452</td><td>0.01217</td><td>-0.003261</td><td>0.005291</td><td>0.007334</td><td>-0.00224</td><td>0.01277</td><td>0.011401</td><td>0.009139</td><td>-0.011289</td><td>-0.002071</td><td>-0.002885</td><td>-0.005742</td><td>0.009937</td><td>-0.00802</td><td>-0.007132</td><td>-0.001369</td><td>-0.005308</td><td>0.000879</td><td>-0.009177</td><td>-0.005105</td></tr><tr><td>&quot;2025-02-26&quot;</td><td>0.006207</td><td>0.000699</td><td>-0.000841</td><td>0.000278</td><td>0.00051</td><td>0.000221</td><td>-0.000156</td><td>-0.001944</td><td>-0.000148</td><td>0.001591</td><td>0.006192</td><td>-0.000744</td><td>0.000196</td><td>0.00075</td><td>0.000069</td><td>-0.000117</td><td>-0.027817</td><td>-0.006273</td><td>-0.002014</td><td>-0.004806</td><td>-0.003293</td><td>0.003027</td><td>-0.000021</td><td>0.004767</td><td>-0.002256</td><td>-0.009392</td><td>0.017118</td><td>0.006863</td><td>-0.008292</td><td>-0.001996</td><td>-0.002294</td><td>0.001243</td><td>0.006532</td><td>0.016523</td><td>0.000877</td><td>-0.000508</td><td>&hellip;</td><td>0.001949</td><td>-0.022091</td><td>-0.002263</td><td>0.008642</td><td>-0.005798</td><td>-0.007255</td><td>0.00081</td><td>null</td><td>0.016458</td><td>0.004297</td><td>-0.001387</td><td>0.002472</td><td>-0.017132</td><td>-0.010063</td><td>-0.002509</td><td>0.01112</td><td>-0.023911</td><td>-0.006793</td><td>-0.002567</td><td>0.001452</td><td>-0.00402</td><td>-0.002952</td><td>0.002575</td><td>-0.002169</td><td>0.00221</td><td>0.011018</td><td>0.010091</td><td>-0.002025</td><td>0.002001</td><td>0.010418</td><td>0.000274</td><td>0.015888</td><td>-0.010966</td><td>0.008279</td><td>0.006307</td><td>0.012388</td><td>0.002033</td></tr></tbody></table></div>"
      ],
      "text/plain": [
       "shape: (7_464, 78)\n",
       "┌───────────┬───────────┬───────────┬───────────┬───┬───────────┬───────────┬───────────┬──────────┐\n",
       "│ date      ┆ BETA      ┆ DIVYILD   ┆ EARNQLTY  ┆ … ┆ ELECUTIL  ┆ GASUTIL   ┆ MULTUTIL  ┆ COUNTRY  │\n",
       "│ ---       ┆ ---       ┆ ---       ┆ ---       ┆   ┆ ---       ┆ ---       ┆ ---       ┆ ---      │\n",
       "│ str       ┆ f64       ┆ f64       ┆ f64       ┆   ┆ f64       ┆ f64       ┆ f64       ┆ f64      │\n",
       "╞═══════════╪═══════════╪═══════════╪═══════════╪═══╪═══════════╪═══════════╪═══════════╪══════════╡\n",
       "│ 1995-06-3 ┆ 0.001561  ┆ -0.000111 ┆ -0.001143 ┆ … ┆ -0.002961 ┆ -0.000101 ┆ -0.00267  ┆ 0.002391 │\n",
       "│ 0         ┆           ┆           ┆           ┆   ┆           ┆           ┆           ┆          │\n",
       "│ 1995-07-0 ┆ 0.000089  ┆ 0.000245  ┆ -0.000241 ┆ … ┆ -0.002092 ┆ 0.000127  ┆ -0.000296 ┆ 0.003053 │\n",
       "│ 3         ┆           ┆           ┆           ┆   ┆           ┆           ┆           ┆          │\n",
       "│ 1995-07-0 ┆ 0.002074  ┆ -0.000567 ┆ -0.000175 ┆ … ┆ -0.003109 ┆ -0.009164 ┆ -0.001788 ┆ 0.001546 │\n",
       "│ 5         ┆           ┆           ┆           ┆   ┆           ┆           ┆           ┆          │\n",
       "│ 1995-07-0 ┆ 0.002513  ┆ -0.000337 ┆ -0.000736 ┆ … ┆ -0.003184 ┆ -0.005876 ┆ 0.00103   ┆ 0.011325 │\n",
       "│ 6         ┆           ┆           ┆           ┆   ┆           ┆           ┆           ┆          │\n",
       "│ 1995-07-0 ┆ 0.003138  ┆ -0.000207 ┆ -0.000777 ┆ … ┆ -0.013546 ┆ -0.0055   ┆ -0.004954 ┆ 0.006104 │\n",
       "│ 7         ┆           ┆           ┆           ┆   ┆           ┆           ┆           ┆          │\n",
       "│ …         ┆ …         ┆ …         ┆ …         ┆ … ┆ …         ┆ …         ┆ …         ┆ …        │\n",
       "│ 2025-02-2 ┆ -0.005813 ┆ 0.002226  ┆ -0.001937 ┆ … ┆ -0.000344 ┆ -0.00963  ┆ -0.000776 ┆ -0.00779 │\n",
       "│ 0         ┆           ┆           ┆           ┆   ┆           ┆           ┆           ┆ 3        │\n",
       "│ 2025-02-2 ┆ -0.011704 ┆ 0.001417  ┆ -0.00041  ┆ … ┆ 0.006012  ┆ 0.015654  ┆ 0.006542  ┆ -0.02020 │\n",
       "│ 1         ┆           ┆           ┆           ┆   ┆           ┆           ┆           ┆ 4        │\n",
       "│ 2025-02-2 ┆ -0.005592 ┆ -0.002416 ┆ 0.002449  ┆ … ┆ -0.007692 ┆ 0.002421  ┆ -0.005405 ┆ -0.00636 │\n",
       "│ 4         ┆           ┆           ┆           ┆   ┆           ┆           ┆           ┆ 4        │\n",
       "│ 2025-02-2 ┆ -0.007582 ┆ -0.00087  ┆ 0.001654  ┆ … ┆ -0.005308 ┆ 0.000879  ┆ -0.009177 ┆ -0.00510 │\n",
       "│ 5         ┆           ┆           ┆           ┆   ┆           ┆           ┆           ┆ 5        │\n",
       "│ 2025-02-2 ┆ 0.006207  ┆ 0.000699  ┆ -0.000841 ┆ … ┆ 0.008279  ┆ 0.006307  ┆ 0.012388  ┆ 0.002033 │\n",
       "│ 6         ┆           ┆           ┆           ┆   ┆           ┆           ┆           ┆          │\n",
       "└───────────┴───────────┴───────────┴───────────┴───┴───────────┴───────────┴───────────┴──────────┘"
      ]
     },
     "execution_count": 6,
     "metadata": {},
     "output_type": "execute_result"
    }
   ],
   "source": [
    "fac = pl.read_csv(\"daily_factor_returns.csv\")\n",
    "\n",
    "fac"
   ]
  }
 ],
 "metadata": {
  "kernelspec": {
   "display_name": ".venv",
   "language": "python",
   "name": "python3"
  },
  "language_info": {
   "codemirror_mode": {
    "name": "ipython",
    "version": 3
   },
   "file_extension": ".py",
   "mimetype": "text/x-python",
   "name": "python",
   "nbconvert_exporter": "python",
   "pygments_lexer": "ipython3",
   "version": "3.11.10"
  }
 },
 "nbformat": 4,
 "nbformat_minor": 2
}
