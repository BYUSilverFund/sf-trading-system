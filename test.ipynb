{
 "cells": [
  {
   "cell_type": "code",
   "execution_count": null,
   "metadata": {
    "vscode": {
     "languageId": "plaintext"
    }
   },
   "outputs": [],
   "source": [
    "import os\n",
    "from datetime import date\n",
    "from functools import partial\n",
    "from pathlib import Path\n",
    "\n",
    "import silverfund.data_access_layer as dal"
   ]
  },
  {
   "cell_type": "code",
   "execution_count": null,
   "metadata": {
    "vscode": {
     "languageId": "plaintext"
    }
   },
   "outputs": [],
   "source": [
    " # Create training data\n",
    "    universe = dal.load_universe(interval=interval, start_date=start_date, end_date=end_date)\n",
    "    training_data = universe.join(\n",
    "        dal.load_barra_returns(interval=interval, start_date=start_date, end_date=end_date),\n",
    "        on=[\"date\", \"barrid\"],\n",
    "        how=\"left\",\n",
    "    ).sort([\"barrid\", \"date\"])"
   ]
  }
 ],
 "metadata": {
  "language_info": {
   "name": "python"
  }
 },
 "nbformat": 4,
 "nbformat_minor": 2
}
