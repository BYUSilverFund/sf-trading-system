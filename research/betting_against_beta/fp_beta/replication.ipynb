{
 "cells": [
  {
   "cell_type": "code",
   "execution_count": 2,
   "metadata": {},
   "outputs": [],
   "source": [
    "import sys\n",
    "from dotenv import load_dotenv\n",
    "import os\n",
    "\n",
    "load_dotenv()\n",
    "\n",
    "sys.path.append(os.getenv(\"ROOT\"))"
   ]
  },
  {
   "cell_type": "code",
   "execution_count": 3,
   "metadata": {},
   "outputs": [],
   "source": [
    "import polars as pl\n",
    "import numpy as np\n",
    "from datetime import date\n",
    "import silverfund.data_access_layer as dal\n",
    "from silverfund.enums import Interval\n",
    "import seaborn as sns\n",
    "import matplotlib.pyplot as plt"
   ]
  },
  {
   "cell_type": "code",
   "execution_count": 4,
   "metadata": {},
   "outputs": [
    {
     "name": "stderr",
     "output_type": "stream",
     "text": [
      "Loading CRSP Daily: 100%|██████████| 50/50 [00:02<00:00, 17.11it/s]\n"
     ]
    },
    {
     "data": {
      "text/html": [
       "<div><style>\n",
       ".dataframe > thead > tr,\n",
       ".dataframe > tbody > tr {\n",
       "  text-align: right;\n",
       "  white-space: pre-wrap;\n",
       "}\n",
       "</style>\n",
       "<small>shape: (72_859_027, 14)</small><table border=\"1\" class=\"dataframe\"><thead><tr><th>permno</th><th>permco</th><th>date</th><th>ncusip</th><th>ticker</th><th>shrcd</th><th>exchcd</th><th>siccd</th><th>prc</th><th>ret</th><th>retx</th><th>vol</th><th>shrout</th><th>cfacshr</th></tr><tr><td>i64</td><td>i64</td><td>date</td><td>str</td><td>str</td><td>i64</td><td>i64</td><td>i64</td><td>f64</td><td>f64</td><td>f64</td><td>f64</td><td>f64</td><td>f64</td></tr></thead><tbody><tr><td>10000</td><td>7952</td><td>1986-01-07</td><td>&quot;68391610&quot;</td><td>&quot;OMFGA&quot;</td><td>10</td><td>3</td><td>3990</td><td>-2.5625</td><td>null</td><td>null</td><td>1000.0</td><td>3680.0</td><td>1.0</td></tr><tr><td>10000</td><td>7952</td><td>1986-01-08</td><td>&quot;68391610&quot;</td><td>&quot;OMFGA&quot;</td><td>10</td><td>3</td><td>3990</td><td>-2.5</td><td>-0.02439</td><td>-0.02439</td><td>12800.0</td><td>3680.0</td><td>1.0</td></tr><tr><td>10000</td><td>7952</td><td>1986-01-09</td><td>&quot;68391610&quot;</td><td>&quot;OMFGA&quot;</td><td>10</td><td>3</td><td>3990</td><td>-2.5</td><td>0.0</td><td>0.0</td><td>1400.0</td><td>3680.0</td><td>1.0</td></tr><tr><td>10000</td><td>7952</td><td>1986-01-10</td><td>&quot;68391610&quot;</td><td>&quot;OMFGA&quot;</td><td>10</td><td>3</td><td>3990</td><td>-2.5</td><td>0.0</td><td>0.0</td><td>8500.0</td><td>3680.0</td><td>1.0</td></tr><tr><td>10000</td><td>7952</td><td>1986-01-13</td><td>&quot;68391610&quot;</td><td>&quot;OMFGA&quot;</td><td>10</td><td>3</td><td>3990</td><td>-2.625</td><td>0.05</td><td>0.05</td><td>5450.0</td><td>3680.0</td><td>1.0</td></tr><tr><td>&hellip;</td><td>&hellip;</td><td>&hellip;</td><td>&hellip;</td><td>&hellip;</td><td>&hellip;</td><td>&hellip;</td><td>&hellip;</td><td>&hellip;</td><td>&hellip;</td><td>&hellip;</td><td>&hellip;</td><td>&hellip;</td><td>&hellip;</td></tr><tr><td>93436</td><td>53453</td><td>2012-12-24</td><td>&quot;88160R10&quot;</td><td>&quot;TSLA&quot;</td><td>11</td><td>3</td><td>9999</td><td>34.28</td><td>0.008235</td><td>0.008235</td><td>379504.0</td><td>113779.0</td><td>15.0</td></tr><tr><td>93436</td><td>53453</td><td>2012-12-26</td><td>&quot;88160R10&quot;</td><td>&quot;TSLA&quot;</td><td>11</td><td>3</td><td>9999</td><td>33.59</td><td>-0.020128</td><td>-0.020128</td><td>614673.0</td><td>113779.0</td><td>15.0</td></tr><tr><td>93436</td><td>53453</td><td>2012-12-27</td><td>&quot;88160R10&quot;</td><td>&quot;TSLA&quot;</td><td>11</td><td>3</td><td>9999</td><td>33.69</td><td>0.002977</td><td>0.002977</td><td>579663.0</td><td>113779.0</td><td>15.0</td></tr><tr><td>93436</td><td>53453</td><td>2012-12-28</td><td>&quot;88160R10&quot;</td><td>&quot;TSLA&quot;</td><td>11</td><td>3</td><td>9999</td><td>33.22</td><td>-0.013951</td><td>-0.013951</td><td>428963.0</td><td>113779.0</td><td>15.0</td></tr><tr><td>93436</td><td>53453</td><td>2012-12-31</td><td>&quot;88160R10&quot;</td><td>&quot;TSLA&quot;</td><td>11</td><td>3</td><td>9999</td><td>33.87</td><td>0.019567</td><td>0.019567</td><td>605700.0</td><td>114214.0</td><td>15.0</td></tr></tbody></table></div>"
      ],
      "text/plain": [
       "shape: (72_859_027, 14)\n",
       "┌────────┬────────┬────────────┬──────────┬───┬───────────┬──────────┬──────────┬─────────┐\n",
       "│ permno ┆ permco ┆ date       ┆ ncusip   ┆ … ┆ retx      ┆ vol      ┆ shrout   ┆ cfacshr │\n",
       "│ ---    ┆ ---    ┆ ---        ┆ ---      ┆   ┆ ---       ┆ ---      ┆ ---      ┆ ---     │\n",
       "│ i64    ┆ i64    ┆ date       ┆ str      ┆   ┆ f64       ┆ f64      ┆ f64      ┆ f64     │\n",
       "╞════════╪════════╪════════════╪══════════╪═══╪═══════════╪══════════╪══════════╪═════════╡\n",
       "│ 10000  ┆ 7952   ┆ 1986-01-07 ┆ 68391610 ┆ … ┆ null      ┆ 1000.0   ┆ 3680.0   ┆ 1.0     │\n",
       "│ 10000  ┆ 7952   ┆ 1986-01-08 ┆ 68391610 ┆ … ┆ -0.02439  ┆ 12800.0  ┆ 3680.0   ┆ 1.0     │\n",
       "│ 10000  ┆ 7952   ┆ 1986-01-09 ┆ 68391610 ┆ … ┆ 0.0       ┆ 1400.0   ┆ 3680.0   ┆ 1.0     │\n",
       "│ 10000  ┆ 7952   ┆ 1986-01-10 ┆ 68391610 ┆ … ┆ 0.0       ┆ 8500.0   ┆ 3680.0   ┆ 1.0     │\n",
       "│ 10000  ┆ 7952   ┆ 1986-01-13 ┆ 68391610 ┆ … ┆ 0.05      ┆ 5450.0   ┆ 3680.0   ┆ 1.0     │\n",
       "│ …      ┆ …      ┆ …          ┆ …        ┆ … ┆ …         ┆ …        ┆ …        ┆ …       │\n",
       "│ 93436  ┆ 53453  ┆ 2012-12-24 ┆ 88160R10 ┆ … ┆ 0.008235  ┆ 379504.0 ┆ 113779.0 ┆ 15.0    │\n",
       "│ 93436  ┆ 53453  ┆ 2012-12-26 ┆ 88160R10 ┆ … ┆ -0.020128 ┆ 614673.0 ┆ 113779.0 ┆ 15.0    │\n",
       "│ 93436  ┆ 53453  ┆ 2012-12-27 ┆ 88160R10 ┆ … ┆ 0.002977  ┆ 579663.0 ┆ 113779.0 ┆ 15.0    │\n",
       "│ 93436  ┆ 53453  ┆ 2012-12-28 ┆ 88160R10 ┆ … ┆ -0.013951 ┆ 428963.0 ┆ 113779.0 ┆ 15.0    │\n",
       "│ 93436  ┆ 53453  ┆ 2012-12-31 ┆ 88160R10 ┆ … ┆ 0.019567  ┆ 605700.0 ┆ 114214.0 ┆ 15.0    │\n",
       "└────────┴────────┴────────────┴──────────┴───┴───────────┴──────────┴──────────┴─────────┘"
      ]
     },
     "execution_count": 4,
     "metadata": {},
     "output_type": "execute_result"
    }
   ],
   "source": [
    "# Load dataset\n",
    "start_date = date(1963, 1, 1)\n",
    "end_date = date(2012, 12, 31)\n",
    "\n",
    "df = dal.load_crsp(interval=Interval.DAILY, start_date=start_date, end_date=end_date)\n",
    "\n",
    "df"
   ]
  },
  {
   "cell_type": "code",
   "execution_count": 5,
   "metadata": {},
   "outputs": [
    {
     "data": {
      "text/html": [
       "<div><style>\n",
       ".dataframe > thead > tr,\n",
       ".dataframe > tbody > tr {\n",
       "  text-align: right;\n",
       "  white-space: pre-wrap;\n",
       "}\n",
       "</style>\n",
       "<small>shape: (59_986_277, 15)</small><table border=\"1\" class=\"dataframe\"><thead><tr><th>permno</th><th>permco</th><th>date</th><th>ncusip</th><th>ticker</th><th>shrcd</th><th>exchcd</th><th>siccd</th><th>prc</th><th>ret</th><th>retx</th><th>vol</th><th>shrout</th><th>cfacshr</th><th>logxret</th></tr><tr><td>i64</td><td>i64</td><td>date</td><td>str</td><td>str</td><td>i64</td><td>i64</td><td>i64</td><td>f64</td><td>f64</td><td>f64</td><td>f64</td><td>f64</td><td>f64</td><td>f64</td></tr></thead><tbody><tr><td>10000</td><td>7952</td><td>1986-01-07</td><td>&quot;68391610&quot;</td><td>&quot;OMFGA&quot;</td><td>10</td><td>3</td><td>3990</td><td>-2.5625</td><td>null</td><td>null</td><td>1000.0</td><td>3680.0</td><td>1.0</td><td>null</td></tr><tr><td>10000</td><td>7952</td><td>1986-01-08</td><td>&quot;68391610&quot;</td><td>&quot;OMFGA&quot;</td><td>10</td><td>3</td><td>3990</td><td>-2.5</td><td>-0.02439</td><td>-0.02439</td><td>12800.0</td><td>3680.0</td><td>1.0</td><td>-0.024692</td></tr><tr><td>10000</td><td>7952</td><td>1986-01-09</td><td>&quot;68391610&quot;</td><td>&quot;OMFGA&quot;</td><td>10</td><td>3</td><td>3990</td><td>-2.5</td><td>0.0</td><td>0.0</td><td>1400.0</td><td>3680.0</td><td>1.0</td><td>0.0</td></tr><tr><td>10000</td><td>7952</td><td>1986-01-10</td><td>&quot;68391610&quot;</td><td>&quot;OMFGA&quot;</td><td>10</td><td>3</td><td>3990</td><td>-2.5</td><td>0.0</td><td>0.0</td><td>8500.0</td><td>3680.0</td><td>1.0</td><td>0.0</td></tr><tr><td>10000</td><td>7952</td><td>1986-01-13</td><td>&quot;68391610&quot;</td><td>&quot;OMFGA&quot;</td><td>10</td><td>3</td><td>3990</td><td>-2.625</td><td>0.05</td><td>0.05</td><td>5450.0</td><td>3680.0</td><td>1.0</td><td>0.04879</td></tr><tr><td>&hellip;</td><td>&hellip;</td><td>&hellip;</td><td>&hellip;</td><td>&hellip;</td><td>&hellip;</td><td>&hellip;</td><td>&hellip;</td><td>&hellip;</td><td>&hellip;</td><td>&hellip;</td><td>&hellip;</td><td>&hellip;</td><td>&hellip;</td><td>&hellip;</td></tr><tr><td>93436</td><td>53453</td><td>2012-12-24</td><td>&quot;88160R10&quot;</td><td>&quot;TSLA&quot;</td><td>11</td><td>3</td><td>9999</td><td>34.28</td><td>0.008235</td><td>0.008235</td><td>379504.0</td><td>113779.0</td><td>15.0</td><td>0.008201</td></tr><tr><td>93436</td><td>53453</td><td>2012-12-26</td><td>&quot;88160R10&quot;</td><td>&quot;TSLA&quot;</td><td>11</td><td>3</td><td>9999</td><td>33.59</td><td>-0.020128</td><td>-0.020128</td><td>614673.0</td><td>113779.0</td><td>15.0</td><td>-0.020333</td></tr><tr><td>93436</td><td>53453</td><td>2012-12-27</td><td>&quot;88160R10&quot;</td><td>&quot;TSLA&quot;</td><td>11</td><td>3</td><td>9999</td><td>33.69</td><td>0.002977</td><td>0.002977</td><td>579663.0</td><td>113779.0</td><td>15.0</td><td>0.002973</td></tr><tr><td>93436</td><td>53453</td><td>2012-12-28</td><td>&quot;88160R10&quot;</td><td>&quot;TSLA&quot;</td><td>11</td><td>3</td><td>9999</td><td>33.22</td><td>-0.013951</td><td>-0.013951</td><td>428963.0</td><td>113779.0</td><td>15.0</td><td>-0.014049</td></tr><tr><td>93436</td><td>53453</td><td>2012-12-31</td><td>&quot;88160R10&quot;</td><td>&quot;TSLA&quot;</td><td>11</td><td>3</td><td>9999</td><td>33.87</td><td>0.019567</td><td>0.019567</td><td>605700.0</td><td>114214.0</td><td>15.0</td><td>0.019378</td></tr></tbody></table></div>"
      ],
      "text/plain": [
       "shape: (59_986_277, 15)\n",
       "┌────────┬────────┬────────────┬──────────┬───┬──────────┬──────────┬─────────┬───────────┐\n",
       "│ permno ┆ permco ┆ date       ┆ ncusip   ┆ … ┆ vol      ┆ shrout   ┆ cfacshr ┆ logxret   │\n",
       "│ ---    ┆ ---    ┆ ---        ┆ ---      ┆   ┆ ---      ┆ ---      ┆ ---     ┆ ---       │\n",
       "│ i64    ┆ i64    ┆ date       ┆ str      ┆   ┆ f64      ┆ f64      ┆ f64     ┆ f64       │\n",
       "╞════════╪════════╪════════════╪══════════╪═══╪══════════╪══════════╪═════════╪═══════════╡\n",
       "│ 10000  ┆ 7952   ┆ 1986-01-07 ┆ 68391610 ┆ … ┆ 1000.0   ┆ 3680.0   ┆ 1.0     ┆ null      │\n",
       "│ 10000  ┆ 7952   ┆ 1986-01-08 ┆ 68391610 ┆ … ┆ 12800.0  ┆ 3680.0   ┆ 1.0     ┆ -0.024692 │\n",
       "│ 10000  ┆ 7952   ┆ 1986-01-09 ┆ 68391610 ┆ … ┆ 1400.0   ┆ 3680.0   ┆ 1.0     ┆ 0.0       │\n",
       "│ 10000  ┆ 7952   ┆ 1986-01-10 ┆ 68391610 ┆ … ┆ 8500.0   ┆ 3680.0   ┆ 1.0     ┆ 0.0       │\n",
       "│ 10000  ┆ 7952   ┆ 1986-01-13 ┆ 68391610 ┆ … ┆ 5450.0   ┆ 3680.0   ┆ 1.0     ┆ 0.04879   │\n",
       "│ …      ┆ …      ┆ …          ┆ …        ┆ … ┆ …        ┆ …        ┆ …       ┆ …         │\n",
       "│ 93436  ┆ 53453  ┆ 2012-12-24 ┆ 88160R10 ┆ … ┆ 379504.0 ┆ 113779.0 ┆ 15.0    ┆ 0.008201  │\n",
       "│ 93436  ┆ 53453  ┆ 2012-12-26 ┆ 88160R10 ┆ … ┆ 614673.0 ┆ 113779.0 ┆ 15.0    ┆ -0.020333 │\n",
       "│ 93436  ┆ 53453  ┆ 2012-12-27 ┆ 88160R10 ┆ … ┆ 579663.0 ┆ 113779.0 ┆ 15.0    ┆ 0.002973  │\n",
       "│ 93436  ┆ 53453  ┆ 2012-12-28 ┆ 88160R10 ┆ … ┆ 428963.0 ┆ 113779.0 ┆ 15.0    ┆ -0.014049 │\n",
       "│ 93436  ┆ 53453  ┆ 2012-12-31 ┆ 88160R10 ┆ … ┆ 605700.0 ┆ 114214.0 ┆ 15.0    ┆ 0.019378  │\n",
       "└────────┴────────┴────────────┴──────────┴───┴──────────┴──────────┴─────────┴───────────┘"
      ]
     },
     "execution_count": 5,
     "metadata": {},
     "output_type": "execute_result"
    }
   ],
   "source": [
    "# Form BAB signal\n",
    "\n",
    "# Log returns\n",
    "df = df.with_columns(pl.col(\"retx\").log1p().alias(\"logxret\"))\n",
    "\n",
    "# Make sure shrcd is 10 or 11\n",
    "df = df.filter((df['shrcd'] == 10) | (df['shrcd'] == 11))\n",
    "\n",
    "df"
   ]
  },
  {
   "cell_type": "code",
   "execution_count": null,
   "metadata": {},
   "outputs": [],
   "source": []
  }
 ],
 "metadata": {
  "kernelspec": {
   "display_name": ".venv",
   "language": "python",
   "name": "python3"
  },
  "language_info": {
   "codemirror_mode": {
    "name": "ipython",
    "version": 3
   },
   "file_extension": ".py",
   "mimetype": "text/x-python",
   "name": "python",
   "nbconvert_exporter": "python",
   "pygments_lexer": "ipython3",
   "version": "3.11.4"
  }
 },
 "nbformat": 4,
 "nbformat_minor": 2
}
