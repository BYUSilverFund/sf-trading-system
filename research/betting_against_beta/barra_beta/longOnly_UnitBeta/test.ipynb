{
 "cells": [
  {
   "cell_type": "code",
   "execution_count": 2,
   "metadata": {},
   "outputs": [],
   "source": [
    "import pandas as pd"
   ]
  },
  {
   "cell_type": "code",
   "execution_count": 3,
   "metadata": {},
   "outputs": [
    {
     "data": {
      "text/html": [
       "<div>\n",
       "<style scoped>\n",
       "    .dataframe tbody tr th:only-of-type {\n",
       "        vertical-align: middle;\n",
       "    }\n",
       "\n",
       "    .dataframe tbody tr th {\n",
       "        vertical-align: top;\n",
       "    }\n",
       "\n",
       "    .dataframe thead th {\n",
       "        text-align: right;\n",
       "    }\n",
       "</style>\n",
       "<table border=\"1\" class=\"dataframe\">\n",
       "  <thead>\n",
       "    <tr style=\"text-align: right;\">\n",
       "      <th></th>\n",
       "      <th>date</th>\n",
       "      <th>barrid</th>\n",
       "      <th>weight</th>\n",
       "      <th>fwd_ret</th>\n",
       "    </tr>\n",
       "  </thead>\n",
       "  <tbody>\n",
       "    <tr>\n",
       "      <th>0</th>\n",
       "      <td>2009-05-29</td>\n",
       "      <td>CAN17B1</td>\n",
       "      <td>0.015668</td>\n",
       "      <td>-0.046411</td>\n",
       "    </tr>\n",
       "    <tr>\n",
       "      <th>1</th>\n",
       "      <td>2009-06-01</td>\n",
       "      <td>CAN17B1</td>\n",
       "      <td>0.017140</td>\n",
       "      <td>0.064893</td>\n",
       "    </tr>\n",
       "    <tr>\n",
       "      <th>2</th>\n",
       "      <td>2009-06-02</td>\n",
       "      <td>CAN17B1</td>\n",
       "      <td>0.016528</td>\n",
       "      <td>-0.039001</td>\n",
       "    </tr>\n",
       "    <tr>\n",
       "      <th>3</th>\n",
       "      <td>2009-06-03</td>\n",
       "      <td>CAN17B1</td>\n",
       "      <td>0.017102</td>\n",
       "      <td>0.077996</td>\n",
       "    </tr>\n",
       "    <tr>\n",
       "      <th>4</th>\n",
       "      <td>2009-06-04</td>\n",
       "      <td>CAN17B1</td>\n",
       "      <td>0.017564</td>\n",
       "      <td>-0.027647</td>\n",
       "    </tr>\n",
       "    <tr>\n",
       "      <th>...</th>\n",
       "      <td>...</td>\n",
       "      <td>...</td>\n",
       "      <td>...</td>\n",
       "      <td>...</td>\n",
       "    </tr>\n",
       "    <tr>\n",
       "      <th>20804113</th>\n",
       "      <td>2023-12-26</td>\n",
       "      <td>USBPKS1</td>\n",
       "      <td>0.001803</td>\n",
       "      <td>0.090373</td>\n",
       "    </tr>\n",
       "    <tr>\n",
       "      <th>20804114</th>\n",
       "      <td>2023-12-27</td>\n",
       "      <td>USBPKS1</td>\n",
       "      <td>0.002497</td>\n",
       "      <td>0.082883</td>\n",
       "    </tr>\n",
       "    <tr>\n",
       "      <th>20804115</th>\n",
       "      <td>2023-12-28</td>\n",
       "      <td>USBPKS1</td>\n",
       "      <td>0.002528</td>\n",
       "      <td>-0.014975</td>\n",
       "    </tr>\n",
       "    <tr>\n",
       "      <th>20804116</th>\n",
       "      <td>2023-12-29</td>\n",
       "      <td>USBPKS1</td>\n",
       "      <td>0.003549</td>\n",
       "      <td>NaN</td>\n",
       "    </tr>\n",
       "    <tr>\n",
       "      <th>20804117</th>\n",
       "      <td>2023-12-29</td>\n",
       "      <td>USBPM41</td>\n",
       "      <td>0.000598</td>\n",
       "      <td>NaN</td>\n",
       "    </tr>\n",
       "  </tbody>\n",
       "</table>\n",
       "<p>20804118 rows × 4 columns</p>\n",
       "</div>"
      ],
      "text/plain": [
       "                date   barrid    weight   fwd_ret\n",
       "0         2009-05-29  CAN17B1  0.015668 -0.046411\n",
       "1         2009-06-01  CAN17B1  0.017140  0.064893\n",
       "2         2009-06-02  CAN17B1  0.016528 -0.039001\n",
       "3         2009-06-03  CAN17B1  0.017102  0.077996\n",
       "4         2009-06-04  CAN17B1  0.017564 -0.027647\n",
       "...              ...      ...       ...       ...\n",
       "20804113  2023-12-26  USBPKS1  0.001803  0.090373\n",
       "20804114  2023-12-27  USBPKS1  0.002497  0.082883\n",
       "20804115  2023-12-28  USBPKS1  0.002528 -0.014975\n",
       "20804116  2023-12-29  USBPKS1  0.003549       NaN\n",
       "20804117  2023-12-29  USBPM41  0.000598       NaN\n",
       "\n",
       "[20804118 rows x 4 columns]"
      ]
     },
     "execution_count": 3,
     "metadata": {},
     "output_type": "execute_result"
    }
   ],
   "source": [
    "df = pd.read_parquet('barraBAB_backtest.parquet')\n",
    "\n",
    "df"
   ]
  },
  {
   "cell_type": "code",
   "execution_count": 5,
   "metadata": {},
   "outputs": [
    {
     "data": {
      "text/plain": [
       "datetime.date(1996, 1, 2)"
      ]
     },
     "execution_count": 5,
     "metadata": {},
     "output_type": "execute_result"
    }
   ],
   "source": [
    "df['date'].min()"
   ]
  },
  {
   "cell_type": "code",
   "execution_count": null,
   "metadata": {},
   "outputs": [],
   "source": []
  }
 ],
 "metadata": {
  "kernelspec": {
   "display_name": ".venv",
   "language": "python",
   "name": "python3"
  },
  "language_info": {
   "codemirror_mode": {
    "name": "ipython",
    "version": 3
   },
   "file_extension": ".py",
   "mimetype": "text/x-python",
   "name": "python",
   "nbconvert_exporter": "python",
   "pygments_lexer": "ipython3",
   "version": "3.11.4"
  }
 },
 "nbformat": 4,
 "nbformat_minor": 2
}
