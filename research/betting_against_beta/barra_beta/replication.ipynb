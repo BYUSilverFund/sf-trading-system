{
 "cells": [
  {
   "cell_type": "code",
   "execution_count": 2,
   "metadata": {},
   "outputs": [],
   "source": [
    "import sys\n",
    "from dotenv import load_dotenv\n",
    "import os\n",
    "\n",
    "load_dotenv()\n",
    "\n",
    "sys.path.append(os.getenv(\"ROOT\"))"
   ]
  },
  {
   "cell_type": "code",
   "execution_count": 3,
   "metadata": {},
   "outputs": [],
   "source": [
    "from datetime import date\n",
    "\n",
    "import matplotlib.pyplot as plt\n",
    "import seaborn as sns\n",
    "\n",
    "from silverfund.backtester import Backtester\n",
    "from silverfund.datasets.master_monthly import MasterMonthly\n",
    "from silverfund.enums import Interval\n",
    "from silverfund.optimizers.new_constraints import *\n",
    "from silverfund.research.betting_against_beta.barra_beta.barra_beta_strategy import BarraBetaStrategy"
   ]
  },
  {
   "cell_type": "code",
   "execution_count": 9,
   "metadata": {},
   "outputs": [],
   "source": [
    "# Daily backtest\n",
    "start_date = date(2022, 1, 1)\n",
    "end_date = date(2022, 12, 1)\n",
    "\n",
    "# Load historical dataset\n",
    "historical_data = (\n",
    "    MasterMonthly(\n",
    "        start_date=start_date,\n",
    "        end_date=end_date,\n",
    "    )\n",
    "    .load_all()\n",
    ")"
   ]
  },
  {
   "cell_type": "code",
   "execution_count": 10,
   "metadata": {},
   "outputs": [
    {
     "data": {
      "text/html": [
       "<div><style>\n",
       ".dataframe > thead > tr,\n",
       ".dataframe > tbody > tr {\n",
       "  text-align: right;\n",
       "  white-space: pre-wrap;\n",
       "}\n",
       "</style>\n",
       "<small>shape: (32_991, 18)</small><table border=\"1\" class=\"dataframe\"><thead><tr><th>date</th><th>barrid</th><th>date_lag_1d</th><th>date_lag_2d</th><th>date_lag_1m</th><th>date_lag_2m</th><th>currency</th><th>mktcap</th><th>price</th><th>logret</th><th>ret</th><th>div_yield</th><th>total_risk</th><th>spec_risk</th><th>histbeta</th><th>predbeta</th><th>log_spec_ret</th><th>spec_ret</th></tr><tr><td>date</td><td>str</td><td>date</td><td>date</td><td>date</td><td>date</td><td>str</td><td>f64</td><td>f64</td><td>f64</td><td>f64</td><td>f64</td><td>f64</td><td>f64</td><td>f64</td><td>f64</td><td>f64</td><td>f64</td></tr></thead><tbody><tr><td>2022-01-31</td><td>&quot;USA06Z1&quot;</td><td>2022-01-28</td><td>2022-01-27</td><td>2021-12-31</td><td>2021-11-30</td><td>&quot;USD&quot;</td><td>5.5624e8</td><td>4.96</td><td>-0.197</td><td>-0.178809</td><td>0.0</td><td>0.820023</td><td>0.731666</td><td>1.297365</td><td>1.337664</td><td>0.007194</td><td>0.00722</td></tr><tr><td>2022-02-28</td><td>&quot;USA06Z1&quot;</td><td>2022-02-25</td><td>2022-02-24</td><td>2022-01-31</td><td>2021-12-31</td><td>&quot;USD&quot;</td><td>5.6633e8</td><td>5.05</td><td>0.017985</td><td>0.018148</td><td>0.0</td><td>0.8317529</td><td>0.7126182</td><td>1.379646</td><td>1.502205</td><td>0.084383</td><td>0.088046</td></tr><tr><td>2022-03-31</td><td>&quot;USA06Z1&quot;</td><td>2022-03-30</td><td>2022-03-29</td><td>2022-02-28</td><td>2022-01-31</td><td>&quot;USD&quot;</td><td>5.2921e8</td><td>4.71</td><td>-0.069699</td><td>-0.067325</td><td>0.0</td><td>0.791204</td><td>0.666928</td><td>1.450875</td><td>1.542893</td><td>-0.073202</td><td>-0.070587</td></tr><tr><td>2022-04-29</td><td>&quot;USA06Z1&quot;</td><td>2022-04-28</td><td>2022-04-27</td><td>2022-03-31</td><td>2022-02-28</td><td>&quot;USD&quot;</td><td>4.4774e8</td><td>3.95</td><td>-0.175975</td><td>-0.161361</td><td>0.0</td><td>0.773508</td><td>0.644653</td><td>1.380664</td><td>1.533729</td><td>0.03746</td><td>0.038171</td></tr><tr><td>2022-05-31</td><td>&quot;USA06Z1&quot;</td><td>2022-05-27</td><td>2022-05-26</td><td>2022-04-29</td><td>2022-03-31</td><td>&quot;USD&quot;</td><td>4.4321e8</td><td>3.91</td><td>-0.010177</td><td>-0.010126</td><td>0.0</td><td>0.768461</td><td>0.628478</td><td>1.481874</td><td>1.576411</td><td>0.031012</td><td>0.031498</td></tr><tr><td>&hellip;</td><td>&hellip;</td><td>&hellip;</td><td>&hellip;</td><td>&hellip;</td><td>&hellip;</td><td>&hellip;</td><td>&hellip;</td><td>&hellip;</td><td>&hellip;</td><td>&hellip;</td><td>&hellip;</td><td>&hellip;</td><td>&hellip;</td><td>&hellip;</td><td>&hellip;</td><td>&hellip;</td><td>&hellip;</td></tr><tr><td>2022-11-30</td><td>&quot;USBOFX1&quot;</td><td>2022-11-29</td><td>2022-11-28</td><td>2022-10-31</td><td>2022-09-30</td><td>&quot;USD&quot;</td><td>1.0783e9</td><td>15.82</td><td>-0.04632</td><td>-0.045264</td><td>0.0</td><td>0.809521</td><td>0.67956</td><td>0.873843</td><td>1.281963</td><td>-0.003122</td><td>-0.003117</td></tr><tr><td>2022-10-31</td><td>&quot;USBOGD1&quot;</td><td>2022-10-28</td><td>2022-10-27</td><td>2022-09-30</td><td>2022-08-31</td><td>&quot;USD&quot;</td><td>9.7026e7</td><td>25.3</td><td>0.222651</td><td>0.249384</td><td>null</td><td>0.405745</td><td>0.287345</td><td>0.83941</td><td>0.990002</td><td>0.164542</td><td>0.178853</td></tr><tr><td>2022-11-30</td><td>&quot;USBOGD1&quot;</td><td>2022-11-29</td><td>2022-11-28</td><td>2022-10-31</td><td>2022-09-30</td><td>&quot;USD&quot;</td><td>9.4035e7</td><td>24.52</td><td>-0.031317</td><td>-0.030831</td><td>null</td><td>0.440057</td><td>0.298054</td><td>0.827399</td><td>1.118619</td><td>-0.042988</td><td>-0.042077</td></tr><tr><td>2022-11-30</td><td>&quot;USBOI51&quot;</td><td>2022-11-29</td><td>2022-11-28</td><td>2022-10-31</td><td>2022-09-30</td><td>&quot;USD&quot;</td><td>2.1872e9</td><td>19.0</td><td>-0.003154</td><td>-0.003149</td><td>null</td><td>0.403986</td><td>0.296365</td><td>0.903377</td><td>1.045235</td><td>-0.072198</td><td>-0.069653</td></tr><tr><td>2022-11-30</td><td>&quot;USBOIQ1&quot;</td><td>2022-11-29</td><td>2022-11-28</td><td>2022-10-31</td><td>2022-09-30</td><td>&quot;USD&quot;</td><td>4.0647e8</td><td>3.54</td><td>0.309561</td><td>0.362827</td><td>null</td><td>0.901386</td><td>0.82125</td><td>0.874842</td><td>1.118549</td><td>0.444583</td><td>0.559839</td></tr></tbody></table></div>"
      ],
      "text/plain": [
       "shape: (32_991, 18)\n",
       "┌────────────┬─────────┬────────────┬────────────┬───┬──────────┬──────────┬───────────┬───────────┐\n",
       "│ date       ┆ barrid  ┆ date_lag_1 ┆ date_lag_2 ┆ … ┆ histbeta ┆ predbeta ┆ log_spec_ ┆ spec_ret  │\n",
       "│ ---        ┆ ---     ┆ d          ┆ d          ┆   ┆ ---      ┆ ---      ┆ ret       ┆ ---       │\n",
       "│ date       ┆ str     ┆ ---        ┆ ---        ┆   ┆ f64      ┆ f64      ┆ ---       ┆ f64       │\n",
       "│            ┆         ┆ date       ┆ date       ┆   ┆          ┆          ┆ f64       ┆           │\n",
       "╞════════════╪═════════╪════════════╪════════════╪═══╪══════════╪══════════╪═══════════╪═══════════╡\n",
       "│ 2022-01-31 ┆ USA06Z1 ┆ 2022-01-28 ┆ 2022-01-27 ┆ … ┆ 1.297365 ┆ 1.337664 ┆ 0.007194  ┆ 0.00722   │\n",
       "│ 2022-02-28 ┆ USA06Z1 ┆ 2022-02-25 ┆ 2022-02-24 ┆ … ┆ 1.379646 ┆ 1.502205 ┆ 0.084383  ┆ 0.088046  │\n",
       "│ 2022-03-31 ┆ USA06Z1 ┆ 2022-03-30 ┆ 2022-03-29 ┆ … ┆ 1.450875 ┆ 1.542893 ┆ -0.073202 ┆ -0.070587 │\n",
       "│ 2022-04-29 ┆ USA06Z1 ┆ 2022-04-28 ┆ 2022-04-27 ┆ … ┆ 1.380664 ┆ 1.533729 ┆ 0.03746   ┆ 0.038171  │\n",
       "│ 2022-05-31 ┆ USA06Z1 ┆ 2022-05-27 ┆ 2022-05-26 ┆ … ┆ 1.481874 ┆ 1.576411 ┆ 0.031012  ┆ 0.031498  │\n",
       "│ …          ┆ …       ┆ …          ┆ …          ┆ … ┆ …        ┆ …        ┆ …         ┆ …         │\n",
       "│ 2022-11-30 ┆ USBOFX1 ┆ 2022-11-29 ┆ 2022-11-28 ┆ … ┆ 0.873843 ┆ 1.281963 ┆ -0.003122 ┆ -0.003117 │\n",
       "│ 2022-10-31 ┆ USBOGD1 ┆ 2022-10-28 ┆ 2022-10-27 ┆ … ┆ 0.83941  ┆ 0.990002 ┆ 0.164542  ┆ 0.178853  │\n",
       "│ 2022-11-30 ┆ USBOGD1 ┆ 2022-11-29 ┆ 2022-11-28 ┆ … ┆ 0.827399 ┆ 1.118619 ┆ -0.042988 ┆ -0.042077 │\n",
       "│ 2022-11-30 ┆ USBOI51 ┆ 2022-11-29 ┆ 2022-11-28 ┆ … ┆ 0.903377 ┆ 1.045235 ┆ -0.072198 ┆ -0.069653 │\n",
       "│ 2022-11-30 ┆ USBOIQ1 ┆ 2022-11-29 ┆ 2022-11-28 ┆ … ┆ 0.874842 ┆ 1.118549 ┆ 0.444583  ┆ 0.559839  │\n",
       "└────────────┴─────────┴────────────┴────────────┴───┴──────────┴──────────┴───────────┴───────────┘"
      ]
     },
     "execution_count": 10,
     "metadata": {},
     "output_type": "execute_result"
    }
   ],
   "source": [
    "historical_data"
   ]
  },
  {
   "cell_type": "code",
   "execution_count": 11,
   "metadata": {},
   "outputs": [],
   "source": [
    "# Create backtest instance\n",
    "bt = Backtester(\n",
    "    start_date=start_date,\n",
    "    end_date=end_date,\n",
    "    interval=Interval.MONTHLY,\n",
    "    historical_data=historical_data,\n",
    "    strategy=BarraBetaStrategy,\n",
    "    constraints=[FullInvestment, NoBuyingOnMargin, ShortingLimit, UnitBeta],\n",
    "    security_identifier=\"barrid\"\n",
    ")"
   ]
  },
  {
   "cell_type": "code",
   "execution_count": 12,
   "metadata": {},
   "outputs": [
    {
     "name": "stderr",
     "output_type": "stream",
     "text": [
      "Chunking data: 100%|██████████| 11/11 [00:00<00:00, 1511.36it/s]\n",
      "Running strategy: 100%|██████████| 11/11 [04:51<00:00, 26.50s/it]\n"
     ]
    }
   ],
   "source": [
    "# Run backtest\n",
    "pnl = bt.run()"
   ]
  },
  {
   "cell_type": "code",
   "execution_count": 13,
   "metadata": {},
   "outputs": [
    {
     "name": "stdout",
     "output_type": "stream",
     "text": [
      "\n",
      "-------------------------------------------------- Backtest P&L --------------------------------------------------\n",
      "shape: (11, 6)\n",
      "┌────────────┬──────────┬───────────────┬──────────────────┬─────────┬────────┐\n",
      "│ date       ┆ n_assets ┆ portfolio_ret ┆ portfolio_logret ┆ cumprod ┆ cumsum │\n",
      "│ ---        ┆ ---      ┆ ---           ┆ ---              ┆ ---     ┆ ---    │\n",
      "│ date       ┆ u32      ┆ f64           ┆ f64              ┆ f64     ┆ f64    │\n",
      "╞════════════╪══════════╪═══════════════╪══════════════════╪═════════╪════════╡\n",
      "│ 2022-01-31 ┆ 3047     ┆ NaN           ┆ NaN              ┆ NaN     ┆ NaN    │\n",
      "│ 2022-02-28 ┆ 3037     ┆ NaN           ┆ NaN              ┆ NaN     ┆ NaN    │\n",
      "│ 2022-03-31 ┆ 3028     ┆ NaN           ┆ NaN              ┆ NaN     ┆ NaN    │\n",
      "│ 2022-04-29 ┆ 3013     ┆ NaN           ┆ NaN              ┆ NaN     ┆ NaN    │\n",
      "│ 2022-05-31 ┆ 3001     ┆ NaN           ┆ NaN              ┆ NaN     ┆ NaN    │\n",
      "│ …          ┆ …        ┆ …             ┆ …                ┆ …       ┆ …      │\n",
      "│ 2022-07-29 ┆ 2992     ┆ NaN           ┆ NaN              ┆ NaN     ┆ NaN    │\n",
      "│ 2022-08-31 ┆ 2979     ┆ NaN           ┆ NaN              ┆ NaN     ┆ NaN    │\n",
      "│ 2022-09-30 ┆ 2979     ┆ NaN           ┆ NaN              ┆ NaN     ┆ NaN    │\n",
      "│ 2022-10-31 ┆ 2958     ┆ NaN           ┆ NaN              ┆ NaN     ┆ NaN    │\n",
      "│ 2022-11-30 ┆ 2952     ┆ NaN           ┆ NaN              ┆ NaN     ┆ NaN    │\n",
      "└────────────┴──────────┴───────────────┴──────────────────┴─────────┴────────┘\n"
     ]
    }
   ],
   "source": [
    "# Table\n",
    "print(\"\\n\" + \"-\" * 50 + \" Backtest P&L \" + \"-\" * 50)\n",
    "print(pnl)"
   ]
  },
  {
   "cell_type": "code",
   "execution_count": null,
   "metadata": {},
   "outputs": [],
   "source": []
  }
 ],
 "metadata": {
  "kernelspec": {
   "display_name": ".venv",
   "language": "python",
   "name": "python3"
  },
  "language_info": {
   "codemirror_mode": {
    "name": "ipython",
    "version": 3
   },
   "file_extension": ".py",
   "mimetype": "text/x-python",
   "name": "python",
   "nbconvert_exporter": "python",
   "pygments_lexer": "ipython3",
   "version": "3.11.4"
  }
 },
 "nbformat": 4,
 "nbformat_minor": 2
}
