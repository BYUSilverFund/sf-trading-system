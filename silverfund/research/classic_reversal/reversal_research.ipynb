{
 "cells": [
  {
   "cell_type": "code",
   "execution_count": 1,
   "metadata": {},
   "outputs": [],
   "source": [
    "import sys\n",
    "from dotenv import load_dotenv\n",
    "import os\n",
    "\n",
    "load_dotenv()\n",
    "\n",
    "sys.path.append(os.getenv(\"ROOT\"))"
   ]
  },
  {
   "cell_type": "code",
   "execution_count": 2,
   "metadata": {},
   "outputs": [],
   "source": [
    "import polars as pl\n",
    "import numpy as np\n",
    "from datetime import date\n",
    "from silverfund.datasets.crsp_daily import CRSPDaily\n",
    "import seaborn as sns\n",
    "import matplotlib.pyplot as plt"
   ]
  },
  {
   "cell_type": "code",
   "execution_count": 3,
   "metadata": {},
   "outputs": [
    {
     "name": "stderr",
     "output_type": "stream",
     "text": [
      "Loading CRSP Daily years:   0%|          | 0/19 [00:00<?, ?it/s]"
     ]
    },
    {
     "name": "stderr",
     "output_type": "stream",
     "text": [
      "Loading CRSP Daily years: 100%|██████████| 19/19 [00:01<00:00, 13.88it/s]\n"
     ]
    },
    {
     "data": {
      "text/html": [
       "<div><style>\n",
       ".dataframe > thead > tr,\n",
       ".dataframe > tbody > tr {\n",
       "  text-align: right;\n",
       "  white-space: pre-wrap;\n",
       "}\n",
       "</style>\n",
       "<small>shape: (18_968_831, 7)</small><table border=\"1\" class=\"dataframe\"><thead><tr><th>permno</th><th>ticker</th><th>date</th><th>shrout</th><th>prc</th><th>ret</th><th>vol</th></tr><tr><td>i64</td><td>str</td><td>date</td><td>f64</td><td>f64</td><td>f64</td><td>f64</td></tr></thead><tbody><tr><td>10001</td><td>&quot;EWST&quot;</td><td>2006-01-03</td><td>2930.0</td><td>9.69</td><td>-0.001031</td><td>700.0</td></tr><tr><td>10001</td><td>&quot;EWST&quot;</td><td>2006-01-04</td><td>2930.0</td><td>9.8</td><td>0.011352</td><td>970.0</td></tr><tr><td>10001</td><td>&quot;EWST&quot;</td><td>2006-01-05</td><td>2930.0</td><td>9.55</td><td>-0.02551</td><td>6682.0</td></tr><tr><td>10001</td><td>&quot;EWST&quot;</td><td>2006-01-06</td><td>2930.0</td><td>9.399</td><td>-0.015812</td><td>12303.0</td></tr><tr><td>10001</td><td>&quot;EWST&quot;</td><td>2006-01-09</td><td>2930.0</td><td>8.92</td><td>-0.050963</td><td>4723.0</td></tr><tr><td>&hellip;</td><td>&hellip;</td><td>&hellip;</td><td>&hellip;</td><td>&hellip;</td><td>&hellip;</td><td>&hellip;</td></tr><tr><td>93436</td><td>&quot;TSLA&quot;</td><td>2024-12-24</td><td>3.21006e6</td><td>462.28</td><td>0.073572</td><td>5.9351506e7</td></tr><tr><td>93436</td><td>&quot;TSLA&quot;</td><td>2024-12-26</td><td>3.21006e6</td><td>454.13</td><td>-0.01763</td><td>7.6392273e7</td></tr><tr><td>93436</td><td>&quot;TSLA&quot;</td><td>2024-12-27</td><td>3.21006e6</td><td>431.66</td><td>-0.049479</td><td>8.2370345e7</td></tr><tr><td>93436</td><td>&quot;TSLA&quot;</td><td>2024-12-30</td><td>3.21006e6</td><td>417.41</td><td>-0.033012</td><td>6.4705452e7</td></tr><tr><td>93436</td><td>&quot;TSLA&quot;</td><td>2024-12-31</td><td>3.21006e6</td><td>403.84</td><td>-0.03251</td><td>7.6455213e7</td></tr></tbody></table></div>"
      ],
      "text/plain": [
       "shape: (18_968_831, 7)\n",
       "┌────────┬────────┬────────────┬───────────┬────────┬───────────┬─────────────┐\n",
       "│ permno ┆ ticker ┆ date       ┆ shrout    ┆ prc    ┆ ret       ┆ vol         │\n",
       "│ ---    ┆ ---    ┆ ---        ┆ ---       ┆ ---    ┆ ---       ┆ ---         │\n",
       "│ i64    ┆ str    ┆ date       ┆ f64       ┆ f64    ┆ f64       ┆ f64         │\n",
       "╞════════╪════════╪════════════╪═══════════╪════════╪═══════════╪═════════════╡\n",
       "│ 10001  ┆ EWST   ┆ 2006-01-03 ┆ 2930.0    ┆ 9.69   ┆ -0.001031 ┆ 700.0       │\n",
       "│ 10001  ┆ EWST   ┆ 2006-01-04 ┆ 2930.0    ┆ 9.8    ┆ 0.011352  ┆ 970.0       │\n",
       "│ 10001  ┆ EWST   ┆ 2006-01-05 ┆ 2930.0    ┆ 9.55   ┆ -0.02551  ┆ 6682.0      │\n",
       "│ 10001  ┆ EWST   ┆ 2006-01-06 ┆ 2930.0    ┆ 9.399  ┆ -0.015812 ┆ 12303.0     │\n",
       "│ 10001  ┆ EWST   ┆ 2006-01-09 ┆ 2930.0    ┆ 8.92   ┆ -0.050963 ┆ 4723.0      │\n",
       "│ …      ┆ …      ┆ …          ┆ …         ┆ …      ┆ …         ┆ …           │\n",
       "│ 93436  ┆ TSLA   ┆ 2024-12-24 ┆ 3.21006e6 ┆ 462.28 ┆ 0.073572  ┆ 5.9351506e7 │\n",
       "│ 93436  ┆ TSLA   ┆ 2024-12-26 ┆ 3.21006e6 ┆ 454.13 ┆ -0.01763  ┆ 7.6392273e7 │\n",
       "│ 93436  ┆ TSLA   ┆ 2024-12-27 ┆ 3.21006e6 ┆ 431.66 ┆ -0.049479 ┆ 8.2370345e7 │\n",
       "│ 93436  ┆ TSLA   ┆ 2024-12-30 ┆ 3.21006e6 ┆ 417.41 ┆ -0.033012 ┆ 6.4705452e7 │\n",
       "│ 93436  ┆ TSLA   ┆ 2024-12-31 ┆ 3.21006e6 ┆ 403.84 ┆ -0.03251  ┆ 7.6455213e7 │\n",
       "└────────┴────────┴────────────┴───────────┴────────┴───────────┴─────────────┘"
      ]
     },
     "execution_count": 3,
     "metadata": {},
     "output_type": "execute_result"
    }
   ],
   "source": [
    "# Load dataset\n",
    "df = (\n",
    "    CRSPDaily(start_date=date(2006, 1, 1), end_date=date(2024, 12, 31))\n",
    "    .load_all()\n",
    "    .select([\"permno\", \"ticker\", \"date\", \"shrout\", \"prc\", \"ret\", \"vol\"])\n",
    ")\n",
    "\n",
    "df"
   ]
  },
  {
   "cell_type": "code",
   "execution_count": 8,
   "metadata": {},
   "outputs": [
    {
     "name": "stdout",
     "output_type": "stream",
     "text": [
      "2696671.0\n",
      "166799.0\n",
      "2529872.0\n"
     ]
    },
    {
     "data": {
      "text/html": [
       "<div><style>\n",
       ".dataframe > thead > tr,\n",
       ".dataframe > tbody > tr {\n",
       "  text-align: right;\n",
       "  white-space: pre-wrap;\n",
       "}\n",
       "</style>\n",
       "<small>shape: (18_968_831, 42)</small><table border=\"1\" class=\"dataframe\"><thead><tr><th>permno</th><th>ticker</th><th>date</th><th>shrout</th><th>prc</th><th>ret</th><th>vol</th><th>logret</th><th>diff_vol</th><th>news</th><th>goodnews</th><th>badnews</th><th>news_lag1</th><th>news_lag2</th><th>news_lag3</th><th>news_lag4</th><th>news_lag5</th><th>news_lag6</th><th>news_lag7</th><th>news_lag8</th><th>news_lag9</th><th>news_lag10</th><th>news_lag11</th><th>news_lag12</th><th>news_lag13</th><th>news_lag14</th><th>news_lag15</th><th>news_lag16</th><th>news_lag17</th><th>news_lag18</th><th>news_lag19</th><th>news_lag20</th><th>news_lag21</th><th>news_lag22</th><th>news_lag23</th><th>news_lag24</th><th>news_lag25</th><th>news_lag26</th><th>news_lag27</th><th>news_lag28</th><th>news_lag29</th><th>news_lag30</th></tr><tr><td>i64</td><td>str</td><td>date</td><td>f64</td><td>f64</td><td>f64</td><td>f64</td><td>f64</td><td>f64</td><td>f64</td><td>f64</td><td>f64</td><td>f64</td><td>f64</td><td>f64</td><td>f64</td><td>f64</td><td>f64</td><td>f64</td><td>f64</td><td>f64</td><td>f64</td><td>f64</td><td>f64</td><td>f64</td><td>f64</td><td>f64</td><td>f64</td><td>f64</td><td>f64</td><td>f64</td><td>f64</td><td>f64</td><td>f64</td><td>f64</td><td>f64</td><td>f64</td><td>f64</td><td>f64</td><td>f64</td><td>f64</td><td>f64</td></tr></thead><tbody><tr><td>10001</td><td>&quot;EWST&quot;</td><td>2006-01-03</td><td>2930.0</td><td>9.69</td><td>-0.001031</td><td>700.0</td><td>-0.001032</td><td>null</td><td>null</td><td>null</td><td>null</td><td>null</td><td>null</td><td>null</td><td>null</td><td>null</td><td>null</td><td>null</td><td>null</td><td>null</td><td>null</td><td>null</td><td>null</td><td>null</td><td>null</td><td>null</td><td>null</td><td>null</td><td>null</td><td>null</td><td>null</td><td>null</td><td>null</td><td>null</td><td>null</td><td>null</td><td>null</td><td>null</td><td>null</td><td>null</td><td>null</td></tr><tr><td>10001</td><td>&quot;EWST&quot;</td><td>2006-01-04</td><td>2930.0</td><td>9.8</td><td>0.011352</td><td>970.0</td><td>0.011288</td><td>0.385714</td><td>0.0</td><td>0.0</td><td>0.0</td><td>null</td><td>null</td><td>null</td><td>null</td><td>null</td><td>null</td><td>null</td><td>null</td><td>null</td><td>null</td><td>null</td><td>null</td><td>null</td><td>null</td><td>null</td><td>null</td><td>null</td><td>null</td><td>null</td><td>null</td><td>null</td><td>null</td><td>null</td><td>null</td><td>null</td><td>null</td><td>null</td><td>null</td><td>null</td><td>null</td></tr><tr><td>10001</td><td>&quot;EWST&quot;</td><td>2006-01-05</td><td>2930.0</td><td>9.55</td><td>-0.02551</td><td>6682.0</td><td>-0.025841</td><td>5.88866</td><td>1.0</td><td>1.0</td><td>0.0</td><td>0.0</td><td>null</td><td>null</td><td>null</td><td>null</td><td>null</td><td>null</td><td>null</td><td>null</td><td>null</td><td>null</td><td>null</td><td>null</td><td>null</td><td>null</td><td>null</td><td>null</td><td>null</td><td>null</td><td>null</td><td>null</td><td>null</td><td>null</td><td>null</td><td>null</td><td>null</td><td>null</td><td>null</td><td>null</td><td>null</td></tr><tr><td>10001</td><td>&quot;EWST&quot;</td><td>2006-01-06</td><td>2930.0</td><td>9.399</td><td>-0.015812</td><td>12303.0</td><td>-0.015938</td><td>0.841215</td><td>0.0</td><td>0.0</td><td>0.0</td><td>1.0</td><td>0.0</td><td>null</td><td>null</td><td>null</td><td>null</td><td>null</td><td>null</td><td>null</td><td>null</td><td>null</td><td>null</td><td>null</td><td>null</td><td>null</td><td>null</td><td>null</td><td>null</td><td>null</td><td>null</td><td>null</td><td>null</td><td>null</td><td>null</td><td>null</td><td>null</td><td>null</td><td>null</td><td>null</td><td>null</td></tr><tr><td>10001</td><td>&quot;EWST&quot;</td><td>2006-01-09</td><td>2930.0</td><td>8.92</td><td>-0.050963</td><td>4723.0</td><td>-0.052307</td><td>-0.61611</td><td>0.0</td><td>0.0</td><td>0.0</td><td>0.0</td><td>1.0</td><td>0.0</td><td>null</td><td>null</td><td>null</td><td>null</td><td>null</td><td>null</td><td>null</td><td>null</td><td>null</td><td>null</td><td>null</td><td>null</td><td>null</td><td>null</td><td>null</td><td>null</td><td>null</td><td>null</td><td>null</td><td>null</td><td>null</td><td>null</td><td>null</td><td>null</td><td>null</td><td>null</td><td>null</td></tr><tr><td>&hellip;</td><td>&hellip;</td><td>&hellip;</td><td>&hellip;</td><td>&hellip;</td><td>&hellip;</td><td>&hellip;</td><td>&hellip;</td><td>&hellip;</td><td>&hellip;</td><td>&hellip;</td><td>&hellip;</td><td>&hellip;</td><td>&hellip;</td><td>&hellip;</td><td>&hellip;</td><td>&hellip;</td><td>&hellip;</td><td>&hellip;</td><td>&hellip;</td><td>&hellip;</td><td>&hellip;</td><td>&hellip;</td><td>&hellip;</td><td>&hellip;</td><td>&hellip;</td><td>&hellip;</td><td>&hellip;</td><td>&hellip;</td><td>&hellip;</td><td>&hellip;</td><td>&hellip;</td><td>&hellip;</td><td>&hellip;</td><td>&hellip;</td><td>&hellip;</td><td>&hellip;</td><td>&hellip;</td><td>&hellip;</td><td>&hellip;</td><td>&hellip;</td><td>&hellip;</td></tr><tr><td>93436</td><td>&quot;TSLA&quot;</td><td>2024-12-24</td><td>3.21006e6</td><td>462.28</td><td>0.073572</td><td>5.9351506e7</td><td>0.070991</td><td>-0.180596</td><td>0.0</td><td>0.0</td><td>0.0</td><td>0.0</td><td>0.0</td><td>0.0</td><td>0.0</td><td>0.0</td><td>0.0</td><td>0.0</td><td>0.0</td><td>0.0</td><td>0.0</td><td>0.0</td><td>0.0</td><td>0.0</td><td>0.0</td><td>0.0</td><td>1.0</td><td>0.0</td><td>0.0</td><td>0.0</td><td>0.0</td><td>0.0</td><td>0.0</td><td>0.0</td><td>0.0</td><td>0.0</td><td>0.0</td><td>0.0</td><td>0.0</td><td>0.0</td><td>0.0</td></tr><tr><td>93436</td><td>&quot;TSLA&quot;</td><td>2024-12-26</td><td>3.21006e6</td><td>454.13</td><td>-0.01763</td><td>7.6392273e7</td><td>-0.017787</td><td>0.287116</td><td>0.0</td><td>0.0</td><td>0.0</td><td>0.0</td><td>0.0</td><td>0.0</td><td>0.0</td><td>0.0</td><td>0.0</td><td>0.0</td><td>0.0</td><td>0.0</td><td>0.0</td><td>0.0</td><td>0.0</td><td>0.0</td><td>0.0</td><td>0.0</td><td>0.0</td><td>1.0</td><td>0.0</td><td>0.0</td><td>0.0</td><td>0.0</td><td>0.0</td><td>0.0</td><td>0.0</td><td>0.0</td><td>0.0</td><td>0.0</td><td>0.0</td><td>0.0</td><td>0.0</td></tr><tr><td>93436</td><td>&quot;TSLA&quot;</td><td>2024-12-27</td><td>3.21006e6</td><td>431.66</td><td>-0.049479</td><td>8.2370345e7</td><td>-0.050745</td><td>0.078255</td><td>0.0</td><td>0.0</td><td>0.0</td><td>0.0</td><td>0.0</td><td>0.0</td><td>0.0</td><td>0.0</td><td>0.0</td><td>0.0</td><td>0.0</td><td>0.0</td><td>0.0</td><td>0.0</td><td>0.0</td><td>0.0</td><td>0.0</td><td>0.0</td><td>0.0</td><td>0.0</td><td>1.0</td><td>0.0</td><td>0.0</td><td>0.0</td><td>0.0</td><td>0.0</td><td>0.0</td><td>0.0</td><td>0.0</td><td>0.0</td><td>0.0</td><td>0.0</td><td>0.0</td></tr><tr><td>93436</td><td>&quot;TSLA&quot;</td><td>2024-12-30</td><td>3.21006e6</td><td>417.41</td><td>-0.033012</td><td>6.4705452e7</td><td>-0.033569</td><td>-0.214457</td><td>0.0</td><td>0.0</td><td>0.0</td><td>0.0</td><td>0.0</td><td>0.0</td><td>0.0</td><td>0.0</td><td>0.0</td><td>0.0</td><td>0.0</td><td>0.0</td><td>0.0</td><td>0.0</td><td>0.0</td><td>0.0</td><td>0.0</td><td>0.0</td><td>0.0</td><td>0.0</td><td>0.0</td><td>1.0</td><td>0.0</td><td>0.0</td><td>0.0</td><td>0.0</td><td>0.0</td><td>0.0</td><td>0.0</td><td>0.0</td><td>0.0</td><td>0.0</td><td>0.0</td></tr><tr><td>93436</td><td>&quot;TSLA&quot;</td><td>2024-12-31</td><td>3.21006e6</td><td>403.84</td><td>-0.03251</td><td>7.6455213e7</td><td>-0.03305</td><td>0.181588</td><td>0.0</td><td>0.0</td><td>0.0</td><td>0.0</td><td>0.0</td><td>0.0</td><td>0.0</td><td>0.0</td><td>0.0</td><td>0.0</td><td>0.0</td><td>0.0</td><td>0.0</td><td>0.0</td><td>0.0</td><td>0.0</td><td>0.0</td><td>0.0</td><td>0.0</td><td>0.0</td><td>0.0</td><td>0.0</td><td>1.0</td><td>0.0</td><td>0.0</td><td>0.0</td><td>0.0</td><td>0.0</td><td>0.0</td><td>0.0</td><td>0.0</td><td>0.0</td><td>0.0</td></tr></tbody></table></div>"
      ],
      "text/plain": [
       "shape: (18_968_831, 42)\n",
       "┌────────┬────────┬────────────┬───────────┬───┬────────────┬────────────┬────────────┬────────────┐\n",
       "│ permno ┆ ticker ┆ date       ┆ shrout    ┆ … ┆ news_lag27 ┆ news_lag28 ┆ news_lag29 ┆ news_lag30 │\n",
       "│ ---    ┆ ---    ┆ ---        ┆ ---       ┆   ┆ ---        ┆ ---        ┆ ---        ┆ ---        │\n",
       "│ i64    ┆ str    ┆ date       ┆ f64       ┆   ┆ f64        ┆ f64        ┆ f64        ┆ f64        │\n",
       "╞════════╪════════╪════════════╪═══════════╪═══╪════════════╪════════════╪════════════╪════════════╡\n",
       "│ 10001  ┆ EWST   ┆ 2006-01-03 ┆ 2930.0    ┆ … ┆ null       ┆ null       ┆ null       ┆ null       │\n",
       "│ 10001  ┆ EWST   ┆ 2006-01-04 ┆ 2930.0    ┆ … ┆ null       ┆ null       ┆ null       ┆ null       │\n",
       "│ 10001  ┆ EWST   ┆ 2006-01-05 ┆ 2930.0    ┆ … ┆ null       ┆ null       ┆ null       ┆ null       │\n",
       "│ 10001  ┆ EWST   ┆ 2006-01-06 ┆ 2930.0    ┆ … ┆ null       ┆ null       ┆ null       ┆ null       │\n",
       "│ 10001  ┆ EWST   ┆ 2006-01-09 ┆ 2930.0    ┆ … ┆ null       ┆ null       ┆ null       ┆ null       │\n",
       "│ …      ┆ …      ┆ …          ┆ …         ┆ … ┆ …          ┆ …          ┆ …          ┆ …          │\n",
       "│ 93436  ┆ TSLA   ┆ 2024-12-24 ┆ 3.21006e6 ┆ … ┆ 0.0        ┆ 0.0        ┆ 0.0        ┆ 0.0        │\n",
       "│ 93436  ┆ TSLA   ┆ 2024-12-26 ┆ 3.21006e6 ┆ … ┆ 0.0        ┆ 0.0        ┆ 0.0        ┆ 0.0        │\n",
       "│ 93436  ┆ TSLA   ┆ 2024-12-27 ┆ 3.21006e6 ┆ … ┆ 0.0        ┆ 0.0        ┆ 0.0        ┆ 0.0        │\n",
       "│ 93436  ┆ TSLA   ┆ 2024-12-30 ┆ 3.21006e6 ┆ … ┆ 0.0        ┆ 0.0        ┆ 0.0        ┆ 0.0        │\n",
       "│ 93436  ┆ TSLA   ┆ 2024-12-31 ┆ 3.21006e6 ┆ … ┆ 0.0        ┆ 0.0        ┆ 0.0        ┆ 0.0        │\n",
       "└────────┴────────┴────────────┴───────────┴───┴────────────┴────────────┴────────────┴────────────┘"
      ]
     },
     "execution_count": 8,
     "metadata": {},
     "output_type": "execute_result"
    }
   ],
   "source": [
    "# Form reversal signal\n",
    "\n",
    "# Log returns\n",
    "df = df.with_columns(pl.col(\"ret\").log1p().alias(\"logret\"))\n",
    "\n",
    "\n",
    "df = df.with_columns(pl.col(\"vol\").pct_change().over(\"permno\").alias(\"diff_vol\"))\n",
    "\n",
    "df = df.with_columns((pl.col(\"diff_vol\") >= 1).cast(pl.Float64).alias(\"goodnews\"))\n",
    "print(df[\"goodnews\"].sum())\n",
    "df = df.with_columns((pl.col(\"diff_vol\") <= -1).cast(pl.Float64).alias(\"badnews\"))\n",
    "print(df[\"badnews\"].sum())\n",
    "\n",
    "df = df.with_columns((pl.col(\"goodnews\") - pl.col(\"badnews\")).alias(\"news\"))\n",
    "print(df[\"news\"].sum())\n",
    "\n",
    "# df = df.with_columns((abs(pl.col('diff_vol'))>=2).cast(pl.Float64).alias('news2'))\n",
    "# print(df['news'].sum())\n",
    "# print(df['news2'].sum())\n",
    "\n",
    "# # Rolling sum from t-23 to t-1\n",
    "# df = df.with_columns(\n",
    "#     pl.col(\"logret\")\n",
    "#     .rolling_sum(window_size=22, min_periods=22)\n",
    "#     .shift(1)\n",
    "#     .over(\"permno\")\n",
    "#     .alias(\"rev\")\n",
    "# )\n",
    "\n",
    "\n",
    "# lagged news\n",
    "df = df.with_columns(\n",
    "    [pl.col(\"news\").shift(i).over(\"permno\").alias(f\"news_lag{i}\") for i in range(1, 31)]\n",
    ")\n",
    "\n",
    "\n",
    "df"
   ]
  },
  {
   "cell_type": "code",
   "execution_count": null,
   "metadata": {},
   "outputs": [],
   "source": []
  },
  {
   "cell_type": "code",
   "execution_count": 9,
   "metadata": {},
   "outputs": [
    {
     "data": {
      "text/html": [
       "<div><style>\n",
       ".dataframe > thead > tr,\n",
       ".dataframe > tbody > tr {\n",
       "  text-align: right;\n",
       "  white-space: pre-wrap;\n",
       "}\n",
       "</style>\n",
       "<small>shape: (14_140_062, 43)</small><table border=\"1\" class=\"dataframe\"><thead><tr><th>permno</th><th>ticker</th><th>date</th><th>shrout</th><th>prc</th><th>ret</th><th>vol</th><th>logret</th><th>diff_vol</th><th>news</th><th>goodnews</th><th>badnews</th><th>news_lag1</th><th>news_lag2</th><th>news_lag3</th><th>news_lag4</th><th>news_lag5</th><th>news_lag6</th><th>news_lag7</th><th>news_lag8</th><th>news_lag9</th><th>news_lag10</th><th>news_lag11</th><th>news_lag12</th><th>news_lag13</th><th>news_lag14</th><th>news_lag15</th><th>news_lag16</th><th>news_lag17</th><th>news_lag18</th><th>news_lag19</th><th>news_lag20</th><th>news_lag21</th><th>news_lag22</th><th>news_lag23</th><th>news_lag24</th><th>news_lag25</th><th>news_lag26</th><th>news_lag27</th><th>news_lag28</th><th>news_lag29</th><th>news_lag30</th><th>prclag</th></tr><tr><td>i64</td><td>str</td><td>date</td><td>f64</td><td>f64</td><td>f64</td><td>f64</td><td>f64</td><td>f64</td><td>f64</td><td>f64</td><td>f64</td><td>f64</td><td>f64</td><td>f64</td><td>f64</td><td>f64</td><td>f64</td><td>f64</td><td>f64</td><td>f64</td><td>f64</td><td>f64</td><td>f64</td><td>f64</td><td>f64</td><td>f64</td><td>f64</td><td>f64</td><td>f64</td><td>f64</td><td>f64</td><td>f64</td><td>f64</td><td>f64</td><td>f64</td><td>f64</td><td>f64</td><td>f64</td><td>f64</td><td>f64</td><td>f64</td><td>f64</td></tr></thead><tbody><tr><td>10001</td><td>&quot;EWST&quot;</td><td>2006-02-16</td><td>2931.0</td><td>9.5</td><td>-0.003754</td><td>2385.0</td><td>-0.003761</td><td>1.773256</td><td>1.0</td><td>1.0</td><td>0.0</td><td>0.0</td><td>1.0</td><td>1.0</td><td>0.0</td><td>0.0</td><td>0.0</td><td>0.0</td><td>1.0</td><td>0.0</td><td>0.0</td><td>0.0</td><td>0.0</td><td>0.0</td><td>0.0</td><td>1.0</td><td>0.0</td><td>0.0</td><td>1.0</td><td>0.0</td><td>1.0</td><td>0.0</td><td>0.0</td><td>0.0</td><td>0.0</td><td>1.0</td><td>0.0</td><td>0.0</td><td>0.0</td><td>1.0</td><td>0.0</td><td>9.5358</td></tr><tr><td>10001</td><td>&quot;EWST&quot;</td><td>2006-02-17</td><td>2931.0</td><td>9.6054</td><td>0.011095</td><td>2216.0</td><td>0.011034</td><td>-0.07086</td><td>0.0</td><td>0.0</td><td>0.0</td><td>1.0</td><td>0.0</td><td>1.0</td><td>1.0</td><td>0.0</td><td>0.0</td><td>0.0</td><td>0.0</td><td>1.0</td><td>0.0</td><td>0.0</td><td>0.0</td><td>0.0</td><td>0.0</td><td>0.0</td><td>1.0</td><td>0.0</td><td>0.0</td><td>1.0</td><td>0.0</td><td>1.0</td><td>0.0</td><td>0.0</td><td>0.0</td><td>0.0</td><td>1.0</td><td>0.0</td><td>0.0</td><td>0.0</td><td>1.0</td><td>9.5</td></tr><tr><td>10001</td><td>&quot;EWST&quot;</td><td>2006-02-21</td><td>2931.0</td><td>9.6</td><td>-0.000562</td><td>4611.0</td><td>-0.000562</td><td>1.080776</td><td>1.0</td><td>1.0</td><td>0.0</td><td>0.0</td><td>1.0</td><td>0.0</td><td>1.0</td><td>1.0</td><td>0.0</td><td>0.0</td><td>0.0</td><td>0.0</td><td>1.0</td><td>0.0</td><td>0.0</td><td>0.0</td><td>0.0</td><td>0.0</td><td>0.0</td><td>1.0</td><td>0.0</td><td>0.0</td><td>1.0</td><td>0.0</td><td>1.0</td><td>0.0</td><td>0.0</td><td>0.0</td><td>0.0</td><td>1.0</td><td>0.0</td><td>0.0</td><td>0.0</td><td>9.6054</td></tr><tr><td>10001</td><td>&quot;EWST&quot;</td><td>2006-02-22</td><td>2931.0</td><td>9.5</td><td>-0.010417</td><td>500.0</td><td>-0.010472</td><td>-0.891564</td><td>0.0</td><td>0.0</td><td>0.0</td><td>1.0</td><td>0.0</td><td>1.0</td><td>0.0</td><td>1.0</td><td>1.0</td><td>0.0</td><td>0.0</td><td>0.0</td><td>0.0</td><td>1.0</td><td>0.0</td><td>0.0</td><td>0.0</td><td>0.0</td><td>0.0</td><td>0.0</td><td>1.0</td><td>0.0</td><td>0.0</td><td>1.0</td><td>0.0</td><td>1.0</td><td>0.0</td><td>0.0</td><td>0.0</td><td>0.0</td><td>1.0</td><td>0.0</td><td>0.0</td><td>9.6</td></tr><tr><td>10001</td><td>&quot;EWST&quot;</td><td>2006-02-23</td><td>2931.0</td><td>9.3</td><td>-0.021053</td><td>3335.0</td><td>-0.021278</td><td>5.67</td><td>1.0</td><td>1.0</td><td>0.0</td><td>0.0</td><td>1.0</td><td>0.0</td><td>1.0</td><td>0.0</td><td>1.0</td><td>1.0</td><td>0.0</td><td>0.0</td><td>0.0</td><td>0.0</td><td>1.0</td><td>0.0</td><td>0.0</td><td>0.0</td><td>0.0</td><td>0.0</td><td>0.0</td><td>1.0</td><td>0.0</td><td>0.0</td><td>1.0</td><td>0.0</td><td>1.0</td><td>0.0</td><td>0.0</td><td>0.0</td><td>0.0</td><td>1.0</td><td>0.0</td><td>9.5</td></tr><tr><td>&hellip;</td><td>&hellip;</td><td>&hellip;</td><td>&hellip;</td><td>&hellip;</td><td>&hellip;</td><td>&hellip;</td><td>&hellip;</td><td>&hellip;</td><td>&hellip;</td><td>&hellip;</td><td>&hellip;</td><td>&hellip;</td><td>&hellip;</td><td>&hellip;</td><td>&hellip;</td><td>&hellip;</td><td>&hellip;</td><td>&hellip;</td><td>&hellip;</td><td>&hellip;</td><td>&hellip;</td><td>&hellip;</td><td>&hellip;</td><td>&hellip;</td><td>&hellip;</td><td>&hellip;</td><td>&hellip;</td><td>&hellip;</td><td>&hellip;</td><td>&hellip;</td><td>&hellip;</td><td>&hellip;</td><td>&hellip;</td><td>&hellip;</td><td>&hellip;</td><td>&hellip;</td><td>&hellip;</td><td>&hellip;</td><td>&hellip;</td><td>&hellip;</td><td>&hellip;</td><td>&hellip;</td></tr><tr><td>93436</td><td>&quot;TSLA&quot;</td><td>2024-12-24</td><td>3.21006e6</td><td>462.28</td><td>0.073572</td><td>5.9351506e7</td><td>0.070991</td><td>-0.180596</td><td>0.0</td><td>0.0</td><td>0.0</td><td>0.0</td><td>0.0</td><td>0.0</td><td>0.0</td><td>0.0</td><td>0.0</td><td>0.0</td><td>0.0</td><td>0.0</td><td>0.0</td><td>0.0</td><td>0.0</td><td>0.0</td><td>0.0</td><td>0.0</td><td>1.0</td><td>0.0</td><td>0.0</td><td>0.0</td><td>0.0</td><td>0.0</td><td>0.0</td><td>0.0</td><td>0.0</td><td>0.0</td><td>0.0</td><td>0.0</td><td>0.0</td><td>0.0</td><td>0.0</td><td>430.60001</td></tr><tr><td>93436</td><td>&quot;TSLA&quot;</td><td>2024-12-26</td><td>3.21006e6</td><td>454.13</td><td>-0.01763</td><td>7.6392273e7</td><td>-0.017787</td><td>0.287116</td><td>0.0</td><td>0.0</td><td>0.0</td><td>0.0</td><td>0.0</td><td>0.0</td><td>0.0</td><td>0.0</td><td>0.0</td><td>0.0</td><td>0.0</td><td>0.0</td><td>0.0</td><td>0.0</td><td>0.0</td><td>0.0</td><td>0.0</td><td>0.0</td><td>0.0</td><td>1.0</td><td>0.0</td><td>0.0</td><td>0.0</td><td>0.0</td><td>0.0</td><td>0.0</td><td>0.0</td><td>0.0</td><td>0.0</td><td>0.0</td><td>0.0</td><td>0.0</td><td>0.0</td><td>462.28</td></tr><tr><td>93436</td><td>&quot;TSLA&quot;</td><td>2024-12-27</td><td>3.21006e6</td><td>431.66</td><td>-0.049479</td><td>8.2370345e7</td><td>-0.050745</td><td>0.078255</td><td>0.0</td><td>0.0</td><td>0.0</td><td>0.0</td><td>0.0</td><td>0.0</td><td>0.0</td><td>0.0</td><td>0.0</td><td>0.0</td><td>0.0</td><td>0.0</td><td>0.0</td><td>0.0</td><td>0.0</td><td>0.0</td><td>0.0</td><td>0.0</td><td>0.0</td><td>0.0</td><td>1.0</td><td>0.0</td><td>0.0</td><td>0.0</td><td>0.0</td><td>0.0</td><td>0.0</td><td>0.0</td><td>0.0</td><td>0.0</td><td>0.0</td><td>0.0</td><td>0.0</td><td>454.13</td></tr><tr><td>93436</td><td>&quot;TSLA&quot;</td><td>2024-12-30</td><td>3.21006e6</td><td>417.41</td><td>-0.033012</td><td>6.4705452e7</td><td>-0.033569</td><td>-0.214457</td><td>0.0</td><td>0.0</td><td>0.0</td><td>0.0</td><td>0.0</td><td>0.0</td><td>0.0</td><td>0.0</td><td>0.0</td><td>0.0</td><td>0.0</td><td>0.0</td><td>0.0</td><td>0.0</td><td>0.0</td><td>0.0</td><td>0.0</td><td>0.0</td><td>0.0</td><td>0.0</td><td>0.0</td><td>1.0</td><td>0.0</td><td>0.0</td><td>0.0</td><td>0.0</td><td>0.0</td><td>0.0</td><td>0.0</td><td>0.0</td><td>0.0</td><td>0.0</td><td>0.0</td><td>431.66</td></tr><tr><td>93436</td><td>&quot;TSLA&quot;</td><td>2024-12-31</td><td>3.21006e6</td><td>403.84</td><td>-0.03251</td><td>7.6455213e7</td><td>-0.03305</td><td>0.181588</td><td>0.0</td><td>0.0</td><td>0.0</td><td>0.0</td><td>0.0</td><td>0.0</td><td>0.0</td><td>0.0</td><td>0.0</td><td>0.0</td><td>0.0</td><td>0.0</td><td>0.0</td><td>0.0</td><td>0.0</td><td>0.0</td><td>0.0</td><td>0.0</td><td>0.0</td><td>0.0</td><td>0.0</td><td>0.0</td><td>1.0</td><td>0.0</td><td>0.0</td><td>0.0</td><td>0.0</td><td>0.0</td><td>0.0</td><td>0.0</td><td>0.0</td><td>0.0</td><td>0.0</td><td>417.41</td></tr></tbody></table></div>"
      ],
      "text/plain": [
       "shape: (14_140_062, 43)\n",
       "┌────────┬────────┬────────────┬───────────┬───┬────────────┬────────────┬────────────┬───────────┐\n",
       "│ permno ┆ ticker ┆ date       ┆ shrout    ┆ … ┆ news_lag28 ┆ news_lag29 ┆ news_lag30 ┆ prclag    │\n",
       "│ ---    ┆ ---    ┆ ---        ┆ ---       ┆   ┆ ---        ┆ ---        ┆ ---        ┆ ---       │\n",
       "│ i64    ┆ str    ┆ date       ┆ f64       ┆   ┆ f64        ┆ f64        ┆ f64        ┆ f64       │\n",
       "╞════════╪════════╪════════════╪═══════════╪═══╪════════════╪════════════╪════════════╪═══════════╡\n",
       "│ 10001  ┆ EWST   ┆ 2006-02-16 ┆ 2931.0    ┆ … ┆ 0.0        ┆ 1.0        ┆ 0.0        ┆ 9.5358    │\n",
       "│ 10001  ┆ EWST   ┆ 2006-02-17 ┆ 2931.0    ┆ … ┆ 0.0        ┆ 0.0        ┆ 1.0        ┆ 9.5       │\n",
       "│ 10001  ┆ EWST   ┆ 2006-02-21 ┆ 2931.0    ┆ … ┆ 0.0        ┆ 0.0        ┆ 0.0        ┆ 9.6054    │\n",
       "│ 10001  ┆ EWST   ┆ 2006-02-22 ┆ 2931.0    ┆ … ┆ 1.0        ┆ 0.0        ┆ 0.0        ┆ 9.6       │\n",
       "│ 10001  ┆ EWST   ┆ 2006-02-23 ┆ 2931.0    ┆ … ┆ 0.0        ┆ 1.0        ┆ 0.0        ┆ 9.5       │\n",
       "│ …      ┆ …      ┆ …          ┆ …         ┆ … ┆ …          ┆ …          ┆ …          ┆ …         │\n",
       "│ 93436  ┆ TSLA   ┆ 2024-12-24 ┆ 3.21006e6 ┆ … ┆ 0.0        ┆ 0.0        ┆ 0.0        ┆ 430.60001 │\n",
       "│ 93436  ┆ TSLA   ┆ 2024-12-26 ┆ 3.21006e6 ┆ … ┆ 0.0        ┆ 0.0        ┆ 0.0        ┆ 462.28    │\n",
       "│ 93436  ┆ TSLA   ┆ 2024-12-27 ┆ 3.21006e6 ┆ … ┆ 0.0        ┆ 0.0        ┆ 0.0        ┆ 454.13    │\n",
       "│ 93436  ┆ TSLA   ┆ 2024-12-30 ┆ 3.21006e6 ┆ … ┆ 0.0        ┆ 0.0        ┆ 0.0        ┆ 431.66    │\n",
       "│ 93436  ┆ TSLA   ┆ 2024-12-31 ┆ 3.21006e6 ┆ … ┆ 0.0        ┆ 0.0        ┆ 0.0        ┆ 417.41    │\n",
       "└────────┴────────┴────────────┴───────────┴───┴────────────┴────────────┴────────────┴───────────┘"
      ]
     },
     "execution_count": 9,
     "metadata": {},
     "output_type": "execute_result"
    }
   ],
   "source": [
    "# Filters\n",
    "\n",
    "# Price greater than 5\n",
    "df = df.with_columns(pl.col(\"prc\").shift(1).over(\"permno\").alias(\"prclag\"))\n",
    "df = df.filter(pl.col(\"prclag\") > 5)\n",
    "\n",
    "df = df.drop_nulls(subset=[\"news_lag30\"])\n",
    "\n",
    "# # Non-null reversal signal\n",
    "# df = df.drop_nulls(subset=[\"rev\"])\n",
    "\n",
    "df"
   ]
  },
  {
   "cell_type": "code",
   "execution_count": 10,
   "metadata": {},
   "outputs": [],
   "source": [
    "import statsmodels.api as sm"
   ]
  },
  {
   "cell_type": "code",
   "execution_count": 11,
   "metadata": {},
   "outputs": [],
   "source": [
    "df = df.with_columns(pl.lit(1).alias(\"constant\"))"
   ]
  },
  {
   "cell_type": "code",
   "execution_count": 12,
   "metadata": {},
   "outputs": [
    {
     "name": "stdout",
     "output_type": "stream",
     "text": [
      "                            OLS Regression Results                            \n",
      "==============================================================================\n",
      "Dep. Variable:                      y   R-squared:                         nan\n",
      "Model:                            OLS   Adj. R-squared:                    nan\n",
      "Method:                 Least Squares   F-statistic:                       nan\n",
      "Date:                Wed, 29 Jan 2025   Prob (F-statistic):                nan\n",
      "Time:                        17:11:53   Log-Likelihood:                    nan\n",
      "No. Observations:            14140062   AIC:                               nan\n",
      "Df Residuals:                14140030   BIC:                               nan\n",
      "Df Model:                          31                                         \n",
      "Covariance Type:            nonrobust                                         \n",
      "==============================================================================\n",
      "                 coef    std err          t      P>|t|      [0.025      0.975]\n",
      "------------------------------------------------------------------------------\n",
      "x1                nan        nan        nan        nan         nan         nan\n",
      "x2                nan        nan        nan        nan         nan         nan\n",
      "x3                nan        nan        nan        nan         nan         nan\n",
      "x4                nan        nan        nan        nan         nan         nan\n",
      "x5                nan        nan        nan        nan         nan         nan\n",
      "x6                nan        nan        nan        nan         nan         nan\n",
      "x7                nan        nan        nan        nan         nan         nan\n",
      "x8                nan        nan        nan        nan         nan         nan\n",
      "x9                nan        nan        nan        nan         nan         nan\n",
      "x10               nan        nan        nan        nan         nan         nan\n",
      "x11               nan        nan        nan        nan         nan         nan\n",
      "x12               nan        nan        nan        nan         nan         nan\n",
      "x13               nan        nan        nan        nan         nan         nan\n",
      "x14               nan        nan        nan        nan         nan         nan\n",
      "x15               nan        nan        nan        nan         nan         nan\n",
      "x16               nan        nan        nan        nan         nan         nan\n",
      "x17               nan        nan        nan        nan         nan         nan\n",
      "x18               nan        nan        nan        nan         nan         nan\n",
      "x19               nan        nan        nan        nan         nan         nan\n",
      "x20               nan        nan        nan        nan         nan         nan\n",
      "x21               nan        nan        nan        nan         nan         nan\n",
      "x22               nan        nan        nan        nan         nan         nan\n",
      "x23               nan        nan        nan        nan         nan         nan\n",
      "x24               nan        nan        nan        nan         nan         nan\n",
      "x25               nan        nan        nan        nan         nan         nan\n",
      "x26               nan        nan        nan        nan         nan         nan\n",
      "x27               nan        nan        nan        nan         nan         nan\n",
      "x28               nan        nan        nan        nan         nan         nan\n",
      "x29               nan        nan        nan        nan         nan         nan\n",
      "x30               nan        nan        nan        nan         nan         nan\n",
      "x31               nan        nan        nan        nan         nan         nan\n",
      "const             nan        nan        nan        nan         nan         nan\n",
      "==============================================================================\n",
      "Omnibus:                          nan   Durbin-Watson:                     nan\n",
      "Prob(Omnibus):                    nan   Jarque-Bera (JB):                  nan\n",
      "Skew:                             nan   Prob(JB):                          nan\n",
      "Kurtosis:                         nan   Cond. No.                         4.60\n",
      "==============================================================================\n",
      "\n",
      "Notes:\n",
      "[1] Standard Errors assume that the covariance matrix of the errors is correctly specified.\n"
     ]
    }
   ],
   "source": [
    "X = df.select([\"news\"] + [f\"news_lag{i}\" for i in range(1, 31)] + [\"constant\"]).to_numpy()\n",
    "y = df[\"logret\"].to_numpy()\n",
    "model = sm.OLS(y, X).fit()\n",
    "\n",
    "print(model.summary())"
   ]
  },
  {
   "cell_type": "code",
   "execution_count": null,
   "metadata": {},
   "outputs": [],
   "source": []
  }
 ],
 "metadata": {
  "kernelspec": {
   "display_name": ".venv",
   "language": "python",
   "name": "python3"
  },
  "language_info": {
   "codemirror_mode": {
    "name": "ipython",
    "version": 3
   },
   "file_extension": ".py",
   "mimetype": "text/x-python",
   "name": "python",
   "nbconvert_exporter": "python",
   "pygments_lexer": "ipython3",
   "version": "3.11.7"
  }
 },
 "nbformat": 4,
 "nbformat_minor": 2
}
