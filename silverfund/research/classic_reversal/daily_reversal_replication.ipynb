{
 "cells": [
  {
   "cell_type": "code",
   "execution_count": null,
   "metadata": {},
   "outputs": [],
   "source": [
    "import sys\n",
    "from dotenv import load_dotenv\n",
    "import os\n",
    "\n",
    "load_dotenv()\n",
    "\n",
    "sys.path.append(os.getenv(\"ROOT\"))"
   ]
  },
  {
   "cell_type": "code",
   "execution_count": null,
   "metadata": {},
   "outputs": [],
   "source": [
    "import polars as pl\n",
    "import numpy as np\n",
    "from datetime import date\n",
    "from silverfund.datasets import CRSPDaily\n",
    "import seaborn as sns\n",
    "import matplotlib.pyplot as plt"
   ]
  },
  {
   "cell_type": "code",
   "execution_count": null,
   "metadata": {},
   "outputs": [],
   "source": [
    "# Load dataset\n",
    "df = (\n",
    "    CRSPDaily(start_date=date(2006, 1, 1), end_date=date(2024, 12, 31))\n",
    "    .load_all()\n",
    "    .select([\"permno\", \"ticker\", \"date\", \"shrout\", \"prc\", \"ret\"])\n",
    ")\n",
    "\n",
    "df"
   ]
  },
  {
   "cell_type": "code",
   "execution_count": null,
   "metadata": {},
   "outputs": [],
   "source": [
    "# Form reversal signal\n",
    "\n",
    "# Log returns\n",
    "df = df.with_columns(pl.col(\"ret\").log1p().alias(\"logret\"))\n",
    "\n",
    "# Rolling sum from t-23 to t-1\n",
    "df = df.with_columns(\n",
    "    pl.col(\"logret\")\n",
    "    .rolling_sum(window_size=22, min_periods=22)\n",
    "    .shift(1)\n",
    "    .over(\"permno\")\n",
    "    .alias(\"rev\")\n",
    ")\n",
    "\n",
    "df"
   ]
  },
  {
   "cell_type": "code",
   "execution_count": null,
   "metadata": {},
   "outputs": [],
   "source": [
    "# Filters\n",
    "\n",
    "# Price greater than 5\n",
    "df = df.with_columns(pl.col(\"prc\").shift(1).over(\"permno\").alias(\"prclag\"))\n",
    "df = df.filter(pl.col(\"prclag\") > 5)\n",
    "\n",
    "# Non-null reversal signal\n",
    "df = df.drop_nulls(subset=[\"rev\"])\n",
    "\n",
    "df"
   ]
  },
  {
   "cell_type": "code",
   "execution_count": null,
   "metadata": {},
   "outputs": [],
   "source": [
    "# Create portfolio bins\n",
    "\n",
    "labels = [str(x) for x in range(10)]\n",
    "\n",
    "df = df.with_columns(pl.col(\"rev\").qcut(10, labels=labels).over(\"date\").alias(\"bin\"))\n",
    "\n",
    "df"
   ]
  },
  {
   "cell_type": "code",
   "execution_count": null,
   "metadata": {},
   "outputs": [],
   "source": [
    "# Create portfolio returns dataframe\n",
    "\n",
    "# Aggregate (equal weight portfolios)\n",
    "port = df.group_by([\"date\", \"bin\"]).agg(pl.col(\"ret\").mean())\n",
    "\n",
    "# Pivot\n",
    "port = port.pivot(on=\"bin\", index=\"date\", values=\"ret\")\n",
    "\n",
    "# Reorder columns\n",
    "port = port.select([\"date\"] + labels)\n",
    "\n",
    "# Sort\n",
    "port = port.sort(by=\"date\")\n",
    "\n",
    "port"
   ]
  },
  {
   "cell_type": "code",
   "execution_count": null,
   "metadata": {},
   "outputs": [],
   "source": [
    "# Create spread portfolio\n",
    "\n",
    "port = port.with_columns((pl.col(\"0\") - pl.col(\"9\")).alias(\"spread\"))\n",
    "\n",
    "port"
   ]
  },
  {
   "cell_type": "code",
   "execution_count": null,
   "metadata": {},
   "outputs": [],
   "source": [
    "# Unpivot dataframe\n",
    "port = port.unpivot(index=\"date\", variable_name=\"bin\", value_name=\"ret\")\n",
    "\n",
    "# Sort\n",
    "port = port.sort(by=[\"date\", \"bin\"])\n",
    "\n",
    "port"
   ]
  },
  {
   "cell_type": "code",
   "execution_count": null,
   "metadata": {},
   "outputs": [],
   "source": [
    "# Calculate mean, std, sharpe, and tstat of each portfolio\n",
    "\n",
    "# Mean, std, and count\n",
    "result = port.group_by(\"bin\").agg(\n",
    "    [\n",
    "        pl.col(\"ret\").mean().cast(pl.Float64).alias(\"mean\"),\n",
    "        pl.col(\"ret\").std().cast(pl.Float64).alias(\"std\"),\n",
    "        pl.col(\"ret\").count().cast(pl.Float64).alias(\"count\"),\n",
    "    ]\n",
    ")\n",
    "\n",
    "# Sharpe\n",
    "result = result.with_columns(\n",
    "    ((pl.col(\"mean\") * 252) / (pl.col(\"std\") * np.sqrt(252)))\n",
    "    .cast(pl.Float64)\n",
    "    .alias(\"annualized_sharpe\")\n",
    ")\n",
    "\n",
    "# Tstat\n",
    "result = result.with_columns(\n",
    "    (pl.col(\"mean\") / (pl.col(\"std\") / pl.col(\"count\").sqrt())).cast(pl.Float64).alias(\"tstat\")\n",
    ")\n",
    "\n",
    "# Sort\n",
    "result = result.sort(by=\"bin\")\n",
    "\n",
    "# Transpose\n",
    "result = result.transpose(include_header=True, column_names=\"bin\", header_name=\"statistic\")\n",
    "\n",
    "print(\"Daily results\")\n",
    "result"
   ]
  },
  {
   "cell_type": "code",
   "execution_count": null,
   "metadata": {},
   "outputs": [],
   "source": [
    "# Create backtest plot\n",
    "\n",
    "# Log returns\n",
    "port = port.with_columns(pl.col(\"ret\").log1p().over(\"bin\").alias(\"logret\"))\n",
    "\n",
    "# Cummulative sum log returns\n",
    "port = port.with_columns(pl.col(\"logret\").cum_sum().over(\"bin\").alias(\"cumret\") * 100)\n",
    "\n",
    "port"
   ]
  },
  {
   "cell_type": "code",
   "execution_count": null,
   "metadata": {},
   "outputs": [],
   "source": [
    "plt.figure(figsize=(10, 6))\n",
    "sns.lineplot(port, x=\"date\", y=\"cumret\", hue=\"bin\")\n",
    "plt.xlabel(None)\n",
    "plt.ylabel(\"Cummulative Sum Return (%)\")\n",
    "plt.show()"
   ]
  },
  {
   "cell_type": "code",
   "execution_count": null,
   "metadata": {},
   "outputs": [],
   "source": [
    "plt.figure(figsize=(10, 6))\n",
    "sns.lineplot(\n",
    "    port.filter(pl.col(\"bin\").is_in([\"0\", \"9\", \"spread\"])), x=\"date\", y=\"cumret\", hue=\"bin\"\n",
    ")\n",
    "plt.xlabel(None)\n",
    "plt.ylabel(\"Cummulative Sum Return (%)\")\n",
    "plt.show()"
   ]
  },
  {
   "cell_type": "code",
   "execution_count": null,
   "metadata": {},
   "outputs": [],
   "source": [
    "plt.figure(figsize=(10, 6))\n",
    "sns.lineplot(port.filter(pl.col(\"bin\") == \"spread\"), x=\"date\", y=\"cumret\", hue=\"bin\")\n",
    "plt.xlabel(None)\n",
    "plt.ylabel(\"Cummulative Sum Return (%)\")\n",
    "plt.show()"
   ]
  },
  {
   "cell_type": "code",
   "execution_count": null,
   "metadata": {},
   "outputs": [],
   "source": [
    "min_date = port[\"date\"].min().strftime(\"%Y-%m-%d\")\n",
    "max_date = port[\"date\"].max().strftime(\"%Y-%m-%d\")\n",
    "\n",
    "print(f\"From {min_date} to {max_date}\")"
   ]
  },
  {
   "cell_type": "code",
   "execution_count": null,
   "metadata": {},
   "outputs": [],
   "source": []
  }
 ],
 "metadata": {
  "kernelspec": {
   "display_name": ".venv",
   "language": "python",
   "name": "python3"
  },
  "language_info": {
   "codemirror_mode": {
    "name": "ipython",
    "version": 3
   },
   "file_extension": ".py",
   "mimetype": "text/x-python",
   "name": "python",
   "nbconvert_exporter": "python",
   "pygments_lexer": "ipython3",
   "version": "3.11.9 (main, Apr 19 2024, 16:48:06) [GCC 11.2.0]"
  },
  "vscode": {
   "interpreter": {
    "hash": "90edb8e75da9520b78f7e27d9e44eb7f69af0d1250baa91130b689749dd7ca41"
   }
  }
 },
 "nbformat": 4,
 "nbformat_minor": 2
}
