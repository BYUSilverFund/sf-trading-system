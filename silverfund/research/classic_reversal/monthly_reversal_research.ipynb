{
 "cells": [
  {
   "cell_type": "code",
   "execution_count": 1,
   "metadata": {},
   "outputs": [],
   "source": [
    "import sys\n",
    "from dotenv import load_dotenv\n",
    "import os\n",
    "\n",
    "load_dotenv()\n",
    "\n",
    "sys.path.append(os.getenv(\"ROOT\"))"
   ]
  },
  {
   "cell_type": "code",
   "execution_count": 2,
   "metadata": {},
   "outputs": [],
   "source": [
    "import polars as pl\n",
    "import numpy as np\n",
    "from datetime import date\n",
    "from silverfund.datasets.crsp_monthly import CRSPMonthly\n",
    "import seaborn as sns\n",
    "import matplotlib.pyplot as plt"
   ]
  },
  {
   "cell_type": "code",
   "execution_count": 3,
   "metadata": {},
   "outputs": [
    {
     "data": {
      "text/html": [
       "<div><style>\n",
       ".dataframe > thead > tr,\n",
       ".dataframe > tbody > tr {\n",
       "  text-align: right;\n",
       "  white-space: pre-wrap;\n",
       "}\n",
       "</style>\n",
       "<small>shape: (904_347, 7)</small><table border=\"1\" class=\"dataframe\"><thead><tr><th>permno</th><th>ticker</th><th>date</th><th>shrout</th><th>prc</th><th>ret</th><th>vol</th></tr><tr><td>i64</td><td>str</td><td>date</td><td>f64</td><td>f64</td><td>f64</td><td>f64</td></tr></thead><tbody><tr><td>10001</td><td>&quot;EWST&quot;</td><td>2006-01-31</td><td>2930.0</td><td>9.49</td><td>-0.016495</td><td>757.0</td></tr><tr><td>10001</td><td>&quot;EWST&quot;</td><td>2006-02-28</td><td>2931.0</td><td>9.39</td><td>-0.010537</td><td>439.0</td></tr><tr><td>10001</td><td>&quot;EWST&quot;</td><td>2006-03-31</td><td>2932.0</td><td>10.99</td><td>0.170394</td><td>777.0</td></tr><tr><td>10001</td><td>&quot;EWST&quot;</td><td>2006-04-28</td><td>2932.0</td><td>9.95</td><td>-0.094632</td><td>883.0</td></tr><tr><td>10001</td><td>&quot;EWST&quot;</td><td>2006-05-31</td><td>2932.0</td><td>9.766</td><td>-0.010452</td><td>319.0</td></tr><tr><td>&hellip;</td><td>&hellip;</td><td>&hellip;</td><td>&hellip;</td><td>&hellip;</td><td>&hellip;</td><td>&hellip;</td></tr><tr><td>93436</td><td>&quot;TSLA&quot;</td><td>2024-08-30</td><td>3.19464e6</td><td>214.11</td><td>-0.077391</td><td>1.6108365e7</td></tr><tr><td>93436</td><td>&quot;TSLA&quot;</td><td>2024-09-30</td><td>3.207e6</td><td>261.63</td><td>0.221942</td><td>1.6042065e7</td></tr><tr><td>93436</td><td>&quot;TSLA&quot;</td><td>2024-10-31</td><td>3.207e6</td><td>249.85001</td><td>-0.045025</td><td>1.9014312e7</td></tr><tr><td>93436</td><td>&quot;TSLA&quot;</td><td>2024-11-29</td><td>3.207e6</td><td>345.16</td><td>0.381469</td><td>2.0821313e7</td></tr><tr><td>93436</td><td>&quot;TSLA&quot;</td><td>2024-12-31</td><td>3.21006e6</td><td>403.84</td><td>0.170008</td><td>1.8946442e7</td></tr></tbody></table></div>"
      ],
      "text/plain": [
       "shape: (904_347, 7)\n",
       "┌────────┬────────┬────────────┬───────────┬───────────┬───────────┬─────────────┐\n",
       "│ permno ┆ ticker ┆ date       ┆ shrout    ┆ prc       ┆ ret       ┆ vol         │\n",
       "│ ---    ┆ ---    ┆ ---        ┆ ---       ┆ ---       ┆ ---       ┆ ---         │\n",
       "│ i64    ┆ str    ┆ date       ┆ f64       ┆ f64       ┆ f64       ┆ f64         │\n",
       "╞════════╪════════╪════════════╪═══════════╪═══════════╪═══════════╪═════════════╡\n",
       "│ 10001  ┆ EWST   ┆ 2006-01-31 ┆ 2930.0    ┆ 9.49      ┆ -0.016495 ┆ 757.0       │\n",
       "│ 10001  ┆ EWST   ┆ 2006-02-28 ┆ 2931.0    ┆ 9.39      ┆ -0.010537 ┆ 439.0       │\n",
       "│ 10001  ┆ EWST   ┆ 2006-03-31 ┆ 2932.0    ┆ 10.99     ┆ 0.170394  ┆ 777.0       │\n",
       "│ 10001  ┆ EWST   ┆ 2006-04-28 ┆ 2932.0    ┆ 9.95      ┆ -0.094632 ┆ 883.0       │\n",
       "│ 10001  ┆ EWST   ┆ 2006-05-31 ┆ 2932.0    ┆ 9.766     ┆ -0.010452 ┆ 319.0       │\n",
       "│ …      ┆ …      ┆ …          ┆ …         ┆ …         ┆ …         ┆ …           │\n",
       "│ 93436  ┆ TSLA   ┆ 2024-08-30 ┆ 3.19464e6 ┆ 214.11    ┆ -0.077391 ┆ 1.6108365e7 │\n",
       "│ 93436  ┆ TSLA   ┆ 2024-09-30 ┆ 3.207e6   ┆ 261.63    ┆ 0.221942  ┆ 1.6042065e7 │\n",
       "│ 93436  ┆ TSLA   ┆ 2024-10-31 ┆ 3.207e6   ┆ 249.85001 ┆ -0.045025 ┆ 1.9014312e7 │\n",
       "│ 93436  ┆ TSLA   ┆ 2024-11-29 ┆ 3.207e6   ┆ 345.16    ┆ 0.381469  ┆ 2.0821313e7 │\n",
       "│ 93436  ┆ TSLA   ┆ 2024-12-31 ┆ 3.21006e6 ┆ 403.84    ┆ 0.170008  ┆ 1.8946442e7 │\n",
       "└────────┴────────┴────────────┴───────────┴───────────┴───────────┴─────────────┘"
      ]
     },
     "execution_count": 3,
     "metadata": {},
     "output_type": "execute_result"
    }
   ],
   "source": [
    "# Load dataset\n",
    "df = (\n",
    "    CRSPMonthly(start_date=date(2006, 1, 1), end_date=date(2024, 12, 31))\n",
    "    .load_all()\n",
    "    .select([\"permno\", \"ticker\", \"date\", \"shrout\", \"prc\", \"ret\", \"vol\"])\n",
    ")\n",
    "\n",
    "df"
   ]
  },
  {
   "cell_type": "code",
   "execution_count": null,
   "metadata": {},
   "outputs": [
    {
     "name": "stdout",
     "output_type": "stream",
     "text": [
      "shape: (9, 2)\n",
      "┌────────────┬───────────┐\n",
      "│ statistic  ┆ value     │\n",
      "│ ---        ┆ ---       │\n",
      "│ str        ┆ f64       │\n",
      "╞════════════╪═══════════╡\n",
      "│ count      ┆ 639817.0  │\n",
      "│ null_count ┆ 0.0       │\n",
      "│ mean       ┆ 0.172708  │\n",
      "│ std        ┆ 1.089065  │\n",
      "│ min        ┆ -1.0      │\n",
      "│ 25%        ┆ -0.233977 │\n",
      "│ 50%        ┆ -0.012561 │\n",
      "│ 75%        ┆ 0.294574  │\n",
      "│ max        ┆ 37.328689 │\n",
      "└────────────┴───────────┘\n"
     ]
    },
    {
     "data": {
      "text/html": [
       "<div><style>\n",
       ".dataframe > thead > tr,\n",
       ".dataframe > tbody > tr {\n",
       "  text-align: right;\n",
       "  white-space: pre-wrap;\n",
       "}\n",
       "</style>\n",
       "<small>shape: (639_817, 16)</small><table border=\"1\" class=\"dataframe\"><thead><tr><th>permno</th><th>ticker</th><th>date</th><th>shrout</th><th>prc</th><th>ret</th><th>vol</th><th>logret</th><th>diff_vol</th><th>goodnews</th><th>badnews</th><th>news</th><th>rev</th><th>news_lag</th><th>prclag</th><th>rev_lag</th></tr><tr><td>i64</td><td>str</td><td>date</td><td>f64</td><td>f64</td><td>f64</td><td>f64</td><td>f64</td><td>f64</td><td>f64</td><td>f64</td><td>f64</td><td>f64</td><td>f64</td><td>f64</td><td>f64</td></tr></thead><tbody><tr><td>10001</td><td>&quot;EWST&quot;</td><td>2006-05-31</td><td>2932.0</td><td>9.766</td><td>-0.010452</td><td>319.0</td><td>-0.010507</td><td>-0.638732</td><td>0.0</td><td>0.0</td><td>0.0</td><td>null</td><td>null</td><td>9.95</td><td>null</td></tr><tr><td>10001</td><td>&quot;EWST&quot;</td><td>2006-06-30</td><td>2934.0</td><td>9.02</td><td>-0.076387</td><td>1186.0</td><td>-0.079462</td><td>2.717868</td><td>1.0</td><td>0.0</td><td>1.0</td><td>-0.010452</td><td>0.0</td><td>9.766</td><td>null</td></tr><tr><td>10001</td><td>&quot;EWST&quot;</td><td>2006-07-31</td><td>2934.0</td><td>10.4399</td><td>0.157417</td><td>455.0</td><td>0.146191</td><td>-0.616358</td><td>0.0</td><td>0.0</td><td>0.0</td><td>-0.076387</td><td>1.0</td><td>9.02</td><td>-0.010452</td></tr><tr><td>10001</td><td>&quot;EWST&quot;</td><td>2006-08-31</td><td>2934.0</td><td>11.63</td><td>0.123574</td><td>654.0</td><td>0.116515</td><td>0.437363</td><td>0.0</td><td>0.0</td><td>0.0</td><td>0.157417</td><td>0.0</td><td>10.4399</td><td>-0.076387</td></tr><tr><td>10001</td><td>&quot;EWST&quot;</td><td>2006-09-29</td><td>2947.0</td><td>11.0</td><td>-0.05417</td><td>613.0</td><td>-0.055692</td><td>-0.062691</td><td>0.0</td><td>0.0</td><td>0.0</td><td>0.123574</td><td>0.0</td><td>11.63</td><td>0.157417</td></tr><tr><td>&hellip;</td><td>&hellip;</td><td>&hellip;</td><td>&hellip;</td><td>&hellip;</td><td>&hellip;</td><td>&hellip;</td><td>&hellip;</td><td>&hellip;</td><td>&hellip;</td><td>&hellip;</td><td>&hellip;</td><td>&hellip;</td><td>&hellip;</td><td>&hellip;</td><td>&hellip;</td></tr><tr><td>93436</td><td>&quot;TSLA&quot;</td><td>2024-08-30</td><td>3.19464e6</td><td>214.11</td><td>-0.077391</td><td>1.6108365e7</td><td>-0.08055</td><td>-0.45</td><td>0.0</td><td>0.0</td><td>0.0</td><td>0.172781</td><td>0.0</td><td>232.07001</td><td>0.111186</td></tr><tr><td>93436</td><td>&quot;TSLA&quot;</td><td>2024-09-30</td><td>3.207e6</td><td>261.63</td><td>0.221942</td><td>1.6042065e7</td><td>0.200441</td><td>-0.004116</td><td>0.0</td><td>0.0</td><td>0.0</td><td>-0.077391</td><td>0.0</td><td>214.11</td><td>0.172781</td></tr><tr><td>93436</td><td>&quot;TSLA&quot;</td><td>2024-10-31</td><td>3.207e6</td><td>249.85001</td><td>-0.045025</td><td>1.9014312e7</td><td>-0.04607</td><td>0.185278</td><td>0.0</td><td>0.0</td><td>0.0</td><td>0.221942</td><td>0.0</td><td>261.63</td><td>-0.077391</td></tr><tr><td>93436</td><td>&quot;TSLA&quot;</td><td>2024-11-29</td><td>3.207e6</td><td>345.16</td><td>0.381469</td><td>2.0821313e7</td><td>0.323147</td><td>0.095034</td><td>0.0</td><td>0.0</td><td>0.0</td><td>-0.045025</td><td>0.0</td><td>249.85001</td><td>0.221942</td></tr><tr><td>93436</td><td>&quot;TSLA&quot;</td><td>2024-12-31</td><td>3.21006e6</td><td>403.84</td><td>0.170008</td><td>1.8946442e7</td><td>0.157011</td><td>-0.090046</td><td>0.0</td><td>0.0</td><td>0.0</td><td>0.381469</td><td>0.0</td><td>345.16</td><td>-0.045025</td></tr></tbody></table></div>"
      ],
      "text/plain": [
       "shape: (639_817, 16)\n",
       "┌────────┬────────┬────────────┬───────────┬───┬───────────┬──────────┬───────────┬───────────┐\n",
       "│ permno ┆ ticker ┆ date       ┆ shrout    ┆ … ┆ rev       ┆ news_lag ┆ prclag    ┆ rev_lag   │\n",
       "│ ---    ┆ ---    ┆ ---        ┆ ---       ┆   ┆ ---       ┆ ---      ┆ ---       ┆ ---       │\n",
       "│ i64    ┆ str    ┆ date       ┆ f64       ┆   ┆ f64       ┆ f64      ┆ f64       ┆ f64       │\n",
       "╞════════╪════════╪════════════╪═══════════╪═══╪═══════════╪══════════╪═══════════╪═══════════╡\n",
       "│ 10001  ┆ EWST   ┆ 2006-05-31 ┆ 2932.0    ┆ … ┆ null      ┆ null     ┆ 9.95      ┆ null      │\n",
       "│ 10001  ┆ EWST   ┆ 2006-06-30 ┆ 2934.0    ┆ … ┆ -0.010452 ┆ 0.0      ┆ 9.766     ┆ null      │\n",
       "│ 10001  ┆ EWST   ┆ 2006-07-31 ┆ 2934.0    ┆ … ┆ -0.076387 ┆ 1.0      ┆ 9.02      ┆ -0.010452 │\n",
       "│ 10001  ┆ EWST   ┆ 2006-08-31 ┆ 2934.0    ┆ … ┆ 0.157417  ┆ 0.0      ┆ 10.4399   ┆ -0.076387 │\n",
       "│ 10001  ┆ EWST   ┆ 2006-09-29 ┆ 2947.0    ┆ … ┆ 0.123574  ┆ 0.0      ┆ 11.63     ┆ 0.157417  │\n",
       "│ …      ┆ …      ┆ …          ┆ …         ┆ … ┆ …         ┆ …        ┆ …         ┆ …         │\n",
       "│ 93436  ┆ TSLA   ┆ 2024-08-30 ┆ 3.19464e6 ┆ … ┆ 0.172781  ┆ 0.0      ┆ 232.07001 ┆ 0.111186  │\n",
       "│ 93436  ┆ TSLA   ┆ 2024-09-30 ┆ 3.207e6   ┆ … ┆ -0.077391 ┆ 0.0      ┆ 214.11    ┆ 0.172781  │\n",
       "│ 93436  ┆ TSLA   ┆ 2024-10-31 ┆ 3.207e6   ┆ … ┆ 0.221942  ┆ 0.0      ┆ 261.63    ┆ -0.077391 │\n",
       "│ 93436  ┆ TSLA   ┆ 2024-11-29 ┆ 3.207e6   ┆ … ┆ -0.045025 ┆ 0.0      ┆ 249.85001 ┆ 0.221942  │\n",
       "│ 93436  ┆ TSLA   ┆ 2024-12-31 ┆ 3.21006e6 ┆ … ┆ 0.381469  ┆ 0.0      ┆ 345.16    ┆ -0.045025 │\n",
       "└────────┴────────┴────────────┴───────────┴───┴───────────┴──────────┴───────────┴───────────┘"
      ]
     },
     "execution_count": 8,
     "metadata": {},
     "output_type": "execute_result"
    },
    {
     "data": {
      "image/png": "[encoded data removed]",
      "text/plain": [
       "<Figure size 640x480 with 1 Axes>"
      ]
     },
     "metadata": {},
     "output_type": "display_data"
    }
   ],
   "source": [
    "# Form reversal signal\n",
    "\n",
    "# Log returns\n",
    "df = df.with_columns(pl.col(\"ret\").log1p().alias(\"logret\"))\n",
    "\n",
    "\n",
    "df = df.with_columns(pl.col(\"vol\").pct_change().over(\"permno\").alias(\"diff_vol\"))\n",
    "\n",
    "\n",
    "df = df.drop_nans(subset=[\"diff_vol\"])\n",
    "# print((df[\"diff_vol\"]>100).sum())\n",
    "df = df.filter(~(pl.col(\"diff_vol\").is_infinite()))\n",
    "std1 = 12.469267\n",
    "\n",
    "df = df.filter(~(pl.col(\"diff_vol\") >= std1 * 3))\n",
    "\n",
    "print(df[\"diff_vol\"].describe())\n",
    "mean = df[\"diff_vol\"].mean()\n",
    "std = df[\"diff_vol\"].std()\n",
    "\n",
    "\n",
    "df = df.with_columns((pl.col(\"diff_vol\") >= mean + 2 * std).cast(pl.Float64).alias(\"goodnews\"))\n",
    "# print(df['goodnews'].sum())\n",
    "df = df.with_columns((pl.col(\"diff_vol\") <= mean - 2 * std).cast(pl.Float64).alias(\"badnews\"))\n",
    "# print(df['badnews'].sum())\n",
    "\n",
    "df = df.with_columns((pl.col(\"goodnews\") - pl.col(\"badnews\")).alias(\"news\"))\n",
    "# print(df['news'].sum())\n",
    "\n",
    "\n",
    "# Rolling sum from t-23 to t-1\n",
    "\n",
    "df = df.with_columns(pl.col(\"ret\").shift(1).over(\"permno\").alias(\"rev\"))\n",
    "# df = df.with_columns(\n",
    "#     pl.col(\"logret\")\n",
    "#     .rolling_sum(window_size=1, min_periods=1)\n",
    "#     .shift(1)\n",
    "#     .over(\"permno\")\n",
    "#     .alias(\"rev\"))\n",
    "\n",
    "\n",
    "# shift 1\n",
    "df = df.with_columns(pl.col(\"news\").shift(1).over(\"permno\").alias(\"news_lag\"))\n",
    "\n",
    "df = df.with_columns(pl.col(\"rev\").shift(1).over(\"permno\").alias(\"rev_lag\"))\n",
    "\n",
    "plt.hist(df[\"diff_vol\"], density=True)\n",
    "plt.plot()\n",
    "\n",
    "\n",
    "# df = df.with_columns((abs(pl.col('diff_vol'))>=2).cast(pl.Float64).alias('news2'))\n",
    "# print(df['news'].sum())\n",
    "# print(df['news2'].sum())\n",
    "\n",
    "# # lagged news\n",
    "# df = df.with_columns([\n",
    "#     pl.col(\"news\")\n",
    "#     .shift(i)\n",
    "#     .over(\"permno\")\n",
    "#     .alias(f\"news_lag{i}\")\n",
    "#     for i in range(1,31)])\n",
    "\n",
    "\n",
    "df"
   ]
  },
  {
   "cell_type": "code",
   "execution_count": null,
   "metadata": {},
   "outputs": [],
   "source": []
  },
  {
   "cell_type": "code",
   "execution_count": 9,
   "metadata": {},
   "outputs": [
    {
     "data": {
      "text/html": [
       "<div><style>\n",
       ".dataframe > thead > tr,\n",
       ".dataframe > tbody > tr {\n",
       "  text-align: right;\n",
       "  white-space: pre-wrap;\n",
       "}\n",
       "</style>\n",
       "<small>shape: (613_731, 16)</small><table border=\"1\" class=\"dataframe\"><thead><tr><th>permno</th><th>ticker</th><th>date</th><th>shrout</th><th>prc</th><th>ret</th><th>vol</th><th>logret</th><th>diff_vol</th><th>goodnews</th><th>badnews</th><th>news</th><th>rev</th><th>news_lag</th><th>prclag</th><th>rev_lag</th></tr><tr><td>i64</td><td>str</td><td>date</td><td>f64</td><td>f64</td><td>f64</td><td>f64</td><td>f64</td><td>f64</td><td>f64</td><td>f64</td><td>f64</td><td>f64</td><td>f64</td><td>f64</td><td>f64</td></tr></thead><tbody><tr><td>10001</td><td>&quot;EWST&quot;</td><td>2006-07-31</td><td>2934.0</td><td>10.4399</td><td>0.157417</td><td>455.0</td><td>0.146191</td><td>-0.616358</td><td>0.0</td><td>0.0</td><td>0.0</td><td>-0.076387</td><td>1.0</td><td>9.02</td><td>-0.010452</td></tr><tr><td>10001</td><td>&quot;EWST&quot;</td><td>2006-08-31</td><td>2934.0</td><td>11.63</td><td>0.123574</td><td>654.0</td><td>0.116515</td><td>0.437363</td><td>0.0</td><td>0.0</td><td>0.0</td><td>0.157417</td><td>0.0</td><td>10.4399</td><td>-0.076387</td></tr><tr><td>10001</td><td>&quot;EWST&quot;</td><td>2006-09-29</td><td>2947.0</td><td>11.0</td><td>-0.05417</td><td>613.0</td><td>-0.055692</td><td>-0.062691</td><td>0.0</td><td>0.0</td><td>0.0</td><td>0.123574</td><td>0.0</td><td>11.63</td><td>0.157417</td></tr><tr><td>10001</td><td>&quot;EWST&quot;</td><td>2006-10-31</td><td>2947.0</td><td>11.08</td><td>0.007273</td><td>571.0</td><td>0.007247</td><td>-0.068515</td><td>0.0</td><td>0.0</td><td>0.0</td><td>-0.05417</td><td>0.0</td><td>11.0</td><td>0.123574</td></tr><tr><td>10001</td><td>&quot;EWST&quot;</td><td>2006-11-30</td><td>2947.0</td><td>11.53</td><td>0.051444</td><td>737.0</td><td>0.050164</td><td>0.290718</td><td>0.0</td><td>0.0</td><td>0.0</td><td>0.007273</td><td>0.0</td><td>11.08</td><td>-0.05417</td></tr><tr><td>&hellip;</td><td>&hellip;</td><td>&hellip;</td><td>&hellip;</td><td>&hellip;</td><td>&hellip;</td><td>&hellip;</td><td>&hellip;</td><td>&hellip;</td><td>&hellip;</td><td>&hellip;</td><td>&hellip;</td><td>&hellip;</td><td>&hellip;</td><td>&hellip;</td><td>&hellip;</td></tr><tr><td>93436</td><td>&quot;TSLA&quot;</td><td>2024-08-30</td><td>3.19464e6</td><td>214.11</td><td>-0.077391</td><td>1.6108365e7</td><td>-0.08055</td><td>-0.45</td><td>0.0</td><td>0.0</td><td>0.0</td><td>0.172781</td><td>0.0</td><td>232.07001</td><td>0.111186</td></tr><tr><td>93436</td><td>&quot;TSLA&quot;</td><td>2024-09-30</td><td>3.207e6</td><td>261.63</td><td>0.221942</td><td>1.6042065e7</td><td>0.200441</td><td>-0.004116</td><td>0.0</td><td>0.0</td><td>0.0</td><td>-0.077391</td><td>0.0</td><td>214.11</td><td>0.172781</td></tr><tr><td>93436</td><td>&quot;TSLA&quot;</td><td>2024-10-31</td><td>3.207e6</td><td>249.85001</td><td>-0.045025</td><td>1.9014312e7</td><td>-0.04607</td><td>0.185278</td><td>0.0</td><td>0.0</td><td>0.0</td><td>0.221942</td><td>0.0</td><td>261.63</td><td>-0.077391</td></tr><tr><td>93436</td><td>&quot;TSLA&quot;</td><td>2024-11-29</td><td>3.207e6</td><td>345.16</td><td>0.381469</td><td>2.0821313e7</td><td>0.323147</td><td>0.095034</td><td>0.0</td><td>0.0</td><td>0.0</td><td>-0.045025</td><td>0.0</td><td>249.85001</td><td>0.221942</td></tr><tr><td>93436</td><td>&quot;TSLA&quot;</td><td>2024-12-31</td><td>3.21006e6</td><td>403.84</td><td>0.170008</td><td>1.8946442e7</td><td>0.157011</td><td>-0.090046</td><td>0.0</td><td>0.0</td><td>0.0</td><td>0.381469</td><td>0.0</td><td>345.16</td><td>-0.045025</td></tr></tbody></table></div>"
      ],
      "text/plain": [
       "shape: (613_731, 16)\n",
       "┌────────┬────────┬────────────┬───────────┬───┬───────────┬──────────┬───────────┬───────────┐\n",
       "│ permno ┆ ticker ┆ date       ┆ shrout    ┆ … ┆ rev       ┆ news_lag ┆ prclag    ┆ rev_lag   │\n",
       "│ ---    ┆ ---    ┆ ---        ┆ ---       ┆   ┆ ---       ┆ ---      ┆ ---       ┆ ---       │\n",
       "│ i64    ┆ str    ┆ date       ┆ f64       ┆   ┆ f64       ┆ f64      ┆ f64       ┆ f64       │\n",
       "╞════════╪════════╪════════════╪═══════════╪═══╪═══════════╪══════════╪═══════════╪═══════════╡\n",
       "│ 10001  ┆ EWST   ┆ 2006-07-31 ┆ 2934.0    ┆ … ┆ -0.076387 ┆ 1.0      ┆ 9.02      ┆ -0.010452 │\n",
       "│ 10001  ┆ EWST   ┆ 2006-08-31 ┆ 2934.0    ┆ … ┆ 0.157417  ┆ 0.0      ┆ 10.4399   ┆ -0.076387 │\n",
       "│ 10001  ┆ EWST   ┆ 2006-09-29 ┆ 2947.0    ┆ … ┆ 0.123574  ┆ 0.0      ┆ 11.63     ┆ 0.157417  │\n",
       "│ 10001  ┆ EWST   ┆ 2006-10-31 ┆ 2947.0    ┆ … ┆ -0.05417  ┆ 0.0      ┆ 11.0      ┆ 0.123574  │\n",
       "│ 10001  ┆ EWST   ┆ 2006-11-30 ┆ 2947.0    ┆ … ┆ 0.007273  ┆ 0.0      ┆ 11.08     ┆ -0.05417  │\n",
       "│ …      ┆ …      ┆ …          ┆ …         ┆ … ┆ …         ┆ …        ┆ …         ┆ …         │\n",
       "│ 93436  ┆ TSLA   ┆ 2024-08-30 ┆ 3.19464e6 ┆ … ┆ 0.172781  ┆ 0.0      ┆ 232.07001 ┆ 0.111186  │\n",
       "│ 93436  ┆ TSLA   ┆ 2024-09-30 ┆ 3.207e6   ┆ … ┆ -0.077391 ┆ 0.0      ┆ 214.11    ┆ 0.172781  │\n",
       "│ 93436  ┆ TSLA   ┆ 2024-10-31 ┆ 3.207e6   ┆ … ┆ 0.221942  ┆ 0.0      ┆ 261.63    ┆ -0.077391 │\n",
       "│ 93436  ┆ TSLA   ┆ 2024-11-29 ┆ 3.207e6   ┆ … ┆ -0.045025 ┆ 0.0      ┆ 249.85001 ┆ 0.221942  │\n",
       "│ 93436  ┆ TSLA   ┆ 2024-12-31 ┆ 3.21006e6 ┆ … ┆ 0.381469  ┆ 0.0      ┆ 345.16    ┆ -0.045025 │\n",
       "└────────┴────────┴────────────┴───────────┴───┴───────────┴──────────┴───────────┴───────────┘"
      ]
     },
     "execution_count": 9,
     "metadata": {},
     "output_type": "execute_result"
    }
   ],
   "source": [
    "# Filters\n",
    "\n",
    "# Price greater than 5\n",
    "df = df.with_columns(pl.col(\"prc\").shift(1).over(\"permno\").alias(\"prclag\"))\n",
    "df = df.filter(pl.col(\"prclag\") > 5)\n",
    "\n",
    "df = df.drop_nulls(subset=[\"news_lag\"])\n",
    "\n",
    "# Non-null reversal signal\n",
    "df = df.drop_nulls(subset=[\"rev\", \"rev_lag\", \"logret\"])\n",
    "\n",
    "df"
   ]
  },
  {
   "cell_type": "code",
   "execution_count": 10,
   "metadata": {},
   "outputs": [],
   "source": [
    "import statsmodels.api as sm"
   ]
  },
  {
   "cell_type": "code",
   "execution_count": null,
   "metadata": {},
   "outputs": [],
   "source": []
  },
  {
   "cell_type": "code",
   "execution_count": 11,
   "metadata": {},
   "outputs": [
    {
     "name": "stdout",
     "output_type": "stream",
     "text": [
      "                                 OLS Regression Results                                \n",
      "=======================================================================================\n",
      "Dep. Variable:                    rev   R-squared (uncentered):                   0.001\n",
      "Model:                            OLS   Adj. R-squared (uncentered):              0.001\n",
      "Method:                 Least Squares   F-statistic:                              329.5\n",
      "Date:                Wed, 05 Feb 2025   Prob (F-statistic):                   9.57e-144\n",
      "Time:                        15:41:07   Log-Likelihood:                      3.8851e+05\n",
      "No. Observations:              613731   AIC:                                 -7.770e+05\n",
      "Df Residuals:                  613729   BIC:                                 -7.770e+05\n",
      "Df Model:                           2                                                  \n",
      "Covariance Type:            nonrobust                                                  \n",
      "======================================================================================\n",
      "                         coef    std err          t      P>|t|      [0.025      0.975]\n",
      "--------------------------------------------------------------------------------------\n",
      "rev_lag               -0.0211      0.001    -16.529      0.000      -0.024      -0.019\n",
      "rev_lag_X_news_lag     0.2320      0.011     21.456      0.000       0.211       0.253\n",
      "==============================================================================\n",
      "Omnibus:                   727466.248   Durbin-Watson:                   1.993\n",
      "Prob(Omnibus):                  0.000   Jarque-Bera (JB):       5181600285.351\n",
      "Skew:                           4.955   Prob(JB):                         0.00\n",
      "Kurtosis:                     453.032   Cond. No.                         8.53\n",
      "==============================================================================\n",
      "\n",
      "Notes:\n",
      "[1] R² is computed without centering (uncentered) since the model does not contain a constant.\n",
      "[2] Standard Errors assume that the covariance matrix of the errors is correctly specified.\n"
     ]
    }
   ],
   "source": [
    "df = df.with_columns((pl.col(\"rev_lag\") * pl.col(\"news_lag\")).alias(\"rev_lag_X_news_lag\"))\n",
    "\n",
    "X = df.select([\"rev_lag\", \"rev_lag_X_news_lag\"]).to_pandas()\n",
    "y = df[\"rev\"].to_pandas()\n",
    "model = sm.OLS(y, X).fit()\n",
    "\n",
    "print(model.summary())"
   ]
  },
  {
   "cell_type": "code",
   "execution_count": 13,
   "metadata": {},
   "outputs": [],
   "source": [
    "# df = df.with_columns(pl.lit(1).alias('constant'))\n",
    "# X = df.select(['news'] + [f'news_lag{i}' for i in range(1,31)] + ['constant']).to_numpy()\n",
    "# y = df['logret'].to_numpy()\n",
    "# model = sm.OLS(y,X).fit()\n",
    "\n",
    "# print(model.summary())"
   ]
  },
  {
   "cell_type": "code",
   "execution_count": null,
   "metadata": {},
   "outputs": [],
   "source": [
    "# don't trade with earnings announcements, calendar service\n",
    "# big jump, kurtosis\n",
    "# time series volume, rolling window\n",
    "# news scraper"
   ]
  }
 ],
 "metadata": {
  "kernelspec": {
   "display_name": ".venv",
   "language": "python",
   "name": "python3"
  },
  "language_info": {
   "codemirror_mode": {
    "name": "ipython",
    "version": 3
   },
   "file_extension": ".py",
   "mimetype": "text/x-python",
   "name": "python",
   "nbconvert_exporter": "python",
   "pygments_lexer": "ipython3",
   "version": "3.11.7"
  }
 },
 "nbformat": 4,
 "nbformat_minor": 2
}
