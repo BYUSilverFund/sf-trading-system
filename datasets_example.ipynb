{
 "cells": [
  {
   "cell_type": "code",
   "execution_count": 1,
   "metadata": {},
   "outputs": [],
   "source": [
    "import polars as pl\n",
    "import pandas as pd\n",
    "from silverfund.datasets import *"
   ]
  },
  {
   "cell_type": "code",
   "execution_count": 2,
   "metadata": {},
   "outputs": [
    {
     "data": {
      "text/html": [
       "<div><style>\n",
       ".dataframe > thead > tr,\n",
       ".dataframe > tbody > tr {\n",
       "  text-align: right;\n",
       "  white-space: pre-wrap;\n",
       "}\n",
       "</style>\n",
       "<small>shape: (2_195_057, 14)</small><table border=\"1\" class=\"dataframe\"><thead><tr><th>permno</th><th>permco</th><th>date</th><th>ncusip</th><th>ticker</th><th>shrcd</th><th>exchcd</th><th>siccd</th><th>prc</th><th>ret</th><th>retx</th><th>vol</th><th>shrout</th><th>cfacshr</th></tr><tr><td>i64</td><td>i64</td><td>date</td><td>str</td><td>str</td><td>i64</td><td>i64</td><td>i64</td><td>f64</td><td>f64</td><td>f64</td><td>f64</td><td>f64</td><td>f64</td></tr></thead><tbody><tr><td>10026</td><td>7976</td><td>2024-01-02</td><td>&quot;46603210&quot;</td><td>&quot;JJSF&quot;</td><td>11</td><td>3</td><td>2052</td><td>168.86</td><td>0.010291</td><td>0.010291</td><td>89969.0</td><td>19367.0</td><td>1.0</td></tr><tr><td>10026</td><td>7976</td><td>2024-01-03</td><td>&quot;46603210&quot;</td><td>&quot;JJSF&quot;</td><td>11</td><td>3</td><td>2052</td><td>163.52</td><td>-0.031624</td><td>-0.031624</td><td>100322.0</td><td>19367.0</td><td>1.0</td></tr><tr><td>10026</td><td>7976</td><td>2024-01-04</td><td>&quot;46603210&quot;</td><td>&quot;JJSF&quot;</td><td>11</td><td>3</td><td>2052</td><td>163.32001</td><td>-0.001223</td><td>-0.001223</td><td>83873.0</td><td>19367.0</td><td>1.0</td></tr><tr><td>10026</td><td>7976</td><td>2024-01-05</td><td>&quot;46603210&quot;</td><td>&quot;JJSF&quot;</td><td>11</td><td>3</td><td>2052</td><td>160.21001</td><td>-0.019042</td><td>-0.019042</td><td>71391.0</td><td>19367.0</td><td>1.0</td></tr><tr><td>10026</td><td>7976</td><td>2024-01-08</td><td>&quot;46603210&quot;</td><td>&quot;JJSF&quot;</td><td>11</td><td>3</td><td>2052</td><td>161.19</td><td>0.006117</td><td>0.006117</td><td>74625.0</td><td>19367.0</td><td>1.0</td></tr><tr><td>&hellip;</td><td>&hellip;</td><td>&hellip;</td><td>&hellip;</td><td>&hellip;</td><td>&hellip;</td><td>&hellip;</td><td>&hellip;</td><td>&hellip;</td><td>&hellip;</td><td>&hellip;</td><td>&hellip;</td><td>&hellip;</td><td>&hellip;</td></tr><tr><td>93436</td><td>53453</td><td>2024-11-22</td><td>&quot;88160R10&quot;</td><td>&quot;TSLA&quot;</td><td>11</td><td>3</td><td>9999</td><td>352.56</td><td>0.03804</td><td>0.03804</td><td>8.8782912e7</td><td>3.207e6</td><td>1.0</td></tr><tr><td>93436</td><td>53453</td><td>2024-11-25</td><td>&quot;88160R10&quot;</td><td>&quot;TSLA&quot;</td><td>11</td><td>3</td><td>9999</td><td>338.59</td><td>-0.039625</td><td>-0.039625</td><td>9.5538697e7</td><td>3.207e6</td><td>1.0</td></tr><tr><td>93436</td><td>53453</td><td>2024-11-26</td><td>&quot;88160R10&quot;</td><td>&quot;TSLA&quot;</td><td>11</td><td>3</td><td>9999</td><td>338.23001</td><td>-0.001063</td><td>-0.001063</td><td>6.2012769e7</td><td>3.207e6</td><td>1.0</td></tr><tr><td>93436</td><td>53453</td><td>2024-11-27</td><td>&quot;88160R10&quot;</td><td>&quot;TSLA&quot;</td><td>11</td><td>3</td><td>9999</td><td>332.89001</td><td>-0.015788</td><td>-0.015788</td><td>5.7750894e7</td><td>3.207e6</td><td>1.0</td></tr><tr><td>93436</td><td>53453</td><td>2024-11-29</td><td>&quot;88160R10&quot;</td><td>&quot;TSLA&quot;</td><td>11</td><td>3</td><td>9999</td><td>345.16</td><td>0.036859</td><td>0.036859</td><td>3.7268609e7</td><td>3.207e6</td><td>1.0</td></tr></tbody></table></div>"
      ],
      "text/plain": [
       "shape: (2_195_057, 14)\n",
       "┌────────┬────────┬────────────┬──────────┬───┬───────────┬─────────────┬─────────┬─────────┐\n",
       "│ permno ┆ permco ┆ date       ┆ ncusip   ┆ … ┆ retx      ┆ vol         ┆ shrout  ┆ cfacshr │\n",
       "│ ---    ┆ ---    ┆ ---        ┆ ---      ┆   ┆ ---       ┆ ---         ┆ ---     ┆ ---     │\n",
       "│ i64    ┆ i64    ┆ date       ┆ str      ┆   ┆ f64       ┆ f64         ┆ f64     ┆ f64     │\n",
       "╞════════╪════════╪════════════╪══════════╪═══╪═══════════╪═════════════╪═════════╪═════════╡\n",
       "│ 10026  ┆ 7976   ┆ 2024-01-02 ┆ 46603210 ┆ … ┆ 0.010291  ┆ 89969.0     ┆ 19367.0 ┆ 1.0     │\n",
       "│ 10026  ┆ 7976   ┆ 2024-01-03 ┆ 46603210 ┆ … ┆ -0.031624 ┆ 100322.0    ┆ 19367.0 ┆ 1.0     │\n",
       "│ 10026  ┆ 7976   ┆ 2024-01-04 ┆ 46603210 ┆ … ┆ -0.001223 ┆ 83873.0     ┆ 19367.0 ┆ 1.0     │\n",
       "│ 10026  ┆ 7976   ┆ 2024-01-05 ┆ 46603210 ┆ … ┆ -0.019042 ┆ 71391.0     ┆ 19367.0 ┆ 1.0     │\n",
       "│ 10026  ┆ 7976   ┆ 2024-01-08 ┆ 46603210 ┆ … ┆ 0.006117  ┆ 74625.0     ┆ 19367.0 ┆ 1.0     │\n",
       "│ …      ┆ …      ┆ …          ┆ …        ┆ … ┆ …         ┆ …           ┆ …       ┆ …       │\n",
       "│ 93436  ┆ 53453  ┆ 2024-11-22 ┆ 88160R10 ┆ … ┆ 0.03804   ┆ 8.8782912e7 ┆ 3.207e6 ┆ 1.0     │\n",
       "│ 93436  ┆ 53453  ┆ 2024-11-25 ┆ 88160R10 ┆ … ┆ -0.039625 ┆ 9.5538697e7 ┆ 3.207e6 ┆ 1.0     │\n",
       "│ 93436  ┆ 53453  ┆ 2024-11-26 ┆ 88160R10 ┆ … ┆ -0.001063 ┆ 6.2012769e7 ┆ 3.207e6 ┆ 1.0     │\n",
       "│ 93436  ┆ 53453  ┆ 2024-11-27 ┆ 88160R10 ┆ … ┆ -0.015788 ┆ 5.7750894e7 ┆ 3.207e6 ┆ 1.0     │\n",
       "│ 93436  ┆ 53453  ┆ 2024-11-29 ┆ 88160R10 ┆ … ┆ 0.036859  ┆ 3.7268609e7 ┆ 3.207e6 ┆ 1.0     │\n",
       "└────────┴────────┴────────────┴──────────┴───┴───────────┴─────────────┴─────────┴─────────┘"
      ]
     },
     "execution_count": 2,
     "metadata": {},
     "output_type": "execute_result"
    }
   ],
   "source": [
    "# You can load a file as a polars dataframe\n",
    "crsp_daily = CRSPDaily().load(2024)\n",
    "\n",
    "crsp_daily"
   ]
  },
  {
   "cell_type": "code",
   "execution_count": 3,
   "metadata": {},
   "outputs": [
    {
     "data": {
      "text/html": [
       "<div>\n",
       "<style scoped>\n",
       "    .dataframe tbody tr th:only-of-type {\n",
       "        vertical-align: middle;\n",
       "    }\n",
       "\n",
       "    .dataframe tbody tr th {\n",
       "        vertical-align: top;\n",
       "    }\n",
       "\n",
       "    .dataframe thead th {\n",
       "        text-align: right;\n",
       "    }\n",
       "</style>\n",
       "<table border=\"1\" class=\"dataframe\">\n",
       "  <thead>\n",
       "    <tr style=\"text-align: right;\">\n",
       "      <th></th>\n",
       "      <th>permno</th>\n",
       "      <th>permco</th>\n",
       "      <th>date</th>\n",
       "      <th>ncusip</th>\n",
       "      <th>ticker</th>\n",
       "      <th>shrcd</th>\n",
       "      <th>exchcd</th>\n",
       "      <th>siccd</th>\n",
       "      <th>prc</th>\n",
       "      <th>ret</th>\n",
       "      <th>retx</th>\n",
       "      <th>vol</th>\n",
       "      <th>shrout</th>\n",
       "      <th>cfacshr</th>\n",
       "    </tr>\n",
       "  </thead>\n",
       "  <tbody>\n",
       "    <tr>\n",
       "      <th>0</th>\n",
       "      <td>10000</td>\n",
       "      <td>7952</td>\n",
       "      <td>1986-01-31</td>\n",
       "      <td>68391610</td>\n",
       "      <td>OMFGA</td>\n",
       "      <td>10</td>\n",
       "      <td>3</td>\n",
       "      <td>3990</td>\n",
       "      <td>-4.37500</td>\n",
       "      <td>NaN</td>\n",
       "      <td>NaN</td>\n",
       "      <td>1771.0</td>\n",
       "      <td>3680.0</td>\n",
       "      <td>1.0</td>\n",
       "    </tr>\n",
       "    <tr>\n",
       "      <th>1</th>\n",
       "      <td>10000</td>\n",
       "      <td>7952</td>\n",
       "      <td>1986-02-28</td>\n",
       "      <td>68391610</td>\n",
       "      <td>OMFGA</td>\n",
       "      <td>10</td>\n",
       "      <td>3</td>\n",
       "      <td>3990</td>\n",
       "      <td>-3.25000</td>\n",
       "      <td>-0.257143</td>\n",
       "      <td>-0.257143</td>\n",
       "      <td>828.0</td>\n",
       "      <td>3680.0</td>\n",
       "      <td>1.0</td>\n",
       "    </tr>\n",
       "    <tr>\n",
       "      <th>2</th>\n",
       "      <td>10000</td>\n",
       "      <td>7952</td>\n",
       "      <td>1986-03-31</td>\n",
       "      <td>68391610</td>\n",
       "      <td>OMFGA</td>\n",
       "      <td>10</td>\n",
       "      <td>3</td>\n",
       "      <td>3990</td>\n",
       "      <td>-4.43750</td>\n",
       "      <td>0.365385</td>\n",
       "      <td>0.365385</td>\n",
       "      <td>1078.0</td>\n",
       "      <td>3680.0</td>\n",
       "      <td>1.0</td>\n",
       "    </tr>\n",
       "    <tr>\n",
       "      <th>3</th>\n",
       "      <td>10000</td>\n",
       "      <td>7952</td>\n",
       "      <td>1986-04-30</td>\n",
       "      <td>68391610</td>\n",
       "      <td>OMFGA</td>\n",
       "      <td>10</td>\n",
       "      <td>3</td>\n",
       "      <td>3990</td>\n",
       "      <td>-4.00000</td>\n",
       "      <td>-0.098592</td>\n",
       "      <td>-0.098592</td>\n",
       "      <td>957.0</td>\n",
       "      <td>3793.0</td>\n",
       "      <td>1.0</td>\n",
       "    </tr>\n",
       "    <tr>\n",
       "      <th>4</th>\n",
       "      <td>10000</td>\n",
       "      <td>7952</td>\n",
       "      <td>1986-05-30</td>\n",
       "      <td>68391610</td>\n",
       "      <td>OMFGA</td>\n",
       "      <td>10</td>\n",
       "      <td>3</td>\n",
       "      <td>3990</td>\n",
       "      <td>-3.10938</td>\n",
       "      <td>-0.222656</td>\n",
       "      <td>-0.222656</td>\n",
       "      <td>1074.0</td>\n",
       "      <td>3793.0</td>\n",
       "      <td>1.0</td>\n",
       "    </tr>\n",
       "    <tr>\n",
       "      <th>...</th>\n",
       "      <td>...</td>\n",
       "      <td>...</td>\n",
       "      <td>...</td>\n",
       "      <td>...</td>\n",
       "      <td>...</td>\n",
       "      <td>...</td>\n",
       "      <td>...</td>\n",
       "      <td>...</td>\n",
       "      <td>...</td>\n",
       "      <td>...</td>\n",
       "      <td>...</td>\n",
       "      <td>...</td>\n",
       "      <td>...</td>\n",
       "      <td>...</td>\n",
       "    </tr>\n",
       "    <tr>\n",
       "      <th>4994327</th>\n",
       "      <td>93436</td>\n",
       "      <td>53453</td>\n",
       "      <td>2024-07-31</td>\n",
       "      <td>88160R10</td>\n",
       "      <td>TSLA</td>\n",
       "      <td>11</td>\n",
       "      <td>3</td>\n",
       "      <td>9999</td>\n",
       "      <td>232.07001</td>\n",
       "      <td>0.172781</td>\n",
       "      <td>0.172781</td>\n",
       "      <td>29287946.0</td>\n",
       "      <td>3194640.0</td>\n",
       "      <td>1.0</td>\n",
       "    </tr>\n",
       "    <tr>\n",
       "      <th>4994328</th>\n",
       "      <td>93436</td>\n",
       "      <td>53453</td>\n",
       "      <td>2024-08-30</td>\n",
       "      <td>88160R10</td>\n",
       "      <td>TSLA</td>\n",
       "      <td>11</td>\n",
       "      <td>3</td>\n",
       "      <td>9999</td>\n",
       "      <td>214.11000</td>\n",
       "      <td>-0.077391</td>\n",
       "      <td>-0.077391</td>\n",
       "      <td>16108365.0</td>\n",
       "      <td>3194640.0</td>\n",
       "      <td>1.0</td>\n",
       "    </tr>\n",
       "    <tr>\n",
       "      <th>4994329</th>\n",
       "      <td>93436</td>\n",
       "      <td>53453</td>\n",
       "      <td>2024-09-30</td>\n",
       "      <td>88160R10</td>\n",
       "      <td>TSLA</td>\n",
       "      <td>11</td>\n",
       "      <td>3</td>\n",
       "      <td>9999</td>\n",
       "      <td>261.63000</td>\n",
       "      <td>0.221942</td>\n",
       "      <td>0.221942</td>\n",
       "      <td>16042065.0</td>\n",
       "      <td>3207000.0</td>\n",
       "      <td>1.0</td>\n",
       "    </tr>\n",
       "    <tr>\n",
       "      <th>4994330</th>\n",
       "      <td>93436</td>\n",
       "      <td>53453</td>\n",
       "      <td>2024-10-31</td>\n",
       "      <td>88160R10</td>\n",
       "      <td>TSLA</td>\n",
       "      <td>11</td>\n",
       "      <td>3</td>\n",
       "      <td>9999</td>\n",
       "      <td>249.85001</td>\n",
       "      <td>-0.045025</td>\n",
       "      <td>-0.045025</td>\n",
       "      <td>19014312.0</td>\n",
       "      <td>3207000.0</td>\n",
       "      <td>1.0</td>\n",
       "    </tr>\n",
       "    <tr>\n",
       "      <th>4994331</th>\n",
       "      <td>93436</td>\n",
       "      <td>53453</td>\n",
       "      <td>2024-11-29</td>\n",
       "      <td>88160R10</td>\n",
       "      <td>TSLA</td>\n",
       "      <td>11</td>\n",
       "      <td>3</td>\n",
       "      <td>9999</td>\n",
       "      <td>345.16000</td>\n",
       "      <td>0.381469</td>\n",
       "      <td>0.381469</td>\n",
       "      <td>20821313.0</td>\n",
       "      <td>3207000.0</td>\n",
       "      <td>1.0</td>\n",
       "    </tr>\n",
       "  </tbody>\n",
       "</table>\n",
       "<p>4994332 rows × 14 columns</p>\n",
       "</div>"
      ],
      "text/plain": [
       "         permno  permco       date    ncusip ticker  shrcd  exchcd  siccd  \\\n",
       "0         10000    7952 1986-01-31  68391610  OMFGA     10       3   3990   \n",
       "1         10000    7952 1986-02-28  68391610  OMFGA     10       3   3990   \n",
       "2         10000    7952 1986-03-31  68391610  OMFGA     10       3   3990   \n",
       "3         10000    7952 1986-04-30  68391610  OMFGA     10       3   3990   \n",
       "4         10000    7952 1986-05-30  68391610  OMFGA     10       3   3990   \n",
       "...         ...     ...        ...       ...    ...    ...     ...    ...   \n",
       "4994327   93436   53453 2024-07-31  88160R10   TSLA     11       3   9999   \n",
       "4994328   93436   53453 2024-08-30  88160R10   TSLA     11       3   9999   \n",
       "4994329   93436   53453 2024-09-30  88160R10   TSLA     11       3   9999   \n",
       "4994330   93436   53453 2024-10-31  88160R10   TSLA     11       3   9999   \n",
       "4994331   93436   53453 2024-11-29  88160R10   TSLA     11       3   9999   \n",
       "\n",
       "               prc       ret      retx         vol     shrout  cfacshr  \n",
       "0         -4.37500       NaN       NaN      1771.0     3680.0      1.0  \n",
       "1         -3.25000 -0.257143 -0.257143       828.0     3680.0      1.0  \n",
       "2         -4.43750  0.365385  0.365385      1078.0     3680.0      1.0  \n",
       "3         -4.00000 -0.098592 -0.098592       957.0     3793.0      1.0  \n",
       "4         -3.10938 -0.222656 -0.222656      1074.0     3793.0      1.0  \n",
       "...            ...       ...       ...         ...        ...      ...  \n",
       "4994327  232.07001  0.172781  0.172781  29287946.0  3194640.0      1.0  \n",
       "4994328  214.11000 -0.077391 -0.077391  16108365.0  3194640.0      1.0  \n",
       "4994329  261.63000  0.221942  0.221942  16042065.0  3207000.0      1.0  \n",
       "4994330  249.85001 -0.045025 -0.045025  19014312.0  3207000.0      1.0  \n",
       "4994331  345.16000  0.381469  0.381469  20821313.0  3207000.0      1.0  \n",
       "\n",
       "[4994332 rows x 14 columns]"
      ]
     },
     "execution_count": 3,
     "metadata": {},
     "output_type": "execute_result"
    }
   ],
   "source": [
    "# And you can cast it to a pandas dataframe really easily\n",
    "crsp_monthly = CRSPMonthly().load_all().to_pandas()\n",
    "\n",
    "crsp_monthly\n",
    "\n",
    "# Notice the visual differences between a polars and pandas dataframe\n",
    "# Polars dataframe label the columns dtypes, and don't have an index column"
   ]
  },
  {
   "cell_type": "code",
   "execution_count": 4,
   "metadata": {},
   "outputs": [
    {
     "name": "stdout",
     "output_type": "stream",
     "text": [
      "509 ms ± 7.28 ms per loop (mean ± std. dev. of 7 runs, 1 loop each)\n",
      "1.24 s ± 64.8 ms per loop (mean ± std. dev. of 7 runs, 1 loop each)\n"
     ]
    }
   ],
   "source": [
    "%timeit CRSPMonthly().load_all()\n",
    "%timeit CRSPMonthly().load_all().to_pandas()\n",
    "# Notice that polars dataframes are a whole lot faster than pandas dataframes.\n",
    "# This is why all of the dataset classes use polars."
   ]
  },
  {
   "cell_type": "code",
   "execution_count": 5,
   "metadata": {},
   "outputs": [
    {
     "data": {
      "text/html": [
       "<div><style>\n",
       ".dataframe > thead > tr,\n",
       ".dataframe > tbody > tr {\n",
       "  text-align: right;\n",
       "  white-space: pre-wrap;\n",
       "}\n",
       "</style>\n",
       "<small>shape: (104_591_340, 4)</small><table border=\"1\" class=\"dataframe\"><thead><tr><th>Barrid</th><th>Factor</th><th>Date</th><th>Exposure</th></tr><tr><td>str</td><td>str</td><td>date</td><td>f64</td></tr></thead><tbody><tr><td>&quot;ARGA1B1&quot;</td><td>&quot;COUNTRY&quot;</td><td>2024-01-02</td><td>1.0</td></tr><tr><td>&quot;ARGA1B1&quot;</td><td>&quot;DIVYILD&quot;</td><td>2024-01-02</td><td>-0.775</td></tr><tr><td>&quot;ARGA1B1&quot;</td><td>&quot;EARNQLTY&quot;</td><td>2024-01-02</td><td>-0.717</td></tr><tr><td>&quot;ARGA1B1&quot;</td><td>&quot;EARNYILD&quot;</td><td>2024-01-02</td><td>-0.919</td></tr><tr><td>&quot;ARGA1B1&quot;</td><td>&quot;GROWTH&quot;</td><td>2024-01-02</td><td>0.639</td></tr><tr><td>&hellip;</td><td>&hellip;</td><td>&hellip;</td><td>&hellip;</td></tr><tr><td>&quot;USBQWH1&quot;</td><td>&quot;PROSPECT&quot;</td><td>2024-12-31</td><td>-0.068</td></tr><tr><td>&quot;USBQWH1&quot;</td><td>&quot;RESVOL&quot;</td><td>2024-12-31</td><td>0.992</td></tr><tr><td>&quot;USBQWH1&quot;</td><td>&quot;SIZE&quot;</td><td>2024-12-31</td><td>-4.272</td></tr><tr><td>&quot;USBQWH1&quot;</td><td>&quot;SPTYSTOR&quot;</td><td>2024-12-31</td><td>1.0</td></tr><tr><td>&quot;USBQWH1&quot;</td><td>&quot;VALUE&quot;</td><td>2024-12-31</td><td>0.837</td></tr></tbody></table></div>"
      ],
      "text/plain": [
       "shape: (104_591_340, 4)\n",
       "┌─────────┬──────────┬────────────┬──────────┐\n",
       "│ Barrid  ┆ Factor   ┆ Date       ┆ Exposure │\n",
       "│ ---     ┆ ---      ┆ ---        ┆ ---      │\n",
       "│ str     ┆ str      ┆ date       ┆ f64      │\n",
       "╞═════════╪══════════╪════════════╪══════════╡\n",
       "│ ARGA1B1 ┆ COUNTRY  ┆ 2024-01-02 ┆ 1.0      │\n",
       "│ ARGA1B1 ┆ DIVYILD  ┆ 2024-01-02 ┆ -0.775   │\n",
       "│ ARGA1B1 ┆ EARNQLTY ┆ 2024-01-02 ┆ -0.717   │\n",
       "│ ARGA1B1 ┆ EARNYILD ┆ 2024-01-02 ┆ -0.919   │\n",
       "│ ARGA1B1 ┆ GROWTH   ┆ 2024-01-02 ┆ 0.639    │\n",
       "│ …       ┆ …        ┆ …          ┆ …        │\n",
       "│ USBQWH1 ┆ PROSPECT ┆ 2024-12-31 ┆ -0.068   │\n",
       "│ USBQWH1 ┆ RESVOL   ┆ 2024-12-31 ┆ 0.992    │\n",
       "│ USBQWH1 ┆ SIZE     ┆ 2024-12-31 ┆ -4.272   │\n",
       "│ USBQWH1 ┆ SPTYSTOR ┆ 2024-12-31 ┆ 1.0      │\n",
       "│ USBQWH1 ┆ VALUE    ┆ 2024-12-31 ┆ 0.837    │\n",
       "└─────────┴──────────┴────────────┴──────────┘"
      ]
     },
     "execution_count": 5,
     "metadata": {},
     "output_type": "execute_result"
    }
   ],
   "source": [
    "bfe = BarraFactorExposures().load(2024)\n",
    "\n",
    "bfe"
   ]
  },
  {
   "cell_type": "code",
   "execution_count": 6,
   "metadata": {},
   "outputs": [
    {
     "data": {
      "text/html": [
       "<div><style>\n",
       ".dataframe > thead > tr,\n",
       ".dataframe > tbody > tr {\n",
       "  text-align: right;\n",
       "  white-space: pre-wrap;\n",
       "}\n",
       "</style>\n",
       "<small>shape: (5_672_520, 78)</small><table border=\"1\" class=\"dataframe\"><thead><tr><th>Date</th><th>Barrid</th><th>COUNTRY</th><th>DIVYILD</th><th>EARNQLTY</th><th>EARNYILD</th><th>GROWTH</th><th>INTERNET</th><th>LEVERAGE</th><th>LIQUIDTY</th><th>LTREVRSL</th><th>MGMTQLTY</th><th>MIDCAP</th><th>MOMENTUM</th><th>PROFIT</th><th>PROSPECT</th><th>RESVOL</th><th>SIZE</th><th>VALUE</th><th>BETA</th><th>RESTAUR</th><th>FOODPROD</th><th>DIVFIN</th><th>ROADRAIL</th><th>AIRLINES</th><th>TRANSPRT</th><th>PRECMTLS</th><th>CHEM</th><th>OILGSCON</th><th>OILGSEXP</th><th>LEISSVCS</th><th>SOFTWARE</th><th>AUTO</th><th>SEMIEQP</th><th>COMSVCS</th><th>SEMICOND</th><th>APPAREL</th><th>&hellip;</th><th>COMMEQP</th><th>DISTRIB</th><th>SPLTYRET</th><th>BEVTOB</th><th>ELECUTIL</th><th>HLTHSVCS</th><th>FOODRET</th><th>HOUSEDUR</th><th>ELECEQP</th><th>OILGSEQP</th><th>TRADECO</th><th>WIRELESS</th><th>TELECOM</th><th>ALUMSTEL</th><th>INSURNCE</th><th>COMPELEC</th><th>HLTHEQP</th><th>MGDHLTH</th><th>INDMACH</th><th>PSNLPROD</th><th>CONGLOM</th><th>CNSTMACH</th><th>PHARMA</th><th>CONTAINR</th><th>OILGSDRL</th><th>SPTYCHEM</th><th>LEISPROD</th><th>MULTUTIL</th><th>HOMEBLDG</th><th>LIFEINS</th><th>REALEST</th><th>GASUTIL</th><th>SPTYSTOR</th><th>CNSTENG</th><th>BLDGPROD</th><th>PAPER</th><th>CNSTMATL</th></tr><tr><td>date</td><td>str</td><td>f64</td><td>f64</td><td>f64</td><td>f64</td><td>f64</td><td>f64</td><td>f64</td><td>f64</td><td>f64</td><td>f64</td><td>f64</td><td>f64</td><td>f64</td><td>f64</td><td>f64</td><td>f64</td><td>f64</td><td>f64</td><td>f64</td><td>f64</td><td>f64</td><td>f64</td><td>f64</td><td>f64</td><td>f64</td><td>f64</td><td>f64</td><td>f64</td><td>f64</td><td>f64</td><td>f64</td><td>f64</td><td>f64</td><td>f64</td><td>f64</td><td>&hellip;</td><td>f64</td><td>f64</td><td>f64</td><td>f64</td><td>f64</td><td>f64</td><td>f64</td><td>f64</td><td>f64</td><td>f64</td><td>f64</td><td>f64</td><td>f64</td><td>f64</td><td>f64</td><td>f64</td><td>f64</td><td>f64</td><td>f64</td><td>f64</td><td>f64</td><td>f64</td><td>f64</td><td>f64</td><td>f64</td><td>f64</td><td>f64</td><td>f64</td><td>f64</td><td>f64</td><td>f64</td><td>f64</td><td>f64</td><td>f64</td><td>f64</td><td>f64</td><td>f64</td></tr></thead><tbody><tr><td>2024-01-02</td><td>&quot;ARGA1B1&quot;</td><td>1.0</td><td>-0.775</td><td>-0.717</td><td>-0.919</td><td>0.639</td><td>1.0</td><td>0.415</td><td>3.044</td><td>0.573</td><td>-1.421</td><td>0.67</td><td>2.246</td><td>-0.476</td><td>2.298</td><td>2.424</td><td>-0.801</td><td>-0.487</td><td>0.893</td><td>null</td><td>null</td><td>null</td><td>null</td><td>null</td><td>null</td><td>null</td><td>null</td><td>null</td><td>null</td><td>null</td><td>null</td><td>null</td><td>null</td><td>null</td><td>null</td><td>null</td><td>&hellip;</td><td>null</td><td>null</td><td>null</td><td>null</td><td>null</td><td>null</td><td>null</td><td>null</td><td>null</td><td>null</td><td>null</td><td>null</td><td>null</td><td>null</td><td>null</td><td>null</td><td>null</td><td>null</td><td>null</td><td>null</td><td>null</td><td>null</td><td>null</td><td>null</td><td>null</td><td>null</td><td>null</td><td>null</td><td>null</td><td>null</td><td>null</td><td>null</td><td>null</td><td>null</td><td>null</td><td>null</td><td>null</td></tr><tr><td>2024-01-03</td><td>&quot;ARGA1B1&quot;</td><td>1.0</td><td>-0.777</td><td>-0.736</td><td>-0.933</td><td>0.641</td><td>1.0</td><td>0.426</td><td>3.049</td><td>0.553</td><td>-1.425</td><td>0.675</td><td>2.29</td><td>-0.478</td><td>2.302</td><td>2.537</td><td>-0.812</td><td>-0.475</td><td>0.758</td><td>null</td><td>null</td><td>null</td><td>null</td><td>null</td><td>null</td><td>null</td><td>null</td><td>null</td><td>null</td><td>null</td><td>null</td><td>null</td><td>null</td><td>null</td><td>null</td><td>null</td><td>&hellip;</td><td>null</td><td>null</td><td>null</td><td>null</td><td>null</td><td>null</td><td>null</td><td>null</td><td>null</td><td>null</td><td>null</td><td>null</td><td>null</td><td>null</td><td>null</td><td>null</td><td>null</td><td>null</td><td>null</td><td>null</td><td>null</td><td>null</td><td>null</td><td>null</td><td>null</td><td>null</td><td>null</td><td>null</td><td>null</td><td>null</td><td>null</td><td>null</td><td>null</td><td>null</td><td>null</td><td>null</td><td>null</td></tr><tr><td>2024-01-04</td><td>&quot;ARGA1B1&quot;</td><td>1.0</td><td>-0.775</td><td>-0.757</td><td>-0.926</td><td>0.641</td><td>1.0</td><td>0.428</td><td>3.05</td><td>0.559</td><td>-1.424</td><td>0.664</td><td>2.232</td><td>-0.477</td><td>2.303</td><td>2.625</td><td>-0.793</td><td>-0.467</td><td>0.664</td><td>null</td><td>null</td><td>null</td><td>null</td><td>null</td><td>null</td><td>null</td><td>null</td><td>null</td><td>null</td><td>null</td><td>null</td><td>null</td><td>null</td><td>null</td><td>null</td><td>null</td><td>&hellip;</td><td>null</td><td>null</td><td>null</td><td>null</td><td>null</td><td>null</td><td>null</td><td>null</td><td>null</td><td>null</td><td>null</td><td>null</td><td>null</td><td>null</td><td>null</td><td>null</td><td>null</td><td>null</td><td>null</td><td>null</td><td>null</td><td>null</td><td>null</td><td>null</td><td>null</td><td>null</td><td>null</td><td>null</td><td>null</td><td>null</td><td>null</td><td>null</td><td>null</td><td>null</td><td>null</td><td>null</td><td>null</td></tr><tr><td>2024-01-05</td><td>&quot;ARGA1B1&quot;</td><td>1.0</td><td>-0.777</td><td>-0.74</td><td>-0.919</td><td>0.641</td><td>1.0</td><td>0.422</td><td>3.046</td><td>0.518</td><td>-1.424</td><td>0.657</td><td>2.246</td><td>-0.476</td><td>2.301</td><td>2.634</td><td>-0.78</td><td>-0.475</td><td>0.666</td><td>null</td><td>null</td><td>null</td><td>null</td><td>null</td><td>null</td><td>null</td><td>null</td><td>null</td><td>null</td><td>null</td><td>null</td><td>null</td><td>null</td><td>null</td><td>null</td><td>null</td><td>&hellip;</td><td>null</td><td>null</td><td>null</td><td>null</td><td>null</td><td>null</td><td>null</td><td>null</td><td>null</td><td>null</td><td>null</td><td>null</td><td>null</td><td>null</td><td>null</td><td>null</td><td>null</td><td>null</td><td>null</td><td>null</td><td>null</td><td>null</td><td>null</td><td>null</td><td>null</td><td>null</td><td>null</td><td>null</td><td>null</td><td>null</td><td>null</td><td>null</td><td>null</td><td>null</td><td>null</td><td>null</td><td>null</td></tr><tr><td>2024-01-08</td><td>&quot;ARGA1B1&quot;</td><td>1.0</td><td>-0.771</td><td>-0.719</td><td>-0.91</td><td>0.637</td><td>1.0</td><td>0.421</td><td>3.046</td><td>0.527</td><td>-1.42</td><td>0.644</td><td>2.207</td><td>-0.481</td><td>2.315</td><td>2.612</td><td>-0.76</td><td>-0.475</td><td>0.949</td><td>null</td><td>null</td><td>null</td><td>null</td><td>null</td><td>null</td><td>null</td><td>null</td><td>null</td><td>null</td><td>null</td><td>null</td><td>null</td><td>null</td><td>null</td><td>null</td><td>null</td><td>&hellip;</td><td>null</td><td>null</td><td>null</td><td>null</td><td>null</td><td>null</td><td>null</td><td>null</td><td>null</td><td>null</td><td>null</td><td>null</td><td>null</td><td>null</td><td>null</td><td>null</td><td>null</td><td>null</td><td>null</td><td>null</td><td>null</td><td>null</td><td>null</td><td>null</td><td>null</td><td>null</td><td>null</td><td>null</td><td>null</td><td>null</td><td>null</td><td>null</td><td>null</td><td>null</td><td>null</td><td>null</td><td>null</td></tr><tr><td>&hellip;</td><td>&hellip;</td><td>&hellip;</td><td>&hellip;</td><td>&hellip;</td><td>&hellip;</td><td>&hellip;</td><td>&hellip;</td><td>&hellip;</td><td>&hellip;</td><td>&hellip;</td><td>&hellip;</td><td>&hellip;</td><td>&hellip;</td><td>&hellip;</td><td>&hellip;</td><td>&hellip;</td><td>&hellip;</td><td>&hellip;</td><td>&hellip;</td><td>&hellip;</td><td>&hellip;</td><td>&hellip;</td><td>&hellip;</td><td>&hellip;</td><td>&hellip;</td><td>&hellip;</td><td>&hellip;</td><td>&hellip;</td><td>&hellip;</td><td>&hellip;</td><td>&hellip;</td><td>&hellip;</td><td>&hellip;</td><td>&hellip;</td><td>&hellip;</td><td>&hellip;</td><td>&hellip;</td><td>&hellip;</td><td>&hellip;</td><td>&hellip;</td><td>&hellip;</td><td>&hellip;</td><td>&hellip;</td><td>&hellip;</td><td>&hellip;</td><td>&hellip;</td><td>&hellip;</td><td>&hellip;</td><td>&hellip;</td><td>&hellip;</td><td>&hellip;</td><td>&hellip;</td><td>&hellip;</td><td>&hellip;</td><td>&hellip;</td><td>&hellip;</td><td>&hellip;</td><td>&hellip;</td><td>&hellip;</td><td>&hellip;</td><td>&hellip;</td><td>&hellip;</td><td>&hellip;</td><td>&hellip;</td><td>&hellip;</td><td>&hellip;</td><td>&hellip;</td><td>&hellip;</td><td>&hellip;</td><td>&hellip;</td><td>&hellip;</td><td>&hellip;</td><td>&hellip;</td><td>&hellip;</td></tr><tr><td>2024-12-24</td><td>&quot;USBQWH1&quot;</td><td>null</td><td>null</td><td>null</td><td>null</td><td>null</td><td>null</td><td>null</td><td>null</td><td>null</td><td>null</td><td>null</td><td>null</td><td>null</td><td>null</td><td>null</td><td>null</td><td>null</td><td>null</td><td>null</td><td>null</td><td>null</td><td>null</td><td>null</td><td>null</td><td>null</td><td>null</td><td>null</td><td>null</td><td>null</td><td>null</td><td>null</td><td>null</td><td>null</td><td>null</td><td>null</td><td>&hellip;</td><td>null</td><td>null</td><td>null</td><td>null</td><td>null</td><td>null</td><td>null</td><td>null</td><td>null</td><td>null</td><td>null</td><td>null</td><td>null</td><td>null</td><td>null</td><td>null</td><td>null</td><td>null</td><td>null</td><td>null</td><td>null</td><td>null</td><td>null</td><td>null</td><td>null</td><td>null</td><td>null</td><td>null</td><td>null</td><td>null</td><td>null</td><td>null</td><td>null</td><td>null</td><td>null</td><td>null</td><td>null</td></tr><tr><td>2024-12-26</td><td>&quot;USBQWH1&quot;</td><td>null</td><td>null</td><td>null</td><td>null</td><td>null</td><td>null</td><td>null</td><td>null</td><td>null</td><td>null</td><td>null</td><td>null</td><td>null</td><td>null</td><td>null</td><td>null</td><td>null</td><td>null</td><td>null</td><td>null</td><td>null</td><td>null</td><td>null</td><td>null</td><td>null</td><td>null</td><td>null</td><td>null</td><td>null</td><td>null</td><td>null</td><td>null</td><td>null</td><td>null</td><td>null</td><td>&hellip;</td><td>null</td><td>null</td><td>null</td><td>null</td><td>null</td><td>null</td><td>null</td><td>null</td><td>null</td><td>null</td><td>null</td><td>null</td><td>null</td><td>null</td><td>null</td><td>null</td><td>null</td><td>null</td><td>null</td><td>null</td><td>null</td><td>null</td><td>null</td><td>null</td><td>null</td><td>null</td><td>null</td><td>null</td><td>null</td><td>null</td><td>null</td><td>null</td><td>null</td><td>null</td><td>null</td><td>null</td><td>null</td></tr><tr><td>2024-12-27</td><td>&quot;USBQWH1&quot;</td><td>1.0</td><td>-0.352</td><td>-0.8</td><td>0.302</td><td>-0.297</td><td>null</td><td>0.898</td><td>1.975</td><td>0.126</td><td>-0.014</td><td>-2.821</td><td>-1.031</td><td>0.231</td><td>-0.096</td><td>-2.848</td><td>-4.553</td><td>0.856</td><td>0.205</td><td>null</td><td>null</td><td>null</td><td>null</td><td>null</td><td>null</td><td>null</td><td>null</td><td>null</td><td>null</td><td>null</td><td>null</td><td>null</td><td>null</td><td>null</td><td>null</td><td>null</td><td>&hellip;</td><td>null</td><td>null</td><td>null</td><td>null</td><td>null</td><td>null</td><td>null</td><td>null</td><td>null</td><td>null</td><td>null</td><td>null</td><td>null</td><td>null</td><td>null</td><td>null</td><td>null</td><td>null</td><td>null</td><td>null</td><td>null</td><td>null</td><td>null</td><td>null</td><td>null</td><td>null</td><td>null</td><td>null</td><td>null</td><td>null</td><td>null</td><td>null</td><td>1.0</td><td>null</td><td>null</td><td>null</td><td>null</td></tr><tr><td>2024-12-30</td><td>&quot;USBQWH1&quot;</td><td>1.0</td><td>-0.339</td><td>-0.77</td><td>0.315</td><td>-0.292</td><td>null</td><td>-0.498</td><td>1.973</td><td>0.136</td><td>-0.004</td><td>-2.799</td><td>-1.046</td><td>0.247</td><td>-0.079</td><td>-1.011</td><td>-4.435</td><td>0.827</td><td>0.231</td><td>null</td><td>null</td><td>null</td><td>null</td><td>null</td><td>null</td><td>null</td><td>null</td><td>null</td><td>null</td><td>null</td><td>null</td><td>null</td><td>null</td><td>null</td><td>null</td><td>null</td><td>&hellip;</td><td>null</td><td>null</td><td>null</td><td>null</td><td>null</td><td>null</td><td>null</td><td>null</td><td>null</td><td>null</td><td>null</td><td>null</td><td>null</td><td>null</td><td>null</td><td>null</td><td>null</td><td>null</td><td>null</td><td>null</td><td>null</td><td>null</td><td>null</td><td>null</td><td>null</td><td>null</td><td>null</td><td>null</td><td>null</td><td>null</td><td>null</td><td>null</td><td>1.0</td><td>null</td><td>null</td><td>null</td><td>null</td></tr><tr><td>2024-12-31</td><td>&quot;USBQWH1&quot;</td><td>1.0</td><td>-0.34</td><td>-0.739</td><td>0.329</td><td>-0.282</td><td>null</td><td>-0.502</td><td>1.946</td><td>0.129</td><td>-0.009</td><td>-2.808</td><td>-0.945</td><td>0.261</td><td>-0.068</td><td>0.992</td><td>-4.272</td><td>0.837</td><td>0.24</td><td>null</td><td>null</td><td>null</td><td>null</td><td>null</td><td>null</td><td>null</td><td>null</td><td>null</td><td>null</td><td>null</td><td>null</td><td>null</td><td>null</td><td>null</td><td>null</td><td>null</td><td>&hellip;</td><td>null</td><td>null</td><td>null</td><td>null</td><td>null</td><td>null</td><td>null</td><td>null</td><td>null</td><td>null</td><td>null</td><td>null</td><td>null</td><td>null</td><td>null</td><td>null</td><td>null</td><td>null</td><td>null</td><td>null</td><td>null</td><td>null</td><td>null</td><td>null</td><td>null</td><td>null</td><td>null</td><td>null</td><td>null</td><td>null</td><td>null</td><td>null</td><td>1.0</td><td>null</td><td>null</td><td>null</td><td>null</td></tr></tbody></table></div>"
      ],
      "text/plain": [
       "shape: (5_672_520, 78)\n",
       "┌────────────┬─────────┬─────────┬─────────┬───┬─────────┬──────────┬───────┬──────────┐\n",
       "│ Date       ┆ Barrid  ┆ COUNTRY ┆ DIVYILD ┆ … ┆ CNSTENG ┆ BLDGPROD ┆ PAPER ┆ CNSTMATL │\n",
       "│ ---        ┆ ---     ┆ ---     ┆ ---     ┆   ┆ ---     ┆ ---      ┆ ---   ┆ ---      │\n",
       "│ date       ┆ str     ┆ f64     ┆ f64     ┆   ┆ f64     ┆ f64      ┆ f64   ┆ f64      │\n",
       "╞════════════╪═════════╪═════════╪═════════╪═══╪═════════╪══════════╪═══════╪══════════╡\n",
       "│ 2024-01-02 ┆ ARGA1B1 ┆ 1.0     ┆ -0.775  ┆ … ┆ null    ┆ null     ┆ null  ┆ null     │\n",
       "│ 2024-01-03 ┆ ARGA1B1 ┆ 1.0     ┆ -0.777  ┆ … ┆ null    ┆ null     ┆ null  ┆ null     │\n",
       "│ 2024-01-04 ┆ ARGA1B1 ┆ 1.0     ┆ -0.775  ┆ … ┆ null    ┆ null     ┆ null  ┆ null     │\n",
       "│ 2024-01-05 ┆ ARGA1B1 ┆ 1.0     ┆ -0.777  ┆ … ┆ null    ┆ null     ┆ null  ┆ null     │\n",
       "│ 2024-01-08 ┆ ARGA1B1 ┆ 1.0     ┆ -0.771  ┆ … ┆ null    ┆ null     ┆ null  ┆ null     │\n",
       "│ …          ┆ …       ┆ …       ┆ …       ┆ … ┆ …       ┆ …        ┆ …     ┆ …        │\n",
       "│ 2024-12-24 ┆ USBQWH1 ┆ null    ┆ null    ┆ … ┆ null    ┆ null     ┆ null  ┆ null     │\n",
       "│ 2024-12-26 ┆ USBQWH1 ┆ null    ┆ null    ┆ … ┆ null    ┆ null     ┆ null  ┆ null     │\n",
       "│ 2024-12-27 ┆ USBQWH1 ┆ 1.0     ┆ -0.352  ┆ … ┆ null    ┆ null     ┆ null  ┆ null     │\n",
       "│ 2024-12-30 ┆ USBQWH1 ┆ 1.0     ┆ -0.339  ┆ … ┆ null    ┆ null     ┆ null  ┆ null     │\n",
       "│ 2024-12-31 ┆ USBQWH1 ┆ 1.0     ┆ -0.34   ┆ … ┆ null    ┆ null     ┆ null  ┆ null     │\n",
       "└────────────┴─────────┴─────────┴─────────┴───┴─────────┴──────────┴───────┴──────────┘"
      ]
     },
     "execution_count": 6,
     "metadata": {},
     "output_type": "execute_result"
    }
   ],
   "source": [
    "# With the factor data you can pivot it to be more useful for research\n",
    "# The only reason we don't do this for you is because it takes forever.\n",
    "bfe.pivot(on=\"Factor\", index=[\"Date\", \"Barrid\"])"
   ]
  },
  {
   "cell_type": "code",
   "execution_count": 7,
   "metadata": {},
   "outputs": [
    {
     "data": {
      "text/html": [
       "<div><style>\n",
       ".dataframe > thead > tr,\n",
       ".dataframe > tbody > tr {\n",
       "  text-align: right;\n",
       "  white-space: pre-wrap;\n",
       "}\n",
       "</style>\n",
       "<small>shape: (5_500_649, 7)</small><table border=\"1\" class=\"dataframe\"><thead><tr><th>Date</th><th>Barrid</th><th>Currency</th><th>MktCap</th><th>Price</th><th>PriceSource</th><th>ret</th></tr><tr><td>date</td><td>str</td><td>str</td><td>f64</td><td>f64</td><td>str</td><td>f64</td></tr></thead><tbody><tr><td>2024-01-02</td><td>&quot;ARGA1B1&quot;</td><td>&quot;ARS&quot;</td><td>2.1981e13</td><td>15788.0</td><td>&quot;MSCIBARRA&quot;</td><td>-0.048916</td></tr><tr><td>2024-01-02</td><td>&quot;ARGA1G1&quot;</td><td>&quot;ARS&quot;</td><td>1.0707e14</td><td>23548.0</td><td>&quot;MSCIBARRA&quot;</td><td>-0.000849</td></tr><tr><td>2024-01-02</td><td>&quot;ARGA1K1&quot;</td><td>&quot;ARS&quot;</td><td>2.8700e13</td><td>9120.0</td><td>&quot;MSCIBARRA&quot;</td><td>0.048276</td></tr><tr><td>2024-01-02</td><td>&quot;ARGA621&quot;</td><td>&quot;ARS&quot;</td><td>3.2716e12</td><td>7800.0</td><td>&quot;MSCIBARRA&quot;</td><td>-0.037037</td></tr><tr><td>2024-01-02</td><td>&quot;ARGA631&quot;</td><td>&quot;ARS&quot;</td><td>1.1977e14</td><td>29100.0</td><td>&quot;MSCIBARRA&quot;</td><td>-0.035482</td></tr><tr><td>&hellip;</td><td>&hellip;</td><td>&hellip;</td><td>&hellip;</td><td>&hellip;</td><td>&hellip;</td><td>&hellip;</td></tr><tr><td>2024-12-31</td><td>&quot;USBQVO1&quot;</td><td>&quot;USD&quot;</td><td>8.06625e7</td><td>4.78</td><td>&quot;MSCIBARRA&quot;</td><td>0.021368</td></tr><tr><td>2024-12-31</td><td>&quot;USBQVQ1&quot;</td><td>&quot;USD&quot;</td><td>2.2792e8</td><td>0.02</td><td>&quot;MSCIBARRA&quot;</td><td>0.0</td></tr><tr><td>2024-12-31</td><td>&quot;USBQVX1&quot;</td><td>&quot;USD&quot;</td><td>2.8731e9</td><td>11.75</td><td>&quot;MSCIBARRA&quot;</td><td>0.0</td></tr><tr><td>2024-12-31</td><td>&quot;USBQWF1&quot;</td><td>&quot;USD&quot;</td><td>2.3591e8</td><td>7.93</td><td>&quot;MSCIBARRA&quot;</td><td>-0.194924</td></tr><tr><td>2024-12-31</td><td>&quot;USBQWH1&quot;</td><td>&quot;USD&quot;</td><td>1.64798e8</td><td>6.29</td><td>&quot;MSCIBARRA&quot;</td><td>0.296907</td></tr></tbody></table></div>"
      ],
      "text/plain": [
       "shape: (5_500_649, 7)\n",
       "┌────────────┬─────────┬──────────┬───────────┬─────────┬─────────────┬───────────┐\n",
       "│ Date       ┆ Barrid  ┆ Currency ┆ MktCap    ┆ Price   ┆ PriceSource ┆ ret       │\n",
       "│ ---        ┆ ---     ┆ ---      ┆ ---       ┆ ---     ┆ ---         ┆ ---       │\n",
       "│ date       ┆ str     ┆ str      ┆ f64       ┆ f64     ┆ str         ┆ f64       │\n",
       "╞════════════╪═════════╪══════════╪═══════════╪═════════╪═════════════╪═══════════╡\n",
       "│ 2024-01-02 ┆ ARGA1B1 ┆ ARS      ┆ 2.1981e13 ┆ 15788.0 ┆ MSCIBARRA   ┆ -0.048916 │\n",
       "│ 2024-01-02 ┆ ARGA1G1 ┆ ARS      ┆ 1.0707e14 ┆ 23548.0 ┆ MSCIBARRA   ┆ -0.000849 │\n",
       "│ 2024-01-02 ┆ ARGA1K1 ┆ ARS      ┆ 2.8700e13 ┆ 9120.0  ┆ MSCIBARRA   ┆ 0.048276  │\n",
       "│ 2024-01-02 ┆ ARGA621 ┆ ARS      ┆ 3.2716e12 ┆ 7800.0  ┆ MSCIBARRA   ┆ -0.037037 │\n",
       "│ 2024-01-02 ┆ ARGA631 ┆ ARS      ┆ 1.1977e14 ┆ 29100.0 ┆ MSCIBARRA   ┆ -0.035482 │\n",
       "│ …          ┆ …       ┆ …        ┆ …         ┆ …       ┆ …           ┆ …         │\n",
       "│ 2024-12-31 ┆ USBQVO1 ┆ USD      ┆ 8.06625e7 ┆ 4.78    ┆ MSCIBARRA   ┆ 0.021368  │\n",
       "│ 2024-12-31 ┆ USBQVQ1 ┆ USD      ┆ 2.2792e8  ┆ 0.02    ┆ MSCIBARRA   ┆ 0.0       │\n",
       "│ 2024-12-31 ┆ USBQVX1 ┆ USD      ┆ 2.8731e9  ┆ 11.75   ┆ MSCIBARRA   ┆ 0.0       │\n",
       "│ 2024-12-31 ┆ USBQWF1 ┆ USD      ┆ 2.3591e8  ┆ 7.93    ┆ MSCIBARRA   ┆ -0.194924 │\n",
       "│ 2024-12-31 ┆ USBQWH1 ┆ USD      ┆ 1.64798e8 ┆ 6.29    ┆ MSCIBARRA   ┆ 0.296907  │\n",
       "└────────────┴─────────┴──────────┴───────────┴─────────┴─────────────┴───────────┘"
      ]
     },
     "execution_count": 7,
     "metadata": {},
     "output_type": "execute_result"
    }
   ],
   "source": [
    "br = BarraReturns().load(2024)\n",
    "\n",
    "br"
   ]
  },
  {
   "cell_type": "code",
   "execution_count": 8,
   "metadata": {},
   "outputs": [
    {
     "data": {
      "text/html": [
       "<div><style>\n",
       ".dataframe > thead > tr,\n",
       ".dataframe > tbody > tr {\n",
       "  text-align: right;\n",
       "  white-space: pre-wrap;\n",
       "}\n",
       "</style>\n",
       "<small>shape: (5_279_476, 7)</small><table border=\"1\" class=\"dataframe\"><thead><tr><th>Date</th><th>Barrid</th><th>div_yield</th><th>total_risk</th><th>spec_risk</th><th>HistBeta</th><th>PredBeta</th></tr><tr><td>date</td><td>str</td><td>f64</td><td>f64</td><td>f64</td><td>f64</td><td>f64</td></tr></thead><tbody><tr><td>2024-01-02</td><td>&quot;ARGA1B1&quot;</td><td>0.0</td><td>0.668184</td><td>0.524318</td><td>1.395039</td><td>1.724306</td></tr><tr><td>2024-01-02</td><td>&quot;ARGA1G1&quot;</td><td>0.023748</td><td>0.535321</td><td>0.444111</td><td>0.561386</td><td>1.04126</td></tr><tr><td>2024-01-02</td><td>&quot;ARGA1K1&quot;</td><td>0.025574</td><td>0.463541</td><td>0.403742</td><td>0.31918</td><td>0.631024</td></tr><tr><td>2024-01-02</td><td>&quot;ARGA621&quot;</td><td>0.0</td><td>1.007739</td><td>0.881405</td><td>1.884395</td><td>2.162143</td></tr><tr><td>2024-01-02</td><td>&quot;ARGA631&quot;</td><td>0.0</td><td>0.567876</td><td>0.44171</td><td>1.170559</td><td>1.489842</td></tr><tr><td>&hellip;</td><td>&hellip;</td><td>&hellip;</td><td>&hellip;</td><td>&hellip;</td><td>&hellip;</td><td>&hellip;</td></tr><tr><td>2024-12-31</td><td>&quot;USBQVO1&quot;</td><td>null</td><td>0.448393</td><td>0.213794</td><td>0.749719</td><td>0.931585</td></tr><tr><td>2024-12-31</td><td>&quot;USBQVQ1&quot;</td><td>null</td><td>0.380211</td><td>0.177286</td><td>1.03986</td><td>0.875069</td></tr><tr><td>2024-12-31</td><td>&quot;USBQVX1&quot;</td><td>null</td><td>0.244966</td><td>0.166055</td><td>0.933242</td><td>0.864934</td></tr><tr><td>2024-12-31</td><td>&quot;USBQWF1&quot;</td><td>null</td><td>0.76331</td><td>0.697124</td><td>1.226263</td><td>1.484909</td></tr><tr><td>2024-12-31</td><td>&quot;USBQWH1&quot;</td><td>null</td><td>0.657834</td><td>0.5644887</td><td>1.10891</td><td>1.29629</td></tr></tbody></table></div>"
      ],
      "text/plain": [
       "shape: (5_279_476, 7)\n",
       "┌────────────┬─────────┬───────────┬────────────┬───────────┬──────────┬──────────┐\n",
       "│ Date       ┆ Barrid  ┆ div_yield ┆ total_risk ┆ spec_risk ┆ HistBeta ┆ PredBeta │\n",
       "│ ---        ┆ ---     ┆ ---       ┆ ---        ┆ ---       ┆ ---      ┆ ---      │\n",
       "│ date       ┆ str     ┆ f64       ┆ f64        ┆ f64       ┆ f64      ┆ f64      │\n",
       "╞════════════╪═════════╪═══════════╪════════════╪═══════════╪══════════╪══════════╡\n",
       "│ 2024-01-02 ┆ ARGA1B1 ┆ 0.0       ┆ 0.668184   ┆ 0.524318  ┆ 1.395039 ┆ 1.724306 │\n",
       "│ 2024-01-02 ┆ ARGA1G1 ┆ 0.023748  ┆ 0.535321   ┆ 0.444111  ┆ 0.561386 ┆ 1.04126  │\n",
       "│ 2024-01-02 ┆ ARGA1K1 ┆ 0.025574  ┆ 0.463541   ┆ 0.403742  ┆ 0.31918  ┆ 0.631024 │\n",
       "│ 2024-01-02 ┆ ARGA621 ┆ 0.0       ┆ 1.007739   ┆ 0.881405  ┆ 1.884395 ┆ 2.162143 │\n",
       "│ 2024-01-02 ┆ ARGA631 ┆ 0.0       ┆ 0.567876   ┆ 0.44171   ┆ 1.170559 ┆ 1.489842 │\n",
       "│ …          ┆ …       ┆ …         ┆ …          ┆ …         ┆ …        ┆ …        │\n",
       "│ 2024-12-31 ┆ USBQVO1 ┆ null      ┆ 0.448393   ┆ 0.213794  ┆ 0.749719 ┆ 0.931585 │\n",
       "│ 2024-12-31 ┆ USBQVQ1 ┆ null      ┆ 0.380211   ┆ 0.177286  ┆ 1.03986  ┆ 0.875069 │\n",
       "│ 2024-12-31 ┆ USBQVX1 ┆ null      ┆ 0.244966   ┆ 0.166055  ┆ 0.933242 ┆ 0.864934 │\n",
       "│ 2024-12-31 ┆ USBQWF1 ┆ null      ┆ 0.76331    ┆ 0.697124  ┆ 1.226263 ┆ 1.484909 │\n",
       "│ 2024-12-31 ┆ USBQWH1 ┆ null      ┆ 0.657834   ┆ 0.5644887 ┆ 1.10891  ┆ 1.29629  │\n",
       "└────────────┴─────────┴───────────┴────────────┴───────────┴──────────┴──────────┘"
      ]
     },
     "execution_count": 8,
     "metadata": {},
     "output_type": "execute_result"
    }
   ],
   "source": [
    "brf = BarraRiskForecasts().load(2024)\n",
    "\n",
    "brf"
   ]
  },
  {
   "cell_type": "code",
   "execution_count": 9,
   "metadata": {},
   "outputs": [
    {
     "data": {
      "text/html": [
       "<div><style>\n",
       ".dataframe > thead > tr,\n",
       ".dataframe > tbody > tr {\n",
       "  text-align: right;\n",
       "  white-space: pre-wrap;\n",
       "}\n",
       "</style>\n",
       "<small>shape: (19_152, 78)</small><table border=\"1\" class=\"dataframe\"><thead><tr><th>Date</th><th>Factor1</th><th>AERODEF</th><th>AIRLINES</th><th>APPAREL</th><th>AUTO</th><th>BANKS</th><th>BEVTOB</th><th>BIOLIFE</th><th>BLDGPROD</th><th>CNSTENG</th><th>CNSTMACH</th><th>COMMEQP</th><th>COMPELEC</th><th>COMSVCS</th><th>CONGLOM</th><th>COUNTRY</th><th>DISTRIB</th><th>DIVFIN</th><th>ELECEQP</th><th>ELECUTIL</th><th>FOODPROD</th><th>FOODRET</th><th>GASUTIL</th><th>HLTHEQP</th><th>HLTHSVCS</th><th>HOMEBLDG</th><th>HOUSEDUR</th><th>INDMACH</th><th>INSURNCE</th><th>INTERNET</th><th>LEISPROD</th><th>LEISSVCS</th><th>LIFEINS</th><th>MEDIA</th><th>MGDHLTH</th><th>MULTUTIL</th><th>&hellip;</th><th>ROADRAIL</th><th>SEMICOND</th><th>SEMIEQP</th><th>SOFTWARE</th><th>SPLTYRET</th><th>SPTYSTOR</th><th>TELECOM</th><th>TRADECO</th><th>TRANSPRT</th><th>WIRELESS</th><th>ALUMSTEL</th><th>PRECMTLS</th><th>BETA</th><th>CHEM</th><th>CNSTMATL</th><th>CONTAINR</th><th>DIVYILD</th><th>EARNQLTY</th><th>EARNYILD</th><th>GROWTH</th><th>LEVERAGE</th><th>LIQUIDTY</th><th>LTREVRSL</th><th>MGMTQLTY</th><th>MIDCAP</th><th>MOMENTUM</th><th>OILGSCON</th><th>OILGSDRL</th><th>OILGSEQP</th><th>OILGSEXP</th><th>PAPER</th><th>PROFIT</th><th>PROSPECT</th><th>RESVOL</th><th>SIZE</th><th>SPTYCHEM</th><th>VALUE</th></tr><tr><td>date</td><td>str</td><td>f64</td><td>f64</td><td>f64</td><td>f64</td><td>f64</td><td>f64</td><td>f64</td><td>f64</td><td>f64</td><td>f64</td><td>f64</td><td>f64</td><td>f64</td><td>f64</td><td>f64</td><td>f64</td><td>f64</td><td>f64</td><td>f64</td><td>f64</td><td>f64</td><td>f64</td><td>f64</td><td>f64</td><td>f64</td><td>f64</td><td>f64</td><td>f64</td><td>f64</td><td>f64</td><td>f64</td><td>f64</td><td>f64</td><td>f64</td><td>f64</td><td>&hellip;</td><td>f64</td><td>f64</td><td>f64</td><td>f64</td><td>f64</td><td>f64</td><td>f64</td><td>f64</td><td>f64</td><td>f64</td><td>f64</td><td>f64</td><td>f64</td><td>f64</td><td>f64</td><td>f64</td><td>f64</td><td>f64</td><td>f64</td><td>f64</td><td>f64</td><td>f64</td><td>f64</td><td>f64</td><td>f64</td><td>f64</td><td>f64</td><td>f64</td><td>f64</td><td>f64</td><td>f64</td><td>f64</td><td>f64</td><td>f64</td><td>f64</td><td>f64</td><td>f64</td></tr></thead><tbody><tr><td>2024-01-02</td><td>&quot;AERODEF&quot;</td><td>160.058795</td><td>64.17249</td><td>24.872283</td><td>-9.247184</td><td>2.1289535</td><td>-5.10128</td><td>-25.458478</td><td>20.743184</td><td>27.277994</td><td>28.500268</td><td>-7.811465</td><td>-16.211627</td><td>8.25383</td><td>32.449766</td><td>23.349064</td><td>2.071266</td><td>-2.781801</td><td>13.614354</td><td>-2.470813</td><td>-11.284501</td><td>-3.900024</td><td>-14.17229</td><td>-6.475595</td><td>-4.332999</td><td>32.727455</td><td>4.263392</td><td>25.3622</td><td>13.234299</td><td>-7.699555</td><td>9.302211</td><td>34.784997</td><td>25.9138</td><td>1.997564</td><td>8.03406</td><td>-12.004339</td><td>&hellip;</td><td>11.144278</td><td>-25.060448</td><td>-11.007157</td><td>-13.226582</td><td>-4.658213</td><td>18.0916</td><td>-13.071422</td><td>26.786384</td><td>-14.187325</td><td>-7.108043</td><td>null</td><td>null</td><td>null</td><td>null</td><td>null</td><td>null</td><td>null</td><td>null</td><td>null</td><td>null</td><td>null</td><td>null</td><td>null</td><td>null</td><td>null</td><td>null</td><td>null</td><td>null</td><td>null</td><td>null</td><td>null</td><td>null</td><td>null</td><td>null</td><td>null</td><td>null</td><td>null</td></tr><tr><td>2024-01-02</td><td>&quot;AIRLINES&quot;</td><td>null</td><td>555.407843</td><td>78.444218</td><td>65.624504</td><td>13.905495</td><td>6.04387</td><td>-34.116543</td><td>null</td><td>null</td><td>null</td><td>-21.971636</td><td>0.621644</td><td>null</td><td>null</td><td>27.90279</td><td>-1.550088</td><td>13.890119</td><td>null</td><td>-27.221217</td><td>-12.266494</td><td>-13.4296</td><td>-35.864579</td><td>5.8719217</td><td>1.391836</td><td>31.272435</td><td>39.248271</td><td>null</td><td>21.841061</td><td>0.579189</td><td>53.25591</td><td>118.585314</td><td>22.402119</td><td>10.526557</td><td>13.513572</td><td>-43.971797</td><td>&hellip;</td><td>32.986753</td><td>-12.329297</td><td>4.65532</td><td>-32.34137</td><td>24.148313</td><td>39.88416</td><td>-16.018424</td><td>null</td><td>23.622732</td><td>-25.532936</td><td>null</td><td>null</td><td>null</td><td>null</td><td>null</td><td>null</td><td>null</td><td>null</td><td>null</td><td>null</td><td>null</td><td>null</td><td>null</td><td>null</td><td>null</td><td>null</td><td>null</td><td>null</td><td>null</td><td>null</td><td>null</td><td>null</td><td>null</td><td>null</td><td>null</td><td>null</td><td>null</td></tr><tr><td>2024-01-02</td><td>&quot;ALUMSTEL&quot;</td><td>41.706573</td><td>11.324543</td><td>17.685295</td><td>7.615065</td><td>29.467599</td><td>-12.330661</td><td>-31.036151</td><td>36.970903</td><td>98.232415</td><td>117.907802</td><td>-26.157782</td><td>-7.425338</td><td>5.913351</td><td>59.818209</td><td>25.435159</td><td>18.518901</td><td>5.473685</td><td>70.026765</td><td>-32.23995</td><td>-4.251543</td><td>15.533895</td><td>-20.718788</td><td>-14.112897</td><td>-5.740403</td><td>-38.123096</td><td>-1.412021</td><td>58.584935</td><td>3.6939254</td><td>-39.302658</td><td>23.165888</td><td>-1.866434</td><td>8.090663</td><td>-13.672792</td><td>-9.132719</td><td>-18.115266</td><td>&hellip;</td><td>37.762512</td><td>-20.191843</td><td>-5.125852</td><td>-49.439644</td><td>-10.65554</td><td>20.32029</td><td>-4.41298</td><td>70.220537</td><td>32.971451</td><td>13.813754</td><td>473.463996</td><td>207.646786</td><td>null</td><td>null</td><td>null</td><td>null</td><td>null</td><td>null</td><td>null</td><td>null</td><td>null</td><td>null</td><td>null</td><td>null</td><td>null</td><td>null</td><td>null</td><td>null</td><td>null</td><td>null</td><td>null</td><td>null</td><td>null</td><td>null</td><td>null</td><td>null</td><td>null</td></tr><tr><td>2024-01-02</td><td>&quot;APPAREL&quot;</td><td>null</td><td>null</td><td>354.715556</td><td>null</td><td>8.348782</td><td>5.1212</td><td>-25.840745</td><td>null</td><td>null</td><td>null</td><td>-11.547717</td><td>-14.546962</td><td>null</td><td>null</td><td>13.589787</td><td>null</td><td>-2.809499</td><td>null</td><td>-31.723884</td><td>-16.194933</td><td>28.802258</td><td>-49.646252</td><td>-10.215021</td><td>7.182185</td><td>null</td><td>null</td><td>null</td><td>14.085729</td><td>-10.569858</td><td>null</td><td>null</td><td>12.245997</td><td>null</td><td>11.559716</td><td>-59.55256</td><td>&hellip;</td><td>null</td><td>-31.695349</td><td>-27.95097</td><td>-37.876778</td><td>94.287268</td><td>188.228546</td><td>-25.913026</td><td>null</td><td>null</td><td>-3.491858</td><td>null</td><td>null</td><td>null</td><td>null</td><td>null</td><td>null</td><td>null</td><td>null</td><td>null</td><td>null</td><td>null</td><td>null</td><td>null</td><td>null</td><td>null</td><td>null</td><td>null</td><td>null</td><td>null</td><td>null</td><td>null</td><td>null</td><td>null</td><td>null</td><td>null</td><td>null</td><td>null</td></tr><tr><td>2024-01-02</td><td>&quot;AUTO&quot;</td><td>null</td><td>null</td><td>45.914769</td><td>316.514365</td><td>14.138601</td><td>-2.775562</td><td>-51.901307</td><td>null</td><td>null</td><td>null</td><td>15.828611</td><td>33.022996</td><td>null</td><td>null</td><td>18.31471</td><td>25.709965</td><td>4.713149</td><td>null</td><td>-27.926271</td><td>-4.377258</td><td>1.086411</td><td>-39.436239</td><td>-36.082177</td><td>-19.879825</td><td>31.927338</td><td>31.60124</td><td>null</td><td>-8.259771</td><td>-21.681115</td><td>50.296038</td><td>31.042924</td><td>8.243627</td><td>5.000274</td><td>-22.848077</td><td>-48.952146</td><td>&hellip;</td><td>null</td><td>45.663107</td><td>51.846357</td><td>-44.062383</td><td>52.290205</td><td>34.643823</td><td>-26.062499</td><td>null</td><td>null</td><td>-14.05713</td><td>null</td><td>null</td><td>null</td><td>null</td><td>null</td><td>null</td><td>null</td><td>null</td><td>null</td><td>null</td><td>null</td><td>null</td><td>null</td><td>null</td><td>null</td><td>null</td><td>null</td><td>null</td><td>null</td><td>null</td><td>null</td><td>null</td><td>null</td><td>null</td><td>null</td><td>null</td><td>null</td></tr><tr><td>&hellip;</td><td>&hellip;</td><td>&hellip;</td><td>&hellip;</td><td>&hellip;</td><td>&hellip;</td><td>&hellip;</td><td>&hellip;</td><td>&hellip;</td><td>&hellip;</td><td>&hellip;</td><td>&hellip;</td><td>&hellip;</td><td>&hellip;</td><td>&hellip;</td><td>&hellip;</td><td>&hellip;</td><td>&hellip;</td><td>&hellip;</td><td>&hellip;</td><td>&hellip;</td><td>&hellip;</td><td>&hellip;</td><td>&hellip;</td><td>&hellip;</td><td>&hellip;</td><td>&hellip;</td><td>&hellip;</td><td>&hellip;</td><td>&hellip;</td><td>&hellip;</td><td>&hellip;</td><td>&hellip;</td><td>&hellip;</td><td>&hellip;</td><td>&hellip;</td><td>&hellip;</td><td>&hellip;</td><td>&hellip;</td><td>&hellip;</td><td>&hellip;</td><td>&hellip;</td><td>&hellip;</td><td>&hellip;</td><td>&hellip;</td><td>&hellip;</td><td>&hellip;</td><td>&hellip;</td><td>&hellip;</td><td>&hellip;</td><td>&hellip;</td><td>&hellip;</td><td>&hellip;</td><td>&hellip;</td><td>&hellip;</td><td>&hellip;</td><td>&hellip;</td><td>&hellip;</td><td>&hellip;</td><td>&hellip;</td><td>&hellip;</td><td>&hellip;</td><td>&hellip;</td><td>&hellip;</td><td>&hellip;</td><td>&hellip;</td><td>&hellip;</td><td>&hellip;</td><td>&hellip;</td><td>&hellip;</td><td>&hellip;</td><td>&hellip;</td><td>&hellip;</td><td>&hellip;</td><td>&hellip;</td></tr><tr><td>2024-12-31</td><td>&quot;TELECOM&quot;</td><td>null</td><td>null</td><td>null</td><td>null</td><td>null</td><td>null</td><td>null</td><td>null</td><td>null</td><td>null</td><td>null</td><td>null</td><td>null</td><td>null</td><td>-50.489579</td><td>null</td><td>null</td><td>null</td><td>38.558456</td><td>null</td><td>null</td><td>27.588913</td><td>null</td><td>null</td><td>null</td><td>null</td><td>null</td><td>null</td><td>null</td><td>null</td><td>null</td><td>null</td><td>null</td><td>null</td><td>47.451302</td><td>&hellip;</td><td>null</td><td>null</td><td>null</td><td>null</td><td>null</td><td>null</td><td>263.219167</td><td>null</td><td>null</td><td>38.559106</td><td>null</td><td>null</td><td>null</td><td>null</td><td>null</td><td>null</td><td>null</td><td>null</td><td>null</td><td>null</td><td>null</td><td>null</td><td>null</td><td>null</td><td>null</td><td>null</td><td>null</td><td>null</td><td>null</td><td>null</td><td>null</td><td>null</td><td>null</td><td>null</td><td>null</td><td>null</td><td>null</td></tr><tr><td>2024-12-31</td><td>&quot;TRADECO&quot;</td><td>null</td><td>5.081395</td><td>18.42581</td><td>29.893609</td><td>44.528088</td><td>-10.683075</td><td>-14.546971</td><td>null</td><td>72.855703</td><td>null</td><td>-14.657748</td><td>0.256155</td><td>15.801158</td><td>26.953475</td><td>34.453304</td><td>9.087111</td><td>14.819356</td><td>80.566907</td><td>-21.894617</td><td>-14.671028</td><td>1.2858385</td><td>-21.165217</td><td>-25.920307</td><td>-0.654915</td><td>73.787627</td><td>14.312954</td><td>null</td><td>7.065427</td><td>-27.548451</td><td>7.083402</td><td>14.052883</td><td>17.008436</td><td>-15.092045</td><td>-6.960894</td><td>-23.80093</td><td>&hellip;</td><td>56.481378</td><td>-24.463421</td><td>-25.567549</td><td>-26.514702</td><td>37.130413</td><td>16.572193</td><td>-25.936465</td><td>164.389675</td><td>29.049943</td><td>-7.553001</td><td>null</td><td>null</td><td>null</td><td>null</td><td>null</td><td>null</td><td>null</td><td>null</td><td>null</td><td>null</td><td>null</td><td>null</td><td>null</td><td>null</td><td>null</td><td>null</td><td>null</td><td>null</td><td>null</td><td>null</td><td>null</td><td>null</td><td>null</td><td>null</td><td>null</td><td>null</td><td>null</td></tr><tr><td>2024-12-31</td><td>&quot;TRANSPRT&quot;</td><td>null</td><td>null</td><td>-1.019283</td><td>33.98384</td><td>32.006546</td><td>2.32934</td><td>-13.993204</td><td>null</td><td>null</td><td>null</td><td>-7.281121</td><td>-2.152885</td><td>null</td><td>null</td><td>-3.1379</td><td>12.379097</td><td>-1.530642</td><td>null</td><td>-16.377709</td><td>8.040775</td><td>12.763556</td><td>8.726854</td><td>-8.445297</td><td>-6.763743</td><td>-6.324761</td><td>17.290633</td><td>null</td><td>-4.055277</td><td>-16.36945</td><td>16.45635</td><td>0.248607</td><td>-0.65977</td><td>-1.752884</td><td>-22.809964</td><td>-6.918944</td><td>&hellip;</td><td>75.679426</td><td>15.121916</td><td>-3.395882</td><td>-14.85918</td><td>13.433226</td><td>9.444763</td><td>0.564924</td><td>null</td><td>199.797602</td><td>8.472924</td><td>null</td><td>null</td><td>null</td><td>null</td><td>null</td><td>null</td><td>null</td><td>null</td><td>null</td><td>null</td><td>null</td><td>null</td><td>null</td><td>null</td><td>null</td><td>null</td><td>null</td><td>null</td><td>null</td><td>null</td><td>null</td><td>null</td><td>null</td><td>null</td><td>null</td><td>null</td><td>null</td></tr><tr><td>2024-12-31</td><td>&quot;VALUE&quot;</td><td>4.499987</td><td>7.420323</td><td>6.266909</td><td>3.872078</td><td>11.703249</td><td>0.404861</td><td>-3.60857</td><td>4.164483</td><td>5.914762</td><td>9.173587</td><td>-1.808554</td><td>-2.021429</td><td>0.365458</td><td>2.7238768</td><td>1.174072</td><td>1.793533</td><td>1.4279087</td><td>3.186272</td><td>-7.410332</td><td>-1.07142</td><td>-1.595143</td><td>-4.992795</td><td>-4.215608</td><td>-1.30774</td><td>-1.281137</td><td>1.9139464</td><td>4.929604</td><td>1.7853439</td><td>-1.249259</td><td>4.063481</td><td>4.592204</td><td>2.874991</td><td>3.186959</td><td>-0.705741</td><td>-5.639614</td><td>&hellip;</td><td>3.7518716</td><td>-1.560045</td><td>2.341607</td><td>-5.682438</td><td>-0.132405</td><td>3.021537</td><td>-3.40252</td><td>5.049859</td><td>1.703392</td><td>0.686844</td><td>9.715159</td><td>7.208477</td><td>null</td><td>6.790077</td><td>4.741361</td><td>3.8405629</td><td>null</td><td>null</td><td>null</td><td>null</td><td>null</td><td>null</td><td>null</td><td>null</td><td>null</td><td>null</td><td>8.428071</td><td>22.161932</td><td>23.101385</td><td>15.510562</td><td>7.585339</td><td>null</td><td>null</td><td>null</td><td>null</td><td>2.53229</td><td>6.409914</td></tr><tr><td>2024-12-31</td><td>&quot;WIRELESS&quot;</td><td>null</td><td>null</td><td>null</td><td>null</td><td>null</td><td>null</td><td>null</td><td>null</td><td>null</td><td>null</td><td>null</td><td>null</td><td>null</td><td>null</td><td>-34.938125</td><td>null</td><td>null</td><td>null</td><td>10.081188</td><td>null</td><td>null</td><td>21.129703</td><td>null</td><td>null</td><td>null</td><td>null</td><td>null</td><td>null</td><td>null</td><td>null</td><td>null</td><td>null</td><td>null</td><td>null</td><td>19.819425</td><td>&hellip;</td><td>null</td><td>null</td><td>null</td><td>null</td><td>null</td><td>null</td><td>null</td><td>null</td><td>null</td><td>140.885067</td><td>null</td><td>null</td><td>null</td><td>null</td><td>null</td><td>null</td><td>null</td><td>null</td><td>null</td><td>null</td><td>null</td><td>null</td><td>null</td><td>null</td><td>null</td><td>null</td><td>null</td><td>null</td><td>null</td><td>null</td><td>null</td><td>null</td><td>null</td><td>null</td><td>null</td><td>null</td><td>null</td></tr></tbody></table></div>"
      ],
      "text/plain": [
       "shape: (19_152, 78)\n",
       "┌────────────┬──────────┬────────────┬────────────┬───┬────────┬──────┬──────────┬──────────┐\n",
       "│ Date       ┆ Factor1  ┆ AERODEF    ┆ AIRLINES   ┆ … ┆ RESVOL ┆ SIZE ┆ SPTYCHEM ┆ VALUE    │\n",
       "│ ---        ┆ ---      ┆ ---        ┆ ---        ┆   ┆ ---    ┆ ---  ┆ ---      ┆ ---      │\n",
       "│ date       ┆ str      ┆ f64        ┆ f64        ┆   ┆ f64    ┆ f64  ┆ f64      ┆ f64      │\n",
       "╞════════════╪══════════╪════════════╪════════════╪═══╪════════╪══════╪══════════╪══════════╡\n",
       "│ 2024-01-02 ┆ AERODEF  ┆ 160.058795 ┆ 64.17249   ┆ … ┆ null   ┆ null ┆ null     ┆ null     │\n",
       "│ 2024-01-02 ┆ AIRLINES ┆ null       ┆ 555.407843 ┆ … ┆ null   ┆ null ┆ null     ┆ null     │\n",
       "│ 2024-01-02 ┆ ALUMSTEL ┆ 41.706573  ┆ 11.324543  ┆ … ┆ null   ┆ null ┆ null     ┆ null     │\n",
       "│ 2024-01-02 ┆ APPAREL  ┆ null       ┆ null       ┆ … ┆ null   ┆ null ┆ null     ┆ null     │\n",
       "│ 2024-01-02 ┆ AUTO     ┆ null       ┆ null       ┆ … ┆ null   ┆ null ┆ null     ┆ null     │\n",
       "│ …          ┆ …        ┆ …          ┆ …          ┆ … ┆ …      ┆ …    ┆ …        ┆ …        │\n",
       "│ 2024-12-31 ┆ TELECOM  ┆ null       ┆ null       ┆ … ┆ null   ┆ null ┆ null     ┆ null     │\n",
       "│ 2024-12-31 ┆ TRADECO  ┆ null       ┆ 5.081395   ┆ … ┆ null   ┆ null ┆ null     ┆ null     │\n",
       "│ 2024-12-31 ┆ TRANSPRT ┆ null       ┆ null       ┆ … ┆ null   ┆ null ┆ null     ┆ null     │\n",
       "│ 2024-12-31 ┆ VALUE    ┆ 4.499987   ┆ 7.420323   ┆ … ┆ null   ┆ null ┆ 2.53229  ┆ 6.409914 │\n",
       "│ 2024-12-31 ┆ WIRELESS ┆ null       ┆ null       ┆ … ┆ null   ┆ null ┆ null     ┆ null     │\n",
       "└────────────┴──────────┴────────────┴────────────┴───┴────────┴──────┴──────────┴──────────┘"
      ]
     },
     "execution_count": 9,
     "metadata": {},
     "output_type": "execute_result"
    }
   ],
   "source": [
    "bfc = BarraFactorCovariances().load(2024)\n",
    "\n",
    "bfc"
   ]
  },
  {
   "cell_type": "code",
   "execution_count": 10,
   "metadata": {},
   "outputs": [
    {
     "data": {
      "text/html": [
       "<div><style>\n",
       ".dataframe > thead > tr,\n",
       ".dataframe > tbody > tr {\n",
       "  text-align: right;\n",
       "  white-space: pre-wrap;\n",
       "}\n",
       "</style>\n",
       "<small>shape: (5_556_096, 3)</small><table border=\"1\" class=\"dataframe\"><thead><tr><th>Date</th><th>Barrid</th><th>SpecificRisk</th></tr><tr><td>date</td><td>str</td><td>f64</td></tr></thead><tbody><tr><td>2024-01-02</td><td>&quot;ARGA1B1&quot;</td><td>52.431842</td></tr><tr><td>2024-01-03</td><td>&quot;ARGA1B1&quot;</td><td>52.890917</td></tr><tr><td>2024-01-04</td><td>&quot;ARGA1B1&quot;</td><td>53.270203</td></tr><tr><td>2024-01-05</td><td>&quot;ARGA1B1&quot;</td><td>54.205799</td></tr><tr><td>2024-01-08</td><td>&quot;ARGA1B1&quot;</td><td>55.272157</td></tr><tr><td>&hellip;</td><td>&hellip;</td><td>&hellip;</td></tr><tr><td>2024-12-24</td><td>&quot;USBQWH1&quot;</td><td>null</td></tr><tr><td>2024-12-26</td><td>&quot;USBQWH1&quot;</td><td>null</td></tr><tr><td>2024-12-27</td><td>&quot;USBQWH1&quot;</td><td>21.81474</td></tr><tr><td>2024-12-30</td><td>&quot;USBQWH1&quot;</td><td>33.276382</td></tr><tr><td>2024-12-31</td><td>&quot;USBQWH1&quot;</td><td>56.44887</td></tr></tbody></table></div>"
      ],
      "text/plain": [
       "shape: (5_556_096, 3)\n",
       "┌────────────┬─────────┬──────────────┐\n",
       "│ Date       ┆ Barrid  ┆ SpecificRisk │\n",
       "│ ---        ┆ ---     ┆ ---          │\n",
       "│ date       ┆ str     ┆ f64          │\n",
       "╞════════════╪═════════╪══════════════╡\n",
       "│ 2024-01-02 ┆ ARGA1B1 ┆ 52.431842    │\n",
       "│ 2024-01-03 ┆ ARGA1B1 ┆ 52.890917    │\n",
       "│ 2024-01-04 ┆ ARGA1B1 ┆ 53.270203    │\n",
       "│ 2024-01-05 ┆ ARGA1B1 ┆ 54.205799    │\n",
       "│ 2024-01-08 ┆ ARGA1B1 ┆ 55.272157    │\n",
       "│ …          ┆ …       ┆ …            │\n",
       "│ 2024-12-24 ┆ USBQWH1 ┆ null         │\n",
       "│ 2024-12-26 ┆ USBQWH1 ┆ null         │\n",
       "│ 2024-12-27 ┆ USBQWH1 ┆ 21.81474     │\n",
       "│ 2024-12-30 ┆ USBQWH1 ┆ 33.276382    │\n",
       "│ 2024-12-31 ┆ USBQWH1 ┆ 56.44887     │\n",
       "└────────────┴─────────┴──────────────┘"
      ]
     },
     "execution_count": 10,
     "metadata": {},
     "output_type": "execute_result"
    }
   ],
   "source": [
    "bsrf = BarraSpecificRiskForecast().load(2024)\n",
    "\n",
    "bsrf"
   ]
  },
  {
   "cell_type": "code",
   "execution_count": 11,
   "metadata": {},
   "outputs": [
    {
     "data": {
      "text/html": [
       "<div><style>\n",
       ".dataframe > thead > tr,\n",
       ".dataframe > tbody > tr {\n",
       "  text-align: right;\n",
       "  white-space: pre-wrap;\n",
       "}\n",
       "</style>\n",
       "<small>shape: (1_446_654, 10)</small><table border=\"1\" class=\"dataframe\"><thead><tr><th>date</th><th>obsdate</th><th>enddate</th><th>cusip</th><th>permno</th><th>barrid</th><th>barra_ticker</th><th>r3000_wt</th><th>issue_name</th><th>ticker</th></tr><tr><td>date</td><td>date</td><td>date</td><td>str</td><td>f64</td><td>str</td><td>str</td><td>f64</td><td>str</td><td>str</td></tr></thead><tbody><tr><td>1978-12-29</td><td>1979-01-18</td><td>1979-04-18</td><td>&quot;00036110&quot;</td><td>54594.0</td><td>null</td><td>null</td><td>0.0019</td><td>null</td><td>null</td></tr><tr><td>1978-12-29</td><td>1979-01-18</td><td>1979-04-18</td><td>&quot;00080010&quot;</td><td>10006.0</td><td>null</td><td>null</td><td>0.031</td><td>null</td><td>null</td></tr><tr><td>1978-12-29</td><td>1979-01-18</td><td>1979-04-18</td><td>&quot;00103010&quot;</td><td>10154.0</td><td>null</td><td>null</td><td>0.0012</td><td>null</td><td>null</td></tr><tr><td>1978-12-29</td><td>1979-01-18</td><td>1979-04-18</td><td>&quot;00103210&quot;</td><td>10162.0</td><td>null</td><td>null</td><td>0.0026</td><td>null</td><td>null</td></tr><tr><td>1978-12-29</td><td>1979-01-18</td><td>1979-04-18</td><td>&quot;00144410&quot;</td><td>10306.0</td><td>null</td><td>null</td><td>0.0013</td><td>null</td><td>null</td></tr><tr><td>&hellip;</td><td>&hellip;</td><td>&hellip;</td><td>&hellip;</td><td>&hellip;</td><td>&hellip;</td><td>&hellip;</td><td>&hellip;</td><td>&hellip;</td><td>&hellip;</td></tr><tr><td>2024-12-31</td><td>2025-01-10</td><td>2075-12-31</td><td>&quot;Y2685T13&quot;</td><td>15597.0</td><td>&quot;USBC8F1&quot;</td><td>null</td><td>0.00001</td><td>&quot;GENCO SHIPPING &amp; TRADING LIMIT…</td><td>&quot;USGNK&quot;</td></tr><tr><td>2024-12-31</td><td>2025-01-10</td><td>2075-12-31</td><td>&quot;Y4105310&quot;</td><td>16454.0</td><td>&quot;USBDIX1&quot;</td><td>null</td><td>0.000026</td><td>&quot;INTERNATIONAL SEAWAYS INC&quot;</td><td>&quot;USINSW&quot;</td></tr><tr><td>2024-12-31</td><td>2025-01-10</td><td>2075-12-31</td><td>&quot;Y7388L10&quot;</td><td>92679.0</td><td>&quot;USACPW1&quot;</td><td>null</td><td>0.000004</td><td>&quot;SAFE BULKERS INC&quot;</td><td>&quot;USSB&quot;</td></tr><tr><td>2024-12-31</td><td>2025-01-10</td><td>2075-12-31</td><td>&quot;Y7542C13&quot;</td><td>93299.0</td><td>&quot;USALLL1&quot;</td><td>null</td><td>0.000039</td><td>&quot;SCORPIO TANKERS INC&quot;</td><td>&quot;USSTNG&quot;</td></tr><tr><td>2024-12-31</td><td>2025-01-10</td><td>2075-12-31</td><td>&quot;Y9530810&quot;</td><td>15857.0</td><td>&quot;USBDBE1&quot;</td><td>null</td><td>0.00002</td><td>&quot;WAVE LIFE SCIENCES PTE LTD&quot;</td><td>&quot;USWVE&quot;</td></tr></tbody></table></div>"
      ],
      "text/plain": [
       "shape: (1_446_654, 10)\n",
       "┌────────────┬────────────┬────────────┬──────────┬───┬────────────┬──────────┬───────────┬────────┐\n",
       "│ date       ┆ obsdate    ┆ enddate    ┆ cusip    ┆ … ┆ barra_tick ┆ r3000_wt ┆ issue_nam ┆ ticker │\n",
       "│ ---        ┆ ---        ┆ ---        ┆ ---      ┆   ┆ er         ┆ ---      ┆ e         ┆ ---    │\n",
       "│ date       ┆ date       ┆ date       ┆ str      ┆   ┆ ---        ┆ f64      ┆ ---       ┆ str    │\n",
       "│            ┆            ┆            ┆          ┆   ┆ str        ┆          ┆ str       ┆        │\n",
       "╞════════════╪════════════╪════════════╪══════════╪═══╪════════════╪══════════╪═══════════╪════════╡\n",
       "│ 1978-12-29 ┆ 1979-01-18 ┆ 1979-04-18 ┆ 00036110 ┆ … ┆ null       ┆ 0.0019   ┆ null      ┆ null   │\n",
       "│ 1978-12-29 ┆ 1979-01-18 ┆ 1979-04-18 ┆ 00080010 ┆ … ┆ null       ┆ 0.031    ┆ null      ┆ null   │\n",
       "│ 1978-12-29 ┆ 1979-01-18 ┆ 1979-04-18 ┆ 00103010 ┆ … ┆ null       ┆ 0.0012   ┆ null      ┆ null   │\n",
       "│ 1978-12-29 ┆ 1979-01-18 ┆ 1979-04-18 ┆ 00103210 ┆ … ┆ null       ┆ 0.0026   ┆ null      ┆ null   │\n",
       "│ 1978-12-29 ┆ 1979-01-18 ┆ 1979-04-18 ┆ 00144410 ┆ … ┆ null       ┆ 0.0013   ┆ null      ┆ null   │\n",
       "│ …          ┆ …          ┆ …          ┆ …        ┆ … ┆ …          ┆ …        ┆ …         ┆ …      │\n",
       "│ 2024-12-31 ┆ 2025-01-10 ┆ 2075-12-31 ┆ Y2685T13 ┆ … ┆ null       ┆ 0.00001  ┆ GENCO     ┆ USGNK  │\n",
       "│            ┆            ┆            ┆          ┆   ┆            ┆          ┆ SHIPPING  ┆        │\n",
       "│            ┆            ┆            ┆          ┆   ┆            ┆          ┆ & TRADING ┆        │\n",
       "│            ┆            ┆            ┆          ┆   ┆            ┆          ┆ LIMIT…    ┆        │\n",
       "│ 2024-12-31 ┆ 2025-01-10 ┆ 2075-12-31 ┆ Y4105310 ┆ … ┆ null       ┆ 0.000026 ┆ INTERNATI ┆ USINSW │\n",
       "│            ┆            ┆            ┆          ┆   ┆            ┆          ┆ ONAL      ┆        │\n",
       "│            ┆            ┆            ┆          ┆   ┆            ┆          ┆ SEAWAYS   ┆        │\n",
       "│            ┆            ┆            ┆          ┆   ┆            ┆          ┆ INC       ┆        │\n",
       "│ 2024-12-31 ┆ 2025-01-10 ┆ 2075-12-31 ┆ Y7388L10 ┆ … ┆ null       ┆ 0.000004 ┆ SAFE      ┆ USSB   │\n",
       "│            ┆            ┆            ┆          ┆   ┆            ┆          ┆ BULKERS   ┆        │\n",
       "│            ┆            ┆            ┆          ┆   ┆            ┆          ┆ INC       ┆        │\n",
       "│ 2024-12-31 ┆ 2025-01-10 ┆ 2075-12-31 ┆ Y7542C13 ┆ … ┆ null       ┆ 0.000039 ┆ SCORPIO   ┆ USSTNG │\n",
       "│            ┆            ┆            ┆          ┆   ┆            ┆          ┆ TANKERS   ┆        │\n",
       "│            ┆            ┆            ┆          ┆   ┆            ┆          ┆ INC       ┆        │\n",
       "│ 2024-12-31 ┆ 2025-01-10 ┆ 2075-12-31 ┆ Y9530810 ┆ … ┆ null       ┆ 0.00002  ┆ WAVE LIFE ┆ USWVE  │\n",
       "│            ┆            ┆            ┆          ┆   ┆            ┆          ┆ SCIENCES  ┆        │\n",
       "│            ┆            ┆            ┆          ┆   ┆            ┆          ┆ PTE LTD   ┆        │\n",
       "└────────────┴────────────┴────────────┴──────────┴───┴────────────┴──────────┴───────────┴────────┘"
      ]
     },
     "execution_count": 11,
     "metadata": {},
     "output_type": "execute_result"
    }
   ],
   "source": [
    "russell = RussellConstituents().load_all()\n",
    "\n",
    "russell"
   ]
  },
  {
   "cell_type": "code",
   "execution_count": 12,
   "metadata": {},
   "outputs": [
    {
     "data": {
      "text/html": [
       "<div><style>\n",
       ".dataframe > thead > tr,\n",
       ".dataframe > tbody > tr {\n",
       "  text-align: right;\n",
       "  white-space: pre-wrap;\n",
       "}\n",
       "</style>\n",
       "<small>shape: (510_444, 12)</small><table border=\"1\" class=\"dataframe\"><thead><tr><th>start_date</th><th>end_date</th><th>permno</th><th>barrid</th><th>cusip</th><th>ticker</th><th>issue_name</th><th>price</th><th>currency_price</th><th>datadate_price</th><th>country_listed</th><th>country_headquartered</th></tr><tr><td>date</td><td>date</td><td>f64</td><td>str</td><td>str</td><td>str</td><td>str</td><td>f64</td><td>str</td><td>f64</td><td>str</td><td>str</td></tr></thead><tbody><tr><td>2019-07-26</td><td>2023-11-12</td><td>null</td><td>&quot;ARGA1B1&quot;</td><td>&quot;P0R67N384&quot;</td><td>&quot;ARSNAP&quot;</td><td>&quot;SNAP INC&quot;</td><td>14375.0</td><td>&quot;ARS&quot;</td><td>2.0250113e7</td><td>&quot;ARG&quot;</td><td>&quot;USA&quot;</td></tr><tr><td>2023-11-13</td><td>2023-11-13</td><td>null</td><td>&quot;ARGA1B1&quot;</td><td>&quot;P0R67N178&quot;</td><td>&quot;ARSNAP&quot;</td><td>&quot;SNAP INC&quot;</td><td>14375.0</td><td>&quot;ARS&quot;</td><td>2.0250113e7</td><td>&quot;ARG&quot;</td><td>&quot;USA&quot;</td></tr><tr><td>2023-11-14</td><td>2024-08-10</td><td>null</td><td>&quot;ARGA1B1&quot;</td><td>&quot;P0R67N798&quot;</td><td>&quot;ARSNAP&quot;</td><td>&quot;SNAP INC&quot;</td><td>14375.0</td><td>&quot;ARS&quot;</td><td>2.0250113e7</td><td>&quot;ARG&quot;</td><td>&quot;USA&quot;</td></tr><tr><td>2024-08-11</td><td>2024-08-15</td><td>null</td><td>&quot;ARGA1B1&quot;</td><td>&quot;P0R67N798&quot;</td><td>&quot;ARSNAP2&quot;</td><td>&quot;SNAP INC&quot;</td><td>14375.0</td><td>&quot;ARS&quot;</td><td>2.0250113e7</td><td>&quot;ARG&quot;</td><td>&quot;USA&quot;</td></tr><tr><td>2024-08-16</td><td>2075-12-31</td><td>null</td><td>&quot;ARGA1B1&quot;</td><td>&quot;P0R67N798&quot;</td><td>&quot;ARSNAP&quot;</td><td>&quot;SNAP INC&quot;</td><td>14375.0</td><td>&quot;ARS&quot;</td><td>2.0250113e7</td><td>&quot;ARG&quot;</td><td>&quot;USA&quot;</td></tr><tr><td>&hellip;</td><td>&hellip;</td><td>&hellip;</td><td>&hellip;</td><td>&hellip;</td><td>&hellip;</td><td>&hellip;</td><td>&hellip;</td><td>&hellip;</td><td>&hellip;</td><td>&hellip;</td><td>&hellip;</td></tr><tr><td>2015-06-08</td><td>2075-12-31</td><td>null</td><td>&quot;ZIMAEO1&quot;</td><td>null</td><td>null</td><td>&quot;PROPLASTICS LTD&quot;</td><td>null</td><td>null</td><td>null</td><td>&quot;ZWE&quot;</td><td>&quot;ZWE&quot;</td></tr><tr><td>2022-02-03</td><td>2075-12-31</td><td>null</td><td>&quot;ZIMAER1&quot;</td><td>null</td><td>null</td><td>&quot;TANGANDA TEA COMPANY LTD&quot;</td><td>null</td><td>null</td><td>null</td><td>&quot;ZWE&quot;</td><td>&quot;ZWE&quot;</td></tr><tr><td>2009-03-03</td><td>2075-12-31</td><td>null</td><td>&quot;ZIMAEV1&quot;</td><td>null</td><td>null</td><td>&quot;FBC HOLDINGS LTD&quot;</td><td>null</td><td>null</td><td>null</td><td>&quot;ZWE&quot;</td><td>&quot;ZWE&quot;</td></tr><tr><td>2016-02-02</td><td>2023-10-23</td><td>null</td><td>&quot;ZIMAEW1&quot;</td><td>null</td><td>null</td><td>&quot;GETBUCKS LTD&quot;</td><td>null</td><td>null</td><td>null</td><td>&quot;ZWE&quot;</td><td>&quot;ZWE&quot;</td></tr><tr><td>2024-01-10</td><td>2075-12-31</td><td>null</td><td>&quot;ZIMAEZ1&quot;</td><td>null</td><td>null</td><td>&quot;REVITUS PROPERTY OPPORTUNITIES…</td><td>null</td><td>null</td><td>null</td><td>&quot;ZWE&quot;</td><td>&quot;ZWE&quot;</td></tr></tbody></table></div>"
      ],
      "text/plain": [
       "shape: (510_444, 12)\n",
       "┌────────────┬────────────┬────────┬─────────┬───┬────────────┬────────────┬───────────┬───────────┐\n",
       "│ start_date ┆ end_date   ┆ permno ┆ barrid  ┆ … ┆ currency_p ┆ datadate_p ┆ country_l ┆ country_h │\n",
       "│ ---        ┆ ---        ┆ ---    ┆ ---     ┆   ┆ rice       ┆ rice       ┆ isted     ┆ eadquarte │\n",
       "│ date       ┆ date       ┆ f64    ┆ str     ┆   ┆ ---        ┆ ---        ┆ ---       ┆ red       │\n",
       "│            ┆            ┆        ┆         ┆   ┆ str        ┆ f64        ┆ str       ┆ ---       │\n",
       "│            ┆            ┆        ┆         ┆   ┆            ┆            ┆           ┆ str       │\n",
       "╞════════════╪════════════╪════════╪═════════╪═══╪════════════╪════════════╪═══════════╪═══════════╡\n",
       "│ 2019-07-26 ┆ 2023-11-12 ┆ null   ┆ ARGA1B1 ┆ … ┆ ARS        ┆ 2.0250113e ┆ ARG       ┆ USA       │\n",
       "│            ┆            ┆        ┆         ┆   ┆            ┆ 7          ┆           ┆           │\n",
       "│ 2023-11-13 ┆ 2023-11-13 ┆ null   ┆ ARGA1B1 ┆ … ┆ ARS        ┆ 2.0250113e ┆ ARG       ┆ USA       │\n",
       "│            ┆            ┆        ┆         ┆   ┆            ┆ 7          ┆           ┆           │\n",
       "│ 2023-11-14 ┆ 2024-08-10 ┆ null   ┆ ARGA1B1 ┆ … ┆ ARS        ┆ 2.0250113e ┆ ARG       ┆ USA       │\n",
       "│            ┆            ┆        ┆         ┆   ┆            ┆ 7          ┆           ┆           │\n",
       "│ 2024-08-11 ┆ 2024-08-15 ┆ null   ┆ ARGA1B1 ┆ … ┆ ARS        ┆ 2.0250113e ┆ ARG       ┆ USA       │\n",
       "│            ┆            ┆        ┆         ┆   ┆            ┆ 7          ┆           ┆           │\n",
       "│ 2024-08-16 ┆ 2075-12-31 ┆ null   ┆ ARGA1B1 ┆ … ┆ ARS        ┆ 2.0250113e ┆ ARG       ┆ USA       │\n",
       "│            ┆            ┆        ┆         ┆   ┆            ┆ 7          ┆           ┆           │\n",
       "│ …          ┆ …          ┆ …      ┆ …       ┆ … ┆ …          ┆ …          ┆ …         ┆ …         │\n",
       "│ 2015-06-08 ┆ 2075-12-31 ┆ null   ┆ ZIMAEO1 ┆ … ┆ null       ┆ null       ┆ ZWE       ┆ ZWE       │\n",
       "│ 2022-02-03 ┆ 2075-12-31 ┆ null   ┆ ZIMAER1 ┆ … ┆ null       ┆ null       ┆ ZWE       ┆ ZWE       │\n",
       "│ 2009-03-03 ┆ 2075-12-31 ┆ null   ┆ ZIMAEV1 ┆ … ┆ null       ┆ null       ┆ ZWE       ┆ ZWE       │\n",
       "│ 2016-02-02 ┆ 2023-10-23 ┆ null   ┆ ZIMAEW1 ┆ … ┆ null       ┆ null       ┆ ZWE       ┆ ZWE       │\n",
       "│ 2024-01-10 ┆ 2075-12-31 ┆ null   ┆ ZIMAEZ1 ┆ … ┆ null       ┆ null       ┆ ZWE       ┆ ZWE       │\n",
       "└────────────┴────────────┴────────┴─────────┴───┴────────────┴────────────┴───────────┴───────────┘"
      ]
     },
     "execution_count": 12,
     "metadata": {},
     "output_type": "execute_result"
    }
   ],
   "source": [
    "mapping = SecurityMapping().load_all()\n",
    "\n",
    "mapping"
   ]
  },
  {
   "cell_type": "code",
   "execution_count": null,
   "metadata": {},
   "outputs": [],
   "source": []
  }
 ],
 "metadata": {
  "kernelspec": {
   "display_name": ".venv",
   "language": "python",
   "name": "python3"
  },
  "language_info": {
   "codemirror_mode": {
    "name": "ipython",
    "version": 3
   },
   "file_extension": ".py",
   "mimetype": "text/x-python",
   "name": "python",
   "nbconvert_exporter": "python",
   "pygments_lexer": "ipython3",
   "version": "3.11.4"
  }
 },
 "nbformat": 4,
 "nbformat_minor": 2
}
