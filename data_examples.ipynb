{
 "cells": [
  {
   "cell_type": "code",
   "execution_count": 2,
   "metadata": {},
   "outputs": [],
   "source": [
    "import silverfund.data_access_layer as dao\n",
    "from silverfund.enums import Interval\n",
    "from datetime import date"
   ]
  },
  {
   "cell_type": "code",
   "execution_count": 2,
   "metadata": {},
   "outputs": [],
   "source": [
    "interval = Interval.MONTHLY\n",
    "start_date = date(2024, 1, 1)\n",
    "end_date = date(2024, 12, 31)"
   ]
  },
  {
   "cell_type": "code",
   "execution_count": 3,
   "metadata": {},
   "outputs": [
    {
     "name": "stderr",
     "output_type": "stream",
     "text": [
      "Loading Barra Returns: 100%|██████████| 1/1 [00:00<00:00, 20.29it/s]\n"
     ]
    },
    {
     "data": {
      "text/html": [
       "<div><style>\n",
       ".dataframe > thead > tr,\n",
       ".dataframe > tbody > tr {\n",
       "  text-align: right;\n",
       "  white-space: pre-wrap;\n",
       "}\n",
       "</style>\n",
       "<small>shape: (241_035, 7)</small><table border=\"1\" class=\"dataframe\"><thead><tr><th>date</th><th>barrid</th><th>currency</th><th>mktcap</th><th>price</th><th>logret</th><th>ret</th></tr><tr><td>date</td><td>str</td><td>str</td><td>f64</td><td>f64</td><td>f64</td><td>f64</td></tr></thead><tbody><tr><td>2024-01-31</td><td>&quot;ARGA1B1&quot;</td><td>&quot;ARS&quot;</td><td>2.8571e13</td><td>20521.5</td><td>0.212071</td><td>0.236236</td></tr><tr><td>2024-02-29</td><td>&quot;ARGA1B1&quot;</td><td>&quot;ARS&quot;</td><td>1.6553e13</td><td>11889.5</td><td>-0.532011</td><td>-0.412577</td></tr><tr><td>2024-03-28</td><td>&quot;ARGA1B1&quot;</td><td>&quot;ARS&quot;</td><td>1.7317e13</td><td>12438.0</td><td>0.0451</td><td>0.046133</td></tr><tr><td>2024-04-30</td><td>&quot;ARGA1B1&quot;</td><td>&quot;ARS&quot;</td><td>2.2856e13</td><td>16416.5</td><td>0.277528</td><td>0.319864</td></tr><tr><td>2024-05-31</td><td>&quot;ARGA1B1&quot;</td><td>&quot;ARS&quot;</td><td>2.5971e13</td><td>18654.5</td><td>0.127799</td><td>0.136324</td></tr><tr><td>&hellip;</td><td>&hellip;</td><td>&hellip;</td><td>&hellip;</td><td>&hellip;</td><td>&hellip;</td><td>&hellip;</td></tr><tr><td>2024-11-29</td><td>&quot;USBQSJ1&quot;</td><td>&quot;USD&quot;</td><td>9.85e7</td><td>3.94</td><td>-0.015114</td><td>-0.015</td></tr><tr><td>2024-11-29</td><td>&quot;USBQSN1&quot;</td><td>&quot;USD&quot;</td><td>5.7392e8</td><td>14.97</td><td>0.0</td><td>0.0</td></tr><tr><td>2024-11-29</td><td>&quot;USBQSZ1&quot;</td><td>&quot;USD&quot;</td><td>1.7493e7</td><td>1.85</td><td>-0.714537</td><td>-0.510581</td></tr><tr><td>2024-11-29</td><td>&quot;USBQTH1&quot;</td><td>&quot;USD&quot;</td><td>1.8854e8</td><td>3.93</td><td>-0.075924</td><td>-0.073114</td></tr><tr><td>2024-11-29</td><td>&quot;USBQTN1&quot;</td><td>&quot;USD&quot;</td><td>3.5005e9</td><td>13.02</td><td>0.08158</td><td>0.085</td></tr></tbody></table></div>"
      ],
      "text/plain": [
       "shape: (241_035, 7)\n",
       "┌────────────┬─────────┬──────────┬───────────┬─────────┬───────────┬───────────┐\n",
       "│ date       ┆ barrid  ┆ currency ┆ mktcap    ┆ price   ┆ logret    ┆ ret       │\n",
       "│ ---        ┆ ---     ┆ ---      ┆ ---       ┆ ---     ┆ ---       ┆ ---       │\n",
       "│ date       ┆ str     ┆ str      ┆ f64       ┆ f64     ┆ f64       ┆ f64       │\n",
       "╞════════════╪═════════╪══════════╪═══════════╪═════════╪═══════════╪═══════════╡\n",
       "│ 2024-01-31 ┆ ARGA1B1 ┆ ARS      ┆ 2.8571e13 ┆ 20521.5 ┆ 0.212071  ┆ 0.236236  │\n",
       "│ 2024-02-29 ┆ ARGA1B1 ┆ ARS      ┆ 1.6553e13 ┆ 11889.5 ┆ -0.532011 ┆ -0.412577 │\n",
       "│ 2024-03-28 ┆ ARGA1B1 ┆ ARS      ┆ 1.7317e13 ┆ 12438.0 ┆ 0.0451    ┆ 0.046133  │\n",
       "│ 2024-04-30 ┆ ARGA1B1 ┆ ARS      ┆ 2.2856e13 ┆ 16416.5 ┆ 0.277528  ┆ 0.319864  │\n",
       "│ 2024-05-31 ┆ ARGA1B1 ┆ ARS      ┆ 2.5971e13 ┆ 18654.5 ┆ 0.127799  ┆ 0.136324  │\n",
       "│ …          ┆ …       ┆ …        ┆ …         ┆ …       ┆ …         ┆ …         │\n",
       "│ 2024-11-29 ┆ USBQSJ1 ┆ USD      ┆ 9.85e7    ┆ 3.94    ┆ -0.015114 ┆ -0.015    │\n",
       "│ 2024-11-29 ┆ USBQSN1 ┆ USD      ┆ 5.7392e8  ┆ 14.97   ┆ 0.0       ┆ 0.0       │\n",
       "│ 2024-11-29 ┆ USBQSZ1 ┆ USD      ┆ 1.7493e7  ┆ 1.85    ┆ -0.714537 ┆ -0.510581 │\n",
       "│ 2024-11-29 ┆ USBQTH1 ┆ USD      ┆ 1.8854e8  ┆ 3.93    ┆ -0.075924 ┆ -0.073114 │\n",
       "│ 2024-11-29 ┆ USBQTN1 ┆ USD      ┆ 3.5005e9  ┆ 13.02   ┆ 0.08158   ┆ 0.085     │\n",
       "└────────────┴─────────┴──────────┴───────────┴─────────┴───────────┴───────────┘"
      ]
     },
     "execution_count": 3,
     "metadata": {},
     "output_type": "execute_result"
    }
   ],
   "source": [
    "barra_returns = dao.load_barra_returns(interval=interval, start_date=start_date, end_date=end_date)\n",
    "\n",
    "barra_returns"
   ]
  },
  {
   "cell_type": "code",
   "execution_count": 4,
   "metadata": {},
   "outputs": [
    {
     "name": "stderr",
     "output_type": "stream",
     "text": [
      "Loading Barra Specific Return Forecasts: 100%|██████████| 1/1 [00:00<00:00, 51.31it/s]\n"
     ]
    },
    {
     "data": {
      "text/html": [
       "<div><style>\n",
       ".dataframe > thead > tr,\n",
       ".dataframe > tbody > tr {\n",
       "  text-align: right;\n",
       "  white-space: pre-wrap;\n",
       "}\n",
       "</style>\n",
       "<small>shape: (231_323, 3)</small><table border=\"1\" class=\"dataframe\"><thead><tr><th>date</th><th>barrid</th><th>spec_ret</th></tr><tr><td>date</td><td>str</td><td>f64</td></tr></thead><tbody><tr><td>2024-01-31</td><td>&quot;ARGA1B1&quot;</td><td>0.188756</td></tr><tr><td>2024-01-31</td><td>&quot;ARGA1G1&quot;</td><td>0.133933</td></tr><tr><td>2024-01-31</td><td>&quot;ARGA1K1&quot;</td><td>0.237479</td></tr><tr><td>2024-01-31</td><td>&quot;ARGA621&quot;</td><td>0.093986</td></tr><tr><td>2024-01-31</td><td>&quot;ARGA631&quot;</td><td>0.233487</td></tr><tr><td>&hellip;</td><td>&hellip;</td><td>&hellip;</td></tr><tr><td>2024-11-29</td><td>&quot;USBQSB1&quot;</td><td>-0.684194</td></tr><tr><td>2024-11-29</td><td>&quot;USBQSE1&quot;</td><td>-0.026538</td></tr><tr><td>2024-11-29</td><td>&quot;USBQSJ1&quot;</td><td>-0.0201</td></tr><tr><td>2024-11-29</td><td>&quot;USBQSZ1&quot;</td><td>-0.574265</td></tr><tr><td>2024-11-29</td><td>&quot;USBQTH1&quot;</td><td>-0.075688</td></tr></tbody></table></div>"
      ],
      "text/plain": [
       "shape: (231_323, 3)\n",
       "┌────────────┬─────────┬───────────┐\n",
       "│ date       ┆ barrid  ┆ spec_ret  │\n",
       "│ ---        ┆ ---     ┆ ---       │\n",
       "│ date       ┆ str     ┆ f64       │\n",
       "╞════════════╪═════════╪═══════════╡\n",
       "│ 2024-01-31 ┆ ARGA1B1 ┆ 0.188756  │\n",
       "│ 2024-01-31 ┆ ARGA1G1 ┆ 0.133933  │\n",
       "│ 2024-01-31 ┆ ARGA1K1 ┆ 0.237479  │\n",
       "│ 2024-01-31 ┆ ARGA621 ┆ 0.093986  │\n",
       "│ 2024-01-31 ┆ ARGA631 ┆ 0.233487  │\n",
       "│ …          ┆ …       ┆ …         │\n",
       "│ 2024-11-29 ┆ USBQSB1 ┆ -0.684194 │\n",
       "│ 2024-11-29 ┆ USBQSE1 ┆ -0.026538 │\n",
       "│ 2024-11-29 ┆ USBQSJ1 ┆ -0.0201   │\n",
       "│ 2024-11-29 ┆ USBQSZ1 ┆ -0.574265 │\n",
       "│ 2024-11-29 ┆ USBQTH1 ┆ -0.075688 │\n",
       "└────────────┴─────────┴───────────┘"
      ]
     },
     "execution_count": 4,
     "metadata": {},
     "output_type": "execute_result"
    }
   ],
   "source": [
    "barra_spec_returns = dao.load_specific_returns(\n",
    "    interval=interval, start_date=start_date, end_date=end_date\n",
    ")\n",
    "\n",
    "barra_spec_returns"
   ]
  },
  {
   "cell_type": "code",
   "execution_count": 6,
   "metadata": {},
   "outputs": [
    {
     "name": "stderr",
     "output_type": "stream",
     "text": [
      "Loading Barra Total Risk: 100%|██████████| 1/1 [00:00<00:00, 18.25it/s]\n"
     ]
    },
    {
     "data": {
      "text/html": [
       "<div><style>\n",
       ".dataframe > thead > tr,\n",
       ".dataframe > tbody > tr {\n",
       "  text-align: right;\n",
       "  white-space: pre-wrap;\n",
       "}\n",
       "</style>\n",
       "<small>shape: (231_373, 7)</small><table border=\"1\" class=\"dataframe\"><thead><tr><th>date</th><th>barrid</th><th>div_yield</th><th>histbeta</th><th>predbeta</th><th>spec_risk</th><th>total_risk</th></tr><tr><td>date</td><td>str</td><td>f64</td><td>f64</td><td>f64</td><td>f64</td><td>f64</td></tr></thead><tbody><tr><td>2024-01-31</td><td>&quot;ARGA1B1&quot;</td><td>0.0</td><td>1.432008</td><td>1.766008</td><td>0.537725</td><td>0.681455</td></tr><tr><td>2024-01-31</td><td>&quot;ARGA1G1&quot;</td><td>0.023748</td><td>0.66034</td><td>1.140333</td><td>0.452342</td><td>0.549022</td></tr><tr><td>2024-01-31</td><td>&quot;ARGA1K1&quot;</td><td>0.025574</td><td>0.369881</td><td>0.682117</td><td>0.422106</td><td>0.484379</td></tr><tr><td>2024-01-31</td><td>&quot;ARGA621&quot;</td><td>0.0</td><td>1.887073</td><td>2.14831</td><td>0.882609</td><td>1.006057</td></tr><tr><td>2024-01-31</td><td>&quot;ARGA631&quot;</td><td>0.0</td><td>1.284681</td><td>1.581651</td><td>0.449119</td><td>0.581993</td></tr><tr><td>&hellip;</td><td>&hellip;</td><td>&hellip;</td><td>&hellip;</td><td>&hellip;</td><td>&hellip;</td><td>&hellip;</td></tr><tr><td>2024-11-29</td><td>&quot;USBQSJ1&quot;</td><td>null</td><td>1.374093</td><td>1.013925</td><td>0.241295</td><td>0.36404</td></tr><tr><td>2024-11-29</td><td>&quot;USBQSN1&quot;</td><td>null</td><td>0.611606</td><td>0.634952</td><td>0.150757</td><td>0.280004</td></tr><tr><td>2024-11-29</td><td>&quot;USBQSZ1&quot;</td><td>null</td><td>1.182478</td><td>1.709697</td><td>1.006172</td><td>1.077085</td></tr><tr><td>2024-11-29</td><td>&quot;USBQTH1&quot;</td><td>null</td><td>0.196832</td><td>0.136155</td><td>0.164438</td><td>0.2725658</td></tr><tr><td>2024-11-29</td><td>&quot;USBQTN1&quot;</td><td>null</td><td>1.268231</td><td>1.07243</td><td>0.21939</td><td>0.295684</td></tr></tbody></table></div>"
      ],
      "text/plain": [
       "shape: (231_373, 7)\n",
       "┌────────────┬─────────┬───────────┬──────────┬──────────┬───────────┬────────────┐\n",
       "│ date       ┆ barrid  ┆ div_yield ┆ histbeta ┆ predbeta ┆ spec_risk ┆ total_risk │\n",
       "│ ---        ┆ ---     ┆ ---       ┆ ---      ┆ ---      ┆ ---       ┆ ---        │\n",
       "│ date       ┆ str     ┆ f64       ┆ f64      ┆ f64      ┆ f64       ┆ f64        │\n",
       "╞════════════╪═════════╪═══════════╪══════════╪══════════╪═══════════╪════════════╡\n",
       "│ 2024-01-31 ┆ ARGA1B1 ┆ 0.0       ┆ 1.432008 ┆ 1.766008 ┆ 0.537725  ┆ 0.681455   │\n",
       "│ 2024-01-31 ┆ ARGA1G1 ┆ 0.023748  ┆ 0.66034  ┆ 1.140333 ┆ 0.452342  ┆ 0.549022   │\n",
       "│ 2024-01-31 ┆ ARGA1K1 ┆ 0.025574  ┆ 0.369881 ┆ 0.682117 ┆ 0.422106  ┆ 0.484379   │\n",
       "│ 2024-01-31 ┆ ARGA621 ┆ 0.0       ┆ 1.887073 ┆ 2.14831  ┆ 0.882609  ┆ 1.006057   │\n",
       "│ 2024-01-31 ┆ ARGA631 ┆ 0.0       ┆ 1.284681 ┆ 1.581651 ┆ 0.449119  ┆ 0.581993   │\n",
       "│ …          ┆ …       ┆ …         ┆ …        ┆ …        ┆ …         ┆ …          │\n",
       "│ 2024-11-29 ┆ USBQSJ1 ┆ null      ┆ 1.374093 ┆ 1.013925 ┆ 0.241295  ┆ 0.36404    │\n",
       "│ 2024-11-29 ┆ USBQSN1 ┆ null      ┆ 0.611606 ┆ 0.634952 ┆ 0.150757  ┆ 0.280004   │\n",
       "│ 2024-11-29 ┆ USBQSZ1 ┆ null      ┆ 1.182478 ┆ 1.709697 ┆ 1.006172  ┆ 1.077085   │\n",
       "│ 2024-11-29 ┆ USBQTH1 ┆ null      ┆ 0.196832 ┆ 0.136155 ┆ 0.164438  ┆ 0.2725658  │\n",
       "│ 2024-11-29 ┆ USBQTN1 ┆ null      ┆ 1.268231 ┆ 1.07243  ┆ 0.21939   ┆ 0.295684   │\n",
       "└────────────┴─────────┴───────────┴──────────┴──────────┴───────────┴────────────┘"
      ]
     },
     "execution_count": 6,
     "metadata": {},
     "output_type": "execute_result"
    }
   ],
   "source": [
    "barra_total_risk = dao.load_total_risk(\n",
    "    interval=interval, start_date=start_date, end_date=end_date, quiet=False\n",
    ")\n",
    "\n",
    "barra_total_risk"
   ]
  },
  {
   "cell_type": "code",
   "execution_count": 7,
   "metadata": {},
   "outputs": [
    {
     "data": {
      "text/html": [
       "<div><style>\n",
       ".dataframe > thead > tr,\n",
       ".dataframe > tbody > tr {\n",
       "  text-align: right;\n",
       "  white-space: pre-wrap;\n",
       "}\n",
       "</style>\n",
       "<small>shape: (104_628, 14)</small><table border=\"1\" class=\"dataframe\"><thead><tr><th>permno</th><th>permco</th><th>date</th><th>ncusip</th><th>ticker</th><th>shrcd</th><th>exchcd</th><th>siccd</th><th>prc</th><th>ret</th><th>retx</th><th>vol</th><th>shrout</th><th>cfacshr</th></tr><tr><td>i64</td><td>i64</td><td>date</td><td>str</td><td>str</td><td>i64</td><td>i64</td><td>i64</td><td>f64</td><td>f64</td><td>f64</td><td>f64</td><td>f64</td><td>f64</td></tr></thead><tbody><tr><td>10026</td><td>7976</td><td>2024-01-31</td><td>&quot;46603210&quot;</td><td>&quot;JJSF&quot;</td><td>11</td><td>3</td><td>2052</td><td>159.23</td><td>-0.047326</td><td>-0.047326</td><td>17816.0</td><td>19367.0</td><td>1.0</td></tr><tr><td>10026</td><td>7976</td><td>2024-02-29</td><td>&quot;46603210&quot;</td><td>&quot;JJSF&quot;</td><td>11</td><td>3</td><td>2052</td><td>145.08</td><td>-0.088865</td><td>-0.088865</td><td>23230.0</td><td>19380.0</td><td>1.0</td></tr><tr><td>10026</td><td>7976</td><td>2024-03-28</td><td>&quot;46603210&quot;</td><td>&quot;JJSF&quot;</td><td>11</td><td>3</td><td>2052</td><td>144.56</td><td>0.001482</td><td>-0.003584</td><td>17251.0</td><td>19386.0</td><td>1.0</td></tr><tr><td>10026</td><td>7976</td><td>2024-04-30</td><td>&quot;46603210&quot;</td><td>&quot;JJSF&quot;</td><td>11</td><td>3</td><td>2052</td><td>137.28999</td><td>-0.050291</td><td>-0.050291</td><td>16958.0</td><td>19386.0</td><td>1.0</td></tr><tr><td>10026</td><td>7976</td><td>2024-05-31</td><td>&quot;46603210&quot;</td><td>&quot;JJSF&quot;</td><td>11</td><td>3</td><td>2052</td><td>162.71001</td><td>0.185156</td><td>0.185156</td><td>19892.0</td><td>19386.0</td><td>1.0</td></tr><tr><td>&hellip;</td><td>&hellip;</td><td>&hellip;</td><td>&hellip;</td><td>&hellip;</td><td>&hellip;</td><td>&hellip;</td><td>&hellip;</td><td>&hellip;</td><td>&hellip;</td><td>&hellip;</td><td>&hellip;</td><td>&hellip;</td><td>&hellip;</td></tr><tr><td>93436</td><td>53453</td><td>2024-07-31</td><td>&quot;88160R10&quot;</td><td>&quot;TSLA&quot;</td><td>11</td><td>3</td><td>9999</td><td>232.07001</td><td>0.172781</td><td>0.172781</td><td>2.9287946e7</td><td>3.19464e6</td><td>1.0</td></tr><tr><td>93436</td><td>53453</td><td>2024-08-30</td><td>&quot;88160R10&quot;</td><td>&quot;TSLA&quot;</td><td>11</td><td>3</td><td>9999</td><td>214.11</td><td>-0.077391</td><td>-0.077391</td><td>1.6108365e7</td><td>3.19464e6</td><td>1.0</td></tr><tr><td>93436</td><td>53453</td><td>2024-09-30</td><td>&quot;88160R10&quot;</td><td>&quot;TSLA&quot;</td><td>11</td><td>3</td><td>9999</td><td>261.63</td><td>0.221942</td><td>0.221942</td><td>1.6042065e7</td><td>3.207e6</td><td>1.0</td></tr><tr><td>93436</td><td>53453</td><td>2024-10-31</td><td>&quot;88160R10&quot;</td><td>&quot;TSLA&quot;</td><td>11</td><td>3</td><td>9999</td><td>249.85001</td><td>-0.045025</td><td>-0.045025</td><td>1.9014312e7</td><td>3.207e6</td><td>1.0</td></tr><tr><td>93436</td><td>53453</td><td>2024-11-29</td><td>&quot;88160R10&quot;</td><td>&quot;TSLA&quot;</td><td>11</td><td>3</td><td>9999</td><td>345.16</td><td>0.381469</td><td>0.381469</td><td>2.0821313e7</td><td>3.207e6</td><td>1.0</td></tr></tbody></table></div>"
      ],
      "text/plain": [
       "shape: (104_628, 14)\n",
       "┌────────┬────────┬────────────┬──────────┬───┬───────────┬─────────────┬───────────┬─────────┐\n",
       "│ permno ┆ permco ┆ date       ┆ ncusip   ┆ … ┆ retx      ┆ vol         ┆ shrout    ┆ cfacshr │\n",
       "│ ---    ┆ ---    ┆ ---        ┆ ---      ┆   ┆ ---       ┆ ---         ┆ ---       ┆ ---     │\n",
       "│ i64    ┆ i64    ┆ date       ┆ str      ┆   ┆ f64       ┆ f64         ┆ f64       ┆ f64     │\n",
       "╞════════╪════════╪════════════╪══════════╪═══╪═══════════╪═════════════╪═══════════╪═════════╡\n",
       "│ 10026  ┆ 7976   ┆ 2024-01-31 ┆ 46603210 ┆ … ┆ -0.047326 ┆ 17816.0     ┆ 19367.0   ┆ 1.0     │\n",
       "│ 10026  ┆ 7976   ┆ 2024-02-29 ┆ 46603210 ┆ … ┆ -0.088865 ┆ 23230.0     ┆ 19380.0   ┆ 1.0     │\n",
       "│ 10026  ┆ 7976   ┆ 2024-03-28 ┆ 46603210 ┆ … ┆ -0.003584 ┆ 17251.0     ┆ 19386.0   ┆ 1.0     │\n",
       "│ 10026  ┆ 7976   ┆ 2024-04-30 ┆ 46603210 ┆ … ┆ -0.050291 ┆ 16958.0     ┆ 19386.0   ┆ 1.0     │\n",
       "│ 10026  ┆ 7976   ┆ 2024-05-31 ┆ 46603210 ┆ … ┆ 0.185156  ┆ 19892.0     ┆ 19386.0   ┆ 1.0     │\n",
       "│ …      ┆ …      ┆ …          ┆ …        ┆ … ┆ …         ┆ …           ┆ …         ┆ …       │\n",
       "│ 93436  ┆ 53453  ┆ 2024-07-31 ┆ 88160R10 ┆ … ┆ 0.172781  ┆ 2.9287946e7 ┆ 3.19464e6 ┆ 1.0     │\n",
       "│ 93436  ┆ 53453  ┆ 2024-08-30 ┆ 88160R10 ┆ … ┆ -0.077391 ┆ 1.6108365e7 ┆ 3.19464e6 ┆ 1.0     │\n",
       "│ 93436  ┆ 53453  ┆ 2024-09-30 ┆ 88160R10 ┆ … ┆ 0.221942  ┆ 1.6042065e7 ┆ 3.207e6   ┆ 1.0     │\n",
       "│ 93436  ┆ 53453  ┆ 2024-10-31 ┆ 88160R10 ┆ … ┆ -0.045025 ┆ 1.9014312e7 ┆ 3.207e6   ┆ 1.0     │\n",
       "│ 93436  ┆ 53453  ┆ 2024-11-29 ┆ 88160R10 ┆ … ┆ 0.381469  ┆ 2.0821313e7 ┆ 3.207e6   ┆ 1.0     │\n",
       "└────────┴────────┴────────────┴──────────┴───┴───────────┴─────────────┴───────────┴─────────┘"
      ]
     },
     "execution_count": 7,
     "metadata": {},
     "output_type": "execute_result"
    }
   ],
   "source": [
    "crsp = dao.load_crsp(interval=interval, start_date=start_date, end_date=end_date)\n",
    "\n",
    "crsp"
   ]
  },
  {
   "cell_type": "code",
   "execution_count": null,
   "metadata": {},
   "outputs": [],
   "source": []
  }
 ],
 "metadata": {
  "kernelspec": {
   "display_name": "Python 3",
   "language": "python",
   "name": "python3"
  },
  "language_info": {
   "codemirror_mode": {
    "name": "ipython",
    "version": 3
   },
   "file_extension": ".py",
   "mimetype": "text/x-python",
   "name": "python",
   "nbconvert_exporter": "python",
   "pygments_lexer": "ipython3",
   "version": "3.11.7"
  }
 },
 "nbformat": 4,
 "nbformat_minor": 2
}
