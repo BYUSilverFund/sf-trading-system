{
 "cells": [
  {
   "cell_type": "markdown",
   "metadata": {},
   "source": [
    "### Idiosyncratic Volatility Calculation"
   ]
  },
  {
   "cell_type": "code",
   "execution_count": 2,
   "metadata": {},
   "outputs": [],
   "source": [
    "import pandas as pd\n",
    "import polars as pl\n",
    "import polars_ols as pls"
   ]
  },
  {
   "cell_type": "code",
   "execution_count": 3,
   "metadata": {},
   "outputs": [],
   "source": [
    "start_date = \"1976-01-01\"\n",
    "end_date = \"2024-12-31\"\n",
    "window = 252"
   ]
  },
  {
   "cell_type": "code",
   "execution_count": 4,
   "metadata": {},
   "outputs": [],
   "source": [
    "df = pd.read_csv(\"daily_crsp_1976_andOn.csv\")"
   ]
  },
  {
   "cell_type": "code",
   "execution_count": 5,
   "metadata": {},
   "outputs": [],
   "source": [
    "# Asset-level variables\n",
    "asset_df = df[[\"permno\", \"date\", \"stock_ret\"]].assign(permno=lambda x: x[\"permno\"].astype(str))\n",
    "\n",
    "# Market-level variables\n",
    "market_df = df[[\"date\", \"mkt_ret\"]].drop_duplicates().reset_index(drop=True)"
   ]
  },
  {
   "cell_type": "code",
   "execution_count": 6,
   "metadata": {},
   "outputs": [
    {
     "data": {
      "text/html": [
       "<div>\n",
       "<style scoped>\n",
       "    .dataframe tbody tr th:only-of-type {\n",
       "        vertical-align: middle;\n",
       "    }\n",
       "\n",
       "    .dataframe tbody tr th {\n",
       "        vertical-align: top;\n",
       "    }\n",
       "\n",
       "    .dataframe thead th {\n",
       "        text-align: right;\n",
       "    }\n",
       "</style>\n",
       "<table border=\"1\" class=\"dataframe\">\n",
       "  <thead>\n",
       "    <tr style=\"text-align: right;\">\n",
       "      <th></th>\n",
       "      <th>permno</th>\n",
       "      <th>date</th>\n",
       "      <th>stock_ret</th>\n",
       "    </tr>\n",
       "  </thead>\n",
       "  <tbody>\n",
       "    <tr>\n",
       "      <th>0</th>\n",
       "      <td>10000</td>\n",
       "      <td>1986-01-07</td>\n",
       "      <td>NaN</td>\n",
       "    </tr>\n",
       "    <tr>\n",
       "      <th>1</th>\n",
       "      <td>10000</td>\n",
       "      <td>1986-01-08</td>\n",
       "      <td>-0.02439</td>\n",
       "    </tr>\n",
       "    <tr>\n",
       "      <th>2</th>\n",
       "      <td>10000</td>\n",
       "      <td>1986-01-09</td>\n",
       "      <td>0.00000</td>\n",
       "    </tr>\n",
       "    <tr>\n",
       "      <th>3</th>\n",
       "      <td>10000</td>\n",
       "      <td>1986-01-10</td>\n",
       "      <td>0.00000</td>\n",
       "    </tr>\n",
       "    <tr>\n",
       "      <th>4</th>\n",
       "      <td>10000</td>\n",
       "      <td>1986-01-13</td>\n",
       "      <td>0.05000</td>\n",
       "    </tr>\n",
       "  </tbody>\n",
       "</table>\n",
       "</div>"
      ],
      "text/plain": [
       "  permno        date  stock_ret\n",
       "0  10000  1986-01-07        NaN\n",
       "1  10000  1986-01-08   -0.02439\n",
       "2  10000  1986-01-09    0.00000\n",
       "3  10000  1986-01-10    0.00000\n",
       "4  10000  1986-01-13    0.05000"
      ]
     },
     "execution_count": 6,
     "metadata": {},
     "output_type": "execute_result"
    }
   ],
   "source": [
    "asset_df.head()"
   ]
  },
  {
   "cell_type": "code",
   "execution_count": 7,
   "metadata": {},
   "outputs": [
    {
     "data": {
      "text/html": [
       "<div>\n",
       "<style scoped>\n",
       "    .dataframe tbody tr th:only-of-type {\n",
       "        vertical-align: middle;\n",
       "    }\n",
       "\n",
       "    .dataframe tbody tr th {\n",
       "        vertical-align: top;\n",
       "    }\n",
       "\n",
       "    .dataframe thead th {\n",
       "        text-align: right;\n",
       "    }\n",
       "</style>\n",
       "<table border=\"1\" class=\"dataframe\">\n",
       "  <thead>\n",
       "    <tr style=\"text-align: right;\">\n",
       "      <th></th>\n",
       "      <th>date</th>\n",
       "      <th>mkt_ret</th>\n",
       "    </tr>\n",
       "  </thead>\n",
       "  <tbody>\n",
       "    <tr>\n",
       "      <th>0</th>\n",
       "      <td>1986-01-07</td>\n",
       "      <td>0.013800</td>\n",
       "    </tr>\n",
       "    <tr>\n",
       "      <th>1</th>\n",
       "      <td>1986-01-08</td>\n",
       "      <td>-0.020750</td>\n",
       "    </tr>\n",
       "    <tr>\n",
       "      <th>2</th>\n",
       "      <td>1986-01-09</td>\n",
       "      <td>-0.011315</td>\n",
       "    </tr>\n",
       "    <tr>\n",
       "      <th>3</th>\n",
       "      <td>1986-01-10</td>\n",
       "      <td>0.000047</td>\n",
       "    </tr>\n",
       "    <tr>\n",
       "      <th>4</th>\n",
       "      <td>1986-01-13</td>\n",
       "      <td>0.002680</td>\n",
       "    </tr>\n",
       "  </tbody>\n",
       "</table>\n",
       "</div>"
      ],
      "text/plain": [
       "         date   mkt_ret\n",
       "0  1986-01-07  0.013800\n",
       "1  1986-01-08 -0.020750\n",
       "2  1986-01-09 -0.011315\n",
       "3  1986-01-10  0.000047\n",
       "4  1986-01-13  0.002680"
      ]
     },
     "execution_count": 7,
     "metadata": {},
     "output_type": "execute_result"
    }
   ],
   "source": [
    "market_df.head()"
   ]
  },
  {
   "cell_type": "code",
   "execution_count": 8,
   "metadata": {},
   "outputs": [],
   "source": [
    "def clean(df: pd.DataFrame) -> pl.DataFrame:\n",
    "    # Fix multi index\n",
    "    df = df.stack(future_stack=True).reset_index()\n",
    "\n",
    "    # Lower case columns\n",
    "    df = df.rename(columns={col: col.lower() for col in df.columns})\n",
    "\n",
    "    # Compute Returns\n",
    "    df[\"return\"] = df.groupby(\"ticker\")[\"close\"].pct_change()\n",
    "\n",
    "    # Drop NaN\n",
    "    df = df.dropna()\n",
    "\n",
    "    # Keep columns\n",
    "    df = df[[\"date\", \"ticker\", \"return\"]]\n",
    "\n",
    "    return pl.from_pandas(df)"
   ]
  },
  {
   "cell_type": "code",
   "execution_count": 9,
   "metadata": {},
   "outputs": [
    {
     "ename": "NameError",
     "evalue": "name 'assets' is not defined",
     "output_type": "error",
     "traceback": [
      "\u001b[0;31m---------------------------------------------------------------------------\u001b[0m",
      "\u001b[0;31mNameError\u001b[0m                                 Traceback (most recent call last)",
      "Cell \u001b[0;32mIn[9], line 2\u001b[0m\n\u001b[1;32m      1\u001b[0m \u001b[38;5;66;03m# Clean datasets\u001b[39;00m\n\u001b[0;32m----> 2\u001b[0m assets \u001b[38;5;241m=\u001b[39m clean(\u001b[43massets\u001b[49m)\n\u001b[1;32m      3\u001b[0m market \u001b[38;5;241m=\u001b[39m clean(market)\u001b[38;5;241m.\u001b[39mdrop(\u001b[38;5;124m\"\u001b[39m\u001b[38;5;124mticker\u001b[39m\u001b[38;5;124m\"\u001b[39m)\u001b[38;5;241m.\u001b[39mrename({\u001b[38;5;124m\"\u001b[39m\u001b[38;5;124mreturn\u001b[39m\u001b[38;5;124m\"\u001b[39m: \u001b[38;5;124m\"\u001b[39m\u001b[38;5;124mmarket_return\u001b[39m\u001b[38;5;124m\"\u001b[39m})\n\u001b[1;32m      5\u001b[0m \u001b[38;5;66;03m# Merge\u001b[39;00m\n",
      "\u001b[0;31mNameError\u001b[0m: name 'assets' is not defined"
     ]
    }
   ],
   "source": [
    "# Clean datasets\n",
    "assets = clean(assets)\n",
    "market = clean(market).drop(\"ticker\").rename({\"return\": \"market_return\"})\n",
    "\n",
    "# Merge\n",
    "df = assets.join(market, on=\"date\", how=\"left\")"
   ]
  },
  {
   "cell_type": "code",
   "execution_count": null,
   "metadata": {},
   "outputs": [
    {
     "name": "stderr",
     "output_type": "stream",
     "text": [
      "/tmp/ipykernel_4114026/121667940.py:1: SettingWithCopyWarning: \n",
      "A value is trying to be set on a copy of a slice from a DataFrame.\n",
      "Try using .loc[row_indexer,col_indexer] = value instead\n",
      "\n",
      "See the caveats in the documentation: https://pandas.pydata.org/pandas-docs/stable/user_guide/indexing.html#returning-a-view-versus-a-copy\n",
      "  asset_df['permno'] = asset_df['permno'].astype(str)\n"
     ]
    }
   ],
   "source": [
    "asset_df[\"permno\"] = asset_df[\"permno\"].astype(str)"
   ]
  },
  {
   "cell_type": "code",
   "execution_count": null,
   "metadata": {},
   "outputs": [
    {
     "ename": "AttributeError",
     "evalue": "'int' object has no attribute 'lower'",
     "output_type": "error",
     "traceback": [
      "\u001b[0;31m---------------------------------------------------------------------------\u001b[0m",
      "\u001b[0;31mAttributeError\u001b[0m                            Traceback (most recent call last)",
      "Cell \u001b[0;32mIn[30], line 2\u001b[0m\n\u001b[1;32m      1\u001b[0m \u001b[38;5;66;03m# Clean datasets\u001b[39;00m\n\u001b[0;32m----> 2\u001b[0m assets \u001b[38;5;241m=\u001b[39m \u001b[43mclean\u001b[49m\u001b[43m(\u001b[49m\u001b[43masset_df\u001b[49m\u001b[43m)\u001b[49m\n\u001b[1;32m      3\u001b[0m market \u001b[38;5;241m=\u001b[39m clean(market_df)\u001b[38;5;241m.\u001b[39mdrop(\u001b[38;5;124m\"\u001b[39m\u001b[38;5;124mticker\u001b[39m\u001b[38;5;124m\"\u001b[39m)\n\u001b[1;32m      5\u001b[0m \u001b[38;5;66;03m# Merge\u001b[39;00m\n",
      "Cell \u001b[0;32mIn[28], line 6\u001b[0m, in \u001b[0;36mclean\u001b[0;34m(df)\u001b[0m\n\u001b[1;32m      3\u001b[0m df \u001b[38;5;241m=\u001b[39m df\u001b[38;5;241m.\u001b[39mstack(future_stack\u001b[38;5;241m=\u001b[39m\u001b[38;5;28;01mTrue\u001b[39;00m)\u001b[38;5;241m.\u001b[39mreset_index()\n\u001b[1;32m      5\u001b[0m \u001b[38;5;66;03m# Lower case columns\u001b[39;00m\n\u001b[0;32m----> 6\u001b[0m df \u001b[38;5;241m=\u001b[39m df\u001b[38;5;241m.\u001b[39mrename(columns\u001b[38;5;241m=\u001b[39m\u001b[43m{\u001b[49m\u001b[43mcol\u001b[49m\u001b[43m:\u001b[49m\u001b[43m \u001b[49m\u001b[43mcol\u001b[49m\u001b[38;5;241;43m.\u001b[39;49m\u001b[43mlower\u001b[49m\u001b[43m(\u001b[49m\u001b[43m)\u001b[49m\u001b[43m \u001b[49m\u001b[38;5;28;43;01mfor\u001b[39;49;00m\u001b[43m \u001b[49m\u001b[43mcol\u001b[49m\u001b[43m \u001b[49m\u001b[38;5;129;43;01min\u001b[39;49;00m\u001b[43m \u001b[49m\u001b[43mdf\u001b[49m\u001b[38;5;241;43m.\u001b[39;49m\u001b[43mcolumns\u001b[49m\u001b[43m}\u001b[49m)\n\u001b[1;32m      8\u001b[0m \u001b[38;5;66;03m# Compute Returns\u001b[39;00m\n\u001b[1;32m      9\u001b[0m df[\u001b[38;5;124m\"\u001b[39m\u001b[38;5;124mreturn\u001b[39m\u001b[38;5;124m\"\u001b[39m] \u001b[38;5;241m=\u001b[39m df\u001b[38;5;241m.\u001b[39mgroupby(\u001b[38;5;124m\"\u001b[39m\u001b[38;5;124mticker\u001b[39m\u001b[38;5;124m\"\u001b[39m)[\u001b[38;5;124m\"\u001b[39m\u001b[38;5;124mclose\u001b[39m\u001b[38;5;124m\"\u001b[39m]\u001b[38;5;241m.\u001b[39mpct_change()\n",
      "Cell \u001b[0;32mIn[28], line 6\u001b[0m, in \u001b[0;36m<dictcomp>\u001b[0;34m(.0)\u001b[0m\n\u001b[1;32m      3\u001b[0m df \u001b[38;5;241m=\u001b[39m df\u001b[38;5;241m.\u001b[39mstack(future_stack\u001b[38;5;241m=\u001b[39m\u001b[38;5;28;01mTrue\u001b[39;00m)\u001b[38;5;241m.\u001b[39mreset_index()\n\u001b[1;32m      5\u001b[0m \u001b[38;5;66;03m# Lower case columns\u001b[39;00m\n\u001b[0;32m----> 6\u001b[0m df \u001b[38;5;241m=\u001b[39m df\u001b[38;5;241m.\u001b[39mrename(columns\u001b[38;5;241m=\u001b[39m{col: \u001b[43mcol\u001b[49m\u001b[38;5;241;43m.\u001b[39;49m\u001b[43mlower\u001b[49m() \u001b[38;5;28;01mfor\u001b[39;00m col \u001b[38;5;129;01min\u001b[39;00m df\u001b[38;5;241m.\u001b[39mcolumns})\n\u001b[1;32m      8\u001b[0m \u001b[38;5;66;03m# Compute Returns\u001b[39;00m\n\u001b[1;32m      9\u001b[0m df[\u001b[38;5;124m\"\u001b[39m\u001b[38;5;124mreturn\u001b[39m\u001b[38;5;124m\"\u001b[39m] \u001b[38;5;241m=\u001b[39m df\u001b[38;5;241m.\u001b[39mgroupby(\u001b[38;5;124m\"\u001b[39m\u001b[38;5;124mticker\u001b[39m\u001b[38;5;124m\"\u001b[39m)[\u001b[38;5;124m\"\u001b[39m\u001b[38;5;124mclose\u001b[39m\u001b[38;5;124m\"\u001b[39m]\u001b[38;5;241m.\u001b[39mpct_change()\n",
      "\u001b[0;31mAttributeError\u001b[0m: 'int' object has no attribute 'lower'"
     ]
    }
   ],
   "source": [
    "# Clean datasets\n",
    "assets = clean(asset_df)\n",
    "market = clean(market_df).drop(\"ticker\")\n",
    "\n",
    "# Merge\n",
    "df = assets.join(market, on=\"date\", how=\"left\")"
   ]
  },
  {
   "cell_type": "code",
   "execution_count": null,
   "metadata": {},
   "outputs": [],
   "source": [
    "df"
   ]
  },
  {
   "cell_type": "code",
   "execution_count": null,
   "metadata": {},
   "outputs": [],
   "source": [
    "# Compute regression terms\n",
    "df = (\n",
    "    df\n",
    "    # Run rolling ols regression\n",
    "    .with_columns(\n",
    "        pl.col(\"return\")\n",
    "        .least_squares.rolling_ols(\n",
    "            pl.col(\"market_return\"),\n",
    "            add_intercept=True,\n",
    "            mode=\"coefficients\",\n",
    "            window_size=window,\n",
    "            min_periods=window,\n",
    "        )\n",
    "        .over(\"ticker\")\n",
    "        .alias(\"results\")\n",
    "    )\n",
    "    # Get results\n",
    "    .with_columns(\n",
    "        pl.col(\"results\").struct.field(\"const\"),\n",
    "        pl.col(\"results\").struct.field(\"market_return\").alias(\"coefficient\"),\n",
    "    )\n",
    "    # Drop results column\n",
    "    .drop(\"results\")\n",
    "    # Drop nulls\n",
    "    .drop_nulls([\"const\", \"coefficient\"]).sort([\"ticker\", \"date\"])\n",
    ")"
   ]
  },
  {
   "cell_type": "code",
   "execution_count": null,
   "metadata": {},
   "outputs": [],
   "source": [
    "# Calculate residual volatility\n",
    "df = (\n",
    "    df\n",
    "    # Compute residual\n",
    "    .with_columns(\n",
    "        (\n",
    "            pl.col(\"return\") - pl.col(\"const\") - pl.col(\"coefficient\") * pl.col(\"market_return\")\n",
    "        ).alias(\"residual\")\n",
    "    )\n",
    "    # Compute volatility\n",
    "    .with_columns(\n",
    "        pl.col(\"residual\")\n",
    "        .rolling_std(window_size=window)\n",
    "        .over(\"ticker\")\n",
    "        .alias(\"idiosyncrati_volatility\")\n",
    "    )\n",
    ")"
   ]
  },
  {
   "cell_type": "code",
   "execution_count": null,
   "metadata": {},
   "outputs": [
    {
     "name": "stdout",
     "output_type": "stream",
     "text": [
      "shape: (22_333, 8)\n",
      "┌─────────────┬────────┬───────────┬─────────────┬───────────┬────────────┬───────────┬────────────┐\n",
      "│ date        ┆ ticker ┆ return    ┆ market_retu ┆ const     ┆ coefficien ┆ residual  ┆ idiosyncra │\n",
      "│ ---         ┆ ---    ┆ ---       ┆ rn          ┆ ---       ┆ t          ┆ ---       ┆ ti_volatil │\n",
      "│ datetime[ns ┆ str    ┆ f64       ┆ ---         ┆ f64       ┆ ---        ┆ f64       ┆ ity        │\n",
      "│ ]           ┆        ┆           ┆ f64         ┆           ┆ f64        ┆           ┆ ---        │\n",
      "│             ┆        ┆           ┆             ┆           ┆            ┆           ┆ f64        │\n",
      "╞═════════════╪════════╪═══════════╪═════════════╪═══════════╪════════════╪═══════════╪════════════╡\n",
      "│ 1994-01-27  ┆ AAPL   ┆ 0.018659  ┆ 0.009248    ┆ -0.002165 ┆ 1.265743   ┆ 0.009119  ┆ null       │\n",
      "│ 00:00:00    ┆        ┆           ┆             ┆           ┆            ┆           ┆            │\n",
      "│ 1994-01-28  ┆ AAPL   ┆ -0.003666 ┆ 0.002618    ┆ -0.002265 ┆ 1.245571   ┆ -0.004661 ┆ null       │\n",
      "│ 00:00:00    ┆        ┆           ┆             ┆           ┆            ┆           ┆            │\n",
      "│ 1994-01-31  ┆ AAPL   ┆ -0.036762 ┆ 0.00718     ┆ -0.002357 ┆ 1.212697   ┆ -0.043112 ┆ null       │\n",
      "│ 00:00:00    ┆        ┆           ┆             ┆           ┆            ┆           ┆            │\n",
      "│ 1994-02-01  ┆ AAPL   ┆ 0.015266  ┆ -0.005185   ┆ -0.002205 ┆ 1.214665   ┆ 0.023769  ┆ null       │\n",
      "│ 00:00:00    ┆        ┆           ┆             ┆           ┆            ┆           ┆            │\n",
      "│ 1994-02-02  ┆ AAPL   ┆ -0.007518 ┆ 0.006515    ┆ -0.002211 ┆ 1.209853   ┆ -0.013189 ┆ null       │\n",
      "│ 00:00:00    ┆        ┆           ┆             ┆           ┆            ┆           ┆            │\n",
      "│ …           ┆ …      ┆ …         ┆ …           ┆ …         ┆ …          ┆ …         ┆ …          │\n",
      "│ 2024-12-23  ┆ TSLA   ┆ 0.022657  ┆ 0.005988    ┆ 0.000548  ┆ 2.321936   ┆ 0.008205  ┆ 0.035091   │\n",
      "│ 00:00:00    ┆        ┆           ┆             ┆           ┆            ┆           ┆            │\n",
      "│ 2024-12-24  ┆ TSLA   ┆ 0.073572  ┆ 0.011115    ┆ 0.000754  ┆ 2.353572   ┆ 0.046658  ┆ 0.035188   │\n",
      "│ 00:00:00    ┆        ┆           ┆             ┆           ┆            ┆           ┆            │\n",
      "│ 2024-12-26  ┆ TSLA   ┆ -0.01763  ┆ 0.000067    ┆ 0.000659  ┆ 2.353579   ┆ -0.018445 ┆ 0.035212   │\n",
      "│ 00:00:00    ┆        ┆           ┆             ┆           ┆            ┆           ┆            │\n",
      "│ 2024-12-27  ┆ TSLA   ┆ -0.049479 ┆ -0.010527   ┆ 0.000485  ┆ 2.371533   ┆ -0.025001 ┆ 0.035248   │\n",
      "│ 00:00:00    ┆        ┆           ┆             ┆           ┆            ┆           ┆            │\n",
      "│ 2024-12-30  ┆ TSLA   ┆ -0.033012 ┆ -0.011412   ┆ 0.000587  ┆ 2.375447   ┆ -0.006492 ┆ 0.035177   │\n",
      "│ 00:00:00    ┆        ┆           ┆             ┆           ┆            ┆           ┆            │\n",
      "└─────────────┴────────┴───────────┴─────────────┴───────────┴────────────┴───────────┴────────────┘\n"
     ]
    }
   ],
   "source": [
    "print(df)"
   ]
  }
 ],
 "metadata": {
  "kernelspec": {
   "display_name": ".venv",
   "language": "python",
   "name": "python3"
  },
  "language_info": {
   "codemirror_mode": {
    "name": "ipython",
    "version": 3
   },
   "file_extension": ".py",
   "mimetype": "text/x-python",
   "name": "python",
   "nbconvert_exporter": "python",
   "pygments_lexer": "ipython3",
   "version": "3.11.7"
  }
 },
 "nbformat": 4,
 "nbformat_minor": 2
}
