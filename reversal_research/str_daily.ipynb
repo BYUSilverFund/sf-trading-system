{
 "cells": [
  {
   "cell_type": "code",
   "execution_count": null,
   "metadata": {},
   "outputs": [],
   "source": [
    "import sys\n",
    "from dotenv import load_dotenv\n",
    "import os\n",
    "\n",
    "load_dotenv()\n",
    "\n",
    "sys.path.append(os.getenv(\"ROOT\"))\n",
    "os.getenv(\"ROOT\")"
   ]
  },
  {
   "cell_type": "code",
   "execution_count": null,
   "metadata": {},
   "outputs": [],
   "source": [
    "print(sys.path)"
   ]
  },
  {
   "cell_type": "code",
   "execution_count": null,
   "metadata": {},
   "outputs": [],
   "source": [
    "import pandas as pd\n",
    "import polars as pl\n",
    "import numpy as np\n",
    "from datetime import date\n",
    "from silverfund.datasets import CRSPDaily, Universe\n",
    "import seaborn as sns\n",
    "import matplotlib.pyplot as pltc\n",
    "from matplotlib import pyplot as plt"
   ]
  },
  {
   "cell_type": "code",
   "execution_count": null,
   "metadata": {},
   "outputs": [],
   "source": [
    "import statsmodels.formula.api as smf\n",
    "from finance_byu.regtables import Regtable"
   ]
  },
  {
   "cell_type": "code",
   "execution_count": null,
   "metadata": {},
   "outputs": [],
   "source": [
    "# df = (CRSPDaily(start_date=date(2010, 1, 1),\n",
    "#                 end_date=date(2015, 12, 31))\n",
    "#                 .load_all()\n",
    "#                 .select([\"permno\", \"ticker\", \"date\", \"shrout\", \"prc\", \"ret\"])\n",
    "# )\n",
    "\n",
    "# df\n",
    "\n",
    "# df = (Universe(start_date=date(2010, 1, 1),\n",
    "#                 end_date=date(2015, 12, 31))\n",
    "#                 .load_all()\n",
    "#                 .select([\"permno\", \"ticker\", \"date\", \"shrout\", \"prc\", \"ret\"])\n",
    "# )\n",
    "\n",
    "# df"
   ]
  },
  {
   "cell_type": "code",
   "execution_count": null,
   "metadata": {},
   "outputs": [],
   "source": [
    "path = \"/home/bwaits/fsl_groups/grp_quant/data/daily_merged/\"\n",
    "files = os.listdir(path)\n",
    "dfs = []\n",
    "for file in files:\n",
    "    # if file.endswith('.parquet'):\n",
    "    for year in range(2010, 2024):\n",
    "        if file.endswith(f\"mm_{year}.parquet\"):\n",
    "            df = pl.read_parquet(f\"{path}/{file}\").to_pandas()\n",
    "\n",
    "            dfs.append(df)\n",
    "\n",
    "\n",
    "df = pd.concat(dfs)\n",
    "df2 = df.copy()"
   ]
  },
  {
   "cell_type": "code",
   "execution_count": null,
   "metadata": {},
   "outputs": [],
   "source": [
    "df[\"DataDate\"] = pd.to_datetime(df[\"DataDate\"], format=\"%Y%m%d\")\n",
    "df = df[\n",
    "    [\"DataDate\", \"barrid\", \"ret_barra\", \"vol_crsp\", \"price_barra\", \"mktcap_barra\"]\n",
    "]  #'lag_ret', 'signal'\n",
    "df[\"logret\"] = np.log1p(df[\"ret_barra\"])\n",
    "df[\"rev\"] = df.groupby(\"barrid\")[\"logret\"].rolling(22, 22).sum().reset_index(drop=True)\n",
    "df[\"vol\"] = df.groupby(\"barrid\")[\"vol_crsp\"].rolling(22, 22).sum().reset_index(drop=True)\n",
    "df[\"rev\"] = df.groupby(\"barrid\")[\"rev\"].shift(1)\n",
    "df[\"prclag\"] = df.groupby(\"barrid\")[\"price_barra\"].shift(1)\n",
    "df[\"melag\"] = df.groupby(\"barrid\")[\"mktcap_barra\"].shift(1)\n",
    "df = df.query(\"rev == rev and prclag >= 5\").reset_index(drop=True)\n",
    "df[\"bins\"] = df.groupby(\"DataDate\")[\"rev\"].transform(pd.qcut, 10, labels=False)\n",
    "df"
   ]
  },
  {
   "cell_type": "code",
   "execution_count": null,
   "metadata": {},
   "outputs": [],
   "source": [
    "reg_df = df[[\"rev\", \"vol\"]]\n",
    "reg_df\n",
    "# reg = smf.ols('rev ~ 1 + vol', data=reg_df).fit()\n",
    "# #reg.summary()\n",
    "# Regtable(reg,sig='coeff').render()"
   ]
  },
  {
   "cell_type": "code",
   "execution_count": null,
   "metadata": {},
   "outputs": [],
   "source": [
    "def OLS(X, y):\n",
    "\n",
    "    X = np.hstack([np.ones((X.shape[0], 1)), X])\n",
    "    n, m = X.shape\n",
    "    beta = np.linalg.pinv(X.T @ X) @ (X.T @ y)\n",
    "    print(X)\n",
    "\n",
    "    # tstats from chat\n",
    "    # Calculate residuals\n",
    "    y_pred = X @ beta\n",
    "    residuals = y - y_pred\n",
    "    # Residual variance (sigma^2)\n",
    "    residual_var = (residuals.T @ residuals) / (n - m)\n",
    "    # Variance-covariance matrix of the coefficients: Var(beta) = sigma^2 * (X^T X)^(-1)\n",
    "    cov_matrix = residual_var * np.linalg.inv(X.T @ X)\n",
    "    # Standard errors of the coefficients (sqrt of diagonal elements of cov_matrix)\n",
    "    stderr = np.sqrt(np.diag(cov_matrix))\n",
    "    # T-statistics: t = beta / stderr\n",
    "    tstats = beta / stderr\n",
    "    return beta, tstats, stderr\n",
    "\n",
    "\n",
    "X = np.array(df[\"vol\"]).reshape(-1, 1)\n",
    "y = np.array(df[\"rev\"])\n",
    "coef, t_stats, se = OLS(X, y)\n",
    "\n",
    "print(\"Coefficients:\", coef)\n",
    "print(\"Standard Errors:\", se)\n",
    "print(\"T-Statistics:\", t_stats)"
   ]
  },
  {
   "cell_type": "code",
   "execution_count": null,
   "metadata": {},
   "outputs": [],
   "source": [
    "df.groupby([\"DataDate\", \"bins\"])[\"logret\"].count()"
   ]
  },
  {
   "cell_type": "code",
   "execution_count": null,
   "metadata": {},
   "outputs": [],
   "source": [
    "ew = df.groupby([\"DataDate\", \"bins\"])[\"logret\"].mean().unstack(level=\"bins\") * 100\n",
    "\n",
    "ew[\"spread\"] = ew[0] - ew[9]\n",
    "ew"
   ]
  },
  {
   "cell_type": "code",
   "execution_count": null,
   "metadata": {},
   "outputs": [],
   "source": [
    "ew.cumsum().plot(figsize=(8, 5))\n",
    "plt.title(\"Equal Weight Full Sample PnL\")\n",
    "plt.ylabel(\"Cumulative Log Returns\")\n",
    "plt.xlabel(\"Date\")\n",
    "plt.show()"
   ]
  },
  {
   "cell_type": "code",
   "execution_count": null,
   "metadata": {},
   "outputs": [],
   "source": [
    "mcapsum = df.groupby([\"DataDate\", \"bins\"])[\"melag\"].sum()\n",
    "df[\"rme\"] = df[\"logret\"] * df[\"melag\"]\n",
    "vw = df.groupby([\"DataDate\", \"bins\"])[\"rme\"].sum() / mcapsum\n",
    "vw = vw.unstack(level=\"bins\") * 100\n",
    "vw[\"spread\"] = vw[0] - vw[9]\n",
    "vw"
   ]
  },
  {
   "cell_type": "code",
   "execution_count": null,
   "metadata": {},
   "outputs": [],
   "source": [
    "vw.cumsum().plot(figsize=(8, 5))\n",
    "plt.title(\"Value Weight Full Sample PnL\")\n",
    "plt.ylabel(\"Cumulative Log Returns\")\n",
    "plt.xlabel(\"Date\")\n",
    "plt.show()"
   ]
  },
  {
   "cell_type": "code",
   "execution_count": null,
   "metadata": {},
   "outputs": [],
   "source": [
    "# df['logret'] = np.log1p(df['ret_barra'])\n",
    "# df['rev'] = df.groupby('barraid')['logret'].rolling(22,22).sum().reset_index(drop=True)\n",
    "# df['rev'] = df.groupby('barraid')['rev'].shift(2)\n",
    "# df.head(15)"
   ]
  },
  {
   "attachments": {},
   "cell_type": "markdown",
   "metadata": {},
   "source": [
    "## Seth's Method"
   ]
  },
  {
   "cell_type": "code",
   "execution_count": null,
   "metadata": {},
   "outputs": [],
   "source": [
    "df = df2.copy()"
   ]
  },
  {
   "cell_type": "code",
   "execution_count": null,
   "metadata": {},
   "outputs": [],
   "source": [
    "df"
   ]
  },
  {
   "cell_type": "code",
   "execution_count": null,
   "metadata": {},
   "outputs": [],
   "source": [
    "# df = pl.read_parquet(\"/home/bwaits/fsl_groups/grp_quant/data/daily_merged/mm_2024.parquet\")\n",
    "# df = df.to_pandas()\n",
    "# #df.index = df['DataDate']\n",
    "# #df = df[['DataData', 'barrid', 'ret_barra']]\n",
    "# df"
   ]
  },
  {
   "cell_type": "code",
   "execution_count": null,
   "metadata": {},
   "outputs": [],
   "source": [
    "# df = pd.concat(dfs)\n",
    "df[\"DataDate\"] = pd.to_datetime(df[\"DataDate\"], format=\"%Y%m%d\")\n",
    "# df.index = pd.to_datetime(df.index, format='%Y%m%d')\n",
    "df[\"lag_ret\"] = np.log1p(df.groupby(\"barrid\")[\"ret_barra\"].shift(1))\n",
    "mean = df.groupby(\"DataDate\")[\"lag_ret\"].mean()\n",
    "std = df.groupby(\"DataDate\")[\"lag_ret\"].std()\n",
    "\n",
    "df[\"sig_mean\"] = df[\"DataDate\"].map(mean)\n",
    "df[\"sig_std\"] = df[\"DataDate\"].map(std)\n",
    "# df['sig_mean'] = df.index.map(mean)\n",
    "# df['sig_std'] = df.index.map(std)\n",
    "\n",
    "# Mean reversion signal\n",
    "df[\"signal\"] = -1 * (df[\"lag_ret\"] - df[\"sig_mean\"]) / df[\"sig_std\"]\n",
    "df[\"signal\"] = df[\"signal\"]\n",
    "# Roughly mean zero and std one.. good!\n",
    "# df = df[['DataDate', 'barrid', 'lag_ret', 'signal', 'vol_crsp']]\n",
    "df = df[\n",
    "    [\"DataDate\", \"barrid\", \"lag_ret\", \"vol_crsp\", \"signal\", \"price_barra\", \"mktcap_barra\"]\n",
    "]  #'lag_ret', 'signal'\n",
    "df"
   ]
  },
  {
   "cell_type": "code",
   "execution_count": null,
   "metadata": {},
   "outputs": [],
   "source": [
    "# df['rev'] = df.groupby('barrid')['logret'].rolling(22,22).sum().reset_index(drop=True)\n",
    "# df['rev'] = df.groupby('barrid')['rev'].shift(2)\n",
    "\n",
    "df[\"prclag\"] = df.groupby(\"barrid\")[\"price_barra\"].shift()\n",
    "df[\"melag\"] = df.groupby(\"barrid\")[\"mktcap_barra\"].shift()\n",
    "df = df.query(\"signal == signal and prclag >= 5\").reset_index(drop=True)\n",
    "df[\"bins\"] = df.groupby(\"DataDate\")[\"signal\"].transform(pd.qcut, 10, labels=False)\n",
    "df"
   ]
  },
  {
   "cell_type": "code",
   "execution_count": null,
   "metadata": {},
   "outputs": [],
   "source": [
    "ew = df.groupby([\"DataDate\", \"bins\"])[\"lag_ret\"].mean().unstack(level=\"bins\") * 100\n",
    "\n",
    "ew[\"spread\"] = ew[0] - ew[9]\n",
    "ew"
   ]
  },
  {
   "cell_type": "code",
   "execution_count": null,
   "metadata": {},
   "outputs": [],
   "source": [
    "ew.cumsum().plot(figsize=(8, 5))\n",
    "plt.title(\"Equal Weight Full Sample PnL\")\n",
    "plt.ylabel(\"Cumulative Log Returns\")\n",
    "plt.xlabel(\"Date\")\n",
    "plt.show()"
   ]
  },
  {
   "cell_type": "code",
   "execution_count": null,
   "metadata": {},
   "outputs": [],
   "source": [
    "mcapsum = df.groupby([\"DataDate\", \"bins\"])[\"melag\"].sum()\n",
    "df[\"rme\"] = df[\"lag_ret\"] * df[\"melag\"]\n",
    "vw = df.groupby([\"DataDate\", \"bins\"])[\"rme\"].sum() / mcapsum\n",
    "vw = vw.unstack(level=\"bins\") * 100\n",
    "vw[\"spread\"] = vw[0] - vw[9]\n",
    "vw"
   ]
  },
  {
   "cell_type": "code",
   "execution_count": null,
   "metadata": {},
   "outputs": [],
   "source": [
    "vw.cumsum().plot(figsize=(8, 5))\n",
    "plt.title(\"Value Weight Full Sample PnL\")\n",
    "plt.ylabel(\"Cumulative Log Returns\")\n",
    "plt.xlabel(\"Date\")\n",
    "plt.show()"
   ]
  },
  {
   "cell_type": "code",
   "execution_count": null,
   "metadata": {},
   "outputs": [],
   "source": [
    "# Roughly mean zero and std one.. good!\n",
    "# df = df[['DataDate', 'barrid', 'lag_ret', 'signal', 'vol_crsp']]\n",
    "\n",
    "# %%\n",
    "# alpha = df.pivot(index='DataDate', columns='barrid', values='signal')\n",
    "# # alpha = df.pivot(index=df.index, columns='!Barrid', values='signal')\n",
    "# alpha.to_parquet('/home/bwaits/Research/sf-trading-system/reversal_research/alphas.parquet')\n",
    "# alpha"
   ]
  },
  {
   "cell_type": "code",
   "execution_count": null,
   "metadata": {},
   "outputs": [],
   "source": [
    "# import pandas as pd\n",
    "# from silverfund.backtester import MVBacktester\n",
    "# from silverfund.components.optimizers.constraints import *"
   ]
  },
  {
   "cell_type": "code",
   "execution_count": null,
   "metadata": {},
   "outputs": [],
   "source": [
    "# # %%\n",
    "# alphas_df = pd.read_parquet('/home/bwaits/Research/sf-trading-system/reversal_research/alphas.parquet')\n",
    "# # %%\n",
    "# mv_backtester = MVBacktester(\n",
    "#     alpha = alphas_df.copy(),\n",
    "#     constraints = [FullInvestmentConstraint()]\n",
    "# )\n",
    "# # %%\n",
    "# port = mv_backtester.get_optimal_portfolio_history(n_cpus=16)\n",
    "# # %%\n",
    "# port.to_parquet('/home/bwaits/Research/sf-trading-system/reversal_research/portfolios.parquet')"
   ]
  },
  {
   "cell_type": "code",
   "execution_count": null,
   "metadata": {},
   "outputs": [],
   "source": [
    "df"
   ]
  },
  {
   "cell_type": "code",
   "execution_count": null,
   "metadata": {},
   "outputs": [],
   "source": []
  }
 ],
 "metadata": {
  "kernelspec": {
   "display_name": ".venv",
   "language": "python",
   "name": "python3"
  },
  "language_info": {
   "codemirror_mode": {
    "name": "ipython",
    "version": 3
   },
   "file_extension": ".py",
   "mimetype": "text/x-python",
   "name": "python",
   "nbconvert_exporter": "python",
   "pygments_lexer": "ipython3",
   "version": "3.11.9 (main, Apr 19 2024, 16:48:06) [GCC 11.2.0]"
  },
  "orig_nbformat": 4,
  "vscode": {
   "interpreter": {
    "hash": "90edb8e75da9520b78f7e27d9e44eb7f69af0d1250baa91130b689749dd7ca41"
   }
  }
 },
 "nbformat": 4,
 "nbformat_minor": 2
}
