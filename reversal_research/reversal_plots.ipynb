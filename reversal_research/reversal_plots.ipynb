{
 "cells": [
  {
   "cell_type": "code",
   "execution_count": null,
   "metadata": {},
   "outputs": [],
   "source": [
    "import matplotlib.pyplot as plt\n",
    "import numpy as np\n",
    "import polars as pl\n",
    "import seaborn as sns"
   ]
  },
  {
   "cell_type": "code",
   "execution_count": null,
   "metadata": {},
   "outputs": [],
   "source": [
    "# pnl = pl.read_parquet(\"monthly_optimized_reversal_bt_7yr_redo.parquet\")\n",
    "pnl = pl.read_parquet(\"test_optimizer_neg1.parquet\")\n",
    "# pnl = pl.read_parquet(\"test_optimizer_rev_score_fake.parquet\")"
   ]
  },
  {
   "cell_type": "code",
   "execution_count": null,
   "metadata": {},
   "outputs": [],
   "source": [
    "# Calculate sharpe ratio\n",
    "portfolio_er = pnl.select(\"portfolio_ret\").mean()\n",
    "portfolio_vol = pnl.select(\"portfolio_ret\").std()\n",
    "\n",
    "annual_factor = 12 / np.sqrt(12)\n",
    "\n",
    "sharpe = (portfolio_er / portfolio_vol) * annual_factor\n",
    "\n",
    "print(f\"Annualized Sharpe:\", round(sharpe.item(), 4))"
   ]
  },
  {
   "cell_type": "code",
   "execution_count": null,
   "metadata": {},
   "outputs": [],
   "source": [
    "# Cummulative Product Chart\n",
    "plt.figure(figsize=(10, 6))\n",
    "sns.lineplot(pnl, x=\"date\", y=\"cumprod\")\n",
    "plt.title(\"Optimized Reversal Strategy Backtest (Monthly)\")\n",
    "plt.xlabel(None)\n",
    "plt.ylabel(\"Cummulative Product Returns (%)\")\n",
    "\n",
    "# Save and clear\n",
    "# plt.savefig(f\"monthly_optimized_reversal_product_bt_7yr_redo.png\")\n",
    "# plt.savefig(f\"test_rev_product_score_fake.png\")\n",
    "plt.savefig(f\"test_product_neg1.png\")\n",
    "plt.clf()"
   ]
  },
  {
   "cell_type": "code",
   "execution_count": null,
   "metadata": {},
   "outputs": [],
   "source": [
    "# Cummulative Sum Chart\n",
    "plt.figure(figsize=(10, 6))\n",
    "sns.lineplot(pnl, x=\"date\", y=\"cumsum\")\n",
    "plt.title(\"Optimized Reversal Strategy Backtest (Monthly)\")\n",
    "plt.xlabel(None)\n",
    "plt.ylabel(\"Cummulative Sum Returns (%)\")\n",
    "\n",
    "# Save and clear\n",
    "# plt.savefig(f\"monthly_optimized_reversal_sum_bt_7yr_redo.png\")\n",
    "# plt.savefig(f\"test_rev_sum_score_fake.png\")\n",
    "plt.savefig(f\"test_sum_neg1.png\")\n",
    "plt.clf()"
   ]
  },
  {
   "cell_type": "code",
   "execution_count": null,
   "metadata": {},
   "outputs": [],
   "source": []
  },
  {
   "cell_type": "code",
   "execution_count": null,
   "metadata": {},
   "outputs": [],
   "source": []
  }
 ],
 "metadata": {
  "kernelspec": {
   "display_name": ".venv",
   "language": "python",
   "name": "python3"
  },
  "language_info": {
   "codemirror_mode": {
    "name": "ipython",
    "version": 3
   },
   "file_extension": ".py",
   "mimetype": "text/x-python",
   "name": "python",
   "nbconvert_exporter": "python",
   "pygments_lexer": "ipython3",
   "version": "3.11.9 (main, Apr 19 2024, 16:48:06) [GCC 11.2.0]"
  },
  "orig_nbformat": 4,
  "vscode": {
   "interpreter": {
    "hash": "90edb8e75da9520b78f7e27d9e44eb7f69af0d1250baa91130b689749dd7ca41"
   }
  }
 },
 "nbformat": 4,
 "nbformat_minor": 2
}
