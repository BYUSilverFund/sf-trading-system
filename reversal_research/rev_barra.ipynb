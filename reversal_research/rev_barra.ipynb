{
 "cells": [
  {
   "cell_type": "code",
   "execution_count": null,
   "metadata": {},
   "outputs": [],
   "source": [
    "import sys\n",
    "from dotenv import load_dotenv\n",
    "import os\n",
    "\n",
    "load_dotenv()\n",
    "\n",
    "sys.path.append(os.getenv(\"ROOT\"))"
   ]
  },
  {
   "cell_type": "code",
   "execution_count": null,
   "metadata": {},
   "outputs": [],
   "source": [
    "import polars as pl\n",
    "import pandas as pd\n",
    "from scipy.stats import skew, kurtosis\n",
    "import statsmodels.api as sm\n",
    "import numpy as np\n",
    "from datetime import date\n",
    "from silverfund.datasets.crsp_daily import CRSPDaily\n",
    "from silverfund.datasets.barra_specific_returns import BarraSpecificReturns\n",
    "from silverfund.datasets.crsp_monthly import CRSPMonthly\n",
    "from silverfund.datasets.master_monthly import MasterMonthly\n",
    "import seaborn as sns\n",
    "import matplotlib.pyplot as plt"
   ]
  },
  {
   "cell_type": "code",
   "execution_count": null,
   "metadata": {},
   "outputs": [],
   "source": [
    "# start = date(1995, 7, 31)\n",
    "start = date(2006, 1, 1)\n",
    "end = date(2024, 12, 31)"
   ]
  },
  {
   "attachments": {},
   "cell_type": "markdown",
   "metadata": {},
   "source": [
    "## Testing economic theory behind reversal.\n",
    " - Use monthly trading volume as proxy for news events to inform reversal strength.\n"
   ]
  },
  {
   "cell_type": "code",
   "execution_count": null,
   "metadata": {},
   "outputs": [],
   "source": [
    "crsp_monthly = (\n",
    "    CRSPMonthly(start_date=start, end_date=end)\n",
    "    .load_all()\n",
    "    .select([\"permno\", \"date\", \"prc\", \"ret\", \"vol\"])\n",
    ")\n",
    "\n",
    "crsp_monthly"
   ]
  },
  {
   "cell_type": "code",
   "execution_count": null,
   "metadata": {},
   "outputs": [],
   "source": [
    "crsp_monthly = crsp_monthly.with_columns(pl.col(\"ret\").shift(1).over(\"permno\").alias(\"rev\"))\n",
    "crsp_monthly = crsp_monthly.with_columns(\n",
    "    pl.col(\"vol\").pct_change(1).over(\"permno\").alias(\"vol_diff\")\n",
    ")\n",
    "\n",
    "crsp_monthly = crsp_monthly.drop_nulls()\n",
    "# crsp_monthly = crsp_monthly.with_columns(\n",
    "#     ((pl.col(\"rev\") - pl.col(\"rev\").mean()) / pl.col(\"rev\").std()).over(\"date\").alias(\"rev_score\")\n",
    "# )\n",
    "\n",
    "crsp_monthly = crsp_monthly.with_columns(\n",
    "    ((pl.col(\"rev\").mean() - pl.col(\"rev\")) / pl.col(\"rev\").std()).over(\"date\").alias(\"rev_score\")\n",
    ")\n",
    "\n",
    "\n",
    "df = crsp_monthly.to_pandas()\n",
    "df"
   ]
  },
  {
   "cell_type": "code",
   "execution_count": null,
   "metadata": {},
   "outputs": [],
   "source": [
    "def calc_beta_and_tstat(x):\n",
    "    beta = np.cov(x[\"vol_diff\"], x[\"rev_score\"])[0, 1] / np.var(x[\"vol_diff\"])\n",
    "\n",
    "    # Compute standard error of beta and t-stat, from perplexity\n",
    "    se_beta = np.sqrt(np.var(x[\"rev_score\"]) / (len(x) - 1)) / np.sqrt(np.var(x[\"vol_diff\"]))\n",
    "    t_stat = beta / se_beta\n",
    "    return pd.Series({\"beta\": beta, \"t_stat\": t_stat})\n",
    "\n",
    "\n",
    "beta = df.groupby([\"date\"]).apply(calc_beta_and_tstat).reset_index()\n",
    "beta.index = beta[\"date\"]\n",
    "beta = beta[[\"beta\", \"t_stat\"]]\n",
    "beta"
   ]
  },
  {
   "cell_type": "code",
   "execution_count": null,
   "metadata": {},
   "outputs": [],
   "source": [
    "plt.hist(beta[\"beta\"], bins=30)\n",
    "plt.title(\"Regression Coefficient Histogram (vol on reversal)\")\n",
    "# sns.kdeplot(beta['beta'], bw_adjust=1.5)\n",
    "plt.show()"
   ]
  },
  {
   "cell_type": "code",
   "execution_count": null,
   "metadata": {},
   "outputs": [],
   "source": [
    "plt.hist(beta[\"t_stat\"], bins=30)\n",
    "plt.title(\"Regression Coefficient T-stat Histogram (vol on reversal)\")\n",
    "# sns.kdeplot(beta['t_stat'], bw_adjust=10)\n",
    "plt.show()"
   ]
  },
  {
   "attachments": {},
   "cell_type": "markdown",
   "metadata": {},
   "source": [
    "## Testing Barra residual short term mean reversal.\n",
    " - \n"
   ]
  },
  {
   "cell_type": "code",
   "execution_count": null,
   "metadata": {},
   "outputs": [],
   "source": [
    "crsp_monthly = (\n",
    "    CRSPMonthly(start_date=start, end_date=end)\n",
    "    .load_all()\n",
    "    .select([\"permco\", \"date\", \"prc\", \"ret\", \"vol\"])\n",
    ")\n",
    "\n",
    "# reversal signals\n",
    "crsp_monthly = crsp_monthly.with_columns(pl.col(\"ret\").shift(1).over(\"permco\").alias(\"rev\"))\n",
    "crsp_monthly = crsp_monthly.with_columns(pl.col(\"prc\").shift(1).over(\"permco\").alias(\"prclag\"))\n",
    "crsp_monthly = crsp_monthly.filter(pl.col(\"prclag\") > 10)\n",
    "crsp_monthly = crsp_monthly.drop_nulls(subset=[\"rev\"])\n",
    "crsp_monthly"
   ]
  },
  {
   "cell_type": "code",
   "execution_count": null,
   "metadata": {},
   "outputs": [],
   "source": [
    "crsp_daily = (\n",
    "    CRSPDaily(start_date=start, end_date=end)\n",
    "    .load_all()\n",
    "    .select([\"permco\", \"date\", \"prc\", \"ret\", \"vol\"])\n",
    ")\n",
    "\n",
    "crsp_daily = crsp_daily.to_pandas()\n",
    "crsp_daily[\"mdt\"] = crsp_daily[\"date\"].values.astype(\"datetime64[M]\")\n",
    "crsp_daily[\"rolling_kurtosis\"] = (\n",
    "    crsp_daily.groupby(\"permco\")[\"ret\"]\n",
    "    .rolling(window=22, min_periods=4)\n",
    "    .kurt()\n",
    "    .reset_index(level=\"permco\", drop=True)\n",
    ")\n",
    "# check what type of kurt\n",
    "\n",
    "\n",
    "def score_kurtosis(group):\n",
    "    mean = group[\"rolling_kurtosis\"].mean()\n",
    "    std = group[\"rolling_kurtosis\"].std()\n",
    "    group[\"kurtosis_score\"] = (group[\"rolling_kurtosis\"] - mean) / std\n",
    "    return group\n",
    "\n",
    "\n",
    "crsp_daily = (\n",
    "    crsp_daily.groupby(\"permco\").apply(score_kurtosis).reset_index(level=\"permco\", drop=True)\n",
    ")\n",
    "crsp_daily = crsp_daily.reset_index(drop=True)\n",
    "crsp_daily = crsp_daily.groupby([\"mdt\", \"permco\"])[\"kurtosis_score\"].max().reset_index()\n",
    "crsp_daily = crsp_daily.reset_index(drop=True)\n",
    "crsp_daily"
   ]
  },
  {
   "cell_type": "code",
   "execution_count": null,
   "metadata": {},
   "outputs": [],
   "source": [
    "# crsp_daily = crsp_daily.to_pa\n",
    "crsp_monthly = crsp_monthly.to_pandas()\n",
    "\n",
    "crsp_monthly[\"month_year\"] = crsp_monthly[\"date\"].dt.strftime(\"%Y-%m\")\n",
    "crsp_daily[\"month_year\"] = crsp_daily[\"mdt\"].dt.strftime(\"%Y-%m\")\n",
    "\n",
    "\n",
    "# df = pd.merge(crsp_monthly, crsp_daily, on='month_year').drop(columns='month_year')\n",
    "# df\n",
    "crsp_monthly"
   ]
  },
  {
   "cell_type": "code",
   "execution_count": null,
   "metadata": {},
   "outputs": [],
   "source": [
    "crsp_daily"
   ]
  },
  {
   "cell_type": "code",
   "execution_count": null,
   "metadata": {},
   "outputs": [],
   "source": [
    "df = pd.merge(crsp_monthly, crsp_daily, on=[\"month_year\", \"permco\"])\n",
    "df"
   ]
  },
  {
   "cell_type": "code",
   "execution_count": null,
   "metadata": {},
   "outputs": [],
   "source": [
    "df[\"kurt_lag\"] = df.groupby(\"permco\")[\"kurtosis_score\"].shift(periods=1)\n",
    "df.dropna(inplace=True)\n",
    "df[\"rev_kurt\"] = df[\"rev\"] * df[\"kurt_lag\"]\n",
    "X = pd.concat([df[\"rev\"], df[\"rev_kurt\"]], axis=1)\n",
    "X = sm.add_constant(X)\n",
    "model = sm.OLS(df[\"ret\"], X).fit()\n",
    "print(model.summary())"
   ]
  },
  {
   "cell_type": "code",
   "execution_count": null,
   "metadata": {},
   "outputs": [],
   "source": [
    "# previous work trying to filter\n",
    "# crsp_monthly = crsp_monthly.with_columns(\n",
    "#     pl.col(\"vol\")\n",
    "#     .rolling_mean(window_size=12)\n",
    "#     .over(\"permco\")\n",
    "#     .alias(\"rolling_mean\")\n",
    "# )\n",
    "\n",
    "# crsp_monthly = crsp_monthly.with_columns(\n",
    "#     pl.col(\"vol\")\n",
    "#     .rolling_std(window_size=12)\n",
    "#     .over(\"permco\")\n",
    "#     .alias(\"rolling_std\")\n",
    "# )\n",
    "\n",
    "# crsp_monthly = crsp_monthly.with_columns((pl.col(\"rolling_mean\") / pl.col(\"rolling_std\")).over(\"permco\").alias(\"vol_score\"))\n",
    "# crsp_monthly = crsp_monthly.drop_nulls(subset=[\"rolling_mean\"])\n",
    "# crsp_monthly = crsp_monthly.filter(pl.col(\"vol_score\") <= 2)"
   ]
  },
  {
   "cell_type": "code",
   "execution_count": null,
   "metadata": {},
   "outputs": [],
   "source": [
    "df = pl.DataFrame(df)\n",
    "df"
   ]
  },
  {
   "cell_type": "code",
   "execution_count": null,
   "metadata": {},
   "outputs": [],
   "source": [
    "df2 = df.clone()\n",
    "df2 = df2.filter(pl.col(\"kurtosis_score\") <= 2.5)"
   ]
  },
  {
   "cell_type": "code",
   "execution_count": null,
   "metadata": {},
   "outputs": [],
   "source": [
    "labels = [str(x) for x in range(10)]\n",
    "\n",
    "\n",
    "# crsp_monthly = crsp_monthly.with_columns(pl.col(\"rev\").qcut(10, labels=labels, allow_duplicates=True).over(\"date\").alias(\"bin\"))\n",
    "df = df.with_columns(\n",
    "    pl.col(\"rev\").qcut(10, labels=labels, allow_duplicates=True).over(\"date\").alias(\"bin\")\n",
    ")\n",
    "\n",
    "port = df.group_by([\"date\", \"bin\"]).agg(pl.col(\"ret\").mean())\n",
    "# port = crsp_monthly.group_by([\"date\", \"bin\"]).agg(pl.col(\"ret\").mean())\n",
    "\n",
    "port = port.pivot(on=\"bin\", index=\"date\", values=\"ret\")\n",
    "port = port.select([\"date\"] + labels)\n",
    "port = port.sort(by=\"date\")\n",
    "port = port.with_columns((pl.col(\"0\") - pl.col(\"9\")).alias(\"spread\"))\n",
    "port = port.unpivot(index=\"date\", variable_name=\"bin\", value_name=\"ret\")\n",
    "port = port.sort(by=[\"date\", \"bin\"])\n",
    "port\n",
    "result = port.group_by(\"bin\").agg(\n",
    "    [\n",
    "        pl.col(\"ret\").mean().cast(pl.Float64).alias(\"mean\"),\n",
    "        pl.col(\"ret\").std().cast(pl.Float64).alias(\"std\"),\n",
    "        pl.col(\"ret\").count().cast(pl.Float64).alias(\"count\"),\n",
    "    ]\n",
    ")\n",
    "\n",
    "\n",
    "result = result.with_columns(\n",
    "    ((pl.col(\"mean\") * 12) / (pl.col(\"std\") * np.sqrt(12)))\n",
    "    .cast(pl.Float64)\n",
    "    .alias(\"annualized_sharpe\")\n",
    ")\n",
    "\n",
    "\n",
    "result = result.with_columns(\n",
    "    (pl.col(\"mean\") / (pl.col(\"std\") / pl.col(\"count\").sqrt())).cast(pl.Float64).alias(\"tstat\")\n",
    ")\n",
    "\n",
    "\n",
    "result = result.sort(by=\"bin\")\n",
    "\n",
    "result = result.transpose(include_header=True, column_names=\"bin\", header_name=\"statistic\")\n",
    "\n",
    "print(\"Monthly results\")\n",
    "result"
   ]
  },
  {
   "cell_type": "code",
   "execution_count": null,
   "metadata": {},
   "outputs": [],
   "source": [
    "port = port.with_columns(pl.col(\"ret\").log1p().over(\"bin\").alias(\"logret\"))\n",
    "port = port.with_columns(pl.col(\"logret\").cum_sum().over(\"bin\").alias(\"cumret\") * 100)\n",
    "\n",
    "plt.figure(figsize=(10, 6))\n",
    "sns.lineplot(\n",
    "    port.filter(pl.col(\"bin\").is_in([\"0\", \"9\", \"spread\"])), x=\"date\", y=\"cumret\", hue=\"bin\"\n",
    ")\n",
    "\n",
    "plt.ylabel(\"Cummulative Sum Return (%)\")\n",
    "plt.show()"
   ]
  },
  {
   "cell_type": "code",
   "execution_count": null,
   "metadata": {},
   "outputs": [],
   "source": [
    "labels = [str(x) for x in range(10)]\n",
    "\n",
    "\n",
    "# crsp_monthly = crsp_monthly.with_columns(pl.col(\"rev\").qcut(10, labels=labels, allow_duplicates=True).over(\"date\").alias(\"bin\"))\n",
    "df2 = df2.with_columns(\n",
    "    pl.col(\"rev\").qcut(10, labels=labels, allow_duplicates=True).over(\"date\").alias(\"bin\")\n",
    ")\n",
    "\n",
    "port = df2.group_by([\"date\", \"bin\"]).agg(pl.col(\"ret\").mean())\n",
    "# port = crsp_monthly.group_by([\"date\", \"bin\"]).agg(pl.col(\"ret\").mean())\n",
    "\n",
    "port = port.pivot(on=\"bin\", index=\"date\", values=\"ret\")\n",
    "port = port.select([\"date\"] + labels)\n",
    "port = port.sort(by=\"date\")\n",
    "port = port.with_columns((pl.col(\"0\") - pl.col(\"9\")).alias(\"spread\"))\n",
    "port = port.unpivot(index=\"date\", variable_name=\"bin\", value_name=\"ret\")\n",
    "port = port.sort(by=[\"date\", \"bin\"])\n",
    "port\n",
    "result = port.group_by(\"bin\").agg(\n",
    "    [\n",
    "        pl.col(\"ret\").mean().cast(pl.Float64).alias(\"mean\"),\n",
    "        pl.col(\"ret\").std().cast(pl.Float64).alias(\"std\"),\n",
    "        pl.col(\"ret\").count().cast(pl.Float64).alias(\"count\"),\n",
    "    ]\n",
    ")\n",
    "\n",
    "\n",
    "result = result.with_columns(\n",
    "    ((pl.col(\"mean\") * 12) / (pl.col(\"std\") * np.sqrt(12)))\n",
    "    .cast(pl.Float64)\n",
    "    .alias(\"annualized_sharpe\")\n",
    ")\n",
    "\n",
    "\n",
    "result = result.with_columns(\n",
    "    (pl.col(\"mean\") / (pl.col(\"std\") / pl.col(\"count\").sqrt())).cast(pl.Float64).alias(\"tstat\")\n",
    ")\n",
    "\n",
    "\n",
    "result = result.sort(by=\"bin\")\n",
    "\n",
    "result = result.transpose(include_header=True, column_names=\"bin\", header_name=\"statistic\")\n",
    "\n",
    "print(\"Monthly results\")\n",
    "result"
   ]
  },
  {
   "cell_type": "code",
   "execution_count": null,
   "metadata": {},
   "outputs": [],
   "source": [
    "port = port.with_columns(pl.col(\"ret\").log1p().over(\"bin\").alias(\"logret\"))\n",
    "port = port.with_columns(pl.col(\"logret\").cum_sum().over(\"bin\").alias(\"cumret\") * 100)\n",
    "\n",
    "plt.figure(figsize=(10, 6))\n",
    "sns.lineplot(\n",
    "    port.filter(pl.col(\"bin\").is_in([\"0\", \"9\", \"spread\"])), x=\"date\", y=\"cumret\", hue=\"bin\"\n",
    ")\n",
    "\n",
    "plt.ylabel(\"Cummulative Sum Return (%)\")\n",
    "plt.show()"
   ]
  },
  {
   "cell_type": "code",
   "execution_count": null,
   "metadata": {},
   "outputs": [],
   "source": [
    "# master = MasterMonthly(start_date=start, end_date=end, quiet=False).load_all().to_pandas()\n",
    "master = MasterMonthly(start_date=start, end_date=end, quiet=False).load_all()\n",
    "master"
   ]
  },
  {
   "cell_type": "code",
   "execution_count": null,
   "metadata": {},
   "outputs": [],
   "source": [
    "df = master.clone()\n",
    "df"
   ]
  },
  {
   "cell_type": "code",
   "execution_count": null,
   "metadata": {},
   "outputs": [],
   "source": [
    "df = master.clone()\n",
    "# reversal signals\n",
    "df = df.with_columns(pl.col(\"log_spec_ret\").shift(1).over(\"barrid\").alias(\"barra_rev\"))\n",
    "df = df.with_columns(pl.col(\"ret\").shift(1).over(\"barrid\").alias(\"rev\"))\n",
    "df = df.with_columns(pl.col(\"price\").shift(1).over(\"barrid\").alias(\"prclag\"))\n",
    "df = df.filter(pl.col(\"prclag\") > 5)\n",
    "df = df.drop_nulls(subset=[\"rev\"])\n",
    "df = df.drop_nulls(subset=[\"barra_rev\"])\n",
    "\n",
    "\n",
    "df = df.with_columns(\n",
    "    pl.col(\"log_spec_ret\").rolling_skew(window_size=6).over(\"barrid\").alias(\"rolling_skew\")\n",
    ")\n",
    "\n",
    "# pandas_df = df.to_pandas()\n",
    "# pandas_df['rolling_kurtosis'] = pandas_df.groupby('barrid')['log_spec_ret'].rolling(\n",
    "#     window=12, min_periods=4).kurt()\n",
    "# df = pl.from_pandas(pandas_df)\n",
    "\n",
    "\n",
    "df = df.with_columns(pl.col(\"rolling_skew\").quantile(0.90).over([\"barrid\"]).alias(\"skew_90\"))\n",
    "\n",
    "df = df.drop_nulls(subset=[\"rolling_skew\"])\n",
    "df = df.drop_nulls(subset=[\"skew_90\"])\n",
    "\n",
    "# df = df.filter(pl.col(\"rolling_skew\") <= pl.col(\"skew_90\"))\n",
    "\n",
    "df = df.filter(np.abs(pl.col(\"rolling_skew\")) < 1)\n",
    "print(len(df))\n",
    "df"
   ]
  },
  {
   "cell_type": "code",
   "execution_count": null,
   "metadata": {},
   "outputs": [],
   "source": []
  },
  {
   "cell_type": "code",
   "execution_count": null,
   "metadata": {},
   "outputs": [],
   "source": [
    "labels = [str(x) for x in range(10)]\n",
    "\n",
    "df = df.with_columns(pl.col(\"rev\").qcut(10, labels=labels).over(\"date\").alias(\"bin\"))\n",
    "df = df.with_columns(pl.col(\"barra_rev\").qcut(10, labels=labels).over(\"date\").alias(\"barra_bin\"))\n",
    "\n",
    "df"
   ]
  },
  {
   "cell_type": "code",
   "execution_count": null,
   "metadata": {},
   "outputs": [],
   "source": [
    "port = df.group_by([\"date\", \"bin\"]).agg(pl.col(\"ret\").mean())\n",
    "barra_port = df.group_by([\"date\", \"barra_bin\"]).agg(pl.col(\"ret\").mean())\n",
    "\n",
    "\n",
    "port = port.pivot(on=\"bin\", index=\"date\", values=\"ret\")\n",
    "barra_port = barra_port.pivot(on=\"barra_bin\", index=\"date\", values=\"ret\")\n",
    "\n",
    "\n",
    "port = port.select([\"date\"] + labels)\n",
    "barra_port = barra_port.select([\"date\"] + labels)\n",
    "\n",
    "\n",
    "port = port.sort(by=\"date\")\n",
    "barra_port = barra_port.sort(by=\"date\")\n",
    "\n",
    "# port\n",
    "barra_port"
   ]
  },
  {
   "cell_type": "code",
   "execution_count": null,
   "metadata": {},
   "outputs": [],
   "source": [
    "port = port.with_columns((pl.col(\"0\") - pl.col(\"9\")).alias(\"spread\"))\n",
    "barra_port = barra_port.with_columns((pl.col(\"0\") - pl.col(\"9\")).alias(\"spread\"))\n",
    "\n",
    "# Unpivot dataframe\n",
    "port = port.unpivot(index=\"date\", variable_name=\"bin\", value_name=\"ret\")\n",
    "# barra_port = barra_port.unpivot(index=\"date\", variable_name=\"barra_bin\", value_name=\"log_spec_ret\")\n",
    "barra_port = barra_port.unpivot(index=\"date\", variable_name=\"barra_bin\", value_name=\"ret\")\n",
    "\n",
    "# Sort\n",
    "port = port.sort(by=[\"date\", \"bin\"])\n",
    "barra_port = barra_port.sort(by=[\"date\", \"barra_bin\"])\n",
    "\n",
    "# port\n",
    "barra_port"
   ]
  },
  {
   "cell_type": "code",
   "execution_count": null,
   "metadata": {},
   "outputs": [],
   "source": [
    "# Calculate mean, std, sharpe, and tstat of each portfolio\n",
    "\n",
    "# Mean, std, and count\n",
    "result = port.group_by(\"bin\").agg(\n",
    "    [\n",
    "        pl.col(\"ret\").mean().cast(pl.Float64).alias(\"mean\"),\n",
    "        pl.col(\"ret\").std().cast(pl.Float64).alias(\"std\"),\n",
    "        pl.col(\"ret\").count().cast(pl.Float64).alias(\"count\"),\n",
    "    ]\n",
    ")\n",
    "\n",
    "# Sharpe\n",
    "result = result.with_columns(\n",
    "    ((pl.col(\"mean\") * 12) / (pl.col(\"std\") * np.sqrt(12)))\n",
    "    .cast(pl.Float64)\n",
    "    .alias(\"annualized_sharpe\")\n",
    ")\n",
    "\n",
    "# Tstat\n",
    "result = result.with_columns(\n",
    "    (pl.col(\"mean\") / (pl.col(\"std\") / pl.col(\"count\").sqrt())).cast(pl.Float64).alias(\"tstat\")\n",
    ")\n",
    "\n",
    "# Sort\n",
    "result = result.sort(by=\"bin\")\n",
    "\n",
    "# Transpose\n",
    "result = result.transpose(include_header=True, column_names=\"bin\", header_name=\"statistic\")\n",
    "\n",
    "print(\"Monthly results\")\n",
    "result"
   ]
  },
  {
   "cell_type": "code",
   "execution_count": null,
   "metadata": {},
   "outputs": [],
   "source": [
    "barra_port"
   ]
  },
  {
   "cell_type": "code",
   "execution_count": null,
   "metadata": {},
   "outputs": [],
   "source": [
    "# Calculate mean, std, sharpe, and tstat of each portfolio\n",
    "\n",
    "# Mean, std, and count\n",
    "result = barra_port.group_by(\"barra_bin\").agg(\n",
    "    [\n",
    "        pl.col(\"ret\").mean().cast(pl.Float64).alias(\"mean\"),\n",
    "        pl.col(\"ret\").std().cast(pl.Float64).alias(\"std\"),\n",
    "        pl.col(\"ret\").count().cast(pl.Float64).alias(\"count\"),\n",
    "    ]\n",
    ")\n",
    "\n",
    "# Sharpe\n",
    "result = result.with_columns(\n",
    "    ((pl.col(\"mean\") * 12) / (pl.col(\"std\") * np.sqrt(12)))\n",
    "    .cast(pl.Float64)\n",
    "    .alias(\"annualized_sharpe\")\n",
    ")\n",
    "\n",
    "# Tstat\n",
    "result = result.with_columns(\n",
    "    (pl.col(\"mean\") / (pl.col(\"std\") / pl.col(\"count\").sqrt())).cast(pl.Float64).alias(\"tstat\")\n",
    ")\n",
    "\n",
    "# Sort\n",
    "result = result.sort(by=\"barra_bin\")\n",
    "\n",
    "# Transpose\n",
    "result = result.transpose(include_header=True, column_names=\"barra_bin\", header_name=\"statistic\")\n",
    "\n",
    "print(\"Monthly results\")\n",
    "result"
   ]
  },
  {
   "cell_type": "code",
   "execution_count": null,
   "metadata": {},
   "outputs": [],
   "source": [
    "# Create backtest plot\n",
    "\n",
    "# Log returns\n",
    "port = port.with_columns(pl.col(\"ret\").log1p().over(\"bin\").alias(\"logret\"))\n",
    "barra_port = barra_port.with_columns(pl.col(\"ret\").log1p().over(\"barra_bin\").alias(\"logret\"))\n",
    "\n",
    "# Cummulative sum log returns\n",
    "port = port.with_columns(pl.col(\"logret\").cum_sum().over(\"bin\").alias(\"cumret\") * 100)\n",
    "barra_port = barra_port.with_columns(\n",
    "    pl.col(\"logret\").cum_sum().over(\"barra_bin\").alias(\"cumret\") * 100\n",
    ")\n",
    "\n",
    "port"
   ]
  },
  {
   "cell_type": "code",
   "execution_count": null,
   "metadata": {},
   "outputs": [],
   "source": [
    "plt.figure(figsize=(10, 6))\n",
    "sns.lineplot(\n",
    "    port.filter(pl.col(\"bin\").is_in([\"0\", \"9\", \"spread\"])), x=\"date\", y=\"cumret\", hue=\"bin\"\n",
    ")\n",
    "plt.xlabel(None)\n",
    "plt.ylabel(\"Cummulative Sum Return (%)\")\n",
    "plt.show()"
   ]
  },
  {
   "cell_type": "code",
   "execution_count": null,
   "metadata": {},
   "outputs": [],
   "source": [
    "plt.figure(figsize=(10, 6))\n",
    "sns.lineplot(\n",
    "    barra_port.filter(pl.col(\"barra_bin\").is_in([\"0\", \"1\", \"2\", \"9\", \"spread\"])),\n",
    "    x=\"date\",\n",
    "    y=\"cumret\",\n",
    "    hue=\"barra_bin\",\n",
    ")\n",
    "plt.xlabel(None)\n",
    "plt.ylabel(\"Cummulative Sum Return (%)\")\n",
    "plt.show()"
   ]
  },
  {
   "cell_type": "code",
   "execution_count": null,
   "metadata": {},
   "outputs": [],
   "source": [
    "plt.figure(figsize=(10, 6))\n",
    "sns.lineplot(\n",
    "    barra_port.filter(pl.col(\"barra_bin\").is_in([\"spread\"])),\n",
    "    x=\"date\",\n",
    "    y=\"cumret\",\n",
    "    label=\"Barra Residuals\",\n",
    ")\n",
    "sns.lineplot(\n",
    "    port.filter(pl.col(\"bin\").is_in([\"spread\"])), x=\"date\", y=\"cumret\", label=\"Raw Returns\"\n",
    ")\n",
    "plt.legend()\n",
    "plt.title(\"Decile Spread Portfolio Performance Comparison\")\n",
    "plt.xlabel(None)\n",
    "plt.ylabel(\"Cummulative Sum Return (%)\")\n",
    "plt.show()"
   ]
  },
  {
   "attachments": {},
   "cell_type": "markdown",
   "metadata": {},
   "source": [
    "## THINGS TO DO:\n",
    "- Figure out how to merge data to get volume for intuition test\n",
    "- Test reversal window\n",
    "- value weight? Optimizer? \n",
    "- add features similar to dipesh/miki (rolling sharpe)\n"
   ]
  },
  {
   "cell_type": "code",
   "execution_count": null,
   "metadata": {},
   "outputs": [],
   "source": []
  },
  {
   "cell_type": "code",
   "execution_count": null,
   "metadata": {},
   "outputs": [],
   "source": []
  }
 ],
 "metadata": {
  "kernelspec": {
   "display_name": ".venv",
   "language": "python",
   "name": "python3"
  },
  "language_info": {
   "codemirror_mode": {
    "name": "ipython",
    "version": 3
   },
   "file_extension": ".py",
   "mimetype": "text/x-python",
   "name": "python",
   "nbconvert_exporter": "python",
   "pygments_lexer": "ipython3",
   "version": "3.11.9 (main, Apr 19 2024, 16:48:06) [GCC 11.2.0]"
  },
  "orig_nbformat": 4,
  "vscode": {
   "interpreter": {
    "hash": "90edb8e75da9520b78f7e27d9e44eb7f69af0d1250baa91130b689749dd7ca41"
   }
  }
 },
 "nbformat": 4,
 "nbformat_minor": 2
}
