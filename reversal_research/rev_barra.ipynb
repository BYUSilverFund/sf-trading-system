{
 "cells": [
  {
   "cell_type": "code",
   "execution_count": null,
   "metadata": {},
   "outputs": [],
   "source": [
    "import sys\n",
    "from dotenv import load_dotenv\n",
    "import os\n",
    "\n",
    "load_dotenv()\n",
    "\n",
    "sys.path.append(os.getenv(\"ROOT\"))"
   ]
  },
  {
   "cell_type": "code",
   "execution_count": null,
   "metadata": {},
   "outputs": [],
   "source": [
    "import polars as pl\n",
    "import pandas as pd\n",
    "import statsmodels.api as sm\n",
    "import numpy as np\n",
    "from datetime import date\n",
    "from silverfund.datasets import CRSPMonthly\n",
    "from silverfund.datasets import BarraSpecificReturns, CRSPMonthly, MasterMonthly\n",
    "import seaborn as sns\n",
    "import matplotlib.pyplot as plt"
   ]
  },
  {
   "cell_type": "code",
   "execution_count": null,
   "metadata": {},
   "outputs": [],
   "source": [
    "# start = date(1995, 7, 31)\n",
    "start = date(2006, 1, 1)\n",
    "end = date(2024, 12, 31)"
   ]
  },
  {
   "attachments": {},
   "cell_type": "markdown",
   "metadata": {},
   "source": [
    "## Testing economic theory behind reversal.\n",
    " - Use monthly trading volume as proxy for news events to inform reversal strength.\n"
   ]
  },
  {
   "cell_type": "code",
   "execution_count": null,
   "metadata": {},
   "outputs": [],
   "source": [
    "crsp_monthly = CRSPMonthly(start_date=start, end_date=end).load_all().to_pandas()\n",
    "\n",
    "crsp_monthly"
   ]
  },
  {
   "attachments": {},
   "cell_type": "markdown",
   "metadata": {},
   "source": [
    "## Testing Barra residual short term mean reversal.\n",
    " - \n"
   ]
  },
  {
   "cell_type": "code",
   "execution_count": null,
   "metadata": {},
   "outputs": [],
   "source": [
    "# master = MasterMonthly(start_date=start, end_date=end, quiet=False).load_all().to_pandas()\n",
    "master = MasterMonthly(start_date=start, end_date=end, quiet=False).load_all()\n",
    "master"
   ]
  },
  {
   "cell_type": "code",
   "execution_count": null,
   "metadata": {},
   "outputs": [],
   "source": [
    "df = master.clone()"
   ]
  },
  {
   "cell_type": "code",
   "execution_count": null,
   "metadata": {},
   "outputs": [],
   "source": [
    "df"
   ]
  },
  {
   "cell_type": "code",
   "execution_count": null,
   "metadata": {},
   "outputs": [],
   "source": [
    "# reversal signals\n",
    "df = df.with_columns(pl.col(\"spec_ret\").shift(1).over(\"barrid\").alias(\"barra_rev\"))\n",
    "df = df.with_columns(pl.col(\"ret\").shift(1).over(\"barrid\").alias(\"rev\"))\n",
    "\n",
    "# filter low price and nan vals\n",
    "df = df.with_columns(pl.col(\"price\").shift(1).over(\"barrid\").alias(\"prclag\"))\n",
    "df = df.filter(pl.col(\"prclag\") > 5)\n",
    "df = df.drop_nulls(subset=[\"rev\"])\n",
    "df = df.drop_nulls(subset=[\"barra_rev\"])\n",
    "\n",
    "df"
   ]
  },
  {
   "cell_type": "code",
   "execution_count": null,
   "metadata": {},
   "outputs": [],
   "source": [
    "labels = [str(x) for x in range(10)]\n",
    "\n",
    "df = df.with_columns(pl.col(\"rev\").qcut(10, labels=labels).over(\"date\").alias(\"bin\"))\n",
    "df = df.with_columns(pl.col(\"barra_rev\").qcut(10, labels=labels).over(\"date\").alias(\"barra_bin\"))\n",
    "\n",
    "df"
   ]
  },
  {
   "cell_type": "code",
   "execution_count": null,
   "metadata": {},
   "outputs": [],
   "source": [
    "port = df.group_by([\"date\", \"bin\"]).agg(pl.col(\"ret\").mean())\n",
    "barra_port = df.group_by([\"date\", \"barra_bin\"]).agg(pl.col(\"ret\").mean())\n",
    "\n",
    "\n",
    "port = port.pivot(on=\"bin\", index=\"date\", values=\"ret\")\n",
    "barra_port = barra_port.pivot(on=\"barra_bin\", index=\"date\", values=\"ret\")\n",
    "\n",
    "\n",
    "port = port.select([\"date\"] + labels)\n",
    "barra_port = barra_port.select([\"date\"] + labels)\n",
    "\n",
    "\n",
    "port = port.sort(by=\"date\")\n",
    "barra_port = barra_port.sort(by=\"date\")\n",
    "\n",
    "# port\n",
    "barra_port"
   ]
  },
  {
   "cell_type": "code",
   "execution_count": null,
   "metadata": {},
   "outputs": [],
   "source": [
    "port = port.with_columns((pl.col(\"0\") - pl.col(\"9\")).alias(\"spread\"))\n",
    "barra_port = barra_port.with_columns((pl.col(\"0\") - pl.col(\"9\")).alias(\"spread\"))\n",
    "\n",
    "# Unpivot dataframe\n",
    "port = port.unpivot(index=\"date\", variable_name=\"bin\", value_name=\"ret\")\n",
    "# barra_port = barra_port.unpivot(index=\"date\", variable_name=\"barra_bin\", value_name=\"log_spec_ret\")\n",
    "barra_port = barra_port.unpivot(index=\"date\", variable_name=\"barra_bin\", value_name=\"ret\")\n",
    "\n",
    "# Sort\n",
    "port = port.sort(by=[\"date\", \"bin\"])\n",
    "barra_port = barra_port.sort(by=[\"date\", \"barra_bin\"])\n",
    "\n",
    "# port\n",
    "barra_port"
   ]
  },
  {
   "cell_type": "code",
   "execution_count": null,
   "metadata": {},
   "outputs": [],
   "source": [
    "# Calculate mean, std, sharpe, and tstat of each portfolio\n",
    "\n",
    "# Mean, std, and count\n",
    "result = port.group_by(\"bin\").agg(\n",
    "    [\n",
    "        pl.col(\"ret\").mean().cast(pl.Float64).alias(\"mean\"),\n",
    "        pl.col(\"ret\").std().cast(pl.Float64).alias(\"std\"),\n",
    "        pl.col(\"ret\").count().cast(pl.Float64).alias(\"count\"),\n",
    "    ]\n",
    ")\n",
    "\n",
    "# Sharpe\n",
    "result = result.with_columns(((pl.col(\"mean\") * 12) / (pl.col(\"std\") * np.sqrt(12))).cast(pl.Float64).alias(\"annualized_sharpe\"))\n",
    "\n",
    "# Tstat\n",
    "result = result.with_columns((pl.col(\"mean\") / (pl.col(\"std\") / pl.col(\"count\").sqrt())).cast(pl.Float64).alias(\"tstat\"))\n",
    "\n",
    "# Sort\n",
    "result = result.sort(by=\"bin\")\n",
    "\n",
    "# Transpose\n",
    "result = result.transpose(include_header=True, column_names=\"bin\", header_name=\"statistic\")\n",
    "\n",
    "print(\"Monthly results\")\n",
    "result"
   ]
  },
  {
   "cell_type": "code",
   "execution_count": null,
   "metadata": {},
   "outputs": [],
   "source": [
    "barra_port"
   ]
  },
  {
   "cell_type": "code",
   "execution_count": null,
   "metadata": {},
   "outputs": [],
   "source": [
    "# Calculate mean, std, sharpe, and tstat of each portfolio\n",
    "\n",
    "# Mean, std, and count\n",
    "result = barra_port.group_by(\"barra_bin\").agg(\n",
    "    [\n",
    "        pl.col(\"ret\").mean().cast(pl.Float64).alias(\"mean\"),\n",
    "        pl.col(\"ret\").std().cast(pl.Float64).alias(\"std\"),\n",
    "        pl.col(\"ret\").count().cast(pl.Float64).alias(\"count\"),\n",
    "    ]\n",
    ")\n",
    "\n",
    "# Sharpe\n",
    "result = result.with_columns(((pl.col(\"mean\") * 12) / (pl.col(\"std\") * np.sqrt(12))).cast(pl.Float64).alias(\"annualized_sharpe\"))\n",
    "\n",
    "# Tstat\n",
    "result = result.with_columns((pl.col(\"mean\") / (pl.col(\"std\") / pl.col(\"count\").sqrt())).cast(pl.Float64).alias(\"tstat\"))\n",
    "\n",
    "# Sort\n",
    "result = result.sort(by=\"barra_bin\")\n",
    "\n",
    "# Transpose\n",
    "result = result.transpose(include_header=True, column_names=\"barra_bin\", header_name=\"statistic\")\n",
    "\n",
    "print(\"Monthly results\")\n",
    "result"
   ]
  },
  {
   "cell_type": "code",
   "execution_count": null,
   "metadata": {},
   "outputs": [],
   "source": [
    "# Create backtest plot\n",
    "\n",
    "# Log returns\n",
    "port = port.with_columns(pl.col(\"ret\").log1p().over(\"bin\").alias(\"logret\"))\n",
    "barra_port = barra_port.with_columns(pl.col(\"ret\").log1p().over(\"barra_bin\").alias(\"logret\"))\n",
    "\n",
    "# Cummulative sum log returns\n",
    "port = port.with_columns(pl.col(\"logret\").cum_sum().over(\"bin\").alias(\"cumret\") * 100)\n",
    "barra_port = barra_port.with_columns(pl.col(\"logret\").cum_sum().over(\"barra_bin\").alias(\"cumret\") * 100)\n",
    "\n",
    "port"
   ]
  },
  {
   "cell_type": "code",
   "execution_count": null,
   "metadata": {},
   "outputs": [],
   "source": [
    "plt.figure(figsize=(10, 6))\n",
    "sns.lineplot(port.filter(pl.col(\"bin\").is_in([\"0\", \"9\", \"spread\"])), x=\"date\", y=\"cumret\", hue=\"bin\")\n",
    "plt.xlabel(None)\n",
    "plt.ylabel(\"Cummulative Sum Return (%)\")\n",
    "plt.show()"
   ]
  },
  {
   "cell_type": "code",
   "execution_count": null,
   "metadata": {},
   "outputs": [],
   "source": [
    "plt.figure(figsize=(10, 6))\n",
    "sns.lineplot(barra_port.filter(pl.col(\"barra_bin\").is_in([\"0\", \"1\", \"2\", \"9\", \"spread\"])), x=\"date\", y=\"cumret\", hue=\"barra_bin\")\n",
    "plt.xlabel(None)\n",
    "plt.ylabel(\"Cummulative Sum Return (%)\")\n",
    "plt.show()"
   ]
  },
  {
   "cell_type": "code",
   "execution_count": null,
   "metadata": {},
   "outputs": [],
   "source": [
    "plt.figure(figsize=(10, 6))\n",
    "sns.lineplot(barra_port.filter(pl.col(\"barra_bin\").is_in([\"spread\"])), x=\"date\", y=\"cumret\", label=\"Barra Residuals\")\n",
    "sns.lineplot(port.filter(pl.col(\"bin\").is_in([\"spread\"])), x=\"date\", y=\"cumret\", label=\"Raw Returns\")\n",
    "plt.legend()\n",
    "plt.title(\"Decile Spread Portfolio Performance Comparison\")\n",
    "plt.xlabel(None)\n",
    "plt.ylabel(\"Cummulative Sum Return (%)\")\n",
    "plt.show()"
   ]
  },
  {
   "attachments": {},
   "cell_type": "markdown",
   "metadata": {},
   "source": [
    "## THINGS TO DO:\n",
    "- Figure out how to merge data to get volume for intuition test\n",
    "- Test reversal window\n",
    "- value weight? Optimizer? \n",
    "- add features similar to dipesh/miki (rolling sharpe)\n"
   ]
  },
  {
   "cell_type": "code",
   "execution_count": null,
   "metadata": {},
   "outputs": [],
   "source": []
  }
 ],
 "metadata": {
  "kernelspec": {
   "display_name": ".venv",
   "language": "python",
   "name": "python3"
  },
  "language_info": {
   "codemirror_mode": {
    "name": "ipython",
    "version": 3
   },
   "file_extension": ".py",
   "mimetype": "text/x-python",
   "name": "python",
   "nbconvert_exporter": "python",
   "pygments_lexer": "ipython3",
   "version": "3.11.9 (main, Apr 19 2024, 16:48:06) [GCC 11.2.0]"
  },
  "orig_nbformat": 4,
  "vscode": {
   "interpreter": {
    "hash": "90edb8e75da9520b78f7e27d9e44eb7f69af0d1250baa91130b689749dd7ca41"
   }
  }
 },
 "nbformat": 4,
 "nbformat_minor": 2
}
